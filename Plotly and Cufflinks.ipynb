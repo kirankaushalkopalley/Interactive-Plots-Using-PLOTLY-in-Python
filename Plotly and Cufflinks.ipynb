{
 "cells": [
  {
   "cell_type": "markdown",
   "id": "b2e5f423",
   "metadata": {},
   "source": [
    "# Plotly and Cufflinks\n",
    "\n",
    "Plotly is a library that allows you to create interactive plots that you can use in dashboards or websites (you can save them as html files or static images).\n",
    "\n",
    "## Installation\n",
    "\n",
    "In order for this all to work, you'll need to install plotly and cufflinks to call plots directly off of a pandas dataframe. These libraries are not currently available through **conda** but are available through **pip**. Install the libraries at your command line/terminal using:\n",
    "\n",
    "    pip install plotly\n",
    "    pip install cufflinks\n",
    "\n",
    "** NOTE: Make sure you only have one installation of Python on your computer when you do this, otherwise the installation may not work. **\n",
    "\n",
    "## Imports and Set-up"
   ]
  },
  {
   "cell_type": "code",
   "execution_count": 1,
   "id": "68b8e149",
   "metadata": {},
   "outputs": [],
   "source": [
    "import pandas as pd\n",
    "import numpy as np\n",
    "%matplotlib inline"
   ]
  },
  {
   "cell_type": "code",
   "execution_count": 2,
   "id": "15dcf417",
   "metadata": {},
   "outputs": [
    {
     "name": "stdout",
     "output_type": "stream",
     "text": [
      "5.6.0\n"
     ]
    }
   ],
   "source": [
    "from plotly import __version__\n",
    "from plotly.offline import download_plotlyjs, init_notebook_mode, plot, iplot\n",
    "\n",
    "print(__version__) # requires version >= 1.9.0"
   ]
  },
  {
   "cell_type": "code",
   "execution_count": 3,
   "id": "55dd21b6",
   "metadata": {},
   "outputs": [],
   "source": [
    "import cufflinks as cf"
   ]
  },
  {
   "cell_type": "code",
   "execution_count": 4,
   "id": "790d0275",
   "metadata": {},
   "outputs": [
    {
     "data": {
      "text/html": [
       "        <script type=\"text/javascript\">\n",
       "        window.PlotlyConfig = {MathJaxConfig: 'local'};\n",
       "        if (window.MathJax) {MathJax.Hub.Config({SVG: {font: \"STIX-Web\"}});}\n",
       "        if (typeof require !== 'undefined') {\n",
       "        require.undef(\"plotly\");\n",
       "        requirejs.config({\n",
       "            paths: {\n",
       "                'plotly': ['https://cdn.plot.ly/plotly-2.9.0.min']\n",
       "            }\n",
       "        });\n",
       "        require(['plotly'], function(Plotly) {\n",
       "            window._Plotly = Plotly;\n",
       "        });\n",
       "        }\n",
       "        </script>\n",
       "        "
      ]
     },
     "metadata": {},
     "output_type": "display_data"
    }
   ],
   "source": [
    "# For Notebooks\n",
    "init_notebook_mode(connected=True)"
   ]
  },
  {
   "cell_type": "code",
   "execution_count": 5,
   "id": "02aa194b",
   "metadata": {},
   "outputs": [
    {
     "data": {
      "text/html": [
       "        <script type=\"text/javascript\">\n",
       "        window.PlotlyConfig = {MathJaxConfig: 'local'};\n",
       "        if (window.MathJax) {MathJax.Hub.Config({SVG: {font: \"STIX-Web\"}});}\n",
       "        if (typeof require !== 'undefined') {\n",
       "        require.undef(\"plotly\");\n",
       "        requirejs.config({\n",
       "            paths: {\n",
       "                'plotly': ['https://cdn.plot.ly/plotly-2.9.0.min']\n",
       "            }\n",
       "        });\n",
       "        require(['plotly'], function(Plotly) {\n",
       "            window._Plotly = Plotly;\n",
       "        });\n",
       "        }\n",
       "        </script>\n",
       "        "
      ]
     },
     "metadata": {},
     "output_type": "display_data"
    }
   ],
   "source": [
    "# For offline use\n",
    "cf.go_offline()"
   ]
  },
  {
   "cell_type": "markdown",
   "id": "0f92dc8a",
   "metadata": {},
   "source": [
    "### Fake Data"
   ]
  },
  {
   "cell_type": "code",
   "execution_count": 6,
   "id": "ef068dee",
   "metadata": {},
   "outputs": [],
   "source": [
    "df = pd.DataFrame(np.random.randn(100,4),columns='A B C D'.split())"
   ]
  },
  {
   "cell_type": "code",
   "execution_count": 7,
   "id": "d11dd594",
   "metadata": {},
   "outputs": [
    {
     "data": {
      "text/html": [
       "<div>\n",
       "<style scoped>\n",
       "    .dataframe tbody tr th:only-of-type {\n",
       "        vertical-align: middle;\n",
       "    }\n",
       "\n",
       "    .dataframe tbody tr th {\n",
       "        vertical-align: top;\n",
       "    }\n",
       "\n",
       "    .dataframe thead th {\n",
       "        text-align: right;\n",
       "    }\n",
       "</style>\n",
       "<table border=\"1\" class=\"dataframe\">\n",
       "  <thead>\n",
       "    <tr style=\"text-align: right;\">\n",
       "      <th></th>\n",
       "      <th>A</th>\n",
       "      <th>B</th>\n",
       "      <th>C</th>\n",
       "      <th>D</th>\n",
       "    </tr>\n",
       "  </thead>\n",
       "  <tbody>\n",
       "    <tr>\n",
       "      <th>0</th>\n",
       "      <td>0.189494</td>\n",
       "      <td>-0.383704</td>\n",
       "      <td>-0.174398</td>\n",
       "      <td>-0.207806</td>\n",
       "    </tr>\n",
       "    <tr>\n",
       "      <th>1</th>\n",
       "      <td>-0.439406</td>\n",
       "      <td>0.795222</td>\n",
       "      <td>-1.454161</td>\n",
       "      <td>-0.148196</td>\n",
       "    </tr>\n",
       "    <tr>\n",
       "      <th>2</th>\n",
       "      <td>1.523500</td>\n",
       "      <td>-1.088639</td>\n",
       "      <td>0.695679</td>\n",
       "      <td>1.088550</td>\n",
       "    </tr>\n",
       "    <tr>\n",
       "      <th>3</th>\n",
       "      <td>0.036453</td>\n",
       "      <td>1.271743</td>\n",
       "      <td>-1.300132</td>\n",
       "      <td>1.569076</td>\n",
       "    </tr>\n",
       "    <tr>\n",
       "      <th>4</th>\n",
       "      <td>-0.480177</td>\n",
       "      <td>-0.425142</td>\n",
       "      <td>0.084310</td>\n",
       "      <td>-0.205770</td>\n",
       "    </tr>\n",
       "  </tbody>\n",
       "</table>\n",
       "</div>"
      ],
      "text/plain": [
       "          A         B         C         D\n",
       "0  0.189494 -0.383704 -0.174398 -0.207806\n",
       "1 -0.439406  0.795222 -1.454161 -0.148196\n",
       "2  1.523500 -1.088639  0.695679  1.088550\n",
       "3  0.036453  1.271743 -1.300132  1.569076\n",
       "4 -0.480177 -0.425142  0.084310 -0.205770"
      ]
     },
     "execution_count": 7,
     "metadata": {},
     "output_type": "execute_result"
    }
   ],
   "source": [
    "df.head()"
   ]
  },
  {
   "cell_type": "code",
   "execution_count": 8,
   "id": "0ed8305b",
   "metadata": {},
   "outputs": [],
   "source": [
    "df2 = pd.DataFrame({'Category':['A','B','C'],'Values':[32,43,50]})"
   ]
  },
  {
   "cell_type": "code",
   "execution_count": 9,
   "id": "aac5452e",
   "metadata": {},
   "outputs": [
    {
     "data": {
      "text/html": [
       "<div>\n",
       "<style scoped>\n",
       "    .dataframe tbody tr th:only-of-type {\n",
       "        vertical-align: middle;\n",
       "    }\n",
       "\n",
       "    .dataframe tbody tr th {\n",
       "        vertical-align: top;\n",
       "    }\n",
       "\n",
       "    .dataframe thead th {\n",
       "        text-align: right;\n",
       "    }\n",
       "</style>\n",
       "<table border=\"1\" class=\"dataframe\">\n",
       "  <thead>\n",
       "    <tr style=\"text-align: right;\">\n",
       "      <th></th>\n",
       "      <th>Category</th>\n",
       "      <th>Values</th>\n",
       "    </tr>\n",
       "  </thead>\n",
       "  <tbody>\n",
       "    <tr>\n",
       "      <th>0</th>\n",
       "      <td>A</td>\n",
       "      <td>32</td>\n",
       "    </tr>\n",
       "    <tr>\n",
       "      <th>1</th>\n",
       "      <td>B</td>\n",
       "      <td>43</td>\n",
       "    </tr>\n",
       "    <tr>\n",
       "      <th>2</th>\n",
       "      <td>C</td>\n",
       "      <td>50</td>\n",
       "    </tr>\n",
       "  </tbody>\n",
       "</table>\n",
       "</div>"
      ],
      "text/plain": [
       "  Category  Values\n",
       "0        A      32\n",
       "1        B      43\n",
       "2        C      50"
      ]
     },
     "execution_count": 9,
     "metadata": {},
     "output_type": "execute_result"
    }
   ],
   "source": [
    "df2.head()"
   ]
  },
  {
   "cell_type": "markdown",
   "id": "646ca159",
   "metadata": {},
   "source": [
    "## Using Cufflinks and iplot()\n",
    "\n",
    "* scatter\n",
    "* bar\n",
    "* box\n",
    "* spread\n",
    "* ratio\n",
    "* heatmap\n",
    "* surface\n",
    "* histogram\n",
    "* bubble"
   ]
  },
  {
   "cell_type": "markdown",
   "id": "e4735f17",
   "metadata": {},
   "source": [
    "## Scatter"
   ]
  },
  {
   "cell_type": "code",
   "execution_count": 10,
   "id": "0b718a8a",
   "metadata": {},
   "outputs": [
    {
     "data": {
      "application/vnd.plotly.v1+json": {
       "config": {
        "linkText": "Export to plot.ly",
        "plotlyServerURL": "https://plot.ly",
        "showLink": true
       },
       "data": [
        {
         "line": {
          "color": "rgba(255, 153, 51, 1.0)",
          "dash": "solid",
          "shape": "linear",
          "width": 1.3
         },
         "marker": {
          "size": 10,
          "symbol": "circle"
         },
         "mode": "markers",
         "name": "B",
         "text": "",
         "type": "scatter",
         "x": [
          0.18949412131357618,
          -0.4394056773665876,
          1.5235003132506255,
          0.03645250031559109,
          -0.48017680332678986,
          -0.32940801574654444,
          -0.8336585198060829,
          2.1104829932351987,
          -2.1774759403114543,
          -1.4552810678704107,
          -0.3946340137520746,
          -0.7958997396105878,
          -2.1941249569910184,
          -0.3186755756858305,
          -1.0762861726059367,
          0.5160715236107142,
          0.5354240028958203,
          0.24474634754970445,
          2.1593382645363524,
          -2.459688200120283,
          2.2033163680127856,
          0.12741013120035052,
          -0.7426413044529445,
          -0.708915270693794,
          -1.7366906383070453,
          -0.3278091707347793,
          -0.019161214804460824,
          -0.10350391076144248,
          0.443003384937299,
          -0.3021624753184853,
          -0.26540709330297957,
          1.1177682728198786,
          -0.6555808314273678,
          -2.0513962145269367,
          -0.007283680343075513,
          -1.7345390153967326,
          0.6526293553788296,
          0.8797043755381333,
          -0.40446628152172,
          0.40015659679998383,
          1.3501402445869597,
          -1.681402939901821,
          0.37687631215522416,
          1.530406066859981,
          0.27376913231487043,
          0.11859151200966923,
          0.18998151104134484,
          1.239771620051365,
          -0.013067258817813692,
          -0.4342760602897146,
          -0.22768423864144938,
          -0.08712007886114415,
          -1.3953429851893069,
          -1.1346627058287775,
          1.717402994668382,
          -0.8202332848774089,
          -0.4210331992705946,
          -0.06266365801889973,
          -0.1076343228449331,
          -0.46753029808332414,
          0.465339121662231,
          0.05686260034364659,
          0.6689353752755711,
          -1.3749096285081572,
          1.0644486040242718,
          1.0029108097495154,
          -0.4756234878591175,
          -0.7573283389084694,
          1.553314742784835,
          0.9327235406491218,
          -0.5432611240893911,
          0.9375595028153989,
          0.6479726183862607,
          -1.6193215495623614,
          0.42468213572515945,
          0.4442854952443643,
          -0.4430216955740655,
          -0.3313723025358653,
          -0.5164036122879947,
          -0.1426294244580413,
          0.34861880298974646,
          2.491239497816553,
          -1.2708676958205198,
          1.2439173121325637,
          -0.2531066585596569,
          0.3986080862101964,
          1.559031756752641,
          -0.8451994271388271,
          0.6244513110895351,
          -0.20836122736152812,
          -1.5593960284306796,
          1.0027652648558283,
          0.6678453706840629,
          0.9019731286521746,
          0.49217666164481805,
          -0.2537409869513799,
          0.7236090940111436,
          0.046759497044002236,
          -0.5975669662202538,
          -0.78915850866316
         ],
         "y": [
          -0.3837044654152856,
          0.795222058544091,
          -1.088639124538044,
          1.2717431343417127,
          -0.425142084846673,
          0.064182302033947,
          1.4362888057989984,
          -0.1500476658943807,
          -1.5718151705858465,
          -1.1951812086435607,
          0.22860843548074822,
          -0.12492214308168757,
          -0.2867367492193972,
          -0.5736239558678975,
          1.389341530883104,
          -0.6861898267335519,
          -1.5311373341612782,
          -0.8512089705281984,
          -1.4559541518556975,
          -1.1001623087846037,
          0.8979100173243162,
          0.12116953775102157,
          0.008534083166311771,
          0.8564629305816837,
          -0.5811640716666194,
          -1.2080292257019134,
          -0.2349761867338796,
          0.5544460777568961,
          -1.0713239222958086,
          -0.5880653881769333,
          1.455833425930843,
          1.798690383630041,
          -0.33646470904540654,
          -0.3672634840646152,
          -1.172864741624129,
          0.5837329271770997,
          -2.2382359822608637,
          0.18016433857511283,
          0.9536368045497337,
          -1.0800463778552765,
          -0.8317221994239206,
          1.282796438795336,
          -0.29336799070174174,
          0.15886220818261743,
          0.38201782187711153,
          1.4359852720915571,
          0.12325985697339818,
          -1.2571112124983932,
          -0.6820456832743963,
          0.6549877845727778,
          1.7480017358816617,
          -0.417778286260563,
          -1.6706045656026176,
          -0.32449160626856594,
          0.04941441532003659,
          1.2301955880270588,
          0.5549576648122474,
          0.5087348321498013,
          -0.5251299669479592,
          -0.7226843478772803,
          2.166721876878339,
          1.1802593126083956,
          -1.538186484092452,
          -0.9373214000293492,
          2.507394228500375,
          1.1453156950783623,
          -0.3900336491592565,
          -1.2294025551628793,
          0.047153263572624386,
          -1.4132468018414466,
          -0.2490684669524338,
          -0.049467689607492635,
          0.32500434009912604,
          2.3848744017153285,
          1.5072496221876714,
          2.3374311490664765,
          0.24765502883674623,
          0.24345434946978872,
          -1.0754295259055462,
          -0.9253517607585953,
          -0.23061561620756169,
          0.9122603763478071,
          0.07761133731595166,
          -1.9670718895477557,
          0.7909040382082345,
          -1.164107142015901,
          -1.3600341936072617,
          1.0761877070356076,
          0.5910801172299857,
          -2.4683912167831474,
          0.9391003487905739,
          0.5833264172434889,
          0.7708157024485347,
          -0.5097944025738771,
          -1.1535830779289729,
          1.7235455685820171,
          2.0515347554626917,
          0.5810028348635923,
          -1.5039588573849996,
          1.1202156895522468
         ]
        }
       ],
       "layout": {
        "legend": {
         "bgcolor": "#F5F6F9",
         "font": {
          "color": "#4D5663"
         }
        },
        "paper_bgcolor": "#F5F6F9",
        "plot_bgcolor": "#F5F6F9",
        "template": {
         "data": {
          "bar": [
           {
            "error_x": {
             "color": "#2a3f5f"
            },
            "error_y": {
             "color": "#2a3f5f"
            },
            "marker": {
             "line": {
              "color": "#E5ECF6",
              "width": 0.5
             },
             "pattern": {
              "fillmode": "overlay",
              "size": 10,
              "solidity": 0.2
             }
            },
            "type": "bar"
           }
          ],
          "barpolar": [
           {
            "marker": {
             "line": {
              "color": "#E5ECF6",
              "width": 0.5
             },
             "pattern": {
              "fillmode": "overlay",
              "size": 10,
              "solidity": 0.2
             }
            },
            "type": "barpolar"
           }
          ],
          "carpet": [
           {
            "aaxis": {
             "endlinecolor": "#2a3f5f",
             "gridcolor": "white",
             "linecolor": "white",
             "minorgridcolor": "white",
             "startlinecolor": "#2a3f5f"
            },
            "baxis": {
             "endlinecolor": "#2a3f5f",
             "gridcolor": "white",
             "linecolor": "white",
             "minorgridcolor": "white",
             "startlinecolor": "#2a3f5f"
            },
            "type": "carpet"
           }
          ],
          "choropleth": [
           {
            "colorbar": {
             "outlinewidth": 0,
             "ticks": ""
            },
            "type": "choropleth"
           }
          ],
          "contour": [
           {
            "colorbar": {
             "outlinewidth": 0,
             "ticks": ""
            },
            "colorscale": [
             [
              0,
              "#0d0887"
             ],
             [
              0.1111111111111111,
              "#46039f"
             ],
             [
              0.2222222222222222,
              "#7201a8"
             ],
             [
              0.3333333333333333,
              "#9c179e"
             ],
             [
              0.4444444444444444,
              "#bd3786"
             ],
             [
              0.5555555555555556,
              "#d8576b"
             ],
             [
              0.6666666666666666,
              "#ed7953"
             ],
             [
              0.7777777777777778,
              "#fb9f3a"
             ],
             [
              0.8888888888888888,
              "#fdca26"
             ],
             [
              1,
              "#f0f921"
             ]
            ],
            "type": "contour"
           }
          ],
          "contourcarpet": [
           {
            "colorbar": {
             "outlinewidth": 0,
             "ticks": ""
            },
            "type": "contourcarpet"
           }
          ],
          "heatmap": [
           {
            "colorbar": {
             "outlinewidth": 0,
             "ticks": ""
            },
            "colorscale": [
             [
              0,
              "#0d0887"
             ],
             [
              0.1111111111111111,
              "#46039f"
             ],
             [
              0.2222222222222222,
              "#7201a8"
             ],
             [
              0.3333333333333333,
              "#9c179e"
             ],
             [
              0.4444444444444444,
              "#bd3786"
             ],
             [
              0.5555555555555556,
              "#d8576b"
             ],
             [
              0.6666666666666666,
              "#ed7953"
             ],
             [
              0.7777777777777778,
              "#fb9f3a"
             ],
             [
              0.8888888888888888,
              "#fdca26"
             ],
             [
              1,
              "#f0f921"
             ]
            ],
            "type": "heatmap"
           }
          ],
          "heatmapgl": [
           {
            "colorbar": {
             "outlinewidth": 0,
             "ticks": ""
            },
            "colorscale": [
             [
              0,
              "#0d0887"
             ],
             [
              0.1111111111111111,
              "#46039f"
             ],
             [
              0.2222222222222222,
              "#7201a8"
             ],
             [
              0.3333333333333333,
              "#9c179e"
             ],
             [
              0.4444444444444444,
              "#bd3786"
             ],
             [
              0.5555555555555556,
              "#d8576b"
             ],
             [
              0.6666666666666666,
              "#ed7953"
             ],
             [
              0.7777777777777778,
              "#fb9f3a"
             ],
             [
              0.8888888888888888,
              "#fdca26"
             ],
             [
              1,
              "#f0f921"
             ]
            ],
            "type": "heatmapgl"
           }
          ],
          "histogram": [
           {
            "marker": {
             "pattern": {
              "fillmode": "overlay",
              "size": 10,
              "solidity": 0.2
             }
            },
            "type": "histogram"
           }
          ],
          "histogram2d": [
           {
            "colorbar": {
             "outlinewidth": 0,
             "ticks": ""
            },
            "colorscale": [
             [
              0,
              "#0d0887"
             ],
             [
              0.1111111111111111,
              "#46039f"
             ],
             [
              0.2222222222222222,
              "#7201a8"
             ],
             [
              0.3333333333333333,
              "#9c179e"
             ],
             [
              0.4444444444444444,
              "#bd3786"
             ],
             [
              0.5555555555555556,
              "#d8576b"
             ],
             [
              0.6666666666666666,
              "#ed7953"
             ],
             [
              0.7777777777777778,
              "#fb9f3a"
             ],
             [
              0.8888888888888888,
              "#fdca26"
             ],
             [
              1,
              "#f0f921"
             ]
            ],
            "type": "histogram2d"
           }
          ],
          "histogram2dcontour": [
           {
            "colorbar": {
             "outlinewidth": 0,
             "ticks": ""
            },
            "colorscale": [
             [
              0,
              "#0d0887"
             ],
             [
              0.1111111111111111,
              "#46039f"
             ],
             [
              0.2222222222222222,
              "#7201a8"
             ],
             [
              0.3333333333333333,
              "#9c179e"
             ],
             [
              0.4444444444444444,
              "#bd3786"
             ],
             [
              0.5555555555555556,
              "#d8576b"
             ],
             [
              0.6666666666666666,
              "#ed7953"
             ],
             [
              0.7777777777777778,
              "#fb9f3a"
             ],
             [
              0.8888888888888888,
              "#fdca26"
             ],
             [
              1,
              "#f0f921"
             ]
            ],
            "type": "histogram2dcontour"
           }
          ],
          "mesh3d": [
           {
            "colorbar": {
             "outlinewidth": 0,
             "ticks": ""
            },
            "type": "mesh3d"
           }
          ],
          "parcoords": [
           {
            "line": {
             "colorbar": {
              "outlinewidth": 0,
              "ticks": ""
             }
            },
            "type": "parcoords"
           }
          ],
          "pie": [
           {
            "automargin": true,
            "type": "pie"
           }
          ],
          "scatter": [
           {
            "marker": {
             "colorbar": {
              "outlinewidth": 0,
              "ticks": ""
             }
            },
            "type": "scatter"
           }
          ],
          "scatter3d": [
           {
            "line": {
             "colorbar": {
              "outlinewidth": 0,
              "ticks": ""
             }
            },
            "marker": {
             "colorbar": {
              "outlinewidth": 0,
              "ticks": ""
             }
            },
            "type": "scatter3d"
           }
          ],
          "scattercarpet": [
           {
            "marker": {
             "colorbar": {
              "outlinewidth": 0,
              "ticks": ""
             }
            },
            "type": "scattercarpet"
           }
          ],
          "scattergeo": [
           {
            "marker": {
             "colorbar": {
              "outlinewidth": 0,
              "ticks": ""
             }
            },
            "type": "scattergeo"
           }
          ],
          "scattergl": [
           {
            "marker": {
             "colorbar": {
              "outlinewidth": 0,
              "ticks": ""
             }
            },
            "type": "scattergl"
           }
          ],
          "scattermapbox": [
           {
            "marker": {
             "colorbar": {
              "outlinewidth": 0,
              "ticks": ""
             }
            },
            "type": "scattermapbox"
           }
          ],
          "scatterpolar": [
           {
            "marker": {
             "colorbar": {
              "outlinewidth": 0,
              "ticks": ""
             }
            },
            "type": "scatterpolar"
           }
          ],
          "scatterpolargl": [
           {
            "marker": {
             "colorbar": {
              "outlinewidth": 0,
              "ticks": ""
             }
            },
            "type": "scatterpolargl"
           }
          ],
          "scatterternary": [
           {
            "marker": {
             "colorbar": {
              "outlinewidth": 0,
              "ticks": ""
             }
            },
            "type": "scatterternary"
           }
          ],
          "surface": [
           {
            "colorbar": {
             "outlinewidth": 0,
             "ticks": ""
            },
            "colorscale": [
             [
              0,
              "#0d0887"
             ],
             [
              0.1111111111111111,
              "#46039f"
             ],
             [
              0.2222222222222222,
              "#7201a8"
             ],
             [
              0.3333333333333333,
              "#9c179e"
             ],
             [
              0.4444444444444444,
              "#bd3786"
             ],
             [
              0.5555555555555556,
              "#d8576b"
             ],
             [
              0.6666666666666666,
              "#ed7953"
             ],
             [
              0.7777777777777778,
              "#fb9f3a"
             ],
             [
              0.8888888888888888,
              "#fdca26"
             ],
             [
              1,
              "#f0f921"
             ]
            ],
            "type": "surface"
           }
          ],
          "table": [
           {
            "cells": {
             "fill": {
              "color": "#EBF0F8"
             },
             "line": {
              "color": "white"
             }
            },
            "header": {
             "fill": {
              "color": "#C8D4E3"
             },
             "line": {
              "color": "white"
             }
            },
            "type": "table"
           }
          ]
         },
         "layout": {
          "annotationdefaults": {
           "arrowcolor": "#2a3f5f",
           "arrowhead": 0,
           "arrowwidth": 1
          },
          "autotypenumbers": "strict",
          "coloraxis": {
           "colorbar": {
            "outlinewidth": 0,
            "ticks": ""
           }
          },
          "colorscale": {
           "diverging": [
            [
             0,
             "#8e0152"
            ],
            [
             0.1,
             "#c51b7d"
            ],
            [
             0.2,
             "#de77ae"
            ],
            [
             0.3,
             "#f1b6da"
            ],
            [
             0.4,
             "#fde0ef"
            ],
            [
             0.5,
             "#f7f7f7"
            ],
            [
             0.6,
             "#e6f5d0"
            ],
            [
             0.7,
             "#b8e186"
            ],
            [
             0.8,
             "#7fbc41"
            ],
            [
             0.9,
             "#4d9221"
            ],
            [
             1,
             "#276419"
            ]
           ],
           "sequential": [
            [
             0,
             "#0d0887"
            ],
            [
             0.1111111111111111,
             "#46039f"
            ],
            [
             0.2222222222222222,
             "#7201a8"
            ],
            [
             0.3333333333333333,
             "#9c179e"
            ],
            [
             0.4444444444444444,
             "#bd3786"
            ],
            [
             0.5555555555555556,
             "#d8576b"
            ],
            [
             0.6666666666666666,
             "#ed7953"
            ],
            [
             0.7777777777777778,
             "#fb9f3a"
            ],
            [
             0.8888888888888888,
             "#fdca26"
            ],
            [
             1,
             "#f0f921"
            ]
           ],
           "sequentialminus": [
            [
             0,
             "#0d0887"
            ],
            [
             0.1111111111111111,
             "#46039f"
            ],
            [
             0.2222222222222222,
             "#7201a8"
            ],
            [
             0.3333333333333333,
             "#9c179e"
            ],
            [
             0.4444444444444444,
             "#bd3786"
            ],
            [
             0.5555555555555556,
             "#d8576b"
            ],
            [
             0.6666666666666666,
             "#ed7953"
            ],
            [
             0.7777777777777778,
             "#fb9f3a"
            ],
            [
             0.8888888888888888,
             "#fdca26"
            ],
            [
             1,
             "#f0f921"
            ]
           ]
          },
          "colorway": [
           "#636efa",
           "#EF553B",
           "#00cc96",
           "#ab63fa",
           "#FFA15A",
           "#19d3f3",
           "#FF6692",
           "#B6E880",
           "#FF97FF",
           "#FECB52"
          ],
          "font": {
           "color": "#2a3f5f"
          },
          "geo": {
           "bgcolor": "white",
           "lakecolor": "white",
           "landcolor": "#E5ECF6",
           "showlakes": true,
           "showland": true,
           "subunitcolor": "white"
          },
          "hoverlabel": {
           "align": "left"
          },
          "hovermode": "closest",
          "mapbox": {
           "style": "light"
          },
          "paper_bgcolor": "white",
          "plot_bgcolor": "#E5ECF6",
          "polar": {
           "angularaxis": {
            "gridcolor": "white",
            "linecolor": "white",
            "ticks": ""
           },
           "bgcolor": "#E5ECF6",
           "radialaxis": {
            "gridcolor": "white",
            "linecolor": "white",
            "ticks": ""
           }
          },
          "scene": {
           "xaxis": {
            "backgroundcolor": "#E5ECF6",
            "gridcolor": "white",
            "gridwidth": 2,
            "linecolor": "white",
            "showbackground": true,
            "ticks": "",
            "zerolinecolor": "white"
           },
           "yaxis": {
            "backgroundcolor": "#E5ECF6",
            "gridcolor": "white",
            "gridwidth": 2,
            "linecolor": "white",
            "showbackground": true,
            "ticks": "",
            "zerolinecolor": "white"
           },
           "zaxis": {
            "backgroundcolor": "#E5ECF6",
            "gridcolor": "white",
            "gridwidth": 2,
            "linecolor": "white",
            "showbackground": true,
            "ticks": "",
            "zerolinecolor": "white"
           }
          },
          "shapedefaults": {
           "line": {
            "color": "#2a3f5f"
           }
          },
          "ternary": {
           "aaxis": {
            "gridcolor": "white",
            "linecolor": "white",
            "ticks": ""
           },
           "baxis": {
            "gridcolor": "white",
            "linecolor": "white",
            "ticks": ""
           },
           "bgcolor": "#E5ECF6",
           "caxis": {
            "gridcolor": "white",
            "linecolor": "white",
            "ticks": ""
           }
          },
          "title": {
           "x": 0.05
          },
          "xaxis": {
           "automargin": true,
           "gridcolor": "white",
           "linecolor": "white",
           "ticks": "",
           "title": {
            "standoff": 15
           },
           "zerolinecolor": "white",
           "zerolinewidth": 2
          },
          "yaxis": {
           "automargin": true,
           "gridcolor": "white",
           "linecolor": "white",
           "ticks": "",
           "title": {
            "standoff": 15
           },
           "zerolinecolor": "white",
           "zerolinewidth": 2
          }
         }
        },
        "title": {
         "font": {
          "color": "#4D5663"
         }
        },
        "xaxis": {
         "gridcolor": "#E1E5ED",
         "showgrid": true,
         "tickfont": {
          "color": "#4D5663"
         },
         "title": {
          "font": {
           "color": "#4D5663"
          },
          "text": ""
         },
         "zerolinecolor": "#E1E5ED"
        },
        "yaxis": {
         "gridcolor": "#E1E5ED",
         "showgrid": true,
         "tickfont": {
          "color": "#4D5663"
         },
         "title": {
          "font": {
           "color": "#4D5663"
          },
          "text": ""
         },
         "zerolinecolor": "#E1E5ED"
        }
       }
      },
      "text/html": [
       "<div>                            <div id=\"5140bfa3-4bac-447e-8e50-441ebbc6b60c\" class=\"plotly-graph-div\" style=\"height:525px; width:100%;\"></div>            <script type=\"text/javascript\">                require([\"plotly\"], function(Plotly) {                    window.PLOTLYENV=window.PLOTLYENV || {};\n",
       "                    window.PLOTLYENV.BASE_URL='https://plot.ly';                                    if (document.getElementById(\"5140bfa3-4bac-447e-8e50-441ebbc6b60c\")) {                    Plotly.newPlot(                        \"5140bfa3-4bac-447e-8e50-441ebbc6b60c\",                        [{\"line\":{\"color\":\"rgba(255, 153, 51, 1.0)\",\"dash\":\"solid\",\"shape\":\"linear\",\"width\":1.3},\"marker\":{\"size\":10,\"symbol\":\"circle\"},\"mode\":\"markers\",\"name\":\"B\",\"text\":\"\",\"x\":[0.18949412131357618,-0.4394056773665876,1.5235003132506255,0.03645250031559109,-0.48017680332678986,-0.32940801574654444,-0.8336585198060829,2.1104829932351987,-2.1774759403114543,-1.4552810678704107,-0.3946340137520746,-0.7958997396105878,-2.1941249569910184,-0.3186755756858305,-1.0762861726059367,0.5160715236107142,0.5354240028958203,0.24474634754970445,2.1593382645363524,-2.459688200120283,2.2033163680127856,0.12741013120035052,-0.7426413044529445,-0.708915270693794,-1.7366906383070453,-0.3278091707347793,-0.019161214804460824,-0.10350391076144248,0.443003384937299,-0.3021624753184853,-0.26540709330297957,1.1177682728198786,-0.6555808314273678,-2.0513962145269367,-0.007283680343075513,-1.7345390153967326,0.6526293553788296,0.8797043755381333,-0.40446628152172,0.40015659679998383,1.3501402445869597,-1.681402939901821,0.37687631215522416,1.530406066859981,0.27376913231487043,0.11859151200966923,0.18998151104134484,1.239771620051365,-0.013067258817813692,-0.4342760602897146,-0.22768423864144938,-0.08712007886114415,-1.3953429851893069,-1.1346627058287775,1.717402994668382,-0.8202332848774089,-0.4210331992705946,-0.06266365801889973,-0.1076343228449331,-0.46753029808332414,0.465339121662231,0.05686260034364659,0.6689353752755711,-1.3749096285081572,1.0644486040242718,1.0029108097495154,-0.4756234878591175,-0.7573283389084694,1.553314742784835,0.9327235406491218,-0.5432611240893911,0.9375595028153989,0.6479726183862607,-1.6193215495623614,0.42468213572515945,0.4442854952443643,-0.4430216955740655,-0.3313723025358653,-0.5164036122879947,-0.1426294244580413,0.34861880298974646,2.491239497816553,-1.2708676958205198,1.2439173121325637,-0.2531066585596569,0.3986080862101964,1.559031756752641,-0.8451994271388271,0.6244513110895351,-0.20836122736152812,-1.5593960284306796,1.0027652648558283,0.6678453706840629,0.9019731286521746,0.49217666164481805,-0.2537409869513799,0.7236090940111436,0.046759497044002236,-0.5975669662202538,-0.78915850866316],\"y\":[-0.3837044654152856,0.795222058544091,-1.088639124538044,1.2717431343417127,-0.425142084846673,0.064182302033947,1.4362888057989984,-0.1500476658943807,-1.5718151705858465,-1.1951812086435607,0.22860843548074822,-0.12492214308168757,-0.2867367492193972,-0.5736239558678975,1.389341530883104,-0.6861898267335519,-1.5311373341612782,-0.8512089705281984,-1.4559541518556975,-1.1001623087846037,0.8979100173243162,0.12116953775102157,0.008534083166311771,0.8564629305816837,-0.5811640716666194,-1.2080292257019134,-0.2349761867338796,0.5544460777568961,-1.0713239222958086,-0.5880653881769333,1.455833425930843,1.798690383630041,-0.33646470904540654,-0.3672634840646152,-1.172864741624129,0.5837329271770997,-2.2382359822608637,0.18016433857511283,0.9536368045497337,-1.0800463778552765,-0.8317221994239206,1.282796438795336,-0.29336799070174174,0.15886220818261743,0.38201782187711153,1.4359852720915571,0.12325985697339818,-1.2571112124983932,-0.6820456832743963,0.6549877845727778,1.7480017358816617,-0.417778286260563,-1.6706045656026176,-0.32449160626856594,0.04941441532003659,1.2301955880270588,0.5549576648122474,0.5087348321498013,-0.5251299669479592,-0.7226843478772803,2.166721876878339,1.1802593126083956,-1.538186484092452,-0.9373214000293492,2.507394228500375,1.1453156950783623,-0.3900336491592565,-1.2294025551628793,0.047153263572624386,-1.4132468018414466,-0.2490684669524338,-0.049467689607492635,0.32500434009912604,2.3848744017153285,1.5072496221876714,2.3374311490664765,0.24765502883674623,0.24345434946978872,-1.0754295259055462,-0.9253517607585953,-0.23061561620756169,0.9122603763478071,0.07761133731595166,-1.9670718895477557,0.7909040382082345,-1.164107142015901,-1.3600341936072617,1.0761877070356076,0.5910801172299857,-2.4683912167831474,0.9391003487905739,0.5833264172434889,0.7708157024485347,-0.5097944025738771,-1.1535830779289729,1.7235455685820171,2.0515347554626917,0.5810028348635923,-1.5039588573849996,1.1202156895522468],\"type\":\"scatter\"}],                        {\"legend\":{\"bgcolor\":\"#F5F6F9\",\"font\":{\"color\":\"#4D5663\"}},\"paper_bgcolor\":\"#F5F6F9\",\"plot_bgcolor\":\"#F5F6F9\",\"template\":{\"data\":{\"barpolar\":[{\"marker\":{\"line\":{\"color\":\"#E5ECF6\",\"width\":0.5},\"pattern\":{\"fillmode\":\"overlay\",\"size\":10,\"solidity\":0.2}},\"type\":\"barpolar\"}],\"bar\":[{\"error_x\":{\"color\":\"#2a3f5f\"},\"error_y\":{\"color\":\"#2a3f5f\"},\"marker\":{\"line\":{\"color\":\"#E5ECF6\",\"width\":0.5},\"pattern\":{\"fillmode\":\"overlay\",\"size\":10,\"solidity\":0.2}},\"type\":\"bar\"}],\"carpet\":[{\"aaxis\":{\"endlinecolor\":\"#2a3f5f\",\"gridcolor\":\"white\",\"linecolor\":\"white\",\"minorgridcolor\":\"white\",\"startlinecolor\":\"#2a3f5f\"},\"baxis\":{\"endlinecolor\":\"#2a3f5f\",\"gridcolor\":\"white\",\"linecolor\":\"white\",\"minorgridcolor\":\"white\",\"startlinecolor\":\"#2a3f5f\"},\"type\":\"carpet\"}],\"choropleth\":[{\"colorbar\":{\"outlinewidth\":0,\"ticks\":\"\"},\"type\":\"choropleth\"}],\"contourcarpet\":[{\"colorbar\":{\"outlinewidth\":0,\"ticks\":\"\"},\"type\":\"contourcarpet\"}],\"contour\":[{\"colorbar\":{\"outlinewidth\":0,\"ticks\":\"\"},\"colorscale\":[[0.0,\"#0d0887\"],[0.1111111111111111,\"#46039f\"],[0.2222222222222222,\"#7201a8\"],[0.3333333333333333,\"#9c179e\"],[0.4444444444444444,\"#bd3786\"],[0.5555555555555556,\"#d8576b\"],[0.6666666666666666,\"#ed7953\"],[0.7777777777777778,\"#fb9f3a\"],[0.8888888888888888,\"#fdca26\"],[1.0,\"#f0f921\"]],\"type\":\"contour\"}],\"heatmapgl\":[{\"colorbar\":{\"outlinewidth\":0,\"ticks\":\"\"},\"colorscale\":[[0.0,\"#0d0887\"],[0.1111111111111111,\"#46039f\"],[0.2222222222222222,\"#7201a8\"],[0.3333333333333333,\"#9c179e\"],[0.4444444444444444,\"#bd3786\"],[0.5555555555555556,\"#d8576b\"],[0.6666666666666666,\"#ed7953\"],[0.7777777777777778,\"#fb9f3a\"],[0.8888888888888888,\"#fdca26\"],[1.0,\"#f0f921\"]],\"type\":\"heatmapgl\"}],\"heatmap\":[{\"colorbar\":{\"outlinewidth\":0,\"ticks\":\"\"},\"colorscale\":[[0.0,\"#0d0887\"],[0.1111111111111111,\"#46039f\"],[0.2222222222222222,\"#7201a8\"],[0.3333333333333333,\"#9c179e\"],[0.4444444444444444,\"#bd3786\"],[0.5555555555555556,\"#d8576b\"],[0.6666666666666666,\"#ed7953\"],[0.7777777777777778,\"#fb9f3a\"],[0.8888888888888888,\"#fdca26\"],[1.0,\"#f0f921\"]],\"type\":\"heatmap\"}],\"histogram2dcontour\":[{\"colorbar\":{\"outlinewidth\":0,\"ticks\":\"\"},\"colorscale\":[[0.0,\"#0d0887\"],[0.1111111111111111,\"#46039f\"],[0.2222222222222222,\"#7201a8\"],[0.3333333333333333,\"#9c179e\"],[0.4444444444444444,\"#bd3786\"],[0.5555555555555556,\"#d8576b\"],[0.6666666666666666,\"#ed7953\"],[0.7777777777777778,\"#fb9f3a\"],[0.8888888888888888,\"#fdca26\"],[1.0,\"#f0f921\"]],\"type\":\"histogram2dcontour\"}],\"histogram2d\":[{\"colorbar\":{\"outlinewidth\":0,\"ticks\":\"\"},\"colorscale\":[[0.0,\"#0d0887\"],[0.1111111111111111,\"#46039f\"],[0.2222222222222222,\"#7201a8\"],[0.3333333333333333,\"#9c179e\"],[0.4444444444444444,\"#bd3786\"],[0.5555555555555556,\"#d8576b\"],[0.6666666666666666,\"#ed7953\"],[0.7777777777777778,\"#fb9f3a\"],[0.8888888888888888,\"#fdca26\"],[1.0,\"#f0f921\"]],\"type\":\"histogram2d\"}],\"histogram\":[{\"marker\":{\"pattern\":{\"fillmode\":\"overlay\",\"size\":10,\"solidity\":0.2}},\"type\":\"histogram\"}],\"mesh3d\":[{\"colorbar\":{\"outlinewidth\":0,\"ticks\":\"\"},\"type\":\"mesh3d\"}],\"parcoords\":[{\"line\":{\"colorbar\":{\"outlinewidth\":0,\"ticks\":\"\"}},\"type\":\"parcoords\"}],\"pie\":[{\"automargin\":true,\"type\":\"pie\"}],\"scatter3d\":[{\"line\":{\"colorbar\":{\"outlinewidth\":0,\"ticks\":\"\"}},\"marker\":{\"colorbar\":{\"outlinewidth\":0,\"ticks\":\"\"}},\"type\":\"scatter3d\"}],\"scattercarpet\":[{\"marker\":{\"colorbar\":{\"outlinewidth\":0,\"ticks\":\"\"}},\"type\":\"scattercarpet\"}],\"scattergeo\":[{\"marker\":{\"colorbar\":{\"outlinewidth\":0,\"ticks\":\"\"}},\"type\":\"scattergeo\"}],\"scattergl\":[{\"marker\":{\"colorbar\":{\"outlinewidth\":0,\"ticks\":\"\"}},\"type\":\"scattergl\"}],\"scattermapbox\":[{\"marker\":{\"colorbar\":{\"outlinewidth\":0,\"ticks\":\"\"}},\"type\":\"scattermapbox\"}],\"scatterpolargl\":[{\"marker\":{\"colorbar\":{\"outlinewidth\":0,\"ticks\":\"\"}},\"type\":\"scatterpolargl\"}],\"scatterpolar\":[{\"marker\":{\"colorbar\":{\"outlinewidth\":0,\"ticks\":\"\"}},\"type\":\"scatterpolar\"}],\"scatter\":[{\"marker\":{\"colorbar\":{\"outlinewidth\":0,\"ticks\":\"\"}},\"type\":\"scatter\"}],\"scatterternary\":[{\"marker\":{\"colorbar\":{\"outlinewidth\":0,\"ticks\":\"\"}},\"type\":\"scatterternary\"}],\"surface\":[{\"colorbar\":{\"outlinewidth\":0,\"ticks\":\"\"},\"colorscale\":[[0.0,\"#0d0887\"],[0.1111111111111111,\"#46039f\"],[0.2222222222222222,\"#7201a8\"],[0.3333333333333333,\"#9c179e\"],[0.4444444444444444,\"#bd3786\"],[0.5555555555555556,\"#d8576b\"],[0.6666666666666666,\"#ed7953\"],[0.7777777777777778,\"#fb9f3a\"],[0.8888888888888888,\"#fdca26\"],[1.0,\"#f0f921\"]],\"type\":\"surface\"}],\"table\":[{\"cells\":{\"fill\":{\"color\":\"#EBF0F8\"},\"line\":{\"color\":\"white\"}},\"header\":{\"fill\":{\"color\":\"#C8D4E3\"},\"line\":{\"color\":\"white\"}},\"type\":\"table\"}]},\"layout\":{\"annotationdefaults\":{\"arrowcolor\":\"#2a3f5f\",\"arrowhead\":0,\"arrowwidth\":1},\"autotypenumbers\":\"strict\",\"coloraxis\":{\"colorbar\":{\"outlinewidth\":0,\"ticks\":\"\"}},\"colorscale\":{\"diverging\":[[0,\"#8e0152\"],[0.1,\"#c51b7d\"],[0.2,\"#de77ae\"],[0.3,\"#f1b6da\"],[0.4,\"#fde0ef\"],[0.5,\"#f7f7f7\"],[0.6,\"#e6f5d0\"],[0.7,\"#b8e186\"],[0.8,\"#7fbc41\"],[0.9,\"#4d9221\"],[1,\"#276419\"]],\"sequential\":[[0.0,\"#0d0887\"],[0.1111111111111111,\"#46039f\"],[0.2222222222222222,\"#7201a8\"],[0.3333333333333333,\"#9c179e\"],[0.4444444444444444,\"#bd3786\"],[0.5555555555555556,\"#d8576b\"],[0.6666666666666666,\"#ed7953\"],[0.7777777777777778,\"#fb9f3a\"],[0.8888888888888888,\"#fdca26\"],[1.0,\"#f0f921\"]],\"sequentialminus\":[[0.0,\"#0d0887\"],[0.1111111111111111,\"#46039f\"],[0.2222222222222222,\"#7201a8\"],[0.3333333333333333,\"#9c179e\"],[0.4444444444444444,\"#bd3786\"],[0.5555555555555556,\"#d8576b\"],[0.6666666666666666,\"#ed7953\"],[0.7777777777777778,\"#fb9f3a\"],[0.8888888888888888,\"#fdca26\"],[1.0,\"#f0f921\"]]},\"colorway\":[\"#636efa\",\"#EF553B\",\"#00cc96\",\"#ab63fa\",\"#FFA15A\",\"#19d3f3\",\"#FF6692\",\"#B6E880\",\"#FF97FF\",\"#FECB52\"],\"font\":{\"color\":\"#2a3f5f\"},\"geo\":{\"bgcolor\":\"white\",\"lakecolor\":\"white\",\"landcolor\":\"#E5ECF6\",\"showlakes\":true,\"showland\":true,\"subunitcolor\":\"white\"},\"hoverlabel\":{\"align\":\"left\"},\"hovermode\":\"closest\",\"mapbox\":{\"style\":\"light\"},\"paper_bgcolor\":\"white\",\"plot_bgcolor\":\"#E5ECF6\",\"polar\":{\"angularaxis\":{\"gridcolor\":\"white\",\"linecolor\":\"white\",\"ticks\":\"\"},\"bgcolor\":\"#E5ECF6\",\"radialaxis\":{\"gridcolor\":\"white\",\"linecolor\":\"white\",\"ticks\":\"\"}},\"scene\":{\"xaxis\":{\"backgroundcolor\":\"#E5ECF6\",\"gridcolor\":\"white\",\"gridwidth\":2,\"linecolor\":\"white\",\"showbackground\":true,\"ticks\":\"\",\"zerolinecolor\":\"white\"},\"yaxis\":{\"backgroundcolor\":\"#E5ECF6\",\"gridcolor\":\"white\",\"gridwidth\":2,\"linecolor\":\"white\",\"showbackground\":true,\"ticks\":\"\",\"zerolinecolor\":\"white\"},\"zaxis\":{\"backgroundcolor\":\"#E5ECF6\",\"gridcolor\":\"white\",\"gridwidth\":2,\"linecolor\":\"white\",\"showbackground\":true,\"ticks\":\"\",\"zerolinecolor\":\"white\"}},\"shapedefaults\":{\"line\":{\"color\":\"#2a3f5f\"}},\"ternary\":{\"aaxis\":{\"gridcolor\":\"white\",\"linecolor\":\"white\",\"ticks\":\"\"},\"baxis\":{\"gridcolor\":\"white\",\"linecolor\":\"white\",\"ticks\":\"\"},\"bgcolor\":\"#E5ECF6\",\"caxis\":{\"gridcolor\":\"white\",\"linecolor\":\"white\",\"ticks\":\"\"}},\"title\":{\"x\":0.05},\"xaxis\":{\"automargin\":true,\"gridcolor\":\"white\",\"linecolor\":\"white\",\"ticks\":\"\",\"title\":{\"standoff\":15},\"zerolinecolor\":\"white\",\"zerolinewidth\":2},\"yaxis\":{\"automargin\":true,\"gridcolor\":\"white\",\"linecolor\":\"white\",\"ticks\":\"\",\"title\":{\"standoff\":15},\"zerolinecolor\":\"white\",\"zerolinewidth\":2}}},\"title\":{\"font\":{\"color\":\"#4D5663\"}},\"xaxis\":{\"gridcolor\":\"#E1E5ED\",\"showgrid\":true,\"tickfont\":{\"color\":\"#4D5663\"},\"title\":{\"font\":{\"color\":\"#4D5663\"},\"text\":\"\"},\"zerolinecolor\":\"#E1E5ED\"},\"yaxis\":{\"gridcolor\":\"#E1E5ED\",\"showgrid\":true,\"tickfont\":{\"color\":\"#4D5663\"},\"title\":{\"font\":{\"color\":\"#4D5663\"},\"text\":\"\"},\"zerolinecolor\":\"#E1E5ED\"}},                        {\"showLink\": true, \"linkText\": \"Export to plot.ly\", \"plotlyServerURL\": \"https://plot.ly\", \"responsive\": true}                    ).then(function(){\n",
       "                            \n",
       "var gd = document.getElementById('5140bfa3-4bac-447e-8e50-441ebbc6b60c');\n",
       "var x = new MutationObserver(function (mutations, observer) {{\n",
       "        var display = window.getComputedStyle(gd).display;\n",
       "        if (!display || display === 'none') {{\n",
       "            console.log([gd, 'removed!']);\n",
       "            Plotly.purge(gd);\n",
       "            observer.disconnect();\n",
       "        }}\n",
       "}});\n",
       "\n",
       "// Listen for the removal of the full notebook cells\n",
       "var notebookContainer = gd.closest('#notebook-container');\n",
       "if (notebookContainer) {{\n",
       "    x.observe(notebookContainer, {childList: true});\n",
       "}}\n",
       "\n",
       "// Listen for the clearing of the current output cell\n",
       "var outputEl = gd.closest('.output');\n",
       "if (outputEl) {{\n",
       "    x.observe(outputEl, {childList: true});\n",
       "}}\n",
       "\n",
       "                        })                };                });            </script>        </div>"
      ]
     },
     "metadata": {},
     "output_type": "display_data"
    }
   ],
   "source": [
    "df.iplot(kind='scatter',x='A',y='B',mode='markers',size=10)"
   ]
  },
  {
   "cell_type": "markdown",
   "id": "48734ca2",
   "metadata": {},
   "source": [
    "## Bar Plots"
   ]
  },
  {
   "cell_type": "code",
   "execution_count": 11,
   "id": "978efcc7",
   "metadata": {},
   "outputs": [
    {
     "data": {
      "application/vnd.plotly.v1+json": {
       "config": {
        "linkText": "Export to plot.ly",
        "plotlyServerURL": "https://plot.ly",
        "showLink": true
       },
       "data": [
        {
         "marker": {
          "color": "rgba(255, 153, 51, 0.6)",
          "line": {
           "color": "rgba(255, 153, 51, 1.0)",
           "width": 1
          }
         },
         "name": "Values",
         "orientation": "v",
         "text": "",
         "type": "bar",
         "x": [
          "A",
          "B",
          "C"
         ],
         "y": [
          32,
          43,
          50
         ]
        }
       ],
       "layout": {
        "legend": {
         "bgcolor": "#F5F6F9",
         "font": {
          "color": "#4D5663"
         }
        },
        "paper_bgcolor": "#F5F6F9",
        "plot_bgcolor": "#F5F6F9",
        "template": {
         "data": {
          "bar": [
           {
            "error_x": {
             "color": "#2a3f5f"
            },
            "error_y": {
             "color": "#2a3f5f"
            },
            "marker": {
             "line": {
              "color": "#E5ECF6",
              "width": 0.5
             },
             "pattern": {
              "fillmode": "overlay",
              "size": 10,
              "solidity": 0.2
             }
            },
            "type": "bar"
           }
          ],
          "barpolar": [
           {
            "marker": {
             "line": {
              "color": "#E5ECF6",
              "width": 0.5
             },
             "pattern": {
              "fillmode": "overlay",
              "size": 10,
              "solidity": 0.2
             }
            },
            "type": "barpolar"
           }
          ],
          "carpet": [
           {
            "aaxis": {
             "endlinecolor": "#2a3f5f",
             "gridcolor": "white",
             "linecolor": "white",
             "minorgridcolor": "white",
             "startlinecolor": "#2a3f5f"
            },
            "baxis": {
             "endlinecolor": "#2a3f5f",
             "gridcolor": "white",
             "linecolor": "white",
             "minorgridcolor": "white",
             "startlinecolor": "#2a3f5f"
            },
            "type": "carpet"
           }
          ],
          "choropleth": [
           {
            "colorbar": {
             "outlinewidth": 0,
             "ticks": ""
            },
            "type": "choropleth"
           }
          ],
          "contour": [
           {
            "colorbar": {
             "outlinewidth": 0,
             "ticks": ""
            },
            "colorscale": [
             [
              0,
              "#0d0887"
             ],
             [
              0.1111111111111111,
              "#46039f"
             ],
             [
              0.2222222222222222,
              "#7201a8"
             ],
             [
              0.3333333333333333,
              "#9c179e"
             ],
             [
              0.4444444444444444,
              "#bd3786"
             ],
             [
              0.5555555555555556,
              "#d8576b"
             ],
             [
              0.6666666666666666,
              "#ed7953"
             ],
             [
              0.7777777777777778,
              "#fb9f3a"
             ],
             [
              0.8888888888888888,
              "#fdca26"
             ],
             [
              1,
              "#f0f921"
             ]
            ],
            "type": "contour"
           }
          ],
          "contourcarpet": [
           {
            "colorbar": {
             "outlinewidth": 0,
             "ticks": ""
            },
            "type": "contourcarpet"
           }
          ],
          "heatmap": [
           {
            "colorbar": {
             "outlinewidth": 0,
             "ticks": ""
            },
            "colorscale": [
             [
              0,
              "#0d0887"
             ],
             [
              0.1111111111111111,
              "#46039f"
             ],
             [
              0.2222222222222222,
              "#7201a8"
             ],
             [
              0.3333333333333333,
              "#9c179e"
             ],
             [
              0.4444444444444444,
              "#bd3786"
             ],
             [
              0.5555555555555556,
              "#d8576b"
             ],
             [
              0.6666666666666666,
              "#ed7953"
             ],
             [
              0.7777777777777778,
              "#fb9f3a"
             ],
             [
              0.8888888888888888,
              "#fdca26"
             ],
             [
              1,
              "#f0f921"
             ]
            ],
            "type": "heatmap"
           }
          ],
          "heatmapgl": [
           {
            "colorbar": {
             "outlinewidth": 0,
             "ticks": ""
            },
            "colorscale": [
             [
              0,
              "#0d0887"
             ],
             [
              0.1111111111111111,
              "#46039f"
             ],
             [
              0.2222222222222222,
              "#7201a8"
             ],
             [
              0.3333333333333333,
              "#9c179e"
             ],
             [
              0.4444444444444444,
              "#bd3786"
             ],
             [
              0.5555555555555556,
              "#d8576b"
             ],
             [
              0.6666666666666666,
              "#ed7953"
             ],
             [
              0.7777777777777778,
              "#fb9f3a"
             ],
             [
              0.8888888888888888,
              "#fdca26"
             ],
             [
              1,
              "#f0f921"
             ]
            ],
            "type": "heatmapgl"
           }
          ],
          "histogram": [
           {
            "marker": {
             "pattern": {
              "fillmode": "overlay",
              "size": 10,
              "solidity": 0.2
             }
            },
            "type": "histogram"
           }
          ],
          "histogram2d": [
           {
            "colorbar": {
             "outlinewidth": 0,
             "ticks": ""
            },
            "colorscale": [
             [
              0,
              "#0d0887"
             ],
             [
              0.1111111111111111,
              "#46039f"
             ],
             [
              0.2222222222222222,
              "#7201a8"
             ],
             [
              0.3333333333333333,
              "#9c179e"
             ],
             [
              0.4444444444444444,
              "#bd3786"
             ],
             [
              0.5555555555555556,
              "#d8576b"
             ],
             [
              0.6666666666666666,
              "#ed7953"
             ],
             [
              0.7777777777777778,
              "#fb9f3a"
             ],
             [
              0.8888888888888888,
              "#fdca26"
             ],
             [
              1,
              "#f0f921"
             ]
            ],
            "type": "histogram2d"
           }
          ],
          "histogram2dcontour": [
           {
            "colorbar": {
             "outlinewidth": 0,
             "ticks": ""
            },
            "colorscale": [
             [
              0,
              "#0d0887"
             ],
             [
              0.1111111111111111,
              "#46039f"
             ],
             [
              0.2222222222222222,
              "#7201a8"
             ],
             [
              0.3333333333333333,
              "#9c179e"
             ],
             [
              0.4444444444444444,
              "#bd3786"
             ],
             [
              0.5555555555555556,
              "#d8576b"
             ],
             [
              0.6666666666666666,
              "#ed7953"
             ],
             [
              0.7777777777777778,
              "#fb9f3a"
             ],
             [
              0.8888888888888888,
              "#fdca26"
             ],
             [
              1,
              "#f0f921"
             ]
            ],
            "type": "histogram2dcontour"
           }
          ],
          "mesh3d": [
           {
            "colorbar": {
             "outlinewidth": 0,
             "ticks": ""
            },
            "type": "mesh3d"
           }
          ],
          "parcoords": [
           {
            "line": {
             "colorbar": {
              "outlinewidth": 0,
              "ticks": ""
             }
            },
            "type": "parcoords"
           }
          ],
          "pie": [
           {
            "automargin": true,
            "type": "pie"
           }
          ],
          "scatter": [
           {
            "marker": {
             "colorbar": {
              "outlinewidth": 0,
              "ticks": ""
             }
            },
            "type": "scatter"
           }
          ],
          "scatter3d": [
           {
            "line": {
             "colorbar": {
              "outlinewidth": 0,
              "ticks": ""
             }
            },
            "marker": {
             "colorbar": {
              "outlinewidth": 0,
              "ticks": ""
             }
            },
            "type": "scatter3d"
           }
          ],
          "scattercarpet": [
           {
            "marker": {
             "colorbar": {
              "outlinewidth": 0,
              "ticks": ""
             }
            },
            "type": "scattercarpet"
           }
          ],
          "scattergeo": [
           {
            "marker": {
             "colorbar": {
              "outlinewidth": 0,
              "ticks": ""
             }
            },
            "type": "scattergeo"
           }
          ],
          "scattergl": [
           {
            "marker": {
             "colorbar": {
              "outlinewidth": 0,
              "ticks": ""
             }
            },
            "type": "scattergl"
           }
          ],
          "scattermapbox": [
           {
            "marker": {
             "colorbar": {
              "outlinewidth": 0,
              "ticks": ""
             }
            },
            "type": "scattermapbox"
           }
          ],
          "scatterpolar": [
           {
            "marker": {
             "colorbar": {
              "outlinewidth": 0,
              "ticks": ""
             }
            },
            "type": "scatterpolar"
           }
          ],
          "scatterpolargl": [
           {
            "marker": {
             "colorbar": {
              "outlinewidth": 0,
              "ticks": ""
             }
            },
            "type": "scatterpolargl"
           }
          ],
          "scatterternary": [
           {
            "marker": {
             "colorbar": {
              "outlinewidth": 0,
              "ticks": ""
             }
            },
            "type": "scatterternary"
           }
          ],
          "surface": [
           {
            "colorbar": {
             "outlinewidth": 0,
             "ticks": ""
            },
            "colorscale": [
             [
              0,
              "#0d0887"
             ],
             [
              0.1111111111111111,
              "#46039f"
             ],
             [
              0.2222222222222222,
              "#7201a8"
             ],
             [
              0.3333333333333333,
              "#9c179e"
             ],
             [
              0.4444444444444444,
              "#bd3786"
             ],
             [
              0.5555555555555556,
              "#d8576b"
             ],
             [
              0.6666666666666666,
              "#ed7953"
             ],
             [
              0.7777777777777778,
              "#fb9f3a"
             ],
             [
              0.8888888888888888,
              "#fdca26"
             ],
             [
              1,
              "#f0f921"
             ]
            ],
            "type": "surface"
           }
          ],
          "table": [
           {
            "cells": {
             "fill": {
              "color": "#EBF0F8"
             },
             "line": {
              "color": "white"
             }
            },
            "header": {
             "fill": {
              "color": "#C8D4E3"
             },
             "line": {
              "color": "white"
             }
            },
            "type": "table"
           }
          ]
         },
         "layout": {
          "annotationdefaults": {
           "arrowcolor": "#2a3f5f",
           "arrowhead": 0,
           "arrowwidth": 1
          },
          "autotypenumbers": "strict",
          "coloraxis": {
           "colorbar": {
            "outlinewidth": 0,
            "ticks": ""
           }
          },
          "colorscale": {
           "diverging": [
            [
             0,
             "#8e0152"
            ],
            [
             0.1,
             "#c51b7d"
            ],
            [
             0.2,
             "#de77ae"
            ],
            [
             0.3,
             "#f1b6da"
            ],
            [
             0.4,
             "#fde0ef"
            ],
            [
             0.5,
             "#f7f7f7"
            ],
            [
             0.6,
             "#e6f5d0"
            ],
            [
             0.7,
             "#b8e186"
            ],
            [
             0.8,
             "#7fbc41"
            ],
            [
             0.9,
             "#4d9221"
            ],
            [
             1,
             "#276419"
            ]
           ],
           "sequential": [
            [
             0,
             "#0d0887"
            ],
            [
             0.1111111111111111,
             "#46039f"
            ],
            [
             0.2222222222222222,
             "#7201a8"
            ],
            [
             0.3333333333333333,
             "#9c179e"
            ],
            [
             0.4444444444444444,
             "#bd3786"
            ],
            [
             0.5555555555555556,
             "#d8576b"
            ],
            [
             0.6666666666666666,
             "#ed7953"
            ],
            [
             0.7777777777777778,
             "#fb9f3a"
            ],
            [
             0.8888888888888888,
             "#fdca26"
            ],
            [
             1,
             "#f0f921"
            ]
           ],
           "sequentialminus": [
            [
             0,
             "#0d0887"
            ],
            [
             0.1111111111111111,
             "#46039f"
            ],
            [
             0.2222222222222222,
             "#7201a8"
            ],
            [
             0.3333333333333333,
             "#9c179e"
            ],
            [
             0.4444444444444444,
             "#bd3786"
            ],
            [
             0.5555555555555556,
             "#d8576b"
            ],
            [
             0.6666666666666666,
             "#ed7953"
            ],
            [
             0.7777777777777778,
             "#fb9f3a"
            ],
            [
             0.8888888888888888,
             "#fdca26"
            ],
            [
             1,
             "#f0f921"
            ]
           ]
          },
          "colorway": [
           "#636efa",
           "#EF553B",
           "#00cc96",
           "#ab63fa",
           "#FFA15A",
           "#19d3f3",
           "#FF6692",
           "#B6E880",
           "#FF97FF",
           "#FECB52"
          ],
          "font": {
           "color": "#2a3f5f"
          },
          "geo": {
           "bgcolor": "white",
           "lakecolor": "white",
           "landcolor": "#E5ECF6",
           "showlakes": true,
           "showland": true,
           "subunitcolor": "white"
          },
          "hoverlabel": {
           "align": "left"
          },
          "hovermode": "closest",
          "mapbox": {
           "style": "light"
          },
          "paper_bgcolor": "white",
          "plot_bgcolor": "#E5ECF6",
          "polar": {
           "angularaxis": {
            "gridcolor": "white",
            "linecolor": "white",
            "ticks": ""
           },
           "bgcolor": "#E5ECF6",
           "radialaxis": {
            "gridcolor": "white",
            "linecolor": "white",
            "ticks": ""
           }
          },
          "scene": {
           "xaxis": {
            "backgroundcolor": "#E5ECF6",
            "gridcolor": "white",
            "gridwidth": 2,
            "linecolor": "white",
            "showbackground": true,
            "ticks": "",
            "zerolinecolor": "white"
           },
           "yaxis": {
            "backgroundcolor": "#E5ECF6",
            "gridcolor": "white",
            "gridwidth": 2,
            "linecolor": "white",
            "showbackground": true,
            "ticks": "",
            "zerolinecolor": "white"
           },
           "zaxis": {
            "backgroundcolor": "#E5ECF6",
            "gridcolor": "white",
            "gridwidth": 2,
            "linecolor": "white",
            "showbackground": true,
            "ticks": "",
            "zerolinecolor": "white"
           }
          },
          "shapedefaults": {
           "line": {
            "color": "#2a3f5f"
           }
          },
          "ternary": {
           "aaxis": {
            "gridcolor": "white",
            "linecolor": "white",
            "ticks": ""
           },
           "baxis": {
            "gridcolor": "white",
            "linecolor": "white",
            "ticks": ""
           },
           "bgcolor": "#E5ECF6",
           "caxis": {
            "gridcolor": "white",
            "linecolor": "white",
            "ticks": ""
           }
          },
          "title": {
           "x": 0.05
          },
          "xaxis": {
           "automargin": true,
           "gridcolor": "white",
           "linecolor": "white",
           "ticks": "",
           "title": {
            "standoff": 15
           },
           "zerolinecolor": "white",
           "zerolinewidth": 2
          },
          "yaxis": {
           "automargin": true,
           "gridcolor": "white",
           "linecolor": "white",
           "ticks": "",
           "title": {
            "standoff": 15
           },
           "zerolinecolor": "white",
           "zerolinewidth": 2
          }
         }
        },
        "title": {
         "font": {
          "color": "#4D5663"
         }
        },
        "xaxis": {
         "gridcolor": "#E1E5ED",
         "showgrid": true,
         "tickfont": {
          "color": "#4D5663"
         },
         "title": {
          "font": {
           "color": "#4D5663"
          },
          "text": ""
         },
         "zerolinecolor": "#E1E5ED"
        },
        "yaxis": {
         "gridcolor": "#E1E5ED",
         "showgrid": true,
         "tickfont": {
          "color": "#4D5663"
         },
         "title": {
          "font": {
           "color": "#4D5663"
          },
          "text": ""
         },
         "zerolinecolor": "#E1E5ED"
        }
       }
      },
      "text/html": [
       "<div>                            <div id=\"ce448064-2829-4884-b5ab-fd0d747ea491\" class=\"plotly-graph-div\" style=\"height:525px; width:100%;\"></div>            <script type=\"text/javascript\">                require([\"plotly\"], function(Plotly) {                    window.PLOTLYENV=window.PLOTLYENV || {};\n",
       "                    window.PLOTLYENV.BASE_URL='https://plot.ly';                                    if (document.getElementById(\"ce448064-2829-4884-b5ab-fd0d747ea491\")) {                    Plotly.newPlot(                        \"ce448064-2829-4884-b5ab-fd0d747ea491\",                        [{\"marker\":{\"color\":\"rgba(255, 153, 51, 0.6)\",\"line\":{\"color\":\"rgba(255, 153, 51, 1.0)\",\"width\":1}},\"name\":\"Values\",\"orientation\":\"v\",\"text\":\"\",\"x\":[\"A\",\"B\",\"C\"],\"y\":[32,43,50],\"type\":\"bar\"}],                        {\"legend\":{\"bgcolor\":\"#F5F6F9\",\"font\":{\"color\":\"#4D5663\"}},\"paper_bgcolor\":\"#F5F6F9\",\"plot_bgcolor\":\"#F5F6F9\",\"template\":{\"data\":{\"barpolar\":[{\"marker\":{\"line\":{\"color\":\"#E5ECF6\",\"width\":0.5},\"pattern\":{\"fillmode\":\"overlay\",\"size\":10,\"solidity\":0.2}},\"type\":\"barpolar\"}],\"bar\":[{\"error_x\":{\"color\":\"#2a3f5f\"},\"error_y\":{\"color\":\"#2a3f5f\"},\"marker\":{\"line\":{\"color\":\"#E5ECF6\",\"width\":0.5},\"pattern\":{\"fillmode\":\"overlay\",\"size\":10,\"solidity\":0.2}},\"type\":\"bar\"}],\"carpet\":[{\"aaxis\":{\"endlinecolor\":\"#2a3f5f\",\"gridcolor\":\"white\",\"linecolor\":\"white\",\"minorgridcolor\":\"white\",\"startlinecolor\":\"#2a3f5f\"},\"baxis\":{\"endlinecolor\":\"#2a3f5f\",\"gridcolor\":\"white\",\"linecolor\":\"white\",\"minorgridcolor\":\"white\",\"startlinecolor\":\"#2a3f5f\"},\"type\":\"carpet\"}],\"choropleth\":[{\"colorbar\":{\"outlinewidth\":0,\"ticks\":\"\"},\"type\":\"choropleth\"}],\"contourcarpet\":[{\"colorbar\":{\"outlinewidth\":0,\"ticks\":\"\"},\"type\":\"contourcarpet\"}],\"contour\":[{\"colorbar\":{\"outlinewidth\":0,\"ticks\":\"\"},\"colorscale\":[[0.0,\"#0d0887\"],[0.1111111111111111,\"#46039f\"],[0.2222222222222222,\"#7201a8\"],[0.3333333333333333,\"#9c179e\"],[0.4444444444444444,\"#bd3786\"],[0.5555555555555556,\"#d8576b\"],[0.6666666666666666,\"#ed7953\"],[0.7777777777777778,\"#fb9f3a\"],[0.8888888888888888,\"#fdca26\"],[1.0,\"#f0f921\"]],\"type\":\"contour\"}],\"heatmapgl\":[{\"colorbar\":{\"outlinewidth\":0,\"ticks\":\"\"},\"colorscale\":[[0.0,\"#0d0887\"],[0.1111111111111111,\"#46039f\"],[0.2222222222222222,\"#7201a8\"],[0.3333333333333333,\"#9c179e\"],[0.4444444444444444,\"#bd3786\"],[0.5555555555555556,\"#d8576b\"],[0.6666666666666666,\"#ed7953\"],[0.7777777777777778,\"#fb9f3a\"],[0.8888888888888888,\"#fdca26\"],[1.0,\"#f0f921\"]],\"type\":\"heatmapgl\"}],\"heatmap\":[{\"colorbar\":{\"outlinewidth\":0,\"ticks\":\"\"},\"colorscale\":[[0.0,\"#0d0887\"],[0.1111111111111111,\"#46039f\"],[0.2222222222222222,\"#7201a8\"],[0.3333333333333333,\"#9c179e\"],[0.4444444444444444,\"#bd3786\"],[0.5555555555555556,\"#d8576b\"],[0.6666666666666666,\"#ed7953\"],[0.7777777777777778,\"#fb9f3a\"],[0.8888888888888888,\"#fdca26\"],[1.0,\"#f0f921\"]],\"type\":\"heatmap\"}],\"histogram2dcontour\":[{\"colorbar\":{\"outlinewidth\":0,\"ticks\":\"\"},\"colorscale\":[[0.0,\"#0d0887\"],[0.1111111111111111,\"#46039f\"],[0.2222222222222222,\"#7201a8\"],[0.3333333333333333,\"#9c179e\"],[0.4444444444444444,\"#bd3786\"],[0.5555555555555556,\"#d8576b\"],[0.6666666666666666,\"#ed7953\"],[0.7777777777777778,\"#fb9f3a\"],[0.8888888888888888,\"#fdca26\"],[1.0,\"#f0f921\"]],\"type\":\"histogram2dcontour\"}],\"histogram2d\":[{\"colorbar\":{\"outlinewidth\":0,\"ticks\":\"\"},\"colorscale\":[[0.0,\"#0d0887\"],[0.1111111111111111,\"#46039f\"],[0.2222222222222222,\"#7201a8\"],[0.3333333333333333,\"#9c179e\"],[0.4444444444444444,\"#bd3786\"],[0.5555555555555556,\"#d8576b\"],[0.6666666666666666,\"#ed7953\"],[0.7777777777777778,\"#fb9f3a\"],[0.8888888888888888,\"#fdca26\"],[1.0,\"#f0f921\"]],\"type\":\"histogram2d\"}],\"histogram\":[{\"marker\":{\"pattern\":{\"fillmode\":\"overlay\",\"size\":10,\"solidity\":0.2}},\"type\":\"histogram\"}],\"mesh3d\":[{\"colorbar\":{\"outlinewidth\":0,\"ticks\":\"\"},\"type\":\"mesh3d\"}],\"parcoords\":[{\"line\":{\"colorbar\":{\"outlinewidth\":0,\"ticks\":\"\"}},\"type\":\"parcoords\"}],\"pie\":[{\"automargin\":true,\"type\":\"pie\"}],\"scatter3d\":[{\"line\":{\"colorbar\":{\"outlinewidth\":0,\"ticks\":\"\"}},\"marker\":{\"colorbar\":{\"outlinewidth\":0,\"ticks\":\"\"}},\"type\":\"scatter3d\"}],\"scattercarpet\":[{\"marker\":{\"colorbar\":{\"outlinewidth\":0,\"ticks\":\"\"}},\"type\":\"scattercarpet\"}],\"scattergeo\":[{\"marker\":{\"colorbar\":{\"outlinewidth\":0,\"ticks\":\"\"}},\"type\":\"scattergeo\"}],\"scattergl\":[{\"marker\":{\"colorbar\":{\"outlinewidth\":0,\"ticks\":\"\"}},\"type\":\"scattergl\"}],\"scattermapbox\":[{\"marker\":{\"colorbar\":{\"outlinewidth\":0,\"ticks\":\"\"}},\"type\":\"scattermapbox\"}],\"scatterpolargl\":[{\"marker\":{\"colorbar\":{\"outlinewidth\":0,\"ticks\":\"\"}},\"type\":\"scatterpolargl\"}],\"scatterpolar\":[{\"marker\":{\"colorbar\":{\"outlinewidth\":0,\"ticks\":\"\"}},\"type\":\"scatterpolar\"}],\"scatter\":[{\"marker\":{\"colorbar\":{\"outlinewidth\":0,\"ticks\":\"\"}},\"type\":\"scatter\"}],\"scatterternary\":[{\"marker\":{\"colorbar\":{\"outlinewidth\":0,\"ticks\":\"\"}},\"type\":\"scatterternary\"}],\"surface\":[{\"colorbar\":{\"outlinewidth\":0,\"ticks\":\"\"},\"colorscale\":[[0.0,\"#0d0887\"],[0.1111111111111111,\"#46039f\"],[0.2222222222222222,\"#7201a8\"],[0.3333333333333333,\"#9c179e\"],[0.4444444444444444,\"#bd3786\"],[0.5555555555555556,\"#d8576b\"],[0.6666666666666666,\"#ed7953\"],[0.7777777777777778,\"#fb9f3a\"],[0.8888888888888888,\"#fdca26\"],[1.0,\"#f0f921\"]],\"type\":\"surface\"}],\"table\":[{\"cells\":{\"fill\":{\"color\":\"#EBF0F8\"},\"line\":{\"color\":\"white\"}},\"header\":{\"fill\":{\"color\":\"#C8D4E3\"},\"line\":{\"color\":\"white\"}},\"type\":\"table\"}]},\"layout\":{\"annotationdefaults\":{\"arrowcolor\":\"#2a3f5f\",\"arrowhead\":0,\"arrowwidth\":1},\"autotypenumbers\":\"strict\",\"coloraxis\":{\"colorbar\":{\"outlinewidth\":0,\"ticks\":\"\"}},\"colorscale\":{\"diverging\":[[0,\"#8e0152\"],[0.1,\"#c51b7d\"],[0.2,\"#de77ae\"],[0.3,\"#f1b6da\"],[0.4,\"#fde0ef\"],[0.5,\"#f7f7f7\"],[0.6,\"#e6f5d0\"],[0.7,\"#b8e186\"],[0.8,\"#7fbc41\"],[0.9,\"#4d9221\"],[1,\"#276419\"]],\"sequential\":[[0.0,\"#0d0887\"],[0.1111111111111111,\"#46039f\"],[0.2222222222222222,\"#7201a8\"],[0.3333333333333333,\"#9c179e\"],[0.4444444444444444,\"#bd3786\"],[0.5555555555555556,\"#d8576b\"],[0.6666666666666666,\"#ed7953\"],[0.7777777777777778,\"#fb9f3a\"],[0.8888888888888888,\"#fdca26\"],[1.0,\"#f0f921\"]],\"sequentialminus\":[[0.0,\"#0d0887\"],[0.1111111111111111,\"#46039f\"],[0.2222222222222222,\"#7201a8\"],[0.3333333333333333,\"#9c179e\"],[0.4444444444444444,\"#bd3786\"],[0.5555555555555556,\"#d8576b\"],[0.6666666666666666,\"#ed7953\"],[0.7777777777777778,\"#fb9f3a\"],[0.8888888888888888,\"#fdca26\"],[1.0,\"#f0f921\"]]},\"colorway\":[\"#636efa\",\"#EF553B\",\"#00cc96\",\"#ab63fa\",\"#FFA15A\",\"#19d3f3\",\"#FF6692\",\"#B6E880\",\"#FF97FF\",\"#FECB52\"],\"font\":{\"color\":\"#2a3f5f\"},\"geo\":{\"bgcolor\":\"white\",\"lakecolor\":\"white\",\"landcolor\":\"#E5ECF6\",\"showlakes\":true,\"showland\":true,\"subunitcolor\":\"white\"},\"hoverlabel\":{\"align\":\"left\"},\"hovermode\":\"closest\",\"mapbox\":{\"style\":\"light\"},\"paper_bgcolor\":\"white\",\"plot_bgcolor\":\"#E5ECF6\",\"polar\":{\"angularaxis\":{\"gridcolor\":\"white\",\"linecolor\":\"white\",\"ticks\":\"\"},\"bgcolor\":\"#E5ECF6\",\"radialaxis\":{\"gridcolor\":\"white\",\"linecolor\":\"white\",\"ticks\":\"\"}},\"scene\":{\"xaxis\":{\"backgroundcolor\":\"#E5ECF6\",\"gridcolor\":\"white\",\"gridwidth\":2,\"linecolor\":\"white\",\"showbackground\":true,\"ticks\":\"\",\"zerolinecolor\":\"white\"},\"yaxis\":{\"backgroundcolor\":\"#E5ECF6\",\"gridcolor\":\"white\",\"gridwidth\":2,\"linecolor\":\"white\",\"showbackground\":true,\"ticks\":\"\",\"zerolinecolor\":\"white\"},\"zaxis\":{\"backgroundcolor\":\"#E5ECF6\",\"gridcolor\":\"white\",\"gridwidth\":2,\"linecolor\":\"white\",\"showbackground\":true,\"ticks\":\"\",\"zerolinecolor\":\"white\"}},\"shapedefaults\":{\"line\":{\"color\":\"#2a3f5f\"}},\"ternary\":{\"aaxis\":{\"gridcolor\":\"white\",\"linecolor\":\"white\",\"ticks\":\"\"},\"baxis\":{\"gridcolor\":\"white\",\"linecolor\":\"white\",\"ticks\":\"\"},\"bgcolor\":\"#E5ECF6\",\"caxis\":{\"gridcolor\":\"white\",\"linecolor\":\"white\",\"ticks\":\"\"}},\"title\":{\"x\":0.05},\"xaxis\":{\"automargin\":true,\"gridcolor\":\"white\",\"linecolor\":\"white\",\"ticks\":\"\",\"title\":{\"standoff\":15},\"zerolinecolor\":\"white\",\"zerolinewidth\":2},\"yaxis\":{\"automargin\":true,\"gridcolor\":\"white\",\"linecolor\":\"white\",\"ticks\":\"\",\"title\":{\"standoff\":15},\"zerolinecolor\":\"white\",\"zerolinewidth\":2}}},\"title\":{\"font\":{\"color\":\"#4D5663\"}},\"xaxis\":{\"gridcolor\":\"#E1E5ED\",\"showgrid\":true,\"tickfont\":{\"color\":\"#4D5663\"},\"title\":{\"font\":{\"color\":\"#4D5663\"},\"text\":\"\"},\"zerolinecolor\":\"#E1E5ED\"},\"yaxis\":{\"gridcolor\":\"#E1E5ED\",\"showgrid\":true,\"tickfont\":{\"color\":\"#4D5663\"},\"title\":{\"font\":{\"color\":\"#4D5663\"},\"text\":\"\"},\"zerolinecolor\":\"#E1E5ED\"}},                        {\"showLink\": true, \"linkText\": \"Export to plot.ly\", \"plotlyServerURL\": \"https://plot.ly\", \"responsive\": true}                    ).then(function(){\n",
       "                            \n",
       "var gd = document.getElementById('ce448064-2829-4884-b5ab-fd0d747ea491');\n",
       "var x = new MutationObserver(function (mutations, observer) {{\n",
       "        var display = window.getComputedStyle(gd).display;\n",
       "        if (!display || display === 'none') {{\n",
       "            console.log([gd, 'removed!']);\n",
       "            Plotly.purge(gd);\n",
       "            observer.disconnect();\n",
       "        }}\n",
       "}});\n",
       "\n",
       "// Listen for the removal of the full notebook cells\n",
       "var notebookContainer = gd.closest('#notebook-container');\n",
       "if (notebookContainer) {{\n",
       "    x.observe(notebookContainer, {childList: true});\n",
       "}}\n",
       "\n",
       "// Listen for the clearing of the current output cell\n",
       "var outputEl = gd.closest('.output');\n",
       "if (outputEl) {{\n",
       "    x.observe(outputEl, {childList: true});\n",
       "}}\n",
       "\n",
       "                        })                };                });            </script>        </div>"
      ]
     },
     "metadata": {},
     "output_type": "display_data"
    }
   ],
   "source": [
    "df2.iplot(kind='bar',x='Category',y='Values')"
   ]
  },
  {
   "cell_type": "code",
   "execution_count": 12,
   "id": "327528d6",
   "metadata": {},
   "outputs": [
    {
     "data": {
      "application/vnd.plotly.v1+json": {
       "config": {
        "linkText": "Export to plot.ly",
        "plotlyServerURL": "https://plot.ly",
        "showLink": true
       },
       "data": [
        {
         "marker": {
          "color": "rgba(255, 153, 51, 0.6)",
          "line": {
           "color": "rgba(255, 153, 51, 1.0)",
           "width": 1
          }
         },
         "name": "None",
         "orientation": "v",
         "text": "",
         "type": "bar",
         "x": [
          "A",
          "B",
          "C",
          "D"
         ],
         "y": [
          100,
          100,
          100,
          100
         ]
        }
       ],
       "layout": {
        "legend": {
         "bgcolor": "#F5F6F9",
         "font": {
          "color": "#4D5663"
         }
        },
        "paper_bgcolor": "#F5F6F9",
        "plot_bgcolor": "#F5F6F9",
        "template": {
         "data": {
          "bar": [
           {
            "error_x": {
             "color": "#2a3f5f"
            },
            "error_y": {
             "color": "#2a3f5f"
            },
            "marker": {
             "line": {
              "color": "#E5ECF6",
              "width": 0.5
             },
             "pattern": {
              "fillmode": "overlay",
              "size": 10,
              "solidity": 0.2
             }
            },
            "type": "bar"
           }
          ],
          "barpolar": [
           {
            "marker": {
             "line": {
              "color": "#E5ECF6",
              "width": 0.5
             },
             "pattern": {
              "fillmode": "overlay",
              "size": 10,
              "solidity": 0.2
             }
            },
            "type": "barpolar"
           }
          ],
          "carpet": [
           {
            "aaxis": {
             "endlinecolor": "#2a3f5f",
             "gridcolor": "white",
             "linecolor": "white",
             "minorgridcolor": "white",
             "startlinecolor": "#2a3f5f"
            },
            "baxis": {
             "endlinecolor": "#2a3f5f",
             "gridcolor": "white",
             "linecolor": "white",
             "minorgridcolor": "white",
             "startlinecolor": "#2a3f5f"
            },
            "type": "carpet"
           }
          ],
          "choropleth": [
           {
            "colorbar": {
             "outlinewidth": 0,
             "ticks": ""
            },
            "type": "choropleth"
           }
          ],
          "contour": [
           {
            "colorbar": {
             "outlinewidth": 0,
             "ticks": ""
            },
            "colorscale": [
             [
              0,
              "#0d0887"
             ],
             [
              0.1111111111111111,
              "#46039f"
             ],
             [
              0.2222222222222222,
              "#7201a8"
             ],
             [
              0.3333333333333333,
              "#9c179e"
             ],
             [
              0.4444444444444444,
              "#bd3786"
             ],
             [
              0.5555555555555556,
              "#d8576b"
             ],
             [
              0.6666666666666666,
              "#ed7953"
             ],
             [
              0.7777777777777778,
              "#fb9f3a"
             ],
             [
              0.8888888888888888,
              "#fdca26"
             ],
             [
              1,
              "#f0f921"
             ]
            ],
            "type": "contour"
           }
          ],
          "contourcarpet": [
           {
            "colorbar": {
             "outlinewidth": 0,
             "ticks": ""
            },
            "type": "contourcarpet"
           }
          ],
          "heatmap": [
           {
            "colorbar": {
             "outlinewidth": 0,
             "ticks": ""
            },
            "colorscale": [
             [
              0,
              "#0d0887"
             ],
             [
              0.1111111111111111,
              "#46039f"
             ],
             [
              0.2222222222222222,
              "#7201a8"
             ],
             [
              0.3333333333333333,
              "#9c179e"
             ],
             [
              0.4444444444444444,
              "#bd3786"
             ],
             [
              0.5555555555555556,
              "#d8576b"
             ],
             [
              0.6666666666666666,
              "#ed7953"
             ],
             [
              0.7777777777777778,
              "#fb9f3a"
             ],
             [
              0.8888888888888888,
              "#fdca26"
             ],
             [
              1,
              "#f0f921"
             ]
            ],
            "type": "heatmap"
           }
          ],
          "heatmapgl": [
           {
            "colorbar": {
             "outlinewidth": 0,
             "ticks": ""
            },
            "colorscale": [
             [
              0,
              "#0d0887"
             ],
             [
              0.1111111111111111,
              "#46039f"
             ],
             [
              0.2222222222222222,
              "#7201a8"
             ],
             [
              0.3333333333333333,
              "#9c179e"
             ],
             [
              0.4444444444444444,
              "#bd3786"
             ],
             [
              0.5555555555555556,
              "#d8576b"
             ],
             [
              0.6666666666666666,
              "#ed7953"
             ],
             [
              0.7777777777777778,
              "#fb9f3a"
             ],
             [
              0.8888888888888888,
              "#fdca26"
             ],
             [
              1,
              "#f0f921"
             ]
            ],
            "type": "heatmapgl"
           }
          ],
          "histogram": [
           {
            "marker": {
             "pattern": {
              "fillmode": "overlay",
              "size": 10,
              "solidity": 0.2
             }
            },
            "type": "histogram"
           }
          ],
          "histogram2d": [
           {
            "colorbar": {
             "outlinewidth": 0,
             "ticks": ""
            },
            "colorscale": [
             [
              0,
              "#0d0887"
             ],
             [
              0.1111111111111111,
              "#46039f"
             ],
             [
              0.2222222222222222,
              "#7201a8"
             ],
             [
              0.3333333333333333,
              "#9c179e"
             ],
             [
              0.4444444444444444,
              "#bd3786"
             ],
             [
              0.5555555555555556,
              "#d8576b"
             ],
             [
              0.6666666666666666,
              "#ed7953"
             ],
             [
              0.7777777777777778,
              "#fb9f3a"
             ],
             [
              0.8888888888888888,
              "#fdca26"
             ],
             [
              1,
              "#f0f921"
             ]
            ],
            "type": "histogram2d"
           }
          ],
          "histogram2dcontour": [
           {
            "colorbar": {
             "outlinewidth": 0,
             "ticks": ""
            },
            "colorscale": [
             [
              0,
              "#0d0887"
             ],
             [
              0.1111111111111111,
              "#46039f"
             ],
             [
              0.2222222222222222,
              "#7201a8"
             ],
             [
              0.3333333333333333,
              "#9c179e"
             ],
             [
              0.4444444444444444,
              "#bd3786"
             ],
             [
              0.5555555555555556,
              "#d8576b"
             ],
             [
              0.6666666666666666,
              "#ed7953"
             ],
             [
              0.7777777777777778,
              "#fb9f3a"
             ],
             [
              0.8888888888888888,
              "#fdca26"
             ],
             [
              1,
              "#f0f921"
             ]
            ],
            "type": "histogram2dcontour"
           }
          ],
          "mesh3d": [
           {
            "colorbar": {
             "outlinewidth": 0,
             "ticks": ""
            },
            "type": "mesh3d"
           }
          ],
          "parcoords": [
           {
            "line": {
             "colorbar": {
              "outlinewidth": 0,
              "ticks": ""
             }
            },
            "type": "parcoords"
           }
          ],
          "pie": [
           {
            "automargin": true,
            "type": "pie"
           }
          ],
          "scatter": [
           {
            "marker": {
             "colorbar": {
              "outlinewidth": 0,
              "ticks": ""
             }
            },
            "type": "scatter"
           }
          ],
          "scatter3d": [
           {
            "line": {
             "colorbar": {
              "outlinewidth": 0,
              "ticks": ""
             }
            },
            "marker": {
             "colorbar": {
              "outlinewidth": 0,
              "ticks": ""
             }
            },
            "type": "scatter3d"
           }
          ],
          "scattercarpet": [
           {
            "marker": {
             "colorbar": {
              "outlinewidth": 0,
              "ticks": ""
             }
            },
            "type": "scattercarpet"
           }
          ],
          "scattergeo": [
           {
            "marker": {
             "colorbar": {
              "outlinewidth": 0,
              "ticks": ""
             }
            },
            "type": "scattergeo"
           }
          ],
          "scattergl": [
           {
            "marker": {
             "colorbar": {
              "outlinewidth": 0,
              "ticks": ""
             }
            },
            "type": "scattergl"
           }
          ],
          "scattermapbox": [
           {
            "marker": {
             "colorbar": {
              "outlinewidth": 0,
              "ticks": ""
             }
            },
            "type": "scattermapbox"
           }
          ],
          "scatterpolar": [
           {
            "marker": {
             "colorbar": {
              "outlinewidth": 0,
              "ticks": ""
             }
            },
            "type": "scatterpolar"
           }
          ],
          "scatterpolargl": [
           {
            "marker": {
             "colorbar": {
              "outlinewidth": 0,
              "ticks": ""
             }
            },
            "type": "scatterpolargl"
           }
          ],
          "scatterternary": [
           {
            "marker": {
             "colorbar": {
              "outlinewidth": 0,
              "ticks": ""
             }
            },
            "type": "scatterternary"
           }
          ],
          "surface": [
           {
            "colorbar": {
             "outlinewidth": 0,
             "ticks": ""
            },
            "colorscale": [
             [
              0,
              "#0d0887"
             ],
             [
              0.1111111111111111,
              "#46039f"
             ],
             [
              0.2222222222222222,
              "#7201a8"
             ],
             [
              0.3333333333333333,
              "#9c179e"
             ],
             [
              0.4444444444444444,
              "#bd3786"
             ],
             [
              0.5555555555555556,
              "#d8576b"
             ],
             [
              0.6666666666666666,
              "#ed7953"
             ],
             [
              0.7777777777777778,
              "#fb9f3a"
             ],
             [
              0.8888888888888888,
              "#fdca26"
             ],
             [
              1,
              "#f0f921"
             ]
            ],
            "type": "surface"
           }
          ],
          "table": [
           {
            "cells": {
             "fill": {
              "color": "#EBF0F8"
             },
             "line": {
              "color": "white"
             }
            },
            "header": {
             "fill": {
              "color": "#C8D4E3"
             },
             "line": {
              "color": "white"
             }
            },
            "type": "table"
           }
          ]
         },
         "layout": {
          "annotationdefaults": {
           "arrowcolor": "#2a3f5f",
           "arrowhead": 0,
           "arrowwidth": 1
          },
          "autotypenumbers": "strict",
          "coloraxis": {
           "colorbar": {
            "outlinewidth": 0,
            "ticks": ""
           }
          },
          "colorscale": {
           "diverging": [
            [
             0,
             "#8e0152"
            ],
            [
             0.1,
             "#c51b7d"
            ],
            [
             0.2,
             "#de77ae"
            ],
            [
             0.3,
             "#f1b6da"
            ],
            [
             0.4,
             "#fde0ef"
            ],
            [
             0.5,
             "#f7f7f7"
            ],
            [
             0.6,
             "#e6f5d0"
            ],
            [
             0.7,
             "#b8e186"
            ],
            [
             0.8,
             "#7fbc41"
            ],
            [
             0.9,
             "#4d9221"
            ],
            [
             1,
             "#276419"
            ]
           ],
           "sequential": [
            [
             0,
             "#0d0887"
            ],
            [
             0.1111111111111111,
             "#46039f"
            ],
            [
             0.2222222222222222,
             "#7201a8"
            ],
            [
             0.3333333333333333,
             "#9c179e"
            ],
            [
             0.4444444444444444,
             "#bd3786"
            ],
            [
             0.5555555555555556,
             "#d8576b"
            ],
            [
             0.6666666666666666,
             "#ed7953"
            ],
            [
             0.7777777777777778,
             "#fb9f3a"
            ],
            [
             0.8888888888888888,
             "#fdca26"
            ],
            [
             1,
             "#f0f921"
            ]
           ],
           "sequentialminus": [
            [
             0,
             "#0d0887"
            ],
            [
             0.1111111111111111,
             "#46039f"
            ],
            [
             0.2222222222222222,
             "#7201a8"
            ],
            [
             0.3333333333333333,
             "#9c179e"
            ],
            [
             0.4444444444444444,
             "#bd3786"
            ],
            [
             0.5555555555555556,
             "#d8576b"
            ],
            [
             0.6666666666666666,
             "#ed7953"
            ],
            [
             0.7777777777777778,
             "#fb9f3a"
            ],
            [
             0.8888888888888888,
             "#fdca26"
            ],
            [
             1,
             "#f0f921"
            ]
           ]
          },
          "colorway": [
           "#636efa",
           "#EF553B",
           "#00cc96",
           "#ab63fa",
           "#FFA15A",
           "#19d3f3",
           "#FF6692",
           "#B6E880",
           "#FF97FF",
           "#FECB52"
          ],
          "font": {
           "color": "#2a3f5f"
          },
          "geo": {
           "bgcolor": "white",
           "lakecolor": "white",
           "landcolor": "#E5ECF6",
           "showlakes": true,
           "showland": true,
           "subunitcolor": "white"
          },
          "hoverlabel": {
           "align": "left"
          },
          "hovermode": "closest",
          "mapbox": {
           "style": "light"
          },
          "paper_bgcolor": "white",
          "plot_bgcolor": "#E5ECF6",
          "polar": {
           "angularaxis": {
            "gridcolor": "white",
            "linecolor": "white",
            "ticks": ""
           },
           "bgcolor": "#E5ECF6",
           "radialaxis": {
            "gridcolor": "white",
            "linecolor": "white",
            "ticks": ""
           }
          },
          "scene": {
           "xaxis": {
            "backgroundcolor": "#E5ECF6",
            "gridcolor": "white",
            "gridwidth": 2,
            "linecolor": "white",
            "showbackground": true,
            "ticks": "",
            "zerolinecolor": "white"
           },
           "yaxis": {
            "backgroundcolor": "#E5ECF6",
            "gridcolor": "white",
            "gridwidth": 2,
            "linecolor": "white",
            "showbackground": true,
            "ticks": "",
            "zerolinecolor": "white"
           },
           "zaxis": {
            "backgroundcolor": "#E5ECF6",
            "gridcolor": "white",
            "gridwidth": 2,
            "linecolor": "white",
            "showbackground": true,
            "ticks": "",
            "zerolinecolor": "white"
           }
          },
          "shapedefaults": {
           "line": {
            "color": "#2a3f5f"
           }
          },
          "ternary": {
           "aaxis": {
            "gridcolor": "white",
            "linecolor": "white",
            "ticks": ""
           },
           "baxis": {
            "gridcolor": "white",
            "linecolor": "white",
            "ticks": ""
           },
           "bgcolor": "#E5ECF6",
           "caxis": {
            "gridcolor": "white",
            "linecolor": "white",
            "ticks": ""
           }
          },
          "title": {
           "x": 0.05
          },
          "xaxis": {
           "automargin": true,
           "gridcolor": "white",
           "linecolor": "white",
           "ticks": "",
           "title": {
            "standoff": 15
           },
           "zerolinecolor": "white",
           "zerolinewidth": 2
          },
          "yaxis": {
           "automargin": true,
           "gridcolor": "white",
           "linecolor": "white",
           "ticks": "",
           "title": {
            "standoff": 15
           },
           "zerolinecolor": "white",
           "zerolinewidth": 2
          }
         }
        },
        "title": {
         "font": {
          "color": "#4D5663"
         }
        },
        "xaxis": {
         "gridcolor": "#E1E5ED",
         "showgrid": true,
         "tickfont": {
          "color": "#4D5663"
         },
         "title": {
          "font": {
           "color": "#4D5663"
          },
          "text": ""
         },
         "zerolinecolor": "#E1E5ED"
        },
        "yaxis": {
         "gridcolor": "#E1E5ED",
         "showgrid": true,
         "tickfont": {
          "color": "#4D5663"
         },
         "title": {
          "font": {
           "color": "#4D5663"
          },
          "text": ""
         },
         "zerolinecolor": "#E1E5ED"
        }
       }
      },
      "text/html": [
       "<div>                            <div id=\"6e285607-26d1-4d79-adbd-03925fe07a1f\" class=\"plotly-graph-div\" style=\"height:525px; width:100%;\"></div>            <script type=\"text/javascript\">                require([\"plotly\"], function(Plotly) {                    window.PLOTLYENV=window.PLOTLYENV || {};\n",
       "                    window.PLOTLYENV.BASE_URL='https://plot.ly';                                    if (document.getElementById(\"6e285607-26d1-4d79-adbd-03925fe07a1f\")) {                    Plotly.newPlot(                        \"6e285607-26d1-4d79-adbd-03925fe07a1f\",                        [{\"marker\":{\"color\":\"rgba(255, 153, 51, 0.6)\",\"line\":{\"color\":\"rgba(255, 153, 51, 1.0)\",\"width\":1}},\"name\":\"None\",\"orientation\":\"v\",\"text\":\"\",\"x\":[\"A\",\"B\",\"C\",\"D\"],\"y\":[100,100,100,100],\"type\":\"bar\"}],                        {\"legend\":{\"bgcolor\":\"#F5F6F9\",\"font\":{\"color\":\"#4D5663\"}},\"paper_bgcolor\":\"#F5F6F9\",\"plot_bgcolor\":\"#F5F6F9\",\"template\":{\"data\":{\"barpolar\":[{\"marker\":{\"line\":{\"color\":\"#E5ECF6\",\"width\":0.5},\"pattern\":{\"fillmode\":\"overlay\",\"size\":10,\"solidity\":0.2}},\"type\":\"barpolar\"}],\"bar\":[{\"error_x\":{\"color\":\"#2a3f5f\"},\"error_y\":{\"color\":\"#2a3f5f\"},\"marker\":{\"line\":{\"color\":\"#E5ECF6\",\"width\":0.5},\"pattern\":{\"fillmode\":\"overlay\",\"size\":10,\"solidity\":0.2}},\"type\":\"bar\"}],\"carpet\":[{\"aaxis\":{\"endlinecolor\":\"#2a3f5f\",\"gridcolor\":\"white\",\"linecolor\":\"white\",\"minorgridcolor\":\"white\",\"startlinecolor\":\"#2a3f5f\"},\"baxis\":{\"endlinecolor\":\"#2a3f5f\",\"gridcolor\":\"white\",\"linecolor\":\"white\",\"minorgridcolor\":\"white\",\"startlinecolor\":\"#2a3f5f\"},\"type\":\"carpet\"}],\"choropleth\":[{\"colorbar\":{\"outlinewidth\":0,\"ticks\":\"\"},\"type\":\"choropleth\"}],\"contourcarpet\":[{\"colorbar\":{\"outlinewidth\":0,\"ticks\":\"\"},\"type\":\"contourcarpet\"}],\"contour\":[{\"colorbar\":{\"outlinewidth\":0,\"ticks\":\"\"},\"colorscale\":[[0.0,\"#0d0887\"],[0.1111111111111111,\"#46039f\"],[0.2222222222222222,\"#7201a8\"],[0.3333333333333333,\"#9c179e\"],[0.4444444444444444,\"#bd3786\"],[0.5555555555555556,\"#d8576b\"],[0.6666666666666666,\"#ed7953\"],[0.7777777777777778,\"#fb9f3a\"],[0.8888888888888888,\"#fdca26\"],[1.0,\"#f0f921\"]],\"type\":\"contour\"}],\"heatmapgl\":[{\"colorbar\":{\"outlinewidth\":0,\"ticks\":\"\"},\"colorscale\":[[0.0,\"#0d0887\"],[0.1111111111111111,\"#46039f\"],[0.2222222222222222,\"#7201a8\"],[0.3333333333333333,\"#9c179e\"],[0.4444444444444444,\"#bd3786\"],[0.5555555555555556,\"#d8576b\"],[0.6666666666666666,\"#ed7953\"],[0.7777777777777778,\"#fb9f3a\"],[0.8888888888888888,\"#fdca26\"],[1.0,\"#f0f921\"]],\"type\":\"heatmapgl\"}],\"heatmap\":[{\"colorbar\":{\"outlinewidth\":0,\"ticks\":\"\"},\"colorscale\":[[0.0,\"#0d0887\"],[0.1111111111111111,\"#46039f\"],[0.2222222222222222,\"#7201a8\"],[0.3333333333333333,\"#9c179e\"],[0.4444444444444444,\"#bd3786\"],[0.5555555555555556,\"#d8576b\"],[0.6666666666666666,\"#ed7953\"],[0.7777777777777778,\"#fb9f3a\"],[0.8888888888888888,\"#fdca26\"],[1.0,\"#f0f921\"]],\"type\":\"heatmap\"}],\"histogram2dcontour\":[{\"colorbar\":{\"outlinewidth\":0,\"ticks\":\"\"},\"colorscale\":[[0.0,\"#0d0887\"],[0.1111111111111111,\"#46039f\"],[0.2222222222222222,\"#7201a8\"],[0.3333333333333333,\"#9c179e\"],[0.4444444444444444,\"#bd3786\"],[0.5555555555555556,\"#d8576b\"],[0.6666666666666666,\"#ed7953\"],[0.7777777777777778,\"#fb9f3a\"],[0.8888888888888888,\"#fdca26\"],[1.0,\"#f0f921\"]],\"type\":\"histogram2dcontour\"}],\"histogram2d\":[{\"colorbar\":{\"outlinewidth\":0,\"ticks\":\"\"},\"colorscale\":[[0.0,\"#0d0887\"],[0.1111111111111111,\"#46039f\"],[0.2222222222222222,\"#7201a8\"],[0.3333333333333333,\"#9c179e\"],[0.4444444444444444,\"#bd3786\"],[0.5555555555555556,\"#d8576b\"],[0.6666666666666666,\"#ed7953\"],[0.7777777777777778,\"#fb9f3a\"],[0.8888888888888888,\"#fdca26\"],[1.0,\"#f0f921\"]],\"type\":\"histogram2d\"}],\"histogram\":[{\"marker\":{\"pattern\":{\"fillmode\":\"overlay\",\"size\":10,\"solidity\":0.2}},\"type\":\"histogram\"}],\"mesh3d\":[{\"colorbar\":{\"outlinewidth\":0,\"ticks\":\"\"},\"type\":\"mesh3d\"}],\"parcoords\":[{\"line\":{\"colorbar\":{\"outlinewidth\":0,\"ticks\":\"\"}},\"type\":\"parcoords\"}],\"pie\":[{\"automargin\":true,\"type\":\"pie\"}],\"scatter3d\":[{\"line\":{\"colorbar\":{\"outlinewidth\":0,\"ticks\":\"\"}},\"marker\":{\"colorbar\":{\"outlinewidth\":0,\"ticks\":\"\"}},\"type\":\"scatter3d\"}],\"scattercarpet\":[{\"marker\":{\"colorbar\":{\"outlinewidth\":0,\"ticks\":\"\"}},\"type\":\"scattercarpet\"}],\"scattergeo\":[{\"marker\":{\"colorbar\":{\"outlinewidth\":0,\"ticks\":\"\"}},\"type\":\"scattergeo\"}],\"scattergl\":[{\"marker\":{\"colorbar\":{\"outlinewidth\":0,\"ticks\":\"\"}},\"type\":\"scattergl\"}],\"scattermapbox\":[{\"marker\":{\"colorbar\":{\"outlinewidth\":0,\"ticks\":\"\"}},\"type\":\"scattermapbox\"}],\"scatterpolargl\":[{\"marker\":{\"colorbar\":{\"outlinewidth\":0,\"ticks\":\"\"}},\"type\":\"scatterpolargl\"}],\"scatterpolar\":[{\"marker\":{\"colorbar\":{\"outlinewidth\":0,\"ticks\":\"\"}},\"type\":\"scatterpolar\"}],\"scatter\":[{\"marker\":{\"colorbar\":{\"outlinewidth\":0,\"ticks\":\"\"}},\"type\":\"scatter\"}],\"scatterternary\":[{\"marker\":{\"colorbar\":{\"outlinewidth\":0,\"ticks\":\"\"}},\"type\":\"scatterternary\"}],\"surface\":[{\"colorbar\":{\"outlinewidth\":0,\"ticks\":\"\"},\"colorscale\":[[0.0,\"#0d0887\"],[0.1111111111111111,\"#46039f\"],[0.2222222222222222,\"#7201a8\"],[0.3333333333333333,\"#9c179e\"],[0.4444444444444444,\"#bd3786\"],[0.5555555555555556,\"#d8576b\"],[0.6666666666666666,\"#ed7953\"],[0.7777777777777778,\"#fb9f3a\"],[0.8888888888888888,\"#fdca26\"],[1.0,\"#f0f921\"]],\"type\":\"surface\"}],\"table\":[{\"cells\":{\"fill\":{\"color\":\"#EBF0F8\"},\"line\":{\"color\":\"white\"}},\"header\":{\"fill\":{\"color\":\"#C8D4E3\"},\"line\":{\"color\":\"white\"}},\"type\":\"table\"}]},\"layout\":{\"annotationdefaults\":{\"arrowcolor\":\"#2a3f5f\",\"arrowhead\":0,\"arrowwidth\":1},\"autotypenumbers\":\"strict\",\"coloraxis\":{\"colorbar\":{\"outlinewidth\":0,\"ticks\":\"\"}},\"colorscale\":{\"diverging\":[[0,\"#8e0152\"],[0.1,\"#c51b7d\"],[0.2,\"#de77ae\"],[0.3,\"#f1b6da\"],[0.4,\"#fde0ef\"],[0.5,\"#f7f7f7\"],[0.6,\"#e6f5d0\"],[0.7,\"#b8e186\"],[0.8,\"#7fbc41\"],[0.9,\"#4d9221\"],[1,\"#276419\"]],\"sequential\":[[0.0,\"#0d0887\"],[0.1111111111111111,\"#46039f\"],[0.2222222222222222,\"#7201a8\"],[0.3333333333333333,\"#9c179e\"],[0.4444444444444444,\"#bd3786\"],[0.5555555555555556,\"#d8576b\"],[0.6666666666666666,\"#ed7953\"],[0.7777777777777778,\"#fb9f3a\"],[0.8888888888888888,\"#fdca26\"],[1.0,\"#f0f921\"]],\"sequentialminus\":[[0.0,\"#0d0887\"],[0.1111111111111111,\"#46039f\"],[0.2222222222222222,\"#7201a8\"],[0.3333333333333333,\"#9c179e\"],[0.4444444444444444,\"#bd3786\"],[0.5555555555555556,\"#d8576b\"],[0.6666666666666666,\"#ed7953\"],[0.7777777777777778,\"#fb9f3a\"],[0.8888888888888888,\"#fdca26\"],[1.0,\"#f0f921\"]]},\"colorway\":[\"#636efa\",\"#EF553B\",\"#00cc96\",\"#ab63fa\",\"#FFA15A\",\"#19d3f3\",\"#FF6692\",\"#B6E880\",\"#FF97FF\",\"#FECB52\"],\"font\":{\"color\":\"#2a3f5f\"},\"geo\":{\"bgcolor\":\"white\",\"lakecolor\":\"white\",\"landcolor\":\"#E5ECF6\",\"showlakes\":true,\"showland\":true,\"subunitcolor\":\"white\"},\"hoverlabel\":{\"align\":\"left\"},\"hovermode\":\"closest\",\"mapbox\":{\"style\":\"light\"},\"paper_bgcolor\":\"white\",\"plot_bgcolor\":\"#E5ECF6\",\"polar\":{\"angularaxis\":{\"gridcolor\":\"white\",\"linecolor\":\"white\",\"ticks\":\"\"},\"bgcolor\":\"#E5ECF6\",\"radialaxis\":{\"gridcolor\":\"white\",\"linecolor\":\"white\",\"ticks\":\"\"}},\"scene\":{\"xaxis\":{\"backgroundcolor\":\"#E5ECF6\",\"gridcolor\":\"white\",\"gridwidth\":2,\"linecolor\":\"white\",\"showbackground\":true,\"ticks\":\"\",\"zerolinecolor\":\"white\"},\"yaxis\":{\"backgroundcolor\":\"#E5ECF6\",\"gridcolor\":\"white\",\"gridwidth\":2,\"linecolor\":\"white\",\"showbackground\":true,\"ticks\":\"\",\"zerolinecolor\":\"white\"},\"zaxis\":{\"backgroundcolor\":\"#E5ECF6\",\"gridcolor\":\"white\",\"gridwidth\":2,\"linecolor\":\"white\",\"showbackground\":true,\"ticks\":\"\",\"zerolinecolor\":\"white\"}},\"shapedefaults\":{\"line\":{\"color\":\"#2a3f5f\"}},\"ternary\":{\"aaxis\":{\"gridcolor\":\"white\",\"linecolor\":\"white\",\"ticks\":\"\"},\"baxis\":{\"gridcolor\":\"white\",\"linecolor\":\"white\",\"ticks\":\"\"},\"bgcolor\":\"#E5ECF6\",\"caxis\":{\"gridcolor\":\"white\",\"linecolor\":\"white\",\"ticks\":\"\"}},\"title\":{\"x\":0.05},\"xaxis\":{\"automargin\":true,\"gridcolor\":\"white\",\"linecolor\":\"white\",\"ticks\":\"\",\"title\":{\"standoff\":15},\"zerolinecolor\":\"white\",\"zerolinewidth\":2},\"yaxis\":{\"automargin\":true,\"gridcolor\":\"white\",\"linecolor\":\"white\",\"ticks\":\"\",\"title\":{\"standoff\":15},\"zerolinecolor\":\"white\",\"zerolinewidth\":2}}},\"title\":{\"font\":{\"color\":\"#4D5663\"}},\"xaxis\":{\"gridcolor\":\"#E1E5ED\",\"showgrid\":true,\"tickfont\":{\"color\":\"#4D5663\"},\"title\":{\"font\":{\"color\":\"#4D5663\"},\"text\":\"\"},\"zerolinecolor\":\"#E1E5ED\"},\"yaxis\":{\"gridcolor\":\"#E1E5ED\",\"showgrid\":true,\"tickfont\":{\"color\":\"#4D5663\"},\"title\":{\"font\":{\"color\":\"#4D5663\"},\"text\":\"\"},\"zerolinecolor\":\"#E1E5ED\"}},                        {\"showLink\": true, \"linkText\": \"Export to plot.ly\", \"plotlyServerURL\": \"https://plot.ly\", \"responsive\": true}                    ).then(function(){\n",
       "                            \n",
       "var gd = document.getElementById('6e285607-26d1-4d79-adbd-03925fe07a1f');\n",
       "var x = new MutationObserver(function (mutations, observer) {{\n",
       "        var display = window.getComputedStyle(gd).display;\n",
       "        if (!display || display === 'none') {{\n",
       "            console.log([gd, 'removed!']);\n",
       "            Plotly.purge(gd);\n",
       "            observer.disconnect();\n",
       "        }}\n",
       "}});\n",
       "\n",
       "// Listen for the removal of the full notebook cells\n",
       "var notebookContainer = gd.closest('#notebook-container');\n",
       "if (notebookContainer) {{\n",
       "    x.observe(notebookContainer, {childList: true});\n",
       "}}\n",
       "\n",
       "// Listen for the clearing of the current output cell\n",
       "var outputEl = gd.closest('.output');\n",
       "if (outputEl) {{\n",
       "    x.observe(outputEl, {childList: true});\n",
       "}}\n",
       "\n",
       "                        })                };                });            </script>        </div>"
      ]
     },
     "metadata": {},
     "output_type": "display_data"
    }
   ],
   "source": [
    "df.count().iplot(kind='bar')"
   ]
  },
  {
   "cell_type": "markdown",
   "id": "cad1ed78",
   "metadata": {},
   "source": [
    "## Boxplots"
   ]
  },
  {
   "cell_type": "code",
   "execution_count": 13,
   "id": "f3af819e",
   "metadata": {},
   "outputs": [
    {
     "data": {
      "application/vnd.plotly.v1+json": {
       "config": {
        "linkText": "Export to plot.ly",
        "plotlyServerURL": "https://plot.ly",
        "showLink": true
       },
       "data": [
        {
         "boxpoints": false,
         "line": {
          "width": 1.3
         },
         "marker": {
          "color": "rgba(255, 153, 51, 1.0)"
         },
         "name": "A",
         "orientation": "v",
         "type": "box",
         "y": [
          0.18949412131357618,
          -0.4394056773665876,
          1.5235003132506255,
          0.03645250031559109,
          -0.48017680332678986,
          -0.32940801574654444,
          -0.8336585198060829,
          2.1104829932351987,
          -2.1774759403114543,
          -1.4552810678704107,
          -0.3946340137520746,
          -0.7958997396105878,
          -2.1941249569910184,
          -0.3186755756858305,
          -1.0762861726059367,
          0.5160715236107142,
          0.5354240028958203,
          0.24474634754970445,
          2.1593382645363524,
          -2.459688200120283,
          2.2033163680127856,
          0.12741013120035052,
          -0.7426413044529445,
          -0.708915270693794,
          -1.7366906383070453,
          -0.3278091707347793,
          -0.019161214804460824,
          -0.10350391076144248,
          0.443003384937299,
          -0.3021624753184853,
          -0.26540709330297957,
          1.1177682728198786,
          -0.6555808314273678,
          -2.0513962145269367,
          -0.007283680343075513,
          -1.7345390153967326,
          0.6526293553788296,
          0.8797043755381333,
          -0.40446628152172,
          0.40015659679998383,
          1.3501402445869597,
          -1.681402939901821,
          0.37687631215522416,
          1.530406066859981,
          0.27376913231487043,
          0.11859151200966923,
          0.18998151104134484,
          1.239771620051365,
          -0.013067258817813692,
          -0.4342760602897146,
          -0.22768423864144938,
          -0.08712007886114415,
          -1.3953429851893069,
          -1.1346627058287775,
          1.717402994668382,
          -0.8202332848774089,
          -0.4210331992705946,
          -0.06266365801889973,
          -0.1076343228449331,
          -0.46753029808332414,
          0.465339121662231,
          0.05686260034364659,
          0.6689353752755711,
          -1.3749096285081572,
          1.0644486040242718,
          1.0029108097495154,
          -0.4756234878591175,
          -0.7573283389084694,
          1.553314742784835,
          0.9327235406491218,
          -0.5432611240893911,
          0.9375595028153989,
          0.6479726183862607,
          -1.6193215495623614,
          0.42468213572515945,
          0.4442854952443643,
          -0.4430216955740655,
          -0.3313723025358653,
          -0.5164036122879947,
          -0.1426294244580413,
          0.34861880298974646,
          2.491239497816553,
          -1.2708676958205198,
          1.2439173121325637,
          -0.2531066585596569,
          0.3986080862101964,
          1.559031756752641,
          -0.8451994271388271,
          0.6244513110895351,
          -0.20836122736152812,
          -1.5593960284306796,
          1.0027652648558283,
          0.6678453706840629,
          0.9019731286521746,
          0.49217666164481805,
          -0.2537409869513799,
          0.7236090940111436,
          0.046759497044002236,
          -0.5975669662202538,
          -0.78915850866316
         ]
        },
        {
         "boxpoints": false,
         "line": {
          "width": 1.3
         },
         "marker": {
          "color": "rgba(55, 128, 191, 1.0)"
         },
         "name": "B",
         "orientation": "v",
         "type": "box",
         "y": [
          -0.3837044654152856,
          0.795222058544091,
          -1.088639124538044,
          1.2717431343417127,
          -0.425142084846673,
          0.064182302033947,
          1.4362888057989984,
          -0.1500476658943807,
          -1.5718151705858465,
          -1.1951812086435607,
          0.22860843548074822,
          -0.12492214308168757,
          -0.2867367492193972,
          -0.5736239558678975,
          1.389341530883104,
          -0.6861898267335519,
          -1.5311373341612782,
          -0.8512089705281984,
          -1.4559541518556975,
          -1.1001623087846037,
          0.8979100173243162,
          0.12116953775102157,
          0.008534083166311771,
          0.8564629305816837,
          -0.5811640716666194,
          -1.2080292257019134,
          -0.2349761867338796,
          0.5544460777568961,
          -1.0713239222958086,
          -0.5880653881769333,
          1.455833425930843,
          1.798690383630041,
          -0.33646470904540654,
          -0.3672634840646152,
          -1.172864741624129,
          0.5837329271770997,
          -2.2382359822608637,
          0.18016433857511283,
          0.9536368045497337,
          -1.0800463778552765,
          -0.8317221994239206,
          1.282796438795336,
          -0.29336799070174174,
          0.15886220818261743,
          0.38201782187711153,
          1.4359852720915571,
          0.12325985697339818,
          -1.2571112124983932,
          -0.6820456832743963,
          0.6549877845727778,
          1.7480017358816617,
          -0.417778286260563,
          -1.6706045656026176,
          -0.32449160626856594,
          0.04941441532003659,
          1.2301955880270588,
          0.5549576648122474,
          0.5087348321498013,
          -0.5251299669479592,
          -0.7226843478772803,
          2.166721876878339,
          1.1802593126083956,
          -1.538186484092452,
          -0.9373214000293492,
          2.507394228500375,
          1.1453156950783623,
          -0.3900336491592565,
          -1.2294025551628793,
          0.047153263572624386,
          -1.4132468018414466,
          -0.2490684669524338,
          -0.049467689607492635,
          0.32500434009912604,
          2.3848744017153285,
          1.5072496221876714,
          2.3374311490664765,
          0.24765502883674623,
          0.24345434946978872,
          -1.0754295259055462,
          -0.9253517607585953,
          -0.23061561620756169,
          0.9122603763478071,
          0.07761133731595166,
          -1.9670718895477557,
          0.7909040382082345,
          -1.164107142015901,
          -1.3600341936072617,
          1.0761877070356076,
          0.5910801172299857,
          -2.4683912167831474,
          0.9391003487905739,
          0.5833264172434889,
          0.7708157024485347,
          -0.5097944025738771,
          -1.1535830779289729,
          1.7235455685820171,
          2.0515347554626917,
          0.5810028348635923,
          -1.5039588573849996,
          1.1202156895522468
         ]
        },
        {
         "boxpoints": false,
         "line": {
          "width": 1.3
         },
         "marker": {
          "color": "rgba(50, 171, 96, 1.0)"
         },
         "name": "C",
         "orientation": "v",
         "type": "box",
         "y": [
          -0.1743984965453827,
          -1.4541612208234012,
          0.6956792937079929,
          -1.3001320960993383,
          0.08431046689444055,
          -0.5458234646004246,
          -1.703734496705612,
          -0.46667383632587456,
          0.20168534651158843,
          0.05180078694254984,
          0.15009120689135705,
          0.38155320389086794,
          0.6201617773498148,
          -0.4180523651246814,
          0.7465449715988128,
          -1.5936716550582053,
          -0.10284790666830117,
          0.1093592149806783,
          -0.4298179966107576,
          0.09036264294289752,
          0.88687423729422,
          -0.38701666121889466,
          -1.0138165027078039,
          -0.5657807458054585,
          -1.0828115788453545,
          0.9840254154931339,
          0.8093741156203169,
          0.12057650292945947,
          0.5547869447555124,
          0.6922370792655054,
          -0.5648301884075914,
          0.36231458268424105,
          1.0810279703817096,
          1.8783153100153525,
          -0.7214684504748133,
          0.8184542416070196,
          1.096285275446509,
          0.6401790065862915,
          1.4549111285078231,
          0.8458116106046145,
          0.919572265392668,
          1.1301903192078682,
          -0.7698555448986697,
          0.6254893169467595,
          -1.3257760372158236,
          -0.2978156236899048,
          0.37394743471698133,
          1.5331566652250095,
          -0.4979914851761903,
          0.7517118709648927,
          1.3509690362061804,
          0.5011967657164128,
          0.709739359148568,
          0.06810356319394323,
          -0.7831965307456421,
          -0.5340021787086153,
          -0.7865627285734942,
          0.3601143418103425,
          1.4254633444799054,
          1.3194723968147113,
          -0.6219733375028738,
          -0.4706692397260293,
          0.6494971062647076,
          1.333836418289274,
          -0.3925211802671113,
          1.1114167342804335,
          -0.48266044723498785,
          -0.5756884715412415,
          -1.451963627424044,
          -0.5966415531473441,
          1.2736827262182808,
          0.056729781593075346,
          -1.4022876205319186,
          1.0641058394292497,
          -1.632548685431701,
          1.0282791458538627,
          0.9735252234678213,
          0.6731261725235531,
          0.6663790123138237,
          1.0458060866394234,
          -1.1139971857239725,
          2.6482697572989817,
          -0.24221257551688724,
          -0.592224532882951,
          1.555402285699256,
          0.031033396716787728,
          -0.8779461708583994,
          -0.05179952540035406,
          -0.06526260702897788,
          -0.3548763030095997,
          0.8274228665667456,
          0.3096308840511436,
          -0.9984340067990453,
          0.2944126067059136,
          0.27777425546051143,
          -0.480142482489268,
          0.4976614774521355,
          0.4236071706861531,
          -1.064383297804024,
          -0.03328662450382397
         ]
        },
        {
         "boxpoints": false,
         "line": {
          "width": 1.3
         },
         "marker": {
          "color": "rgba(128, 0, 128, 1.0)"
         },
         "name": "D",
         "orientation": "v",
         "type": "box",
         "y": [
          -0.20780585649318675,
          -0.14819604288381694,
          1.0885503128334055,
          1.5690761380859866,
          -0.2057701688271447,
          0.528517647224014,
          0.49489867431198065,
          0.3694870943340224,
          0.8504456511047962,
          0.6218097729257264,
          1.183537873615913,
          -1.412343100279427,
          -0.20388098639815003,
          1.3209211160041237,
          -0.8667287175928398,
          -1.6022715397568477,
          -0.22533705662048342,
          -0.41925862395025637,
          -0.7702343824721343,
          1.3335634594021377,
          0.8915349281178668,
          -1.9036354831030342,
          -0.12427220329691722,
          -0.8855772700058713,
          -0.22962601620657463,
          -0.07456838767647804,
          -0.01297547207565747,
          -0.05013017019035424,
          -1.2079982388712291,
          -1.4271558878113708,
          0.4691611383451397,
          -0.28246806140803854,
          -0.7564171061978776,
          0.9458537409105416,
          -0.12157386355688268,
          -1.5771587088527448,
          -0.4771802703564047,
          -0.6920394639249958,
          1.6657363893397388,
          -0.4420391031877735,
          -1.0794640013897456,
          1.8183490354095484,
          0.46595654679141907,
          -0.5011736995656421,
          0.895642453466898,
          0.9178866835622075,
          -1.046408578337546,
          0.1462439640318665,
          0.847776063439936,
          0.5846608026272584,
          0.4352243063077864,
          1.5108645572772388,
          0.6495566241763885,
          -0.5507503599029776,
          1.0043465834358691,
          1.5139187503807083,
          -0.9450550704795724,
          -1.3698838965232643,
          0.6342868982920584,
          -1.7822121192781268,
          0.2139531047420393,
          -0.7081121135552167,
          -0.38465236055835333,
          -2.2460330504270942,
          0.6188661266419923,
          1.8445435923545408,
          0.2883225048009735,
          0.9123788041289154,
          -1.1604115329406108,
          -1.4841011626780298,
          0.5628193476873323,
          -0.7349117807171268,
          0.11920582506622426,
          0.5905073967313906,
          -0.48928493347902163,
          2.774402057543939,
          -0.7273081733755475,
          0.2958714729279786,
          0.4398411171858982,
          -0.13312101574758703,
          0.11749928614535977,
          0.1232784763904203,
          0.4980966126639828,
          0.22382405626046578,
          2.6016338790283853,
          -0.6436340585499764,
          -1.254990990021013,
          0.4543785021609926,
          -1.306189514444256,
          0.34856842350078515,
          -0.6294405154267875,
          -2.5030458807207685,
          0.561475266139338,
          1.7014026293955336,
          0.012306602310616718,
          -0.4696968504587055,
          1.8164578476490285,
          1.0592720945516634,
          -0.9962321498291724,
          0.9668986029652397
         ]
        }
       ],
       "layout": {
        "legend": {
         "bgcolor": "#F5F6F9",
         "font": {
          "color": "#4D5663"
         }
        },
        "paper_bgcolor": "#F5F6F9",
        "plot_bgcolor": "#F5F6F9",
        "template": {
         "data": {
          "bar": [
           {
            "error_x": {
             "color": "#2a3f5f"
            },
            "error_y": {
             "color": "#2a3f5f"
            },
            "marker": {
             "line": {
              "color": "#E5ECF6",
              "width": 0.5
             },
             "pattern": {
              "fillmode": "overlay",
              "size": 10,
              "solidity": 0.2
             }
            },
            "type": "bar"
           }
          ],
          "barpolar": [
           {
            "marker": {
             "line": {
              "color": "#E5ECF6",
              "width": 0.5
             },
             "pattern": {
              "fillmode": "overlay",
              "size": 10,
              "solidity": 0.2
             }
            },
            "type": "barpolar"
           }
          ],
          "carpet": [
           {
            "aaxis": {
             "endlinecolor": "#2a3f5f",
             "gridcolor": "white",
             "linecolor": "white",
             "minorgridcolor": "white",
             "startlinecolor": "#2a3f5f"
            },
            "baxis": {
             "endlinecolor": "#2a3f5f",
             "gridcolor": "white",
             "linecolor": "white",
             "minorgridcolor": "white",
             "startlinecolor": "#2a3f5f"
            },
            "type": "carpet"
           }
          ],
          "choropleth": [
           {
            "colorbar": {
             "outlinewidth": 0,
             "ticks": ""
            },
            "type": "choropleth"
           }
          ],
          "contour": [
           {
            "colorbar": {
             "outlinewidth": 0,
             "ticks": ""
            },
            "colorscale": [
             [
              0,
              "#0d0887"
             ],
             [
              0.1111111111111111,
              "#46039f"
             ],
             [
              0.2222222222222222,
              "#7201a8"
             ],
             [
              0.3333333333333333,
              "#9c179e"
             ],
             [
              0.4444444444444444,
              "#bd3786"
             ],
             [
              0.5555555555555556,
              "#d8576b"
             ],
             [
              0.6666666666666666,
              "#ed7953"
             ],
             [
              0.7777777777777778,
              "#fb9f3a"
             ],
             [
              0.8888888888888888,
              "#fdca26"
             ],
             [
              1,
              "#f0f921"
             ]
            ],
            "type": "contour"
           }
          ],
          "contourcarpet": [
           {
            "colorbar": {
             "outlinewidth": 0,
             "ticks": ""
            },
            "type": "contourcarpet"
           }
          ],
          "heatmap": [
           {
            "colorbar": {
             "outlinewidth": 0,
             "ticks": ""
            },
            "colorscale": [
             [
              0,
              "#0d0887"
             ],
             [
              0.1111111111111111,
              "#46039f"
             ],
             [
              0.2222222222222222,
              "#7201a8"
             ],
             [
              0.3333333333333333,
              "#9c179e"
             ],
             [
              0.4444444444444444,
              "#bd3786"
             ],
             [
              0.5555555555555556,
              "#d8576b"
             ],
             [
              0.6666666666666666,
              "#ed7953"
             ],
             [
              0.7777777777777778,
              "#fb9f3a"
             ],
             [
              0.8888888888888888,
              "#fdca26"
             ],
             [
              1,
              "#f0f921"
             ]
            ],
            "type": "heatmap"
           }
          ],
          "heatmapgl": [
           {
            "colorbar": {
             "outlinewidth": 0,
             "ticks": ""
            },
            "colorscale": [
             [
              0,
              "#0d0887"
             ],
             [
              0.1111111111111111,
              "#46039f"
             ],
             [
              0.2222222222222222,
              "#7201a8"
             ],
             [
              0.3333333333333333,
              "#9c179e"
             ],
             [
              0.4444444444444444,
              "#bd3786"
             ],
             [
              0.5555555555555556,
              "#d8576b"
             ],
             [
              0.6666666666666666,
              "#ed7953"
             ],
             [
              0.7777777777777778,
              "#fb9f3a"
             ],
             [
              0.8888888888888888,
              "#fdca26"
             ],
             [
              1,
              "#f0f921"
             ]
            ],
            "type": "heatmapgl"
           }
          ],
          "histogram": [
           {
            "marker": {
             "pattern": {
              "fillmode": "overlay",
              "size": 10,
              "solidity": 0.2
             }
            },
            "type": "histogram"
           }
          ],
          "histogram2d": [
           {
            "colorbar": {
             "outlinewidth": 0,
             "ticks": ""
            },
            "colorscale": [
             [
              0,
              "#0d0887"
             ],
             [
              0.1111111111111111,
              "#46039f"
             ],
             [
              0.2222222222222222,
              "#7201a8"
             ],
             [
              0.3333333333333333,
              "#9c179e"
             ],
             [
              0.4444444444444444,
              "#bd3786"
             ],
             [
              0.5555555555555556,
              "#d8576b"
             ],
             [
              0.6666666666666666,
              "#ed7953"
             ],
             [
              0.7777777777777778,
              "#fb9f3a"
             ],
             [
              0.8888888888888888,
              "#fdca26"
             ],
             [
              1,
              "#f0f921"
             ]
            ],
            "type": "histogram2d"
           }
          ],
          "histogram2dcontour": [
           {
            "colorbar": {
             "outlinewidth": 0,
             "ticks": ""
            },
            "colorscale": [
             [
              0,
              "#0d0887"
             ],
             [
              0.1111111111111111,
              "#46039f"
             ],
             [
              0.2222222222222222,
              "#7201a8"
             ],
             [
              0.3333333333333333,
              "#9c179e"
             ],
             [
              0.4444444444444444,
              "#bd3786"
             ],
             [
              0.5555555555555556,
              "#d8576b"
             ],
             [
              0.6666666666666666,
              "#ed7953"
             ],
             [
              0.7777777777777778,
              "#fb9f3a"
             ],
             [
              0.8888888888888888,
              "#fdca26"
             ],
             [
              1,
              "#f0f921"
             ]
            ],
            "type": "histogram2dcontour"
           }
          ],
          "mesh3d": [
           {
            "colorbar": {
             "outlinewidth": 0,
             "ticks": ""
            },
            "type": "mesh3d"
           }
          ],
          "parcoords": [
           {
            "line": {
             "colorbar": {
              "outlinewidth": 0,
              "ticks": ""
             }
            },
            "type": "parcoords"
           }
          ],
          "pie": [
           {
            "automargin": true,
            "type": "pie"
           }
          ],
          "scatter": [
           {
            "marker": {
             "colorbar": {
              "outlinewidth": 0,
              "ticks": ""
             }
            },
            "type": "scatter"
           }
          ],
          "scatter3d": [
           {
            "line": {
             "colorbar": {
              "outlinewidth": 0,
              "ticks": ""
             }
            },
            "marker": {
             "colorbar": {
              "outlinewidth": 0,
              "ticks": ""
             }
            },
            "type": "scatter3d"
           }
          ],
          "scattercarpet": [
           {
            "marker": {
             "colorbar": {
              "outlinewidth": 0,
              "ticks": ""
             }
            },
            "type": "scattercarpet"
           }
          ],
          "scattergeo": [
           {
            "marker": {
             "colorbar": {
              "outlinewidth": 0,
              "ticks": ""
             }
            },
            "type": "scattergeo"
           }
          ],
          "scattergl": [
           {
            "marker": {
             "colorbar": {
              "outlinewidth": 0,
              "ticks": ""
             }
            },
            "type": "scattergl"
           }
          ],
          "scattermapbox": [
           {
            "marker": {
             "colorbar": {
              "outlinewidth": 0,
              "ticks": ""
             }
            },
            "type": "scattermapbox"
           }
          ],
          "scatterpolar": [
           {
            "marker": {
             "colorbar": {
              "outlinewidth": 0,
              "ticks": ""
             }
            },
            "type": "scatterpolar"
           }
          ],
          "scatterpolargl": [
           {
            "marker": {
             "colorbar": {
              "outlinewidth": 0,
              "ticks": ""
             }
            },
            "type": "scatterpolargl"
           }
          ],
          "scatterternary": [
           {
            "marker": {
             "colorbar": {
              "outlinewidth": 0,
              "ticks": ""
             }
            },
            "type": "scatterternary"
           }
          ],
          "surface": [
           {
            "colorbar": {
             "outlinewidth": 0,
             "ticks": ""
            },
            "colorscale": [
             [
              0,
              "#0d0887"
             ],
             [
              0.1111111111111111,
              "#46039f"
             ],
             [
              0.2222222222222222,
              "#7201a8"
             ],
             [
              0.3333333333333333,
              "#9c179e"
             ],
             [
              0.4444444444444444,
              "#bd3786"
             ],
             [
              0.5555555555555556,
              "#d8576b"
             ],
             [
              0.6666666666666666,
              "#ed7953"
             ],
             [
              0.7777777777777778,
              "#fb9f3a"
             ],
             [
              0.8888888888888888,
              "#fdca26"
             ],
             [
              1,
              "#f0f921"
             ]
            ],
            "type": "surface"
           }
          ],
          "table": [
           {
            "cells": {
             "fill": {
              "color": "#EBF0F8"
             },
             "line": {
              "color": "white"
             }
            },
            "header": {
             "fill": {
              "color": "#C8D4E3"
             },
             "line": {
              "color": "white"
             }
            },
            "type": "table"
           }
          ]
         },
         "layout": {
          "annotationdefaults": {
           "arrowcolor": "#2a3f5f",
           "arrowhead": 0,
           "arrowwidth": 1
          },
          "autotypenumbers": "strict",
          "coloraxis": {
           "colorbar": {
            "outlinewidth": 0,
            "ticks": ""
           }
          },
          "colorscale": {
           "diverging": [
            [
             0,
             "#8e0152"
            ],
            [
             0.1,
             "#c51b7d"
            ],
            [
             0.2,
             "#de77ae"
            ],
            [
             0.3,
             "#f1b6da"
            ],
            [
             0.4,
             "#fde0ef"
            ],
            [
             0.5,
             "#f7f7f7"
            ],
            [
             0.6,
             "#e6f5d0"
            ],
            [
             0.7,
             "#b8e186"
            ],
            [
             0.8,
             "#7fbc41"
            ],
            [
             0.9,
             "#4d9221"
            ],
            [
             1,
             "#276419"
            ]
           ],
           "sequential": [
            [
             0,
             "#0d0887"
            ],
            [
             0.1111111111111111,
             "#46039f"
            ],
            [
             0.2222222222222222,
             "#7201a8"
            ],
            [
             0.3333333333333333,
             "#9c179e"
            ],
            [
             0.4444444444444444,
             "#bd3786"
            ],
            [
             0.5555555555555556,
             "#d8576b"
            ],
            [
             0.6666666666666666,
             "#ed7953"
            ],
            [
             0.7777777777777778,
             "#fb9f3a"
            ],
            [
             0.8888888888888888,
             "#fdca26"
            ],
            [
             1,
             "#f0f921"
            ]
           ],
           "sequentialminus": [
            [
             0,
             "#0d0887"
            ],
            [
             0.1111111111111111,
             "#46039f"
            ],
            [
             0.2222222222222222,
             "#7201a8"
            ],
            [
             0.3333333333333333,
             "#9c179e"
            ],
            [
             0.4444444444444444,
             "#bd3786"
            ],
            [
             0.5555555555555556,
             "#d8576b"
            ],
            [
             0.6666666666666666,
             "#ed7953"
            ],
            [
             0.7777777777777778,
             "#fb9f3a"
            ],
            [
             0.8888888888888888,
             "#fdca26"
            ],
            [
             1,
             "#f0f921"
            ]
           ]
          },
          "colorway": [
           "#636efa",
           "#EF553B",
           "#00cc96",
           "#ab63fa",
           "#FFA15A",
           "#19d3f3",
           "#FF6692",
           "#B6E880",
           "#FF97FF",
           "#FECB52"
          ],
          "font": {
           "color": "#2a3f5f"
          },
          "geo": {
           "bgcolor": "white",
           "lakecolor": "white",
           "landcolor": "#E5ECF6",
           "showlakes": true,
           "showland": true,
           "subunitcolor": "white"
          },
          "hoverlabel": {
           "align": "left"
          },
          "hovermode": "closest",
          "mapbox": {
           "style": "light"
          },
          "paper_bgcolor": "white",
          "plot_bgcolor": "#E5ECF6",
          "polar": {
           "angularaxis": {
            "gridcolor": "white",
            "linecolor": "white",
            "ticks": ""
           },
           "bgcolor": "#E5ECF6",
           "radialaxis": {
            "gridcolor": "white",
            "linecolor": "white",
            "ticks": ""
           }
          },
          "scene": {
           "xaxis": {
            "backgroundcolor": "#E5ECF6",
            "gridcolor": "white",
            "gridwidth": 2,
            "linecolor": "white",
            "showbackground": true,
            "ticks": "",
            "zerolinecolor": "white"
           },
           "yaxis": {
            "backgroundcolor": "#E5ECF6",
            "gridcolor": "white",
            "gridwidth": 2,
            "linecolor": "white",
            "showbackground": true,
            "ticks": "",
            "zerolinecolor": "white"
           },
           "zaxis": {
            "backgroundcolor": "#E5ECF6",
            "gridcolor": "white",
            "gridwidth": 2,
            "linecolor": "white",
            "showbackground": true,
            "ticks": "",
            "zerolinecolor": "white"
           }
          },
          "shapedefaults": {
           "line": {
            "color": "#2a3f5f"
           }
          },
          "ternary": {
           "aaxis": {
            "gridcolor": "white",
            "linecolor": "white",
            "ticks": ""
           },
           "baxis": {
            "gridcolor": "white",
            "linecolor": "white",
            "ticks": ""
           },
           "bgcolor": "#E5ECF6",
           "caxis": {
            "gridcolor": "white",
            "linecolor": "white",
            "ticks": ""
           }
          },
          "title": {
           "x": 0.05
          },
          "xaxis": {
           "automargin": true,
           "gridcolor": "white",
           "linecolor": "white",
           "ticks": "",
           "title": {
            "standoff": 15
           },
           "zerolinecolor": "white",
           "zerolinewidth": 2
          },
          "yaxis": {
           "automargin": true,
           "gridcolor": "white",
           "linecolor": "white",
           "ticks": "",
           "title": {
            "standoff": 15
           },
           "zerolinecolor": "white",
           "zerolinewidth": 2
          }
         }
        },
        "title": {
         "font": {
          "color": "#4D5663"
         }
        },
        "xaxis": {
         "gridcolor": "#E1E5ED",
         "showgrid": true,
         "tickfont": {
          "color": "#4D5663"
         },
         "title": {
          "font": {
           "color": "#4D5663"
          },
          "text": ""
         },
         "zerolinecolor": "#E1E5ED"
        },
        "yaxis": {
         "gridcolor": "#E1E5ED",
         "showgrid": true,
         "tickfont": {
          "color": "#4D5663"
         },
         "title": {
          "font": {
           "color": "#4D5663"
          },
          "text": ""
         },
         "zerolinecolor": "#E1E5ED"
        }
       }
      },
      "text/html": [
       "<div>                            <div id=\"8878a6b6-bcd7-46ec-a638-5c2a5d545036\" class=\"plotly-graph-div\" style=\"height:525px; width:100%;\"></div>            <script type=\"text/javascript\">                require([\"plotly\"], function(Plotly) {                    window.PLOTLYENV=window.PLOTLYENV || {};\n",
       "                    window.PLOTLYENV.BASE_URL='https://plot.ly';                                    if (document.getElementById(\"8878a6b6-bcd7-46ec-a638-5c2a5d545036\")) {                    Plotly.newPlot(                        \"8878a6b6-bcd7-46ec-a638-5c2a5d545036\",                        [{\"boxpoints\":false,\"line\":{\"width\":1.3},\"marker\":{\"color\":\"rgba(255, 153, 51, 1.0)\"},\"name\":\"A\",\"orientation\":\"v\",\"y\":[0.18949412131357618,-0.4394056773665876,1.5235003132506255,0.03645250031559109,-0.48017680332678986,-0.32940801574654444,-0.8336585198060829,2.1104829932351987,-2.1774759403114543,-1.4552810678704107,-0.3946340137520746,-0.7958997396105878,-2.1941249569910184,-0.3186755756858305,-1.0762861726059367,0.5160715236107142,0.5354240028958203,0.24474634754970445,2.1593382645363524,-2.459688200120283,2.2033163680127856,0.12741013120035052,-0.7426413044529445,-0.708915270693794,-1.7366906383070453,-0.3278091707347793,-0.019161214804460824,-0.10350391076144248,0.443003384937299,-0.3021624753184853,-0.26540709330297957,1.1177682728198786,-0.6555808314273678,-2.0513962145269367,-0.007283680343075513,-1.7345390153967326,0.6526293553788296,0.8797043755381333,-0.40446628152172,0.40015659679998383,1.3501402445869597,-1.681402939901821,0.37687631215522416,1.530406066859981,0.27376913231487043,0.11859151200966923,0.18998151104134484,1.239771620051365,-0.013067258817813692,-0.4342760602897146,-0.22768423864144938,-0.08712007886114415,-1.3953429851893069,-1.1346627058287775,1.717402994668382,-0.8202332848774089,-0.4210331992705946,-0.06266365801889973,-0.1076343228449331,-0.46753029808332414,0.465339121662231,0.05686260034364659,0.6689353752755711,-1.3749096285081572,1.0644486040242718,1.0029108097495154,-0.4756234878591175,-0.7573283389084694,1.553314742784835,0.9327235406491218,-0.5432611240893911,0.9375595028153989,0.6479726183862607,-1.6193215495623614,0.42468213572515945,0.4442854952443643,-0.4430216955740655,-0.3313723025358653,-0.5164036122879947,-0.1426294244580413,0.34861880298974646,2.491239497816553,-1.2708676958205198,1.2439173121325637,-0.2531066585596569,0.3986080862101964,1.559031756752641,-0.8451994271388271,0.6244513110895351,-0.20836122736152812,-1.5593960284306796,1.0027652648558283,0.6678453706840629,0.9019731286521746,0.49217666164481805,-0.2537409869513799,0.7236090940111436,0.046759497044002236,-0.5975669662202538,-0.78915850866316],\"type\":\"box\"},{\"boxpoints\":false,\"line\":{\"width\":1.3},\"marker\":{\"color\":\"rgba(55, 128, 191, 1.0)\"},\"name\":\"B\",\"orientation\":\"v\",\"y\":[-0.3837044654152856,0.795222058544091,-1.088639124538044,1.2717431343417127,-0.425142084846673,0.064182302033947,1.4362888057989984,-0.1500476658943807,-1.5718151705858465,-1.1951812086435607,0.22860843548074822,-0.12492214308168757,-0.2867367492193972,-0.5736239558678975,1.389341530883104,-0.6861898267335519,-1.5311373341612782,-0.8512089705281984,-1.4559541518556975,-1.1001623087846037,0.8979100173243162,0.12116953775102157,0.008534083166311771,0.8564629305816837,-0.5811640716666194,-1.2080292257019134,-0.2349761867338796,0.5544460777568961,-1.0713239222958086,-0.5880653881769333,1.455833425930843,1.798690383630041,-0.33646470904540654,-0.3672634840646152,-1.172864741624129,0.5837329271770997,-2.2382359822608637,0.18016433857511283,0.9536368045497337,-1.0800463778552765,-0.8317221994239206,1.282796438795336,-0.29336799070174174,0.15886220818261743,0.38201782187711153,1.4359852720915571,0.12325985697339818,-1.2571112124983932,-0.6820456832743963,0.6549877845727778,1.7480017358816617,-0.417778286260563,-1.6706045656026176,-0.32449160626856594,0.04941441532003659,1.2301955880270588,0.5549576648122474,0.5087348321498013,-0.5251299669479592,-0.7226843478772803,2.166721876878339,1.1802593126083956,-1.538186484092452,-0.9373214000293492,2.507394228500375,1.1453156950783623,-0.3900336491592565,-1.2294025551628793,0.047153263572624386,-1.4132468018414466,-0.2490684669524338,-0.049467689607492635,0.32500434009912604,2.3848744017153285,1.5072496221876714,2.3374311490664765,0.24765502883674623,0.24345434946978872,-1.0754295259055462,-0.9253517607585953,-0.23061561620756169,0.9122603763478071,0.07761133731595166,-1.9670718895477557,0.7909040382082345,-1.164107142015901,-1.3600341936072617,1.0761877070356076,0.5910801172299857,-2.4683912167831474,0.9391003487905739,0.5833264172434889,0.7708157024485347,-0.5097944025738771,-1.1535830779289729,1.7235455685820171,2.0515347554626917,0.5810028348635923,-1.5039588573849996,1.1202156895522468],\"type\":\"box\"},{\"boxpoints\":false,\"line\":{\"width\":1.3},\"marker\":{\"color\":\"rgba(50, 171, 96, 1.0)\"},\"name\":\"C\",\"orientation\":\"v\",\"y\":[-0.1743984965453827,-1.4541612208234012,0.6956792937079929,-1.3001320960993383,0.08431046689444055,-0.5458234646004246,-1.703734496705612,-0.46667383632587456,0.20168534651158843,0.05180078694254984,0.15009120689135705,0.38155320389086794,0.6201617773498148,-0.4180523651246814,0.7465449715988128,-1.5936716550582053,-0.10284790666830117,0.1093592149806783,-0.4298179966107576,0.09036264294289752,0.88687423729422,-0.38701666121889466,-1.0138165027078039,-0.5657807458054585,-1.0828115788453545,0.9840254154931339,0.8093741156203169,0.12057650292945947,0.5547869447555124,0.6922370792655054,-0.5648301884075914,0.36231458268424105,1.0810279703817096,1.8783153100153525,-0.7214684504748133,0.8184542416070196,1.096285275446509,0.6401790065862915,1.4549111285078231,0.8458116106046145,0.919572265392668,1.1301903192078682,-0.7698555448986697,0.6254893169467595,-1.3257760372158236,-0.2978156236899048,0.37394743471698133,1.5331566652250095,-0.4979914851761903,0.7517118709648927,1.3509690362061804,0.5011967657164128,0.709739359148568,0.06810356319394323,-0.7831965307456421,-0.5340021787086153,-0.7865627285734942,0.3601143418103425,1.4254633444799054,1.3194723968147113,-0.6219733375028738,-0.4706692397260293,0.6494971062647076,1.333836418289274,-0.3925211802671113,1.1114167342804335,-0.48266044723498785,-0.5756884715412415,-1.451963627424044,-0.5966415531473441,1.2736827262182808,0.056729781593075346,-1.4022876205319186,1.0641058394292497,-1.632548685431701,1.0282791458538627,0.9735252234678213,0.6731261725235531,0.6663790123138237,1.0458060866394234,-1.1139971857239725,2.6482697572989817,-0.24221257551688724,-0.592224532882951,1.555402285699256,0.031033396716787728,-0.8779461708583994,-0.05179952540035406,-0.06526260702897788,-0.3548763030095997,0.8274228665667456,0.3096308840511436,-0.9984340067990453,0.2944126067059136,0.27777425546051143,-0.480142482489268,0.4976614774521355,0.4236071706861531,-1.064383297804024,-0.03328662450382397],\"type\":\"box\"},{\"boxpoints\":false,\"line\":{\"width\":1.3},\"marker\":{\"color\":\"rgba(128, 0, 128, 1.0)\"},\"name\":\"D\",\"orientation\":\"v\",\"y\":[-0.20780585649318675,-0.14819604288381694,1.0885503128334055,1.5690761380859866,-0.2057701688271447,0.528517647224014,0.49489867431198065,0.3694870943340224,0.8504456511047962,0.6218097729257264,1.183537873615913,-1.412343100279427,-0.20388098639815003,1.3209211160041237,-0.8667287175928398,-1.6022715397568477,-0.22533705662048342,-0.41925862395025637,-0.7702343824721343,1.3335634594021377,0.8915349281178668,-1.9036354831030342,-0.12427220329691722,-0.8855772700058713,-0.22962601620657463,-0.07456838767647804,-0.01297547207565747,-0.05013017019035424,-1.2079982388712291,-1.4271558878113708,0.4691611383451397,-0.28246806140803854,-0.7564171061978776,0.9458537409105416,-0.12157386355688268,-1.5771587088527448,-0.4771802703564047,-0.6920394639249958,1.6657363893397388,-0.4420391031877735,-1.0794640013897456,1.8183490354095484,0.46595654679141907,-0.5011736995656421,0.895642453466898,0.9178866835622075,-1.046408578337546,0.1462439640318665,0.847776063439936,0.5846608026272584,0.4352243063077864,1.5108645572772388,0.6495566241763885,-0.5507503599029776,1.0043465834358691,1.5139187503807083,-0.9450550704795724,-1.3698838965232643,0.6342868982920584,-1.7822121192781268,0.2139531047420393,-0.7081121135552167,-0.38465236055835333,-2.2460330504270942,0.6188661266419923,1.8445435923545408,0.2883225048009735,0.9123788041289154,-1.1604115329406108,-1.4841011626780298,0.5628193476873323,-0.7349117807171268,0.11920582506622426,0.5905073967313906,-0.48928493347902163,2.774402057543939,-0.7273081733755475,0.2958714729279786,0.4398411171858982,-0.13312101574758703,0.11749928614535977,0.1232784763904203,0.4980966126639828,0.22382405626046578,2.6016338790283853,-0.6436340585499764,-1.254990990021013,0.4543785021609926,-1.306189514444256,0.34856842350078515,-0.6294405154267875,-2.5030458807207685,0.561475266139338,1.7014026293955336,0.012306602310616718,-0.4696968504587055,1.8164578476490285,1.0592720945516634,-0.9962321498291724,0.9668986029652397],\"type\":\"box\"}],                        {\"legend\":{\"bgcolor\":\"#F5F6F9\",\"font\":{\"color\":\"#4D5663\"}},\"paper_bgcolor\":\"#F5F6F9\",\"plot_bgcolor\":\"#F5F6F9\",\"template\":{\"data\":{\"barpolar\":[{\"marker\":{\"line\":{\"color\":\"#E5ECF6\",\"width\":0.5},\"pattern\":{\"fillmode\":\"overlay\",\"size\":10,\"solidity\":0.2}},\"type\":\"barpolar\"}],\"bar\":[{\"error_x\":{\"color\":\"#2a3f5f\"},\"error_y\":{\"color\":\"#2a3f5f\"},\"marker\":{\"line\":{\"color\":\"#E5ECF6\",\"width\":0.5},\"pattern\":{\"fillmode\":\"overlay\",\"size\":10,\"solidity\":0.2}},\"type\":\"bar\"}],\"carpet\":[{\"aaxis\":{\"endlinecolor\":\"#2a3f5f\",\"gridcolor\":\"white\",\"linecolor\":\"white\",\"minorgridcolor\":\"white\",\"startlinecolor\":\"#2a3f5f\"},\"baxis\":{\"endlinecolor\":\"#2a3f5f\",\"gridcolor\":\"white\",\"linecolor\":\"white\",\"minorgridcolor\":\"white\",\"startlinecolor\":\"#2a3f5f\"},\"type\":\"carpet\"}],\"choropleth\":[{\"colorbar\":{\"outlinewidth\":0,\"ticks\":\"\"},\"type\":\"choropleth\"}],\"contourcarpet\":[{\"colorbar\":{\"outlinewidth\":0,\"ticks\":\"\"},\"type\":\"contourcarpet\"}],\"contour\":[{\"colorbar\":{\"outlinewidth\":0,\"ticks\":\"\"},\"colorscale\":[[0.0,\"#0d0887\"],[0.1111111111111111,\"#46039f\"],[0.2222222222222222,\"#7201a8\"],[0.3333333333333333,\"#9c179e\"],[0.4444444444444444,\"#bd3786\"],[0.5555555555555556,\"#d8576b\"],[0.6666666666666666,\"#ed7953\"],[0.7777777777777778,\"#fb9f3a\"],[0.8888888888888888,\"#fdca26\"],[1.0,\"#f0f921\"]],\"type\":\"contour\"}],\"heatmapgl\":[{\"colorbar\":{\"outlinewidth\":0,\"ticks\":\"\"},\"colorscale\":[[0.0,\"#0d0887\"],[0.1111111111111111,\"#46039f\"],[0.2222222222222222,\"#7201a8\"],[0.3333333333333333,\"#9c179e\"],[0.4444444444444444,\"#bd3786\"],[0.5555555555555556,\"#d8576b\"],[0.6666666666666666,\"#ed7953\"],[0.7777777777777778,\"#fb9f3a\"],[0.8888888888888888,\"#fdca26\"],[1.0,\"#f0f921\"]],\"type\":\"heatmapgl\"}],\"heatmap\":[{\"colorbar\":{\"outlinewidth\":0,\"ticks\":\"\"},\"colorscale\":[[0.0,\"#0d0887\"],[0.1111111111111111,\"#46039f\"],[0.2222222222222222,\"#7201a8\"],[0.3333333333333333,\"#9c179e\"],[0.4444444444444444,\"#bd3786\"],[0.5555555555555556,\"#d8576b\"],[0.6666666666666666,\"#ed7953\"],[0.7777777777777778,\"#fb9f3a\"],[0.8888888888888888,\"#fdca26\"],[1.0,\"#f0f921\"]],\"type\":\"heatmap\"}],\"histogram2dcontour\":[{\"colorbar\":{\"outlinewidth\":0,\"ticks\":\"\"},\"colorscale\":[[0.0,\"#0d0887\"],[0.1111111111111111,\"#46039f\"],[0.2222222222222222,\"#7201a8\"],[0.3333333333333333,\"#9c179e\"],[0.4444444444444444,\"#bd3786\"],[0.5555555555555556,\"#d8576b\"],[0.6666666666666666,\"#ed7953\"],[0.7777777777777778,\"#fb9f3a\"],[0.8888888888888888,\"#fdca26\"],[1.0,\"#f0f921\"]],\"type\":\"histogram2dcontour\"}],\"histogram2d\":[{\"colorbar\":{\"outlinewidth\":0,\"ticks\":\"\"},\"colorscale\":[[0.0,\"#0d0887\"],[0.1111111111111111,\"#46039f\"],[0.2222222222222222,\"#7201a8\"],[0.3333333333333333,\"#9c179e\"],[0.4444444444444444,\"#bd3786\"],[0.5555555555555556,\"#d8576b\"],[0.6666666666666666,\"#ed7953\"],[0.7777777777777778,\"#fb9f3a\"],[0.8888888888888888,\"#fdca26\"],[1.0,\"#f0f921\"]],\"type\":\"histogram2d\"}],\"histogram\":[{\"marker\":{\"pattern\":{\"fillmode\":\"overlay\",\"size\":10,\"solidity\":0.2}},\"type\":\"histogram\"}],\"mesh3d\":[{\"colorbar\":{\"outlinewidth\":0,\"ticks\":\"\"},\"type\":\"mesh3d\"}],\"parcoords\":[{\"line\":{\"colorbar\":{\"outlinewidth\":0,\"ticks\":\"\"}},\"type\":\"parcoords\"}],\"pie\":[{\"automargin\":true,\"type\":\"pie\"}],\"scatter3d\":[{\"line\":{\"colorbar\":{\"outlinewidth\":0,\"ticks\":\"\"}},\"marker\":{\"colorbar\":{\"outlinewidth\":0,\"ticks\":\"\"}},\"type\":\"scatter3d\"}],\"scattercarpet\":[{\"marker\":{\"colorbar\":{\"outlinewidth\":0,\"ticks\":\"\"}},\"type\":\"scattercarpet\"}],\"scattergeo\":[{\"marker\":{\"colorbar\":{\"outlinewidth\":0,\"ticks\":\"\"}},\"type\":\"scattergeo\"}],\"scattergl\":[{\"marker\":{\"colorbar\":{\"outlinewidth\":0,\"ticks\":\"\"}},\"type\":\"scattergl\"}],\"scattermapbox\":[{\"marker\":{\"colorbar\":{\"outlinewidth\":0,\"ticks\":\"\"}},\"type\":\"scattermapbox\"}],\"scatterpolargl\":[{\"marker\":{\"colorbar\":{\"outlinewidth\":0,\"ticks\":\"\"}},\"type\":\"scatterpolargl\"}],\"scatterpolar\":[{\"marker\":{\"colorbar\":{\"outlinewidth\":0,\"ticks\":\"\"}},\"type\":\"scatterpolar\"}],\"scatter\":[{\"marker\":{\"colorbar\":{\"outlinewidth\":0,\"ticks\":\"\"}},\"type\":\"scatter\"}],\"scatterternary\":[{\"marker\":{\"colorbar\":{\"outlinewidth\":0,\"ticks\":\"\"}},\"type\":\"scatterternary\"}],\"surface\":[{\"colorbar\":{\"outlinewidth\":0,\"ticks\":\"\"},\"colorscale\":[[0.0,\"#0d0887\"],[0.1111111111111111,\"#46039f\"],[0.2222222222222222,\"#7201a8\"],[0.3333333333333333,\"#9c179e\"],[0.4444444444444444,\"#bd3786\"],[0.5555555555555556,\"#d8576b\"],[0.6666666666666666,\"#ed7953\"],[0.7777777777777778,\"#fb9f3a\"],[0.8888888888888888,\"#fdca26\"],[1.0,\"#f0f921\"]],\"type\":\"surface\"}],\"table\":[{\"cells\":{\"fill\":{\"color\":\"#EBF0F8\"},\"line\":{\"color\":\"white\"}},\"header\":{\"fill\":{\"color\":\"#C8D4E3\"},\"line\":{\"color\":\"white\"}},\"type\":\"table\"}]},\"layout\":{\"annotationdefaults\":{\"arrowcolor\":\"#2a3f5f\",\"arrowhead\":0,\"arrowwidth\":1},\"autotypenumbers\":\"strict\",\"coloraxis\":{\"colorbar\":{\"outlinewidth\":0,\"ticks\":\"\"}},\"colorscale\":{\"diverging\":[[0,\"#8e0152\"],[0.1,\"#c51b7d\"],[0.2,\"#de77ae\"],[0.3,\"#f1b6da\"],[0.4,\"#fde0ef\"],[0.5,\"#f7f7f7\"],[0.6,\"#e6f5d0\"],[0.7,\"#b8e186\"],[0.8,\"#7fbc41\"],[0.9,\"#4d9221\"],[1,\"#276419\"]],\"sequential\":[[0.0,\"#0d0887\"],[0.1111111111111111,\"#46039f\"],[0.2222222222222222,\"#7201a8\"],[0.3333333333333333,\"#9c179e\"],[0.4444444444444444,\"#bd3786\"],[0.5555555555555556,\"#d8576b\"],[0.6666666666666666,\"#ed7953\"],[0.7777777777777778,\"#fb9f3a\"],[0.8888888888888888,\"#fdca26\"],[1.0,\"#f0f921\"]],\"sequentialminus\":[[0.0,\"#0d0887\"],[0.1111111111111111,\"#46039f\"],[0.2222222222222222,\"#7201a8\"],[0.3333333333333333,\"#9c179e\"],[0.4444444444444444,\"#bd3786\"],[0.5555555555555556,\"#d8576b\"],[0.6666666666666666,\"#ed7953\"],[0.7777777777777778,\"#fb9f3a\"],[0.8888888888888888,\"#fdca26\"],[1.0,\"#f0f921\"]]},\"colorway\":[\"#636efa\",\"#EF553B\",\"#00cc96\",\"#ab63fa\",\"#FFA15A\",\"#19d3f3\",\"#FF6692\",\"#B6E880\",\"#FF97FF\",\"#FECB52\"],\"font\":{\"color\":\"#2a3f5f\"},\"geo\":{\"bgcolor\":\"white\",\"lakecolor\":\"white\",\"landcolor\":\"#E5ECF6\",\"showlakes\":true,\"showland\":true,\"subunitcolor\":\"white\"},\"hoverlabel\":{\"align\":\"left\"},\"hovermode\":\"closest\",\"mapbox\":{\"style\":\"light\"},\"paper_bgcolor\":\"white\",\"plot_bgcolor\":\"#E5ECF6\",\"polar\":{\"angularaxis\":{\"gridcolor\":\"white\",\"linecolor\":\"white\",\"ticks\":\"\"},\"bgcolor\":\"#E5ECF6\",\"radialaxis\":{\"gridcolor\":\"white\",\"linecolor\":\"white\",\"ticks\":\"\"}},\"scene\":{\"xaxis\":{\"backgroundcolor\":\"#E5ECF6\",\"gridcolor\":\"white\",\"gridwidth\":2,\"linecolor\":\"white\",\"showbackground\":true,\"ticks\":\"\",\"zerolinecolor\":\"white\"},\"yaxis\":{\"backgroundcolor\":\"#E5ECF6\",\"gridcolor\":\"white\",\"gridwidth\":2,\"linecolor\":\"white\",\"showbackground\":true,\"ticks\":\"\",\"zerolinecolor\":\"white\"},\"zaxis\":{\"backgroundcolor\":\"#E5ECF6\",\"gridcolor\":\"white\",\"gridwidth\":2,\"linecolor\":\"white\",\"showbackground\":true,\"ticks\":\"\",\"zerolinecolor\":\"white\"}},\"shapedefaults\":{\"line\":{\"color\":\"#2a3f5f\"}},\"ternary\":{\"aaxis\":{\"gridcolor\":\"white\",\"linecolor\":\"white\",\"ticks\":\"\"},\"baxis\":{\"gridcolor\":\"white\",\"linecolor\":\"white\",\"ticks\":\"\"},\"bgcolor\":\"#E5ECF6\",\"caxis\":{\"gridcolor\":\"white\",\"linecolor\":\"white\",\"ticks\":\"\"}},\"title\":{\"x\":0.05},\"xaxis\":{\"automargin\":true,\"gridcolor\":\"white\",\"linecolor\":\"white\",\"ticks\":\"\",\"title\":{\"standoff\":15},\"zerolinecolor\":\"white\",\"zerolinewidth\":2},\"yaxis\":{\"automargin\":true,\"gridcolor\":\"white\",\"linecolor\":\"white\",\"ticks\":\"\",\"title\":{\"standoff\":15},\"zerolinecolor\":\"white\",\"zerolinewidth\":2}}},\"title\":{\"font\":{\"color\":\"#4D5663\"}},\"xaxis\":{\"gridcolor\":\"#E1E5ED\",\"showgrid\":true,\"tickfont\":{\"color\":\"#4D5663\"},\"title\":{\"font\":{\"color\":\"#4D5663\"},\"text\":\"\"},\"zerolinecolor\":\"#E1E5ED\"},\"yaxis\":{\"gridcolor\":\"#E1E5ED\",\"showgrid\":true,\"tickfont\":{\"color\":\"#4D5663\"},\"title\":{\"font\":{\"color\":\"#4D5663\"},\"text\":\"\"},\"zerolinecolor\":\"#E1E5ED\"}},                        {\"showLink\": true, \"linkText\": \"Export to plot.ly\", \"plotlyServerURL\": \"https://plot.ly\", \"responsive\": true}                    ).then(function(){\n",
       "                            \n",
       "var gd = document.getElementById('8878a6b6-bcd7-46ec-a638-5c2a5d545036');\n",
       "var x = new MutationObserver(function (mutations, observer) {{\n",
       "        var display = window.getComputedStyle(gd).display;\n",
       "        if (!display || display === 'none') {{\n",
       "            console.log([gd, 'removed!']);\n",
       "            Plotly.purge(gd);\n",
       "            observer.disconnect();\n",
       "        }}\n",
       "}});\n",
       "\n",
       "// Listen for the removal of the full notebook cells\n",
       "var notebookContainer = gd.closest('#notebook-container');\n",
       "if (notebookContainer) {{\n",
       "    x.observe(notebookContainer, {childList: true});\n",
       "}}\n",
       "\n",
       "// Listen for the clearing of the current output cell\n",
       "var outputEl = gd.closest('.output');\n",
       "if (outputEl) {{\n",
       "    x.observe(outputEl, {childList: true});\n",
       "}}\n",
       "\n",
       "                        })                };                });            </script>        </div>"
      ]
     },
     "metadata": {},
     "output_type": "display_data"
    }
   ],
   "source": [
    "df.iplot(kind='box')"
   ]
  },
  {
   "cell_type": "markdown",
   "id": "4f4ef927",
   "metadata": {},
   "source": [
    "## 3d Surface"
   ]
  },
  {
   "cell_type": "code",
   "execution_count": 14,
   "id": "e4de1035",
   "metadata": {},
   "outputs": [
    {
     "data": {
      "application/vnd.plotly.v1+json": {
       "config": {
        "linkText": "Export to plot.ly",
        "plotlyServerURL": "https://plot.ly",
        "showLink": true
       },
       "data": [
        {
         "colorscale": [
          [
           0,
           "rgb(165,0,38)"
          ],
          [
           0.1,
           "rgb(215,48,39)"
          ],
          [
           0.2,
           "rgb(244,109,67)"
          ],
          [
           0.3,
           "rgb(253,174,97)"
          ],
          [
           0.4,
           "rgb(254,224,144)"
          ],
          [
           0.5,
           "rgb(255,255,191)"
          ],
          [
           0.6,
           "rgb(224,243,248)"
          ],
          [
           0.7,
           "rgb(171,217,233)"
          ],
          [
           0.8,
           "rgb(116,173,209)"
          ],
          [
           0.9,
           "rgb(69,117,180)"
          ],
          [
           1,
           "rgb(49,54,149)"
          ]
         ],
         "type": "surface",
         "x": [
          0,
          1,
          2,
          3,
          4
         ],
         "y": [
          "x",
          "y",
          "z"
         ],
         "z": [
          [
           1,
           2,
           3,
           4,
           5
          ],
          [
           10,
           20,
           30,
           20,
           10
          ],
          [
           5,
           4,
           3,
           2,
           1
          ]
         ]
        }
       ],
       "layout": {
        "legend": {
         "bgcolor": "#F5F6F9",
         "font": {
          "color": "#4D5663"
         }
        },
        "paper_bgcolor": "#F5F6F9",
        "plot_bgcolor": "#F5F6F9",
        "template": {
         "data": {
          "bar": [
           {
            "error_x": {
             "color": "#2a3f5f"
            },
            "error_y": {
             "color": "#2a3f5f"
            },
            "marker": {
             "line": {
              "color": "#E5ECF6",
              "width": 0.5
             },
             "pattern": {
              "fillmode": "overlay",
              "size": 10,
              "solidity": 0.2
             }
            },
            "type": "bar"
           }
          ],
          "barpolar": [
           {
            "marker": {
             "line": {
              "color": "#E5ECF6",
              "width": 0.5
             },
             "pattern": {
              "fillmode": "overlay",
              "size": 10,
              "solidity": 0.2
             }
            },
            "type": "barpolar"
           }
          ],
          "carpet": [
           {
            "aaxis": {
             "endlinecolor": "#2a3f5f",
             "gridcolor": "white",
             "linecolor": "white",
             "minorgridcolor": "white",
             "startlinecolor": "#2a3f5f"
            },
            "baxis": {
             "endlinecolor": "#2a3f5f",
             "gridcolor": "white",
             "linecolor": "white",
             "minorgridcolor": "white",
             "startlinecolor": "#2a3f5f"
            },
            "type": "carpet"
           }
          ],
          "choropleth": [
           {
            "colorbar": {
             "outlinewidth": 0,
             "ticks": ""
            },
            "type": "choropleth"
           }
          ],
          "contour": [
           {
            "colorbar": {
             "outlinewidth": 0,
             "ticks": ""
            },
            "colorscale": [
             [
              0,
              "#0d0887"
             ],
             [
              0.1111111111111111,
              "#46039f"
             ],
             [
              0.2222222222222222,
              "#7201a8"
             ],
             [
              0.3333333333333333,
              "#9c179e"
             ],
             [
              0.4444444444444444,
              "#bd3786"
             ],
             [
              0.5555555555555556,
              "#d8576b"
             ],
             [
              0.6666666666666666,
              "#ed7953"
             ],
             [
              0.7777777777777778,
              "#fb9f3a"
             ],
             [
              0.8888888888888888,
              "#fdca26"
             ],
             [
              1,
              "#f0f921"
             ]
            ],
            "type": "contour"
           }
          ],
          "contourcarpet": [
           {
            "colorbar": {
             "outlinewidth": 0,
             "ticks": ""
            },
            "type": "contourcarpet"
           }
          ],
          "heatmap": [
           {
            "colorbar": {
             "outlinewidth": 0,
             "ticks": ""
            },
            "colorscale": [
             [
              0,
              "#0d0887"
             ],
             [
              0.1111111111111111,
              "#46039f"
             ],
             [
              0.2222222222222222,
              "#7201a8"
             ],
             [
              0.3333333333333333,
              "#9c179e"
             ],
             [
              0.4444444444444444,
              "#bd3786"
             ],
             [
              0.5555555555555556,
              "#d8576b"
             ],
             [
              0.6666666666666666,
              "#ed7953"
             ],
             [
              0.7777777777777778,
              "#fb9f3a"
             ],
             [
              0.8888888888888888,
              "#fdca26"
             ],
             [
              1,
              "#f0f921"
             ]
            ],
            "type": "heatmap"
           }
          ],
          "heatmapgl": [
           {
            "colorbar": {
             "outlinewidth": 0,
             "ticks": ""
            },
            "colorscale": [
             [
              0,
              "#0d0887"
             ],
             [
              0.1111111111111111,
              "#46039f"
             ],
             [
              0.2222222222222222,
              "#7201a8"
             ],
             [
              0.3333333333333333,
              "#9c179e"
             ],
             [
              0.4444444444444444,
              "#bd3786"
             ],
             [
              0.5555555555555556,
              "#d8576b"
             ],
             [
              0.6666666666666666,
              "#ed7953"
             ],
             [
              0.7777777777777778,
              "#fb9f3a"
             ],
             [
              0.8888888888888888,
              "#fdca26"
             ],
             [
              1,
              "#f0f921"
             ]
            ],
            "type": "heatmapgl"
           }
          ],
          "histogram": [
           {
            "marker": {
             "pattern": {
              "fillmode": "overlay",
              "size": 10,
              "solidity": 0.2
             }
            },
            "type": "histogram"
           }
          ],
          "histogram2d": [
           {
            "colorbar": {
             "outlinewidth": 0,
             "ticks": ""
            },
            "colorscale": [
             [
              0,
              "#0d0887"
             ],
             [
              0.1111111111111111,
              "#46039f"
             ],
             [
              0.2222222222222222,
              "#7201a8"
             ],
             [
              0.3333333333333333,
              "#9c179e"
             ],
             [
              0.4444444444444444,
              "#bd3786"
             ],
             [
              0.5555555555555556,
              "#d8576b"
             ],
             [
              0.6666666666666666,
              "#ed7953"
             ],
             [
              0.7777777777777778,
              "#fb9f3a"
             ],
             [
              0.8888888888888888,
              "#fdca26"
             ],
             [
              1,
              "#f0f921"
             ]
            ],
            "type": "histogram2d"
           }
          ],
          "histogram2dcontour": [
           {
            "colorbar": {
             "outlinewidth": 0,
             "ticks": ""
            },
            "colorscale": [
             [
              0,
              "#0d0887"
             ],
             [
              0.1111111111111111,
              "#46039f"
             ],
             [
              0.2222222222222222,
              "#7201a8"
             ],
             [
              0.3333333333333333,
              "#9c179e"
             ],
             [
              0.4444444444444444,
              "#bd3786"
             ],
             [
              0.5555555555555556,
              "#d8576b"
             ],
             [
              0.6666666666666666,
              "#ed7953"
             ],
             [
              0.7777777777777778,
              "#fb9f3a"
             ],
             [
              0.8888888888888888,
              "#fdca26"
             ],
             [
              1,
              "#f0f921"
             ]
            ],
            "type": "histogram2dcontour"
           }
          ],
          "mesh3d": [
           {
            "colorbar": {
             "outlinewidth": 0,
             "ticks": ""
            },
            "type": "mesh3d"
           }
          ],
          "parcoords": [
           {
            "line": {
             "colorbar": {
              "outlinewidth": 0,
              "ticks": ""
             }
            },
            "type": "parcoords"
           }
          ],
          "pie": [
           {
            "automargin": true,
            "type": "pie"
           }
          ],
          "scatter": [
           {
            "marker": {
             "colorbar": {
              "outlinewidth": 0,
              "ticks": ""
             }
            },
            "type": "scatter"
           }
          ],
          "scatter3d": [
           {
            "line": {
             "colorbar": {
              "outlinewidth": 0,
              "ticks": ""
             }
            },
            "marker": {
             "colorbar": {
              "outlinewidth": 0,
              "ticks": ""
             }
            },
            "type": "scatter3d"
           }
          ],
          "scattercarpet": [
           {
            "marker": {
             "colorbar": {
              "outlinewidth": 0,
              "ticks": ""
             }
            },
            "type": "scattercarpet"
           }
          ],
          "scattergeo": [
           {
            "marker": {
             "colorbar": {
              "outlinewidth": 0,
              "ticks": ""
             }
            },
            "type": "scattergeo"
           }
          ],
          "scattergl": [
           {
            "marker": {
             "colorbar": {
              "outlinewidth": 0,
              "ticks": ""
             }
            },
            "type": "scattergl"
           }
          ],
          "scattermapbox": [
           {
            "marker": {
             "colorbar": {
              "outlinewidth": 0,
              "ticks": ""
             }
            },
            "type": "scattermapbox"
           }
          ],
          "scatterpolar": [
           {
            "marker": {
             "colorbar": {
              "outlinewidth": 0,
              "ticks": ""
             }
            },
            "type": "scatterpolar"
           }
          ],
          "scatterpolargl": [
           {
            "marker": {
             "colorbar": {
              "outlinewidth": 0,
              "ticks": ""
             }
            },
            "type": "scatterpolargl"
           }
          ],
          "scatterternary": [
           {
            "marker": {
             "colorbar": {
              "outlinewidth": 0,
              "ticks": ""
             }
            },
            "type": "scatterternary"
           }
          ],
          "surface": [
           {
            "colorbar": {
             "outlinewidth": 0,
             "ticks": ""
            },
            "colorscale": [
             [
              0,
              "#0d0887"
             ],
             [
              0.1111111111111111,
              "#46039f"
             ],
             [
              0.2222222222222222,
              "#7201a8"
             ],
             [
              0.3333333333333333,
              "#9c179e"
             ],
             [
              0.4444444444444444,
              "#bd3786"
             ],
             [
              0.5555555555555556,
              "#d8576b"
             ],
             [
              0.6666666666666666,
              "#ed7953"
             ],
             [
              0.7777777777777778,
              "#fb9f3a"
             ],
             [
              0.8888888888888888,
              "#fdca26"
             ],
             [
              1,
              "#f0f921"
             ]
            ],
            "type": "surface"
           }
          ],
          "table": [
           {
            "cells": {
             "fill": {
              "color": "#EBF0F8"
             },
             "line": {
              "color": "white"
             }
            },
            "header": {
             "fill": {
              "color": "#C8D4E3"
             },
             "line": {
              "color": "white"
             }
            },
            "type": "table"
           }
          ]
         },
         "layout": {
          "annotationdefaults": {
           "arrowcolor": "#2a3f5f",
           "arrowhead": 0,
           "arrowwidth": 1
          },
          "autotypenumbers": "strict",
          "coloraxis": {
           "colorbar": {
            "outlinewidth": 0,
            "ticks": ""
           }
          },
          "colorscale": {
           "diverging": [
            [
             0,
             "#8e0152"
            ],
            [
             0.1,
             "#c51b7d"
            ],
            [
             0.2,
             "#de77ae"
            ],
            [
             0.3,
             "#f1b6da"
            ],
            [
             0.4,
             "#fde0ef"
            ],
            [
             0.5,
             "#f7f7f7"
            ],
            [
             0.6,
             "#e6f5d0"
            ],
            [
             0.7,
             "#b8e186"
            ],
            [
             0.8,
             "#7fbc41"
            ],
            [
             0.9,
             "#4d9221"
            ],
            [
             1,
             "#276419"
            ]
           ],
           "sequential": [
            [
             0,
             "#0d0887"
            ],
            [
             0.1111111111111111,
             "#46039f"
            ],
            [
             0.2222222222222222,
             "#7201a8"
            ],
            [
             0.3333333333333333,
             "#9c179e"
            ],
            [
             0.4444444444444444,
             "#bd3786"
            ],
            [
             0.5555555555555556,
             "#d8576b"
            ],
            [
             0.6666666666666666,
             "#ed7953"
            ],
            [
             0.7777777777777778,
             "#fb9f3a"
            ],
            [
             0.8888888888888888,
             "#fdca26"
            ],
            [
             1,
             "#f0f921"
            ]
           ],
           "sequentialminus": [
            [
             0,
             "#0d0887"
            ],
            [
             0.1111111111111111,
             "#46039f"
            ],
            [
             0.2222222222222222,
             "#7201a8"
            ],
            [
             0.3333333333333333,
             "#9c179e"
            ],
            [
             0.4444444444444444,
             "#bd3786"
            ],
            [
             0.5555555555555556,
             "#d8576b"
            ],
            [
             0.6666666666666666,
             "#ed7953"
            ],
            [
             0.7777777777777778,
             "#fb9f3a"
            ],
            [
             0.8888888888888888,
             "#fdca26"
            ],
            [
             1,
             "#f0f921"
            ]
           ]
          },
          "colorway": [
           "#636efa",
           "#EF553B",
           "#00cc96",
           "#ab63fa",
           "#FFA15A",
           "#19d3f3",
           "#FF6692",
           "#B6E880",
           "#FF97FF",
           "#FECB52"
          ],
          "font": {
           "color": "#2a3f5f"
          },
          "geo": {
           "bgcolor": "white",
           "lakecolor": "white",
           "landcolor": "#E5ECF6",
           "showlakes": true,
           "showland": true,
           "subunitcolor": "white"
          },
          "hoverlabel": {
           "align": "left"
          },
          "hovermode": "closest",
          "mapbox": {
           "style": "light"
          },
          "paper_bgcolor": "white",
          "plot_bgcolor": "#E5ECF6",
          "polar": {
           "angularaxis": {
            "gridcolor": "white",
            "linecolor": "white",
            "ticks": ""
           },
           "bgcolor": "#E5ECF6",
           "radialaxis": {
            "gridcolor": "white",
            "linecolor": "white",
            "ticks": ""
           }
          },
          "scene": {
           "xaxis": {
            "backgroundcolor": "#E5ECF6",
            "gridcolor": "white",
            "gridwidth": 2,
            "linecolor": "white",
            "showbackground": true,
            "ticks": "",
            "zerolinecolor": "white"
           },
           "yaxis": {
            "backgroundcolor": "#E5ECF6",
            "gridcolor": "white",
            "gridwidth": 2,
            "linecolor": "white",
            "showbackground": true,
            "ticks": "",
            "zerolinecolor": "white"
           },
           "zaxis": {
            "backgroundcolor": "#E5ECF6",
            "gridcolor": "white",
            "gridwidth": 2,
            "linecolor": "white",
            "showbackground": true,
            "ticks": "",
            "zerolinecolor": "white"
           }
          },
          "shapedefaults": {
           "line": {
            "color": "#2a3f5f"
           }
          },
          "ternary": {
           "aaxis": {
            "gridcolor": "white",
            "linecolor": "white",
            "ticks": ""
           },
           "baxis": {
            "gridcolor": "white",
            "linecolor": "white",
            "ticks": ""
           },
           "bgcolor": "#E5ECF6",
           "caxis": {
            "gridcolor": "white",
            "linecolor": "white",
            "ticks": ""
           }
          },
          "title": {
           "x": 0.05
          },
          "xaxis": {
           "automargin": true,
           "gridcolor": "white",
           "linecolor": "white",
           "ticks": "",
           "title": {
            "standoff": 15
           },
           "zerolinecolor": "white",
           "zerolinewidth": 2
          },
          "yaxis": {
           "automargin": true,
           "gridcolor": "white",
           "linecolor": "white",
           "ticks": "",
           "title": {
            "standoff": 15
           },
           "zerolinecolor": "white",
           "zerolinewidth": 2
          }
         }
        },
        "title": {
         "font": {
          "color": "#4D5663"
         }
        },
        "xaxis": {
         "gridcolor": "#E1E5ED",
         "showgrid": true,
         "tickfont": {
          "color": "#4D5663"
         },
         "title": {
          "font": {
           "color": "#4D5663"
          },
          "text": ""
         },
         "zerolinecolor": "#E1E5ED"
        },
        "yaxis": {
         "gridcolor": "#E1E5ED",
         "showgrid": true,
         "tickfont": {
          "color": "#4D5663"
         },
         "title": {
          "font": {
           "color": "#4D5663"
          },
          "text": ""
         },
         "zerolinecolor": "#E1E5ED"
        }
       }
      },
      "text/html": [
       "<div>                            <div id=\"29f53387-d670-41fc-b189-814f630c5cbb\" class=\"plotly-graph-div\" style=\"height:525px; width:100%;\"></div>            <script type=\"text/javascript\">                require([\"plotly\"], function(Plotly) {                    window.PLOTLYENV=window.PLOTLYENV || {};\n",
       "                    window.PLOTLYENV.BASE_URL='https://plot.ly';                                    if (document.getElementById(\"29f53387-d670-41fc-b189-814f630c5cbb\")) {                    Plotly.newPlot(                        \"29f53387-d670-41fc-b189-814f630c5cbb\",                        [{\"colorscale\":[[0.0,\"rgb(165,0,38)\"],[0.1,\"rgb(215,48,39)\"],[0.2,\"rgb(244,109,67)\"],[0.3,\"rgb(253,174,97)\"],[0.4,\"rgb(254,224,144)\"],[0.5,\"rgb(255,255,191)\"],[0.6,\"rgb(224,243,248)\"],[0.7,\"rgb(171,217,233)\"],[0.8,\"rgb(116,173,209)\"],[0.9,\"rgb(69,117,180)\"],[1.0,\"rgb(49,54,149)\"]],\"x\":[0,1,2,3,4],\"y\":[\"x\",\"y\",\"z\"],\"z\":[[1,2,3,4,5],[10,20,30,20,10],[5,4,3,2,1]],\"type\":\"surface\"}],                        {\"legend\":{\"bgcolor\":\"#F5F6F9\",\"font\":{\"color\":\"#4D5663\"}},\"paper_bgcolor\":\"#F5F6F9\",\"plot_bgcolor\":\"#F5F6F9\",\"template\":{\"data\":{\"barpolar\":[{\"marker\":{\"line\":{\"color\":\"#E5ECF6\",\"width\":0.5},\"pattern\":{\"fillmode\":\"overlay\",\"size\":10,\"solidity\":0.2}},\"type\":\"barpolar\"}],\"bar\":[{\"error_x\":{\"color\":\"#2a3f5f\"},\"error_y\":{\"color\":\"#2a3f5f\"},\"marker\":{\"line\":{\"color\":\"#E5ECF6\",\"width\":0.5},\"pattern\":{\"fillmode\":\"overlay\",\"size\":10,\"solidity\":0.2}},\"type\":\"bar\"}],\"carpet\":[{\"aaxis\":{\"endlinecolor\":\"#2a3f5f\",\"gridcolor\":\"white\",\"linecolor\":\"white\",\"minorgridcolor\":\"white\",\"startlinecolor\":\"#2a3f5f\"},\"baxis\":{\"endlinecolor\":\"#2a3f5f\",\"gridcolor\":\"white\",\"linecolor\":\"white\",\"minorgridcolor\":\"white\",\"startlinecolor\":\"#2a3f5f\"},\"type\":\"carpet\"}],\"choropleth\":[{\"colorbar\":{\"outlinewidth\":0,\"ticks\":\"\"},\"type\":\"choropleth\"}],\"contourcarpet\":[{\"colorbar\":{\"outlinewidth\":0,\"ticks\":\"\"},\"type\":\"contourcarpet\"}],\"contour\":[{\"colorbar\":{\"outlinewidth\":0,\"ticks\":\"\"},\"colorscale\":[[0.0,\"#0d0887\"],[0.1111111111111111,\"#46039f\"],[0.2222222222222222,\"#7201a8\"],[0.3333333333333333,\"#9c179e\"],[0.4444444444444444,\"#bd3786\"],[0.5555555555555556,\"#d8576b\"],[0.6666666666666666,\"#ed7953\"],[0.7777777777777778,\"#fb9f3a\"],[0.8888888888888888,\"#fdca26\"],[1.0,\"#f0f921\"]],\"type\":\"contour\"}],\"heatmapgl\":[{\"colorbar\":{\"outlinewidth\":0,\"ticks\":\"\"},\"colorscale\":[[0.0,\"#0d0887\"],[0.1111111111111111,\"#46039f\"],[0.2222222222222222,\"#7201a8\"],[0.3333333333333333,\"#9c179e\"],[0.4444444444444444,\"#bd3786\"],[0.5555555555555556,\"#d8576b\"],[0.6666666666666666,\"#ed7953\"],[0.7777777777777778,\"#fb9f3a\"],[0.8888888888888888,\"#fdca26\"],[1.0,\"#f0f921\"]],\"type\":\"heatmapgl\"}],\"heatmap\":[{\"colorbar\":{\"outlinewidth\":0,\"ticks\":\"\"},\"colorscale\":[[0.0,\"#0d0887\"],[0.1111111111111111,\"#46039f\"],[0.2222222222222222,\"#7201a8\"],[0.3333333333333333,\"#9c179e\"],[0.4444444444444444,\"#bd3786\"],[0.5555555555555556,\"#d8576b\"],[0.6666666666666666,\"#ed7953\"],[0.7777777777777778,\"#fb9f3a\"],[0.8888888888888888,\"#fdca26\"],[1.0,\"#f0f921\"]],\"type\":\"heatmap\"}],\"histogram2dcontour\":[{\"colorbar\":{\"outlinewidth\":0,\"ticks\":\"\"},\"colorscale\":[[0.0,\"#0d0887\"],[0.1111111111111111,\"#46039f\"],[0.2222222222222222,\"#7201a8\"],[0.3333333333333333,\"#9c179e\"],[0.4444444444444444,\"#bd3786\"],[0.5555555555555556,\"#d8576b\"],[0.6666666666666666,\"#ed7953\"],[0.7777777777777778,\"#fb9f3a\"],[0.8888888888888888,\"#fdca26\"],[1.0,\"#f0f921\"]],\"type\":\"histogram2dcontour\"}],\"histogram2d\":[{\"colorbar\":{\"outlinewidth\":0,\"ticks\":\"\"},\"colorscale\":[[0.0,\"#0d0887\"],[0.1111111111111111,\"#46039f\"],[0.2222222222222222,\"#7201a8\"],[0.3333333333333333,\"#9c179e\"],[0.4444444444444444,\"#bd3786\"],[0.5555555555555556,\"#d8576b\"],[0.6666666666666666,\"#ed7953\"],[0.7777777777777778,\"#fb9f3a\"],[0.8888888888888888,\"#fdca26\"],[1.0,\"#f0f921\"]],\"type\":\"histogram2d\"}],\"histogram\":[{\"marker\":{\"pattern\":{\"fillmode\":\"overlay\",\"size\":10,\"solidity\":0.2}},\"type\":\"histogram\"}],\"mesh3d\":[{\"colorbar\":{\"outlinewidth\":0,\"ticks\":\"\"},\"type\":\"mesh3d\"}],\"parcoords\":[{\"line\":{\"colorbar\":{\"outlinewidth\":0,\"ticks\":\"\"}},\"type\":\"parcoords\"}],\"pie\":[{\"automargin\":true,\"type\":\"pie\"}],\"scatter3d\":[{\"line\":{\"colorbar\":{\"outlinewidth\":0,\"ticks\":\"\"}},\"marker\":{\"colorbar\":{\"outlinewidth\":0,\"ticks\":\"\"}},\"type\":\"scatter3d\"}],\"scattercarpet\":[{\"marker\":{\"colorbar\":{\"outlinewidth\":0,\"ticks\":\"\"}},\"type\":\"scattercarpet\"}],\"scattergeo\":[{\"marker\":{\"colorbar\":{\"outlinewidth\":0,\"ticks\":\"\"}},\"type\":\"scattergeo\"}],\"scattergl\":[{\"marker\":{\"colorbar\":{\"outlinewidth\":0,\"ticks\":\"\"}},\"type\":\"scattergl\"}],\"scattermapbox\":[{\"marker\":{\"colorbar\":{\"outlinewidth\":0,\"ticks\":\"\"}},\"type\":\"scattermapbox\"}],\"scatterpolargl\":[{\"marker\":{\"colorbar\":{\"outlinewidth\":0,\"ticks\":\"\"}},\"type\":\"scatterpolargl\"}],\"scatterpolar\":[{\"marker\":{\"colorbar\":{\"outlinewidth\":0,\"ticks\":\"\"}},\"type\":\"scatterpolar\"}],\"scatter\":[{\"marker\":{\"colorbar\":{\"outlinewidth\":0,\"ticks\":\"\"}},\"type\":\"scatter\"}],\"scatterternary\":[{\"marker\":{\"colorbar\":{\"outlinewidth\":0,\"ticks\":\"\"}},\"type\":\"scatterternary\"}],\"surface\":[{\"colorbar\":{\"outlinewidth\":0,\"ticks\":\"\"},\"colorscale\":[[0.0,\"#0d0887\"],[0.1111111111111111,\"#46039f\"],[0.2222222222222222,\"#7201a8\"],[0.3333333333333333,\"#9c179e\"],[0.4444444444444444,\"#bd3786\"],[0.5555555555555556,\"#d8576b\"],[0.6666666666666666,\"#ed7953\"],[0.7777777777777778,\"#fb9f3a\"],[0.8888888888888888,\"#fdca26\"],[1.0,\"#f0f921\"]],\"type\":\"surface\"}],\"table\":[{\"cells\":{\"fill\":{\"color\":\"#EBF0F8\"},\"line\":{\"color\":\"white\"}},\"header\":{\"fill\":{\"color\":\"#C8D4E3\"},\"line\":{\"color\":\"white\"}},\"type\":\"table\"}]},\"layout\":{\"annotationdefaults\":{\"arrowcolor\":\"#2a3f5f\",\"arrowhead\":0,\"arrowwidth\":1},\"autotypenumbers\":\"strict\",\"coloraxis\":{\"colorbar\":{\"outlinewidth\":0,\"ticks\":\"\"}},\"colorscale\":{\"diverging\":[[0,\"#8e0152\"],[0.1,\"#c51b7d\"],[0.2,\"#de77ae\"],[0.3,\"#f1b6da\"],[0.4,\"#fde0ef\"],[0.5,\"#f7f7f7\"],[0.6,\"#e6f5d0\"],[0.7,\"#b8e186\"],[0.8,\"#7fbc41\"],[0.9,\"#4d9221\"],[1,\"#276419\"]],\"sequential\":[[0.0,\"#0d0887\"],[0.1111111111111111,\"#46039f\"],[0.2222222222222222,\"#7201a8\"],[0.3333333333333333,\"#9c179e\"],[0.4444444444444444,\"#bd3786\"],[0.5555555555555556,\"#d8576b\"],[0.6666666666666666,\"#ed7953\"],[0.7777777777777778,\"#fb9f3a\"],[0.8888888888888888,\"#fdca26\"],[1.0,\"#f0f921\"]],\"sequentialminus\":[[0.0,\"#0d0887\"],[0.1111111111111111,\"#46039f\"],[0.2222222222222222,\"#7201a8\"],[0.3333333333333333,\"#9c179e\"],[0.4444444444444444,\"#bd3786\"],[0.5555555555555556,\"#d8576b\"],[0.6666666666666666,\"#ed7953\"],[0.7777777777777778,\"#fb9f3a\"],[0.8888888888888888,\"#fdca26\"],[1.0,\"#f0f921\"]]},\"colorway\":[\"#636efa\",\"#EF553B\",\"#00cc96\",\"#ab63fa\",\"#FFA15A\",\"#19d3f3\",\"#FF6692\",\"#B6E880\",\"#FF97FF\",\"#FECB52\"],\"font\":{\"color\":\"#2a3f5f\"},\"geo\":{\"bgcolor\":\"white\",\"lakecolor\":\"white\",\"landcolor\":\"#E5ECF6\",\"showlakes\":true,\"showland\":true,\"subunitcolor\":\"white\"},\"hoverlabel\":{\"align\":\"left\"},\"hovermode\":\"closest\",\"mapbox\":{\"style\":\"light\"},\"paper_bgcolor\":\"white\",\"plot_bgcolor\":\"#E5ECF6\",\"polar\":{\"angularaxis\":{\"gridcolor\":\"white\",\"linecolor\":\"white\",\"ticks\":\"\"},\"bgcolor\":\"#E5ECF6\",\"radialaxis\":{\"gridcolor\":\"white\",\"linecolor\":\"white\",\"ticks\":\"\"}},\"scene\":{\"xaxis\":{\"backgroundcolor\":\"#E5ECF6\",\"gridcolor\":\"white\",\"gridwidth\":2,\"linecolor\":\"white\",\"showbackground\":true,\"ticks\":\"\",\"zerolinecolor\":\"white\"},\"yaxis\":{\"backgroundcolor\":\"#E5ECF6\",\"gridcolor\":\"white\",\"gridwidth\":2,\"linecolor\":\"white\",\"showbackground\":true,\"ticks\":\"\",\"zerolinecolor\":\"white\"},\"zaxis\":{\"backgroundcolor\":\"#E5ECF6\",\"gridcolor\":\"white\",\"gridwidth\":2,\"linecolor\":\"white\",\"showbackground\":true,\"ticks\":\"\",\"zerolinecolor\":\"white\"}},\"shapedefaults\":{\"line\":{\"color\":\"#2a3f5f\"}},\"ternary\":{\"aaxis\":{\"gridcolor\":\"white\",\"linecolor\":\"white\",\"ticks\":\"\"},\"baxis\":{\"gridcolor\":\"white\",\"linecolor\":\"white\",\"ticks\":\"\"},\"bgcolor\":\"#E5ECF6\",\"caxis\":{\"gridcolor\":\"white\",\"linecolor\":\"white\",\"ticks\":\"\"}},\"title\":{\"x\":0.05},\"xaxis\":{\"automargin\":true,\"gridcolor\":\"white\",\"linecolor\":\"white\",\"ticks\":\"\",\"title\":{\"standoff\":15},\"zerolinecolor\":\"white\",\"zerolinewidth\":2},\"yaxis\":{\"automargin\":true,\"gridcolor\":\"white\",\"linecolor\":\"white\",\"ticks\":\"\",\"title\":{\"standoff\":15},\"zerolinecolor\":\"white\",\"zerolinewidth\":2}}},\"title\":{\"font\":{\"color\":\"#4D5663\"}},\"xaxis\":{\"gridcolor\":\"#E1E5ED\",\"showgrid\":true,\"tickfont\":{\"color\":\"#4D5663\"},\"title\":{\"font\":{\"color\":\"#4D5663\"},\"text\":\"\"},\"zerolinecolor\":\"#E1E5ED\"},\"yaxis\":{\"gridcolor\":\"#E1E5ED\",\"showgrid\":true,\"tickfont\":{\"color\":\"#4D5663\"},\"title\":{\"font\":{\"color\":\"#4D5663\"},\"text\":\"\"},\"zerolinecolor\":\"#E1E5ED\"}},                        {\"showLink\": true, \"linkText\": \"Export to plot.ly\", \"plotlyServerURL\": \"https://plot.ly\", \"responsive\": true}                    ).then(function(){\n",
       "                            \n",
       "var gd = document.getElementById('29f53387-d670-41fc-b189-814f630c5cbb');\n",
       "var x = new MutationObserver(function (mutations, observer) {{\n",
       "        var display = window.getComputedStyle(gd).display;\n",
       "        if (!display || display === 'none') {{\n",
       "            console.log([gd, 'removed!']);\n",
       "            Plotly.purge(gd);\n",
       "            observer.disconnect();\n",
       "        }}\n",
       "}});\n",
       "\n",
       "// Listen for the removal of the full notebook cells\n",
       "var notebookContainer = gd.closest('#notebook-container');\n",
       "if (notebookContainer) {{\n",
       "    x.observe(notebookContainer, {childList: true});\n",
       "}}\n",
       "\n",
       "// Listen for the clearing of the current output cell\n",
       "var outputEl = gd.closest('.output');\n",
       "if (outputEl) {{\n",
       "    x.observe(outputEl, {childList: true});\n",
       "}}\n",
       "\n",
       "                        })                };                });            </script>        </div>"
      ]
     },
     "metadata": {},
     "output_type": "display_data"
    }
   ],
   "source": [
    "df3 = pd.DataFrame({'x':[1,2,3,4,5],'y':[10,20,30,20,10],'z':[5,4,3,2,1]})\n",
    "df3.iplot(kind='surface',colorscale='rdylbu')"
   ]
  },
  {
   "cell_type": "markdown",
   "id": "4313336b",
   "metadata": {},
   "source": [
    "## Spread"
   ]
  },
  {
   "cell_type": "code",
   "execution_count": 15,
   "id": "2650c6ab",
   "metadata": {},
   "outputs": [
    {
     "name": "stderr",
     "output_type": "stream",
     "text": [
      "C:\\Users\\kkopalley\\Anaconda3\\lib\\site-packages\\cufflinks\\plotlytools.py:849: FutureWarning:\n",
      "\n",
      "The pandas.np module is deprecated and will be removed from pandas in a future version. Import numpy directly instead.\n",
      "\n",
      "C:\\Users\\kkopalley\\Anaconda3\\lib\\site-packages\\cufflinks\\plotlytools.py:850: FutureWarning:\n",
      "\n",
      "The pandas.np module is deprecated and will be removed from pandas in a future version. Import numpy directly instead.\n",
      "\n"
     ]
    },
    {
     "data": {
      "application/vnd.plotly.v1+json": {
       "config": {
        "linkText": "Export to plot.ly",
        "plotlyServerURL": "https://plot.ly",
        "showLink": true
       },
       "data": [
        {
         "line": {
          "color": "rgba(255, 153, 51, 1.0)",
          "dash": "solid",
          "shape": "linear",
          "width": 1.3
         },
         "mode": "lines",
         "name": "A",
         "text": "",
         "type": "scatter",
         "x": [
          0,
          1,
          2,
          3,
          4,
          5,
          6,
          7,
          8,
          9,
          10,
          11,
          12,
          13,
          14,
          15,
          16,
          17,
          18,
          19,
          20,
          21,
          22,
          23,
          24,
          25,
          26,
          27,
          28,
          29,
          30,
          31,
          32,
          33,
          34,
          35,
          36,
          37,
          38,
          39,
          40,
          41,
          42,
          43,
          44,
          45,
          46,
          47,
          48,
          49,
          50,
          51,
          52,
          53,
          54,
          55,
          56,
          57,
          58,
          59,
          60,
          61,
          62,
          63,
          64,
          65,
          66,
          67,
          68,
          69,
          70,
          71,
          72,
          73,
          74,
          75,
          76,
          77,
          78,
          79,
          80,
          81,
          82,
          83,
          84,
          85,
          86,
          87,
          88,
          89,
          90,
          91,
          92,
          93,
          94,
          95,
          96,
          97,
          98,
          99
         ],
         "y": [
          0.18949412131357618,
          -0.4394056773665876,
          1.5235003132506255,
          0.03645250031559109,
          -0.48017680332678986,
          -0.32940801574654444,
          -0.8336585198060829,
          2.1104829932351987,
          -2.1774759403114543,
          -1.4552810678704107,
          -0.3946340137520746,
          -0.7958997396105878,
          -2.1941249569910184,
          -0.3186755756858305,
          -1.0762861726059367,
          0.5160715236107142,
          0.5354240028958203,
          0.24474634754970445,
          2.1593382645363524,
          -2.459688200120283,
          2.2033163680127856,
          0.12741013120035052,
          -0.7426413044529445,
          -0.708915270693794,
          -1.7366906383070453,
          -0.3278091707347793,
          -0.019161214804460824,
          -0.10350391076144248,
          0.443003384937299,
          -0.3021624753184853,
          -0.26540709330297957,
          1.1177682728198786,
          -0.6555808314273678,
          -2.0513962145269367,
          -0.007283680343075513,
          -1.7345390153967326,
          0.6526293553788296,
          0.8797043755381333,
          -0.40446628152172,
          0.40015659679998383,
          1.3501402445869597,
          -1.681402939901821,
          0.37687631215522416,
          1.530406066859981,
          0.27376913231487043,
          0.11859151200966923,
          0.18998151104134484,
          1.239771620051365,
          -0.013067258817813692,
          -0.4342760602897146,
          -0.22768423864144938,
          -0.08712007886114415,
          -1.3953429851893069,
          -1.1346627058287775,
          1.717402994668382,
          -0.8202332848774089,
          -0.4210331992705946,
          -0.06266365801889973,
          -0.1076343228449331,
          -0.46753029808332414,
          0.465339121662231,
          0.05686260034364659,
          0.6689353752755711,
          -1.3749096285081572,
          1.0644486040242718,
          1.0029108097495154,
          -0.4756234878591175,
          -0.7573283389084694,
          1.553314742784835,
          0.9327235406491218,
          -0.5432611240893911,
          0.9375595028153989,
          0.6479726183862607,
          -1.6193215495623614,
          0.42468213572515945,
          0.4442854952443643,
          -0.4430216955740655,
          -0.3313723025358653,
          -0.5164036122879947,
          -0.1426294244580413,
          0.34861880298974646,
          2.491239497816553,
          -1.2708676958205198,
          1.2439173121325637,
          -0.2531066585596569,
          0.3986080862101964,
          1.559031756752641,
          -0.8451994271388271,
          0.6244513110895351,
          -0.20836122736152812,
          -1.5593960284306796,
          1.0027652648558283,
          0.6678453706840629,
          0.9019731286521746,
          0.49217666164481805,
          -0.2537409869513799,
          0.7236090940111436,
          0.046759497044002236,
          -0.5975669662202538,
          -0.78915850866316
         ]
        },
        {
         "line": {
          "color": "rgba(55, 128, 191, 1.0)",
          "dash": "solid",
          "shape": "linear",
          "width": 1.3
         },
         "mode": "lines",
         "name": "B",
         "text": "",
         "type": "scatter",
         "x": [
          0,
          1,
          2,
          3,
          4,
          5,
          6,
          7,
          8,
          9,
          10,
          11,
          12,
          13,
          14,
          15,
          16,
          17,
          18,
          19,
          20,
          21,
          22,
          23,
          24,
          25,
          26,
          27,
          28,
          29,
          30,
          31,
          32,
          33,
          34,
          35,
          36,
          37,
          38,
          39,
          40,
          41,
          42,
          43,
          44,
          45,
          46,
          47,
          48,
          49,
          50,
          51,
          52,
          53,
          54,
          55,
          56,
          57,
          58,
          59,
          60,
          61,
          62,
          63,
          64,
          65,
          66,
          67,
          68,
          69,
          70,
          71,
          72,
          73,
          74,
          75,
          76,
          77,
          78,
          79,
          80,
          81,
          82,
          83,
          84,
          85,
          86,
          87,
          88,
          89,
          90,
          91,
          92,
          93,
          94,
          95,
          96,
          97,
          98,
          99
         ],
         "y": [
          -0.3837044654152856,
          0.795222058544091,
          -1.088639124538044,
          1.2717431343417127,
          -0.425142084846673,
          0.064182302033947,
          1.4362888057989984,
          -0.1500476658943807,
          -1.5718151705858465,
          -1.1951812086435607,
          0.22860843548074822,
          -0.12492214308168757,
          -0.2867367492193972,
          -0.5736239558678975,
          1.389341530883104,
          -0.6861898267335519,
          -1.5311373341612782,
          -0.8512089705281984,
          -1.4559541518556975,
          -1.1001623087846037,
          0.8979100173243162,
          0.12116953775102157,
          0.008534083166311771,
          0.8564629305816837,
          -0.5811640716666194,
          -1.2080292257019134,
          -0.2349761867338796,
          0.5544460777568961,
          -1.0713239222958086,
          -0.5880653881769333,
          1.455833425930843,
          1.798690383630041,
          -0.33646470904540654,
          -0.3672634840646152,
          -1.172864741624129,
          0.5837329271770997,
          -2.2382359822608637,
          0.18016433857511283,
          0.9536368045497337,
          -1.0800463778552765,
          -0.8317221994239206,
          1.282796438795336,
          -0.29336799070174174,
          0.15886220818261743,
          0.38201782187711153,
          1.4359852720915571,
          0.12325985697339818,
          -1.2571112124983932,
          -0.6820456832743963,
          0.6549877845727778,
          1.7480017358816617,
          -0.417778286260563,
          -1.6706045656026176,
          -0.32449160626856594,
          0.04941441532003659,
          1.2301955880270588,
          0.5549576648122474,
          0.5087348321498013,
          -0.5251299669479592,
          -0.7226843478772803,
          2.166721876878339,
          1.1802593126083956,
          -1.538186484092452,
          -0.9373214000293492,
          2.507394228500375,
          1.1453156950783623,
          -0.3900336491592565,
          -1.2294025551628793,
          0.047153263572624386,
          -1.4132468018414466,
          -0.2490684669524338,
          -0.049467689607492635,
          0.32500434009912604,
          2.3848744017153285,
          1.5072496221876714,
          2.3374311490664765,
          0.24765502883674623,
          0.24345434946978872,
          -1.0754295259055462,
          -0.9253517607585953,
          -0.23061561620756169,
          0.9122603763478071,
          0.07761133731595166,
          -1.9670718895477557,
          0.7909040382082345,
          -1.164107142015901,
          -1.3600341936072617,
          1.0761877070356076,
          0.5910801172299857,
          -2.4683912167831474,
          0.9391003487905739,
          0.5833264172434889,
          0.7708157024485347,
          -0.5097944025738771,
          -1.1535830779289729,
          1.7235455685820171,
          2.0515347554626917,
          0.5810028348635923,
          -1.5039588573849996,
          1.1202156895522468
         ]
        },
        {
         "connectgaps": false,
         "fill": "tozeroy",
         "line": {
          "color": "green",
          "dash": "solid",
          "shape": "linear",
          "width": 0.5
         },
         "mode": "lines",
         "name": "Spread",
         "showlegend": false,
         "type": "scatter",
         "x": [
          0,
          1,
          2,
          3,
          4,
          5,
          6,
          7,
          8,
          9,
          10,
          11,
          12,
          13,
          14,
          15,
          16,
          17,
          18,
          19,
          20,
          21,
          22,
          23,
          24,
          25,
          26,
          27,
          28,
          29,
          30,
          31,
          32,
          33,
          34,
          35,
          36,
          37,
          38,
          39,
          40,
          41,
          42,
          43,
          44,
          45,
          46,
          47,
          48,
          49,
          50,
          51,
          52,
          53,
          54,
          55,
          56,
          57,
          58,
          59,
          60,
          61,
          62,
          63,
          64,
          65,
          66,
          67,
          68,
          69,
          70,
          71,
          72,
          73,
          74,
          75,
          76,
          77,
          78,
          79,
          80,
          81,
          82,
          83,
          84,
          85,
          86,
          87,
          88,
          89,
          90,
          91,
          92,
          93,
          94,
          95,
          96,
          97,
          98,
          99
         ],
         "xaxis": "x2",
         "y": [
          0.5731985867288618,
          "",
          2.6121394377886693,
          "",
          "",
          "",
          "",
          2.2605306591295795,
          "",
          "",
          "",
          "",
          "",
          0.254948380182067,
          "",
          1.202261350344266,
          2.0665613370570983,
          1.095955318077903,
          3.61529241639205,
          "",
          1.3054063506884694,
          0.006240593449328952,
          "",
          "",
          "",
          0.8802200549671342,
          0.2158149719294188,
          "",
          1.5143273072331076,
          0.28590291285844804,
          "",
          "",
          "",
          "",
          1.1655810612810533,
          "",
          2.8908653376396933,
          0.6995400369630205,
          "",
          1.4802029746552603,
          2.1818624440108803,
          "",
          0.6702443028569659,
          1.3715438586773636,
          "",
          "",
          0.06672165406794665,
          2.4968828325497583,
          0.6689784244565826,
          "",
          "",
          0.33065820739941887,
          0.2752615804133107,
          "",
          1.6679885793483453,
          "",
          "",
          "",
          0.4174956441030261,
          0.2551540497939562,
          "",
          "",
          2.207121859368023,
          "",
          "",
          "",
          "",
          0.47207421625440993,
          1.5061614792122107,
          2.3459703424905682,
          "",
          0.9870271924228915,
          0.3229682782871347,
          "",
          "",
          "",
          "",
          "",
          0.5590259136175515,
          0.782722336300554,
          0.5792344191973081,
          1.578979121468746,
          "",
          3.210989201680319,
          "",
          1.5627152282260974,
          2.9190659503599026,
          "",
          0.03337119385954945,
          2.260029989421619,
          "",
          0.4194388476123394,
          "",
          1.4117675312260518,
          1.6457597395737908,
          "",
          "",
          "",
          0.9063918911647457,
          ""
         ],
         "yaxis": "y2"
        },
        {
         "connectgaps": false,
         "fill": "tozeroy",
         "line": {
          "color": "red",
          "dash": "solid",
          "shape": "linear",
          "width": 0.5
         },
         "mode": "lines",
         "name": "Spread",
         "showlegend": false,
         "type": "scatter",
         "x": [
          0,
          1,
          2,
          3,
          4,
          5,
          6,
          7,
          8,
          9,
          10,
          11,
          12,
          13,
          14,
          15,
          16,
          17,
          18,
          19,
          20,
          21,
          22,
          23,
          24,
          25,
          26,
          27,
          28,
          29,
          30,
          31,
          32,
          33,
          34,
          35,
          36,
          37,
          38,
          39,
          40,
          41,
          42,
          43,
          44,
          45,
          46,
          47,
          48,
          49,
          50,
          51,
          52,
          53,
          54,
          55,
          56,
          57,
          58,
          59,
          60,
          61,
          62,
          63,
          64,
          65,
          66,
          67,
          68,
          69,
          70,
          71,
          72,
          73,
          74,
          75,
          76,
          77,
          78,
          79,
          80,
          81,
          82,
          83,
          84,
          85,
          86,
          87,
          88,
          89,
          90,
          91,
          92,
          93,
          94,
          95,
          96,
          97,
          98,
          99
         ],
         "xaxis": "x2",
         "y": [
          "",
          -1.2346277359106785,
          "",
          -1.2352906340261216,
          -0.05503471848011687,
          -0.3935903177804914,
          -2.2699473256050813,
          "",
          -0.6056607697256078,
          -0.26009985922684997,
          -0.6232424492328228,
          -0.6709775965289002,
          -1.9073882077716213,
          "",
          -2.465627703489041,
          "",
          "",
          "",
          "",
          -1.3595258913356791,
          "",
          "",
          -0.7511753876192563,
          -1.5653782012754776,
          -1.1555265666404257,
          "",
          "",
          -0.6579499885183386,
          "",
          "",
          -1.7212405192338225,
          -0.6809221108101624,
          -0.31911612238196124,
          -1.6841327304623215,
          "",
          -2.3182719425738325,
          "",
          "",
          -1.3581030860714536,
          "",
          "",
          -2.964199378697157,
          "",
          "",
          -0.1082486895622411,
          -1.317393760081888,
          "",
          "",
          "",
          -1.0892638448624925,
          -1.975685974523111,
          "",
          "",
          -0.8101710995602116,
          "",
          -2.0504288729044675,
          -0.9759908640828421,
          -0.571398490168701,
          "",
          "",
          -1.701382755216108,
          -1.123396712264749,
          "",
          -0.4375882284788081,
          -1.4429456244761034,
          -0.14240488532884688,
          -0.08558983869986103,
          "",
          "",
          "",
          -0.2941926571369573,
          "",
          "",
          -4.00419595127769,
          -1.082567486462512,
          -1.8931456538221123,
          -0.6906767244108117,
          -0.574826652005654,
          "",
          "",
          "",
          "",
          -1.3484790331364715,
          "",
          -1.0440106967678915,
          "",
          "",
          -1.9213871341744349,
          "",
          "",
          -2.4984963772212536,
          "",
          -0.10297033176447179,
          "",
          "",
          -1.977286555533397,
          -1.3279256614515482,
          -0.53424333781959,
          "",
          -1.9093741982154069
         ],
         "yaxis": "y2"
        }
       ],
       "layout": {
        "hovermode": "x",
        "legend": {
         "bgcolor": "#F5F6F9",
         "font": {
          "color": "#4D5663"
         }
        },
        "paper_bgcolor": "#F5F6F9",
        "plot_bgcolor": "#F5F6F9",
        "template": {
         "data": {
          "bar": [
           {
            "error_x": {
             "color": "#2a3f5f"
            },
            "error_y": {
             "color": "#2a3f5f"
            },
            "marker": {
             "line": {
              "color": "#E5ECF6",
              "width": 0.5
             },
             "pattern": {
              "fillmode": "overlay",
              "size": 10,
              "solidity": 0.2
             }
            },
            "type": "bar"
           }
          ],
          "barpolar": [
           {
            "marker": {
             "line": {
              "color": "#E5ECF6",
              "width": 0.5
             },
             "pattern": {
              "fillmode": "overlay",
              "size": 10,
              "solidity": 0.2
             }
            },
            "type": "barpolar"
           }
          ],
          "carpet": [
           {
            "aaxis": {
             "endlinecolor": "#2a3f5f",
             "gridcolor": "white",
             "linecolor": "white",
             "minorgridcolor": "white",
             "startlinecolor": "#2a3f5f"
            },
            "baxis": {
             "endlinecolor": "#2a3f5f",
             "gridcolor": "white",
             "linecolor": "white",
             "minorgridcolor": "white",
             "startlinecolor": "#2a3f5f"
            },
            "type": "carpet"
           }
          ],
          "choropleth": [
           {
            "colorbar": {
             "outlinewidth": 0,
             "ticks": ""
            },
            "type": "choropleth"
           }
          ],
          "contour": [
           {
            "colorbar": {
             "outlinewidth": 0,
             "ticks": ""
            },
            "colorscale": [
             [
              0,
              "#0d0887"
             ],
             [
              0.1111111111111111,
              "#46039f"
             ],
             [
              0.2222222222222222,
              "#7201a8"
             ],
             [
              0.3333333333333333,
              "#9c179e"
             ],
             [
              0.4444444444444444,
              "#bd3786"
             ],
             [
              0.5555555555555556,
              "#d8576b"
             ],
             [
              0.6666666666666666,
              "#ed7953"
             ],
             [
              0.7777777777777778,
              "#fb9f3a"
             ],
             [
              0.8888888888888888,
              "#fdca26"
             ],
             [
              1,
              "#f0f921"
             ]
            ],
            "type": "contour"
           }
          ],
          "contourcarpet": [
           {
            "colorbar": {
             "outlinewidth": 0,
             "ticks": ""
            },
            "type": "contourcarpet"
           }
          ],
          "heatmap": [
           {
            "colorbar": {
             "outlinewidth": 0,
             "ticks": ""
            },
            "colorscale": [
             [
              0,
              "#0d0887"
             ],
             [
              0.1111111111111111,
              "#46039f"
             ],
             [
              0.2222222222222222,
              "#7201a8"
             ],
             [
              0.3333333333333333,
              "#9c179e"
             ],
             [
              0.4444444444444444,
              "#bd3786"
             ],
             [
              0.5555555555555556,
              "#d8576b"
             ],
             [
              0.6666666666666666,
              "#ed7953"
             ],
             [
              0.7777777777777778,
              "#fb9f3a"
             ],
             [
              0.8888888888888888,
              "#fdca26"
             ],
             [
              1,
              "#f0f921"
             ]
            ],
            "type": "heatmap"
           }
          ],
          "heatmapgl": [
           {
            "colorbar": {
             "outlinewidth": 0,
             "ticks": ""
            },
            "colorscale": [
             [
              0,
              "#0d0887"
             ],
             [
              0.1111111111111111,
              "#46039f"
             ],
             [
              0.2222222222222222,
              "#7201a8"
             ],
             [
              0.3333333333333333,
              "#9c179e"
             ],
             [
              0.4444444444444444,
              "#bd3786"
             ],
             [
              0.5555555555555556,
              "#d8576b"
             ],
             [
              0.6666666666666666,
              "#ed7953"
             ],
             [
              0.7777777777777778,
              "#fb9f3a"
             ],
             [
              0.8888888888888888,
              "#fdca26"
             ],
             [
              1,
              "#f0f921"
             ]
            ],
            "type": "heatmapgl"
           }
          ],
          "histogram": [
           {
            "marker": {
             "pattern": {
              "fillmode": "overlay",
              "size": 10,
              "solidity": 0.2
             }
            },
            "type": "histogram"
           }
          ],
          "histogram2d": [
           {
            "colorbar": {
             "outlinewidth": 0,
             "ticks": ""
            },
            "colorscale": [
             [
              0,
              "#0d0887"
             ],
             [
              0.1111111111111111,
              "#46039f"
             ],
             [
              0.2222222222222222,
              "#7201a8"
             ],
             [
              0.3333333333333333,
              "#9c179e"
             ],
             [
              0.4444444444444444,
              "#bd3786"
             ],
             [
              0.5555555555555556,
              "#d8576b"
             ],
             [
              0.6666666666666666,
              "#ed7953"
             ],
             [
              0.7777777777777778,
              "#fb9f3a"
             ],
             [
              0.8888888888888888,
              "#fdca26"
             ],
             [
              1,
              "#f0f921"
             ]
            ],
            "type": "histogram2d"
           }
          ],
          "histogram2dcontour": [
           {
            "colorbar": {
             "outlinewidth": 0,
             "ticks": ""
            },
            "colorscale": [
             [
              0,
              "#0d0887"
             ],
             [
              0.1111111111111111,
              "#46039f"
             ],
             [
              0.2222222222222222,
              "#7201a8"
             ],
             [
              0.3333333333333333,
              "#9c179e"
             ],
             [
              0.4444444444444444,
              "#bd3786"
             ],
             [
              0.5555555555555556,
              "#d8576b"
             ],
             [
              0.6666666666666666,
              "#ed7953"
             ],
             [
              0.7777777777777778,
              "#fb9f3a"
             ],
             [
              0.8888888888888888,
              "#fdca26"
             ],
             [
              1,
              "#f0f921"
             ]
            ],
            "type": "histogram2dcontour"
           }
          ],
          "mesh3d": [
           {
            "colorbar": {
             "outlinewidth": 0,
             "ticks": ""
            },
            "type": "mesh3d"
           }
          ],
          "parcoords": [
           {
            "line": {
             "colorbar": {
              "outlinewidth": 0,
              "ticks": ""
             }
            },
            "type": "parcoords"
           }
          ],
          "pie": [
           {
            "automargin": true,
            "type": "pie"
           }
          ],
          "scatter": [
           {
            "marker": {
             "colorbar": {
              "outlinewidth": 0,
              "ticks": ""
             }
            },
            "type": "scatter"
           }
          ],
          "scatter3d": [
           {
            "line": {
             "colorbar": {
              "outlinewidth": 0,
              "ticks": ""
             }
            },
            "marker": {
             "colorbar": {
              "outlinewidth": 0,
              "ticks": ""
             }
            },
            "type": "scatter3d"
           }
          ],
          "scattercarpet": [
           {
            "marker": {
             "colorbar": {
              "outlinewidth": 0,
              "ticks": ""
             }
            },
            "type": "scattercarpet"
           }
          ],
          "scattergeo": [
           {
            "marker": {
             "colorbar": {
              "outlinewidth": 0,
              "ticks": ""
             }
            },
            "type": "scattergeo"
           }
          ],
          "scattergl": [
           {
            "marker": {
             "colorbar": {
              "outlinewidth": 0,
              "ticks": ""
             }
            },
            "type": "scattergl"
           }
          ],
          "scattermapbox": [
           {
            "marker": {
             "colorbar": {
              "outlinewidth": 0,
              "ticks": ""
             }
            },
            "type": "scattermapbox"
           }
          ],
          "scatterpolar": [
           {
            "marker": {
             "colorbar": {
              "outlinewidth": 0,
              "ticks": ""
             }
            },
            "type": "scatterpolar"
           }
          ],
          "scatterpolargl": [
           {
            "marker": {
             "colorbar": {
              "outlinewidth": 0,
              "ticks": ""
             }
            },
            "type": "scatterpolargl"
           }
          ],
          "scatterternary": [
           {
            "marker": {
             "colorbar": {
              "outlinewidth": 0,
              "ticks": ""
             }
            },
            "type": "scatterternary"
           }
          ],
          "surface": [
           {
            "colorbar": {
             "outlinewidth": 0,
             "ticks": ""
            },
            "colorscale": [
             [
              0,
              "#0d0887"
             ],
             [
              0.1111111111111111,
              "#46039f"
             ],
             [
              0.2222222222222222,
              "#7201a8"
             ],
             [
              0.3333333333333333,
              "#9c179e"
             ],
             [
              0.4444444444444444,
              "#bd3786"
             ],
             [
              0.5555555555555556,
              "#d8576b"
             ],
             [
              0.6666666666666666,
              "#ed7953"
             ],
             [
              0.7777777777777778,
              "#fb9f3a"
             ],
             [
              0.8888888888888888,
              "#fdca26"
             ],
             [
              1,
              "#f0f921"
             ]
            ],
            "type": "surface"
           }
          ],
          "table": [
           {
            "cells": {
             "fill": {
              "color": "#EBF0F8"
             },
             "line": {
              "color": "white"
             }
            },
            "header": {
             "fill": {
              "color": "#C8D4E3"
             },
             "line": {
              "color": "white"
             }
            },
            "type": "table"
           }
          ]
         },
         "layout": {
          "annotationdefaults": {
           "arrowcolor": "#2a3f5f",
           "arrowhead": 0,
           "arrowwidth": 1
          },
          "autotypenumbers": "strict",
          "coloraxis": {
           "colorbar": {
            "outlinewidth": 0,
            "ticks": ""
           }
          },
          "colorscale": {
           "diverging": [
            [
             0,
             "#8e0152"
            ],
            [
             0.1,
             "#c51b7d"
            ],
            [
             0.2,
             "#de77ae"
            ],
            [
             0.3,
             "#f1b6da"
            ],
            [
             0.4,
             "#fde0ef"
            ],
            [
             0.5,
             "#f7f7f7"
            ],
            [
             0.6,
             "#e6f5d0"
            ],
            [
             0.7,
             "#b8e186"
            ],
            [
             0.8,
             "#7fbc41"
            ],
            [
             0.9,
             "#4d9221"
            ],
            [
             1,
             "#276419"
            ]
           ],
           "sequential": [
            [
             0,
             "#0d0887"
            ],
            [
             0.1111111111111111,
             "#46039f"
            ],
            [
             0.2222222222222222,
             "#7201a8"
            ],
            [
             0.3333333333333333,
             "#9c179e"
            ],
            [
             0.4444444444444444,
             "#bd3786"
            ],
            [
             0.5555555555555556,
             "#d8576b"
            ],
            [
             0.6666666666666666,
             "#ed7953"
            ],
            [
             0.7777777777777778,
             "#fb9f3a"
            ],
            [
             0.8888888888888888,
             "#fdca26"
            ],
            [
             1,
             "#f0f921"
            ]
           ],
           "sequentialminus": [
            [
             0,
             "#0d0887"
            ],
            [
             0.1111111111111111,
             "#46039f"
            ],
            [
             0.2222222222222222,
             "#7201a8"
            ],
            [
             0.3333333333333333,
             "#9c179e"
            ],
            [
             0.4444444444444444,
             "#bd3786"
            ],
            [
             0.5555555555555556,
             "#d8576b"
            ],
            [
             0.6666666666666666,
             "#ed7953"
            ],
            [
             0.7777777777777778,
             "#fb9f3a"
            ],
            [
             0.8888888888888888,
             "#fdca26"
            ],
            [
             1,
             "#f0f921"
            ]
           ]
          },
          "colorway": [
           "#636efa",
           "#EF553B",
           "#00cc96",
           "#ab63fa",
           "#FFA15A",
           "#19d3f3",
           "#FF6692",
           "#B6E880",
           "#FF97FF",
           "#FECB52"
          ],
          "font": {
           "color": "#2a3f5f"
          },
          "geo": {
           "bgcolor": "white",
           "lakecolor": "white",
           "landcolor": "#E5ECF6",
           "showlakes": true,
           "showland": true,
           "subunitcolor": "white"
          },
          "hoverlabel": {
           "align": "left"
          },
          "hovermode": "closest",
          "mapbox": {
           "style": "light"
          },
          "paper_bgcolor": "white",
          "plot_bgcolor": "#E5ECF6",
          "polar": {
           "angularaxis": {
            "gridcolor": "white",
            "linecolor": "white",
            "ticks": ""
           },
           "bgcolor": "#E5ECF6",
           "radialaxis": {
            "gridcolor": "white",
            "linecolor": "white",
            "ticks": ""
           }
          },
          "scene": {
           "xaxis": {
            "backgroundcolor": "#E5ECF6",
            "gridcolor": "white",
            "gridwidth": 2,
            "linecolor": "white",
            "showbackground": true,
            "ticks": "",
            "zerolinecolor": "white"
           },
           "yaxis": {
            "backgroundcolor": "#E5ECF6",
            "gridcolor": "white",
            "gridwidth": 2,
            "linecolor": "white",
            "showbackground": true,
            "ticks": "",
            "zerolinecolor": "white"
           },
           "zaxis": {
            "backgroundcolor": "#E5ECF6",
            "gridcolor": "white",
            "gridwidth": 2,
            "linecolor": "white",
            "showbackground": true,
            "ticks": "",
            "zerolinecolor": "white"
           }
          },
          "shapedefaults": {
           "line": {
            "color": "#2a3f5f"
           }
          },
          "ternary": {
           "aaxis": {
            "gridcolor": "white",
            "linecolor": "white",
            "ticks": ""
           },
           "baxis": {
            "gridcolor": "white",
            "linecolor": "white",
            "ticks": ""
           },
           "bgcolor": "#E5ECF6",
           "caxis": {
            "gridcolor": "white",
            "linecolor": "white",
            "ticks": ""
           }
          },
          "title": {
           "x": 0.05
          },
          "xaxis": {
           "automargin": true,
           "gridcolor": "white",
           "linecolor": "white",
           "ticks": "",
           "title": {
            "standoff": 15
           },
           "zerolinecolor": "white",
           "zerolinewidth": 2
          },
          "yaxis": {
           "automargin": true,
           "gridcolor": "white",
           "linecolor": "white",
           "ticks": "",
           "title": {
            "standoff": 15
           },
           "zerolinecolor": "white",
           "zerolinewidth": 2
          }
         }
        },
        "title": {
         "font": {
          "color": "#4D5663"
         }
        },
        "xaxis": {
         "gridcolor": "#E1E5ED",
         "showgrid": true,
         "tickfont": {
          "color": "#4D5663"
         },
         "title": {
          "font": {
           "color": "#4D5663"
          },
          "text": ""
         },
         "zerolinecolor": "#E1E5ED"
        },
        "xaxis2": {
         "anchor": "y2",
         "gridcolor": "#E1E5ED",
         "showgrid": true,
         "showticklabels": false,
         "tickfont": {
          "color": "#4D5663"
         },
         "title": {
          "font": {
           "color": "#4D5663"
          },
          "text": ""
         },
         "zerolinecolor": "#E1E5ED"
        },
        "yaxis": {
         "domain": [
          0.3,
          1
         ],
         "gridcolor": "#E1E5ED",
         "showgrid": true,
         "tickfont": {
          "color": "#4D5663"
         },
         "title": {
          "font": {
           "color": "#4D5663"
          },
          "text": ""
         },
         "zerolinecolor": "#E1E5ED"
        },
        "yaxis2": {
         "domain": [
          0,
          0.25
         ],
         "gridcolor": "#E1E5ED",
         "showgrid": true,
         "tickfont": {
          "color": "#4D5663"
         },
         "title": {
          "font": {
           "color": "#4D5663"
          },
          "text": "Spread"
         },
         "zerolinecolor": "#E1E5ED"
        }
       }
      },
      "text/html": [
       "<div>                            <div id=\"aa9d904f-b1e0-495f-b593-e50d3ee5e771\" class=\"plotly-graph-div\" style=\"height:525px; width:100%;\"></div>            <script type=\"text/javascript\">                require([\"plotly\"], function(Plotly) {                    window.PLOTLYENV=window.PLOTLYENV || {};\n",
       "                    window.PLOTLYENV.BASE_URL='https://plot.ly';                                    if (document.getElementById(\"aa9d904f-b1e0-495f-b593-e50d3ee5e771\")) {                    Plotly.newPlot(                        \"aa9d904f-b1e0-495f-b593-e50d3ee5e771\",                        [{\"line\":{\"color\":\"rgba(255, 153, 51, 1.0)\",\"dash\":\"solid\",\"shape\":\"linear\",\"width\":1.3},\"mode\":\"lines\",\"name\":\"A\",\"text\":\"\",\"x\":[0,1,2,3,4,5,6,7,8,9,10,11,12,13,14,15,16,17,18,19,20,21,22,23,24,25,26,27,28,29,30,31,32,33,34,35,36,37,38,39,40,41,42,43,44,45,46,47,48,49,50,51,52,53,54,55,56,57,58,59,60,61,62,63,64,65,66,67,68,69,70,71,72,73,74,75,76,77,78,79,80,81,82,83,84,85,86,87,88,89,90,91,92,93,94,95,96,97,98,99],\"y\":[0.18949412131357618,-0.4394056773665876,1.5235003132506255,0.03645250031559109,-0.48017680332678986,-0.32940801574654444,-0.8336585198060829,2.1104829932351987,-2.1774759403114543,-1.4552810678704107,-0.3946340137520746,-0.7958997396105878,-2.1941249569910184,-0.3186755756858305,-1.0762861726059367,0.5160715236107142,0.5354240028958203,0.24474634754970445,2.1593382645363524,-2.459688200120283,2.2033163680127856,0.12741013120035052,-0.7426413044529445,-0.708915270693794,-1.7366906383070453,-0.3278091707347793,-0.019161214804460824,-0.10350391076144248,0.443003384937299,-0.3021624753184853,-0.26540709330297957,1.1177682728198786,-0.6555808314273678,-2.0513962145269367,-0.007283680343075513,-1.7345390153967326,0.6526293553788296,0.8797043755381333,-0.40446628152172,0.40015659679998383,1.3501402445869597,-1.681402939901821,0.37687631215522416,1.530406066859981,0.27376913231487043,0.11859151200966923,0.18998151104134484,1.239771620051365,-0.013067258817813692,-0.4342760602897146,-0.22768423864144938,-0.08712007886114415,-1.3953429851893069,-1.1346627058287775,1.717402994668382,-0.8202332848774089,-0.4210331992705946,-0.06266365801889973,-0.1076343228449331,-0.46753029808332414,0.465339121662231,0.05686260034364659,0.6689353752755711,-1.3749096285081572,1.0644486040242718,1.0029108097495154,-0.4756234878591175,-0.7573283389084694,1.553314742784835,0.9327235406491218,-0.5432611240893911,0.9375595028153989,0.6479726183862607,-1.6193215495623614,0.42468213572515945,0.4442854952443643,-0.4430216955740655,-0.3313723025358653,-0.5164036122879947,-0.1426294244580413,0.34861880298974646,2.491239497816553,-1.2708676958205198,1.2439173121325637,-0.2531066585596569,0.3986080862101964,1.559031756752641,-0.8451994271388271,0.6244513110895351,-0.20836122736152812,-1.5593960284306796,1.0027652648558283,0.6678453706840629,0.9019731286521746,0.49217666164481805,-0.2537409869513799,0.7236090940111436,0.046759497044002236,-0.5975669662202538,-0.78915850866316],\"type\":\"scatter\"},{\"line\":{\"color\":\"rgba(55, 128, 191, 1.0)\",\"dash\":\"solid\",\"shape\":\"linear\",\"width\":1.3},\"mode\":\"lines\",\"name\":\"B\",\"text\":\"\",\"x\":[0,1,2,3,4,5,6,7,8,9,10,11,12,13,14,15,16,17,18,19,20,21,22,23,24,25,26,27,28,29,30,31,32,33,34,35,36,37,38,39,40,41,42,43,44,45,46,47,48,49,50,51,52,53,54,55,56,57,58,59,60,61,62,63,64,65,66,67,68,69,70,71,72,73,74,75,76,77,78,79,80,81,82,83,84,85,86,87,88,89,90,91,92,93,94,95,96,97,98,99],\"y\":[-0.3837044654152856,0.795222058544091,-1.088639124538044,1.2717431343417127,-0.425142084846673,0.064182302033947,1.4362888057989984,-0.1500476658943807,-1.5718151705858465,-1.1951812086435607,0.22860843548074822,-0.12492214308168757,-0.2867367492193972,-0.5736239558678975,1.389341530883104,-0.6861898267335519,-1.5311373341612782,-0.8512089705281984,-1.4559541518556975,-1.1001623087846037,0.8979100173243162,0.12116953775102157,0.008534083166311771,0.8564629305816837,-0.5811640716666194,-1.2080292257019134,-0.2349761867338796,0.5544460777568961,-1.0713239222958086,-0.5880653881769333,1.455833425930843,1.798690383630041,-0.33646470904540654,-0.3672634840646152,-1.172864741624129,0.5837329271770997,-2.2382359822608637,0.18016433857511283,0.9536368045497337,-1.0800463778552765,-0.8317221994239206,1.282796438795336,-0.29336799070174174,0.15886220818261743,0.38201782187711153,1.4359852720915571,0.12325985697339818,-1.2571112124983932,-0.6820456832743963,0.6549877845727778,1.7480017358816617,-0.417778286260563,-1.6706045656026176,-0.32449160626856594,0.04941441532003659,1.2301955880270588,0.5549576648122474,0.5087348321498013,-0.5251299669479592,-0.7226843478772803,2.166721876878339,1.1802593126083956,-1.538186484092452,-0.9373214000293492,2.507394228500375,1.1453156950783623,-0.3900336491592565,-1.2294025551628793,0.047153263572624386,-1.4132468018414466,-0.2490684669524338,-0.049467689607492635,0.32500434009912604,2.3848744017153285,1.5072496221876714,2.3374311490664765,0.24765502883674623,0.24345434946978872,-1.0754295259055462,-0.9253517607585953,-0.23061561620756169,0.9122603763478071,0.07761133731595166,-1.9670718895477557,0.7909040382082345,-1.164107142015901,-1.3600341936072617,1.0761877070356076,0.5910801172299857,-2.4683912167831474,0.9391003487905739,0.5833264172434889,0.7708157024485347,-0.5097944025738771,-1.1535830779289729,1.7235455685820171,2.0515347554626917,0.5810028348635923,-1.5039588573849996,1.1202156895522468],\"type\":\"scatter\"},{\"connectgaps\":false,\"fill\":\"tozeroy\",\"line\":{\"color\":\"green\",\"dash\":\"solid\",\"shape\":\"linear\",\"width\":0.5},\"mode\":\"lines\",\"name\":\"Spread\",\"showlegend\":false,\"x\":[0,1,2,3,4,5,6,7,8,9,10,11,12,13,14,15,16,17,18,19,20,21,22,23,24,25,26,27,28,29,30,31,32,33,34,35,36,37,38,39,40,41,42,43,44,45,46,47,48,49,50,51,52,53,54,55,56,57,58,59,60,61,62,63,64,65,66,67,68,69,70,71,72,73,74,75,76,77,78,79,80,81,82,83,84,85,86,87,88,89,90,91,92,93,94,95,96,97,98,99],\"xaxis\":\"x2\",\"y\":[0.5731985867288618,\"\",2.6121394377886693,\"\",\"\",\"\",\"\",2.2605306591295795,\"\",\"\",\"\",\"\",\"\",0.254948380182067,\"\",1.202261350344266,2.0665613370570983,1.095955318077903,3.61529241639205,\"\",1.3054063506884694,0.006240593449328952,\"\",\"\",\"\",0.8802200549671342,0.2158149719294188,\"\",1.5143273072331076,0.28590291285844804,\"\",\"\",\"\",\"\",1.1655810612810533,\"\",2.8908653376396933,0.6995400369630205,\"\",1.4802029746552603,2.1818624440108803,\"\",0.6702443028569659,1.3715438586773636,\"\",\"\",0.06672165406794665,2.4968828325497583,0.6689784244565826,\"\",\"\",0.33065820739941887,0.2752615804133107,\"\",1.6679885793483453,\"\",\"\",\"\",0.4174956441030261,0.2551540497939562,\"\",\"\",2.207121859368023,\"\",\"\",\"\",\"\",0.47207421625440993,1.5061614792122107,2.3459703424905682,\"\",0.9870271924228915,0.3229682782871347,\"\",\"\",\"\",\"\",\"\",0.5590259136175515,0.782722336300554,0.5792344191973081,1.578979121468746,\"\",3.210989201680319,\"\",1.5627152282260974,2.9190659503599026,\"\",0.03337119385954945,2.260029989421619,\"\",0.4194388476123394,\"\",1.4117675312260518,1.6457597395737908,\"\",\"\",\"\",0.9063918911647457,\"\"],\"yaxis\":\"y2\",\"type\":\"scatter\"},{\"connectgaps\":false,\"fill\":\"tozeroy\",\"line\":{\"color\":\"red\",\"dash\":\"solid\",\"shape\":\"linear\",\"width\":0.5},\"mode\":\"lines\",\"name\":\"Spread\",\"showlegend\":false,\"x\":[0,1,2,3,4,5,6,7,8,9,10,11,12,13,14,15,16,17,18,19,20,21,22,23,24,25,26,27,28,29,30,31,32,33,34,35,36,37,38,39,40,41,42,43,44,45,46,47,48,49,50,51,52,53,54,55,56,57,58,59,60,61,62,63,64,65,66,67,68,69,70,71,72,73,74,75,76,77,78,79,80,81,82,83,84,85,86,87,88,89,90,91,92,93,94,95,96,97,98,99],\"xaxis\":\"x2\",\"y\":[\"\",-1.2346277359106785,\"\",-1.2352906340261216,-0.05503471848011687,-0.3935903177804914,-2.2699473256050813,\"\",-0.6056607697256078,-0.26009985922684997,-0.6232424492328228,-0.6709775965289002,-1.9073882077716213,\"\",-2.465627703489041,\"\",\"\",\"\",\"\",-1.3595258913356791,\"\",\"\",-0.7511753876192563,-1.5653782012754776,-1.1555265666404257,\"\",\"\",-0.6579499885183386,\"\",\"\",-1.7212405192338225,-0.6809221108101624,-0.31911612238196124,-1.6841327304623215,\"\",-2.3182719425738325,\"\",\"\",-1.3581030860714536,\"\",\"\",-2.964199378697157,\"\",\"\",-0.1082486895622411,-1.317393760081888,\"\",\"\",\"\",-1.0892638448624925,-1.975685974523111,\"\",\"\",-0.8101710995602116,\"\",-2.0504288729044675,-0.9759908640828421,-0.571398490168701,\"\",\"\",-1.701382755216108,-1.123396712264749,\"\",-0.4375882284788081,-1.4429456244761034,-0.14240488532884688,-0.08558983869986103,\"\",\"\",\"\",-0.2941926571369573,\"\",\"\",-4.00419595127769,-1.082567486462512,-1.8931456538221123,-0.6906767244108117,-0.574826652005654,\"\",\"\",\"\",\"\",-1.3484790331364715,\"\",-1.0440106967678915,\"\",\"\",-1.9213871341744349,\"\",\"\",-2.4984963772212536,\"\",-0.10297033176447179,\"\",\"\",-1.977286555533397,-1.3279256614515482,-0.53424333781959,\"\",-1.9093741982154069],\"yaxis\":\"y2\",\"type\":\"scatter\"}],                        {\"hovermode\":\"x\",\"legend\":{\"bgcolor\":\"#F5F6F9\",\"font\":{\"color\":\"#4D5663\"}},\"paper_bgcolor\":\"#F5F6F9\",\"plot_bgcolor\":\"#F5F6F9\",\"template\":{\"data\":{\"barpolar\":[{\"marker\":{\"line\":{\"color\":\"#E5ECF6\",\"width\":0.5},\"pattern\":{\"fillmode\":\"overlay\",\"size\":10,\"solidity\":0.2}},\"type\":\"barpolar\"}],\"bar\":[{\"error_x\":{\"color\":\"#2a3f5f\"},\"error_y\":{\"color\":\"#2a3f5f\"},\"marker\":{\"line\":{\"color\":\"#E5ECF6\",\"width\":0.5},\"pattern\":{\"fillmode\":\"overlay\",\"size\":10,\"solidity\":0.2}},\"type\":\"bar\"}],\"carpet\":[{\"aaxis\":{\"endlinecolor\":\"#2a3f5f\",\"gridcolor\":\"white\",\"linecolor\":\"white\",\"minorgridcolor\":\"white\",\"startlinecolor\":\"#2a3f5f\"},\"baxis\":{\"endlinecolor\":\"#2a3f5f\",\"gridcolor\":\"white\",\"linecolor\":\"white\",\"minorgridcolor\":\"white\",\"startlinecolor\":\"#2a3f5f\"},\"type\":\"carpet\"}],\"choropleth\":[{\"colorbar\":{\"outlinewidth\":0,\"ticks\":\"\"},\"type\":\"choropleth\"}],\"contourcarpet\":[{\"colorbar\":{\"outlinewidth\":0,\"ticks\":\"\"},\"type\":\"contourcarpet\"}],\"contour\":[{\"colorbar\":{\"outlinewidth\":0,\"ticks\":\"\"},\"colorscale\":[[0.0,\"#0d0887\"],[0.1111111111111111,\"#46039f\"],[0.2222222222222222,\"#7201a8\"],[0.3333333333333333,\"#9c179e\"],[0.4444444444444444,\"#bd3786\"],[0.5555555555555556,\"#d8576b\"],[0.6666666666666666,\"#ed7953\"],[0.7777777777777778,\"#fb9f3a\"],[0.8888888888888888,\"#fdca26\"],[1.0,\"#f0f921\"]],\"type\":\"contour\"}],\"heatmapgl\":[{\"colorbar\":{\"outlinewidth\":0,\"ticks\":\"\"},\"colorscale\":[[0.0,\"#0d0887\"],[0.1111111111111111,\"#46039f\"],[0.2222222222222222,\"#7201a8\"],[0.3333333333333333,\"#9c179e\"],[0.4444444444444444,\"#bd3786\"],[0.5555555555555556,\"#d8576b\"],[0.6666666666666666,\"#ed7953\"],[0.7777777777777778,\"#fb9f3a\"],[0.8888888888888888,\"#fdca26\"],[1.0,\"#f0f921\"]],\"type\":\"heatmapgl\"}],\"heatmap\":[{\"colorbar\":{\"outlinewidth\":0,\"ticks\":\"\"},\"colorscale\":[[0.0,\"#0d0887\"],[0.1111111111111111,\"#46039f\"],[0.2222222222222222,\"#7201a8\"],[0.3333333333333333,\"#9c179e\"],[0.4444444444444444,\"#bd3786\"],[0.5555555555555556,\"#d8576b\"],[0.6666666666666666,\"#ed7953\"],[0.7777777777777778,\"#fb9f3a\"],[0.8888888888888888,\"#fdca26\"],[1.0,\"#f0f921\"]],\"type\":\"heatmap\"}],\"histogram2dcontour\":[{\"colorbar\":{\"outlinewidth\":0,\"ticks\":\"\"},\"colorscale\":[[0.0,\"#0d0887\"],[0.1111111111111111,\"#46039f\"],[0.2222222222222222,\"#7201a8\"],[0.3333333333333333,\"#9c179e\"],[0.4444444444444444,\"#bd3786\"],[0.5555555555555556,\"#d8576b\"],[0.6666666666666666,\"#ed7953\"],[0.7777777777777778,\"#fb9f3a\"],[0.8888888888888888,\"#fdca26\"],[1.0,\"#f0f921\"]],\"type\":\"histogram2dcontour\"}],\"histogram2d\":[{\"colorbar\":{\"outlinewidth\":0,\"ticks\":\"\"},\"colorscale\":[[0.0,\"#0d0887\"],[0.1111111111111111,\"#46039f\"],[0.2222222222222222,\"#7201a8\"],[0.3333333333333333,\"#9c179e\"],[0.4444444444444444,\"#bd3786\"],[0.5555555555555556,\"#d8576b\"],[0.6666666666666666,\"#ed7953\"],[0.7777777777777778,\"#fb9f3a\"],[0.8888888888888888,\"#fdca26\"],[1.0,\"#f0f921\"]],\"type\":\"histogram2d\"}],\"histogram\":[{\"marker\":{\"pattern\":{\"fillmode\":\"overlay\",\"size\":10,\"solidity\":0.2}},\"type\":\"histogram\"}],\"mesh3d\":[{\"colorbar\":{\"outlinewidth\":0,\"ticks\":\"\"},\"type\":\"mesh3d\"}],\"parcoords\":[{\"line\":{\"colorbar\":{\"outlinewidth\":0,\"ticks\":\"\"}},\"type\":\"parcoords\"}],\"pie\":[{\"automargin\":true,\"type\":\"pie\"}],\"scatter3d\":[{\"line\":{\"colorbar\":{\"outlinewidth\":0,\"ticks\":\"\"}},\"marker\":{\"colorbar\":{\"outlinewidth\":0,\"ticks\":\"\"}},\"type\":\"scatter3d\"}],\"scattercarpet\":[{\"marker\":{\"colorbar\":{\"outlinewidth\":0,\"ticks\":\"\"}},\"type\":\"scattercarpet\"}],\"scattergeo\":[{\"marker\":{\"colorbar\":{\"outlinewidth\":0,\"ticks\":\"\"}},\"type\":\"scattergeo\"}],\"scattergl\":[{\"marker\":{\"colorbar\":{\"outlinewidth\":0,\"ticks\":\"\"}},\"type\":\"scattergl\"}],\"scattermapbox\":[{\"marker\":{\"colorbar\":{\"outlinewidth\":0,\"ticks\":\"\"}},\"type\":\"scattermapbox\"}],\"scatterpolargl\":[{\"marker\":{\"colorbar\":{\"outlinewidth\":0,\"ticks\":\"\"}},\"type\":\"scatterpolargl\"}],\"scatterpolar\":[{\"marker\":{\"colorbar\":{\"outlinewidth\":0,\"ticks\":\"\"}},\"type\":\"scatterpolar\"}],\"scatter\":[{\"marker\":{\"colorbar\":{\"outlinewidth\":0,\"ticks\":\"\"}},\"type\":\"scatter\"}],\"scatterternary\":[{\"marker\":{\"colorbar\":{\"outlinewidth\":0,\"ticks\":\"\"}},\"type\":\"scatterternary\"}],\"surface\":[{\"colorbar\":{\"outlinewidth\":0,\"ticks\":\"\"},\"colorscale\":[[0.0,\"#0d0887\"],[0.1111111111111111,\"#46039f\"],[0.2222222222222222,\"#7201a8\"],[0.3333333333333333,\"#9c179e\"],[0.4444444444444444,\"#bd3786\"],[0.5555555555555556,\"#d8576b\"],[0.6666666666666666,\"#ed7953\"],[0.7777777777777778,\"#fb9f3a\"],[0.8888888888888888,\"#fdca26\"],[1.0,\"#f0f921\"]],\"type\":\"surface\"}],\"table\":[{\"cells\":{\"fill\":{\"color\":\"#EBF0F8\"},\"line\":{\"color\":\"white\"}},\"header\":{\"fill\":{\"color\":\"#C8D4E3\"},\"line\":{\"color\":\"white\"}},\"type\":\"table\"}]},\"layout\":{\"annotationdefaults\":{\"arrowcolor\":\"#2a3f5f\",\"arrowhead\":0,\"arrowwidth\":1},\"autotypenumbers\":\"strict\",\"coloraxis\":{\"colorbar\":{\"outlinewidth\":0,\"ticks\":\"\"}},\"colorscale\":{\"diverging\":[[0,\"#8e0152\"],[0.1,\"#c51b7d\"],[0.2,\"#de77ae\"],[0.3,\"#f1b6da\"],[0.4,\"#fde0ef\"],[0.5,\"#f7f7f7\"],[0.6,\"#e6f5d0\"],[0.7,\"#b8e186\"],[0.8,\"#7fbc41\"],[0.9,\"#4d9221\"],[1,\"#276419\"]],\"sequential\":[[0.0,\"#0d0887\"],[0.1111111111111111,\"#46039f\"],[0.2222222222222222,\"#7201a8\"],[0.3333333333333333,\"#9c179e\"],[0.4444444444444444,\"#bd3786\"],[0.5555555555555556,\"#d8576b\"],[0.6666666666666666,\"#ed7953\"],[0.7777777777777778,\"#fb9f3a\"],[0.8888888888888888,\"#fdca26\"],[1.0,\"#f0f921\"]],\"sequentialminus\":[[0.0,\"#0d0887\"],[0.1111111111111111,\"#46039f\"],[0.2222222222222222,\"#7201a8\"],[0.3333333333333333,\"#9c179e\"],[0.4444444444444444,\"#bd3786\"],[0.5555555555555556,\"#d8576b\"],[0.6666666666666666,\"#ed7953\"],[0.7777777777777778,\"#fb9f3a\"],[0.8888888888888888,\"#fdca26\"],[1.0,\"#f0f921\"]]},\"colorway\":[\"#636efa\",\"#EF553B\",\"#00cc96\",\"#ab63fa\",\"#FFA15A\",\"#19d3f3\",\"#FF6692\",\"#B6E880\",\"#FF97FF\",\"#FECB52\"],\"font\":{\"color\":\"#2a3f5f\"},\"geo\":{\"bgcolor\":\"white\",\"lakecolor\":\"white\",\"landcolor\":\"#E5ECF6\",\"showlakes\":true,\"showland\":true,\"subunitcolor\":\"white\"},\"hoverlabel\":{\"align\":\"left\"},\"hovermode\":\"closest\",\"mapbox\":{\"style\":\"light\"},\"paper_bgcolor\":\"white\",\"plot_bgcolor\":\"#E5ECF6\",\"polar\":{\"angularaxis\":{\"gridcolor\":\"white\",\"linecolor\":\"white\",\"ticks\":\"\"},\"bgcolor\":\"#E5ECF6\",\"radialaxis\":{\"gridcolor\":\"white\",\"linecolor\":\"white\",\"ticks\":\"\"}},\"scene\":{\"xaxis\":{\"backgroundcolor\":\"#E5ECF6\",\"gridcolor\":\"white\",\"gridwidth\":2,\"linecolor\":\"white\",\"showbackground\":true,\"ticks\":\"\",\"zerolinecolor\":\"white\"},\"yaxis\":{\"backgroundcolor\":\"#E5ECF6\",\"gridcolor\":\"white\",\"gridwidth\":2,\"linecolor\":\"white\",\"showbackground\":true,\"ticks\":\"\",\"zerolinecolor\":\"white\"},\"zaxis\":{\"backgroundcolor\":\"#E5ECF6\",\"gridcolor\":\"white\",\"gridwidth\":2,\"linecolor\":\"white\",\"showbackground\":true,\"ticks\":\"\",\"zerolinecolor\":\"white\"}},\"shapedefaults\":{\"line\":{\"color\":\"#2a3f5f\"}},\"ternary\":{\"aaxis\":{\"gridcolor\":\"white\",\"linecolor\":\"white\",\"ticks\":\"\"},\"baxis\":{\"gridcolor\":\"white\",\"linecolor\":\"white\",\"ticks\":\"\"},\"bgcolor\":\"#E5ECF6\",\"caxis\":{\"gridcolor\":\"white\",\"linecolor\":\"white\",\"ticks\":\"\"}},\"title\":{\"x\":0.05},\"xaxis\":{\"automargin\":true,\"gridcolor\":\"white\",\"linecolor\":\"white\",\"ticks\":\"\",\"title\":{\"standoff\":15},\"zerolinecolor\":\"white\",\"zerolinewidth\":2},\"yaxis\":{\"automargin\":true,\"gridcolor\":\"white\",\"linecolor\":\"white\",\"ticks\":\"\",\"title\":{\"standoff\":15},\"zerolinecolor\":\"white\",\"zerolinewidth\":2}}},\"title\":{\"font\":{\"color\":\"#4D5663\"}},\"xaxis\":{\"gridcolor\":\"#E1E5ED\",\"showgrid\":true,\"tickfont\":{\"color\":\"#4D5663\"},\"title\":{\"font\":{\"color\":\"#4D5663\"},\"text\":\"\"},\"zerolinecolor\":\"#E1E5ED\"},\"yaxis\":{\"domain\":[0.3,1],\"gridcolor\":\"#E1E5ED\",\"showgrid\":true,\"tickfont\":{\"color\":\"#4D5663\"},\"title\":{\"font\":{\"color\":\"#4D5663\"},\"text\":\"\"},\"zerolinecolor\":\"#E1E5ED\"},\"yaxis2\":{\"domain\":[0,0.25],\"gridcolor\":\"#E1E5ED\",\"showgrid\":true,\"tickfont\":{\"color\":\"#4D5663\"},\"title\":{\"font\":{\"color\":\"#4D5663\"},\"text\":\"Spread\"},\"zerolinecolor\":\"#E1E5ED\"},\"xaxis2\":{\"anchor\":\"y2\",\"gridcolor\":\"#E1E5ED\",\"showgrid\":true,\"showticklabels\":false,\"tickfont\":{\"color\":\"#4D5663\"},\"title\":{\"font\":{\"color\":\"#4D5663\"},\"text\":\"\"},\"zerolinecolor\":\"#E1E5ED\"}},                        {\"showLink\": true, \"linkText\": \"Export to plot.ly\", \"plotlyServerURL\": \"https://plot.ly\", \"responsive\": true}                    ).then(function(){\n",
       "                            \n",
       "var gd = document.getElementById('aa9d904f-b1e0-495f-b593-e50d3ee5e771');\n",
       "var x = new MutationObserver(function (mutations, observer) {{\n",
       "        var display = window.getComputedStyle(gd).display;\n",
       "        if (!display || display === 'none') {{\n",
       "            console.log([gd, 'removed!']);\n",
       "            Plotly.purge(gd);\n",
       "            observer.disconnect();\n",
       "        }}\n",
       "}});\n",
       "\n",
       "// Listen for the removal of the full notebook cells\n",
       "var notebookContainer = gd.closest('#notebook-container');\n",
       "if (notebookContainer) {{\n",
       "    x.observe(notebookContainer, {childList: true});\n",
       "}}\n",
       "\n",
       "// Listen for the clearing of the current output cell\n",
       "var outputEl = gd.closest('.output');\n",
       "if (outputEl) {{\n",
       "    x.observe(outputEl, {childList: true});\n",
       "}}\n",
       "\n",
       "                        })                };                });            </script>        </div>"
      ]
     },
     "metadata": {},
     "output_type": "display_data"
    }
   ],
   "source": [
    "df[['A','B']].iplot(kind='spread')"
   ]
  },
  {
   "cell_type": "markdown",
   "id": "9042973c",
   "metadata": {},
   "source": [
    "## Histogram"
   ]
  },
  {
   "cell_type": "code",
   "execution_count": 16,
   "id": "52abb04e",
   "metadata": {},
   "outputs": [
    {
     "data": {
      "application/vnd.plotly.v1+json": {
       "config": {
        "linkText": "Export to plot.ly",
        "plotlyServerURL": "https://plot.ly",
        "showLink": true
       },
       "data": [
        {
         "histfunc": "count",
         "histnorm": "",
         "marker": {
          "color": "rgba(255, 153, 51, 1.0)",
          "line": {
           "color": "#4D5663",
           "width": 1.3
          }
         },
         "name": "A",
         "nbinsx": 25,
         "opacity": 0.8,
         "orientation": "v",
         "type": "histogram",
         "x": [
          0.18949412131357618,
          -0.4394056773665876,
          1.5235003132506255,
          0.03645250031559109,
          -0.48017680332678986,
          -0.32940801574654444,
          -0.8336585198060829,
          2.1104829932351987,
          -2.1774759403114543,
          -1.4552810678704107,
          -0.3946340137520746,
          -0.7958997396105878,
          -2.1941249569910184,
          -0.3186755756858305,
          -1.0762861726059367,
          0.5160715236107142,
          0.5354240028958203,
          0.24474634754970445,
          2.1593382645363524,
          -2.459688200120283,
          2.2033163680127856,
          0.12741013120035052,
          -0.7426413044529445,
          -0.708915270693794,
          -1.7366906383070453,
          -0.3278091707347793,
          -0.019161214804460824,
          -0.10350391076144248,
          0.443003384937299,
          -0.3021624753184853,
          -0.26540709330297957,
          1.1177682728198786,
          -0.6555808314273678,
          -2.0513962145269367,
          -0.007283680343075513,
          -1.7345390153967326,
          0.6526293553788296,
          0.8797043755381333,
          -0.40446628152172,
          0.40015659679998383,
          1.3501402445869597,
          -1.681402939901821,
          0.37687631215522416,
          1.530406066859981,
          0.27376913231487043,
          0.11859151200966923,
          0.18998151104134484,
          1.239771620051365,
          -0.013067258817813692,
          -0.4342760602897146,
          -0.22768423864144938,
          -0.08712007886114415,
          -1.3953429851893069,
          -1.1346627058287775,
          1.717402994668382,
          -0.8202332848774089,
          -0.4210331992705946,
          -0.06266365801889973,
          -0.1076343228449331,
          -0.46753029808332414,
          0.465339121662231,
          0.05686260034364659,
          0.6689353752755711,
          -1.3749096285081572,
          1.0644486040242718,
          1.0029108097495154,
          -0.4756234878591175,
          -0.7573283389084694,
          1.553314742784835,
          0.9327235406491218,
          -0.5432611240893911,
          0.9375595028153989,
          0.6479726183862607,
          -1.6193215495623614,
          0.42468213572515945,
          0.4442854952443643,
          -0.4430216955740655,
          -0.3313723025358653,
          -0.5164036122879947,
          -0.1426294244580413,
          0.34861880298974646,
          2.491239497816553,
          -1.2708676958205198,
          1.2439173121325637,
          -0.2531066585596569,
          0.3986080862101964,
          1.559031756752641,
          -0.8451994271388271,
          0.6244513110895351,
          -0.20836122736152812,
          -1.5593960284306796,
          1.0027652648558283,
          0.6678453706840629,
          0.9019731286521746,
          0.49217666164481805,
          -0.2537409869513799,
          0.7236090940111436,
          0.046759497044002236,
          -0.5975669662202538,
          -0.78915850866316
         ]
        }
       ],
       "layout": {
        "barmode": "overlay",
        "legend": {
         "bgcolor": "#F5F6F9",
         "font": {
          "color": "#4D5663"
         }
        },
        "paper_bgcolor": "#F5F6F9",
        "plot_bgcolor": "#F5F6F9",
        "template": {
         "data": {
          "bar": [
           {
            "error_x": {
             "color": "#2a3f5f"
            },
            "error_y": {
             "color": "#2a3f5f"
            },
            "marker": {
             "line": {
              "color": "#E5ECF6",
              "width": 0.5
             },
             "pattern": {
              "fillmode": "overlay",
              "size": 10,
              "solidity": 0.2
             }
            },
            "type": "bar"
           }
          ],
          "barpolar": [
           {
            "marker": {
             "line": {
              "color": "#E5ECF6",
              "width": 0.5
             },
             "pattern": {
              "fillmode": "overlay",
              "size": 10,
              "solidity": 0.2
             }
            },
            "type": "barpolar"
           }
          ],
          "carpet": [
           {
            "aaxis": {
             "endlinecolor": "#2a3f5f",
             "gridcolor": "white",
             "linecolor": "white",
             "minorgridcolor": "white",
             "startlinecolor": "#2a3f5f"
            },
            "baxis": {
             "endlinecolor": "#2a3f5f",
             "gridcolor": "white",
             "linecolor": "white",
             "minorgridcolor": "white",
             "startlinecolor": "#2a3f5f"
            },
            "type": "carpet"
           }
          ],
          "choropleth": [
           {
            "colorbar": {
             "outlinewidth": 0,
             "ticks": ""
            },
            "type": "choropleth"
           }
          ],
          "contour": [
           {
            "colorbar": {
             "outlinewidth": 0,
             "ticks": ""
            },
            "colorscale": [
             [
              0,
              "#0d0887"
             ],
             [
              0.1111111111111111,
              "#46039f"
             ],
             [
              0.2222222222222222,
              "#7201a8"
             ],
             [
              0.3333333333333333,
              "#9c179e"
             ],
             [
              0.4444444444444444,
              "#bd3786"
             ],
             [
              0.5555555555555556,
              "#d8576b"
             ],
             [
              0.6666666666666666,
              "#ed7953"
             ],
             [
              0.7777777777777778,
              "#fb9f3a"
             ],
             [
              0.8888888888888888,
              "#fdca26"
             ],
             [
              1,
              "#f0f921"
             ]
            ],
            "type": "contour"
           }
          ],
          "contourcarpet": [
           {
            "colorbar": {
             "outlinewidth": 0,
             "ticks": ""
            },
            "type": "contourcarpet"
           }
          ],
          "heatmap": [
           {
            "colorbar": {
             "outlinewidth": 0,
             "ticks": ""
            },
            "colorscale": [
             [
              0,
              "#0d0887"
             ],
             [
              0.1111111111111111,
              "#46039f"
             ],
             [
              0.2222222222222222,
              "#7201a8"
             ],
             [
              0.3333333333333333,
              "#9c179e"
             ],
             [
              0.4444444444444444,
              "#bd3786"
             ],
             [
              0.5555555555555556,
              "#d8576b"
             ],
             [
              0.6666666666666666,
              "#ed7953"
             ],
             [
              0.7777777777777778,
              "#fb9f3a"
             ],
             [
              0.8888888888888888,
              "#fdca26"
             ],
             [
              1,
              "#f0f921"
             ]
            ],
            "type": "heatmap"
           }
          ],
          "heatmapgl": [
           {
            "colorbar": {
             "outlinewidth": 0,
             "ticks": ""
            },
            "colorscale": [
             [
              0,
              "#0d0887"
             ],
             [
              0.1111111111111111,
              "#46039f"
             ],
             [
              0.2222222222222222,
              "#7201a8"
             ],
             [
              0.3333333333333333,
              "#9c179e"
             ],
             [
              0.4444444444444444,
              "#bd3786"
             ],
             [
              0.5555555555555556,
              "#d8576b"
             ],
             [
              0.6666666666666666,
              "#ed7953"
             ],
             [
              0.7777777777777778,
              "#fb9f3a"
             ],
             [
              0.8888888888888888,
              "#fdca26"
             ],
             [
              1,
              "#f0f921"
             ]
            ],
            "type": "heatmapgl"
           }
          ],
          "histogram": [
           {
            "marker": {
             "pattern": {
              "fillmode": "overlay",
              "size": 10,
              "solidity": 0.2
             }
            },
            "type": "histogram"
           }
          ],
          "histogram2d": [
           {
            "colorbar": {
             "outlinewidth": 0,
             "ticks": ""
            },
            "colorscale": [
             [
              0,
              "#0d0887"
             ],
             [
              0.1111111111111111,
              "#46039f"
             ],
             [
              0.2222222222222222,
              "#7201a8"
             ],
             [
              0.3333333333333333,
              "#9c179e"
             ],
             [
              0.4444444444444444,
              "#bd3786"
             ],
             [
              0.5555555555555556,
              "#d8576b"
             ],
             [
              0.6666666666666666,
              "#ed7953"
             ],
             [
              0.7777777777777778,
              "#fb9f3a"
             ],
             [
              0.8888888888888888,
              "#fdca26"
             ],
             [
              1,
              "#f0f921"
             ]
            ],
            "type": "histogram2d"
           }
          ],
          "histogram2dcontour": [
           {
            "colorbar": {
             "outlinewidth": 0,
             "ticks": ""
            },
            "colorscale": [
             [
              0,
              "#0d0887"
             ],
             [
              0.1111111111111111,
              "#46039f"
             ],
             [
              0.2222222222222222,
              "#7201a8"
             ],
             [
              0.3333333333333333,
              "#9c179e"
             ],
             [
              0.4444444444444444,
              "#bd3786"
             ],
             [
              0.5555555555555556,
              "#d8576b"
             ],
             [
              0.6666666666666666,
              "#ed7953"
             ],
             [
              0.7777777777777778,
              "#fb9f3a"
             ],
             [
              0.8888888888888888,
              "#fdca26"
             ],
             [
              1,
              "#f0f921"
             ]
            ],
            "type": "histogram2dcontour"
           }
          ],
          "mesh3d": [
           {
            "colorbar": {
             "outlinewidth": 0,
             "ticks": ""
            },
            "type": "mesh3d"
           }
          ],
          "parcoords": [
           {
            "line": {
             "colorbar": {
              "outlinewidth": 0,
              "ticks": ""
             }
            },
            "type": "parcoords"
           }
          ],
          "pie": [
           {
            "automargin": true,
            "type": "pie"
           }
          ],
          "scatter": [
           {
            "marker": {
             "colorbar": {
              "outlinewidth": 0,
              "ticks": ""
             }
            },
            "type": "scatter"
           }
          ],
          "scatter3d": [
           {
            "line": {
             "colorbar": {
              "outlinewidth": 0,
              "ticks": ""
             }
            },
            "marker": {
             "colorbar": {
              "outlinewidth": 0,
              "ticks": ""
             }
            },
            "type": "scatter3d"
           }
          ],
          "scattercarpet": [
           {
            "marker": {
             "colorbar": {
              "outlinewidth": 0,
              "ticks": ""
             }
            },
            "type": "scattercarpet"
           }
          ],
          "scattergeo": [
           {
            "marker": {
             "colorbar": {
              "outlinewidth": 0,
              "ticks": ""
             }
            },
            "type": "scattergeo"
           }
          ],
          "scattergl": [
           {
            "marker": {
             "colorbar": {
              "outlinewidth": 0,
              "ticks": ""
             }
            },
            "type": "scattergl"
           }
          ],
          "scattermapbox": [
           {
            "marker": {
             "colorbar": {
              "outlinewidth": 0,
              "ticks": ""
             }
            },
            "type": "scattermapbox"
           }
          ],
          "scatterpolar": [
           {
            "marker": {
             "colorbar": {
              "outlinewidth": 0,
              "ticks": ""
             }
            },
            "type": "scatterpolar"
           }
          ],
          "scatterpolargl": [
           {
            "marker": {
             "colorbar": {
              "outlinewidth": 0,
              "ticks": ""
             }
            },
            "type": "scatterpolargl"
           }
          ],
          "scatterternary": [
           {
            "marker": {
             "colorbar": {
              "outlinewidth": 0,
              "ticks": ""
             }
            },
            "type": "scatterternary"
           }
          ],
          "surface": [
           {
            "colorbar": {
             "outlinewidth": 0,
             "ticks": ""
            },
            "colorscale": [
             [
              0,
              "#0d0887"
             ],
             [
              0.1111111111111111,
              "#46039f"
             ],
             [
              0.2222222222222222,
              "#7201a8"
             ],
             [
              0.3333333333333333,
              "#9c179e"
             ],
             [
              0.4444444444444444,
              "#bd3786"
             ],
             [
              0.5555555555555556,
              "#d8576b"
             ],
             [
              0.6666666666666666,
              "#ed7953"
             ],
             [
              0.7777777777777778,
              "#fb9f3a"
             ],
             [
              0.8888888888888888,
              "#fdca26"
             ],
             [
              1,
              "#f0f921"
             ]
            ],
            "type": "surface"
           }
          ],
          "table": [
           {
            "cells": {
             "fill": {
              "color": "#EBF0F8"
             },
             "line": {
              "color": "white"
             }
            },
            "header": {
             "fill": {
              "color": "#C8D4E3"
             },
             "line": {
              "color": "white"
             }
            },
            "type": "table"
           }
          ]
         },
         "layout": {
          "annotationdefaults": {
           "arrowcolor": "#2a3f5f",
           "arrowhead": 0,
           "arrowwidth": 1
          },
          "autotypenumbers": "strict",
          "coloraxis": {
           "colorbar": {
            "outlinewidth": 0,
            "ticks": ""
           }
          },
          "colorscale": {
           "diverging": [
            [
             0,
             "#8e0152"
            ],
            [
             0.1,
             "#c51b7d"
            ],
            [
             0.2,
             "#de77ae"
            ],
            [
             0.3,
             "#f1b6da"
            ],
            [
             0.4,
             "#fde0ef"
            ],
            [
             0.5,
             "#f7f7f7"
            ],
            [
             0.6,
             "#e6f5d0"
            ],
            [
             0.7,
             "#b8e186"
            ],
            [
             0.8,
             "#7fbc41"
            ],
            [
             0.9,
             "#4d9221"
            ],
            [
             1,
             "#276419"
            ]
           ],
           "sequential": [
            [
             0,
             "#0d0887"
            ],
            [
             0.1111111111111111,
             "#46039f"
            ],
            [
             0.2222222222222222,
             "#7201a8"
            ],
            [
             0.3333333333333333,
             "#9c179e"
            ],
            [
             0.4444444444444444,
             "#bd3786"
            ],
            [
             0.5555555555555556,
             "#d8576b"
            ],
            [
             0.6666666666666666,
             "#ed7953"
            ],
            [
             0.7777777777777778,
             "#fb9f3a"
            ],
            [
             0.8888888888888888,
             "#fdca26"
            ],
            [
             1,
             "#f0f921"
            ]
           ],
           "sequentialminus": [
            [
             0,
             "#0d0887"
            ],
            [
             0.1111111111111111,
             "#46039f"
            ],
            [
             0.2222222222222222,
             "#7201a8"
            ],
            [
             0.3333333333333333,
             "#9c179e"
            ],
            [
             0.4444444444444444,
             "#bd3786"
            ],
            [
             0.5555555555555556,
             "#d8576b"
            ],
            [
             0.6666666666666666,
             "#ed7953"
            ],
            [
             0.7777777777777778,
             "#fb9f3a"
            ],
            [
             0.8888888888888888,
             "#fdca26"
            ],
            [
             1,
             "#f0f921"
            ]
           ]
          },
          "colorway": [
           "#636efa",
           "#EF553B",
           "#00cc96",
           "#ab63fa",
           "#FFA15A",
           "#19d3f3",
           "#FF6692",
           "#B6E880",
           "#FF97FF",
           "#FECB52"
          ],
          "font": {
           "color": "#2a3f5f"
          },
          "geo": {
           "bgcolor": "white",
           "lakecolor": "white",
           "landcolor": "#E5ECF6",
           "showlakes": true,
           "showland": true,
           "subunitcolor": "white"
          },
          "hoverlabel": {
           "align": "left"
          },
          "hovermode": "closest",
          "mapbox": {
           "style": "light"
          },
          "paper_bgcolor": "white",
          "plot_bgcolor": "#E5ECF6",
          "polar": {
           "angularaxis": {
            "gridcolor": "white",
            "linecolor": "white",
            "ticks": ""
           },
           "bgcolor": "#E5ECF6",
           "radialaxis": {
            "gridcolor": "white",
            "linecolor": "white",
            "ticks": ""
           }
          },
          "scene": {
           "xaxis": {
            "backgroundcolor": "#E5ECF6",
            "gridcolor": "white",
            "gridwidth": 2,
            "linecolor": "white",
            "showbackground": true,
            "ticks": "",
            "zerolinecolor": "white"
           },
           "yaxis": {
            "backgroundcolor": "#E5ECF6",
            "gridcolor": "white",
            "gridwidth": 2,
            "linecolor": "white",
            "showbackground": true,
            "ticks": "",
            "zerolinecolor": "white"
           },
           "zaxis": {
            "backgroundcolor": "#E5ECF6",
            "gridcolor": "white",
            "gridwidth": 2,
            "linecolor": "white",
            "showbackground": true,
            "ticks": "",
            "zerolinecolor": "white"
           }
          },
          "shapedefaults": {
           "line": {
            "color": "#2a3f5f"
           }
          },
          "ternary": {
           "aaxis": {
            "gridcolor": "white",
            "linecolor": "white",
            "ticks": ""
           },
           "baxis": {
            "gridcolor": "white",
            "linecolor": "white",
            "ticks": ""
           },
           "bgcolor": "#E5ECF6",
           "caxis": {
            "gridcolor": "white",
            "linecolor": "white",
            "ticks": ""
           }
          },
          "title": {
           "x": 0.05
          },
          "xaxis": {
           "automargin": true,
           "gridcolor": "white",
           "linecolor": "white",
           "ticks": "",
           "title": {
            "standoff": 15
           },
           "zerolinecolor": "white",
           "zerolinewidth": 2
          },
          "yaxis": {
           "automargin": true,
           "gridcolor": "white",
           "linecolor": "white",
           "ticks": "",
           "title": {
            "standoff": 15
           },
           "zerolinecolor": "white",
           "zerolinewidth": 2
          }
         }
        },
        "title": {
         "font": {
          "color": "#4D5663"
         }
        },
        "xaxis": {
         "gridcolor": "#E1E5ED",
         "showgrid": true,
         "tickfont": {
          "color": "#4D5663"
         },
         "title": {
          "font": {
           "color": "#4D5663"
          },
          "text": ""
         },
         "zerolinecolor": "#E1E5ED"
        },
        "yaxis": {
         "gridcolor": "#E1E5ED",
         "showgrid": true,
         "tickfont": {
          "color": "#4D5663"
         },
         "title": {
          "font": {
           "color": "#4D5663"
          },
          "text": ""
         },
         "zerolinecolor": "#E1E5ED"
        }
       }
      },
      "text/html": [
       "<div>                            <div id=\"1e3b234c-5176-4da5-ac98-0d0a72147951\" class=\"plotly-graph-div\" style=\"height:525px; width:100%;\"></div>            <script type=\"text/javascript\">                require([\"plotly\"], function(Plotly) {                    window.PLOTLYENV=window.PLOTLYENV || {};\n",
       "                    window.PLOTLYENV.BASE_URL='https://plot.ly';                                    if (document.getElementById(\"1e3b234c-5176-4da5-ac98-0d0a72147951\")) {                    Plotly.newPlot(                        \"1e3b234c-5176-4da5-ac98-0d0a72147951\",                        [{\"histfunc\":\"count\",\"histnorm\":\"\",\"marker\":{\"color\":\"rgba(255, 153, 51, 1.0)\",\"line\":{\"color\":\"#4D5663\",\"width\":1.3}},\"name\":\"A\",\"nbinsx\":25,\"opacity\":0.8,\"orientation\":\"v\",\"x\":[0.18949412131357618,-0.4394056773665876,1.5235003132506255,0.03645250031559109,-0.48017680332678986,-0.32940801574654444,-0.8336585198060829,2.1104829932351987,-2.1774759403114543,-1.4552810678704107,-0.3946340137520746,-0.7958997396105878,-2.1941249569910184,-0.3186755756858305,-1.0762861726059367,0.5160715236107142,0.5354240028958203,0.24474634754970445,2.1593382645363524,-2.459688200120283,2.2033163680127856,0.12741013120035052,-0.7426413044529445,-0.708915270693794,-1.7366906383070453,-0.3278091707347793,-0.019161214804460824,-0.10350391076144248,0.443003384937299,-0.3021624753184853,-0.26540709330297957,1.1177682728198786,-0.6555808314273678,-2.0513962145269367,-0.007283680343075513,-1.7345390153967326,0.6526293553788296,0.8797043755381333,-0.40446628152172,0.40015659679998383,1.3501402445869597,-1.681402939901821,0.37687631215522416,1.530406066859981,0.27376913231487043,0.11859151200966923,0.18998151104134484,1.239771620051365,-0.013067258817813692,-0.4342760602897146,-0.22768423864144938,-0.08712007886114415,-1.3953429851893069,-1.1346627058287775,1.717402994668382,-0.8202332848774089,-0.4210331992705946,-0.06266365801889973,-0.1076343228449331,-0.46753029808332414,0.465339121662231,0.05686260034364659,0.6689353752755711,-1.3749096285081572,1.0644486040242718,1.0029108097495154,-0.4756234878591175,-0.7573283389084694,1.553314742784835,0.9327235406491218,-0.5432611240893911,0.9375595028153989,0.6479726183862607,-1.6193215495623614,0.42468213572515945,0.4442854952443643,-0.4430216955740655,-0.3313723025358653,-0.5164036122879947,-0.1426294244580413,0.34861880298974646,2.491239497816553,-1.2708676958205198,1.2439173121325637,-0.2531066585596569,0.3986080862101964,1.559031756752641,-0.8451994271388271,0.6244513110895351,-0.20836122736152812,-1.5593960284306796,1.0027652648558283,0.6678453706840629,0.9019731286521746,0.49217666164481805,-0.2537409869513799,0.7236090940111436,0.046759497044002236,-0.5975669662202538,-0.78915850866316],\"type\":\"histogram\"}],                        {\"barmode\":\"overlay\",\"legend\":{\"bgcolor\":\"#F5F6F9\",\"font\":{\"color\":\"#4D5663\"}},\"paper_bgcolor\":\"#F5F6F9\",\"plot_bgcolor\":\"#F5F6F9\",\"template\":{\"data\":{\"barpolar\":[{\"marker\":{\"line\":{\"color\":\"#E5ECF6\",\"width\":0.5},\"pattern\":{\"fillmode\":\"overlay\",\"size\":10,\"solidity\":0.2}},\"type\":\"barpolar\"}],\"bar\":[{\"error_x\":{\"color\":\"#2a3f5f\"},\"error_y\":{\"color\":\"#2a3f5f\"},\"marker\":{\"line\":{\"color\":\"#E5ECF6\",\"width\":0.5},\"pattern\":{\"fillmode\":\"overlay\",\"size\":10,\"solidity\":0.2}},\"type\":\"bar\"}],\"carpet\":[{\"aaxis\":{\"endlinecolor\":\"#2a3f5f\",\"gridcolor\":\"white\",\"linecolor\":\"white\",\"minorgridcolor\":\"white\",\"startlinecolor\":\"#2a3f5f\"},\"baxis\":{\"endlinecolor\":\"#2a3f5f\",\"gridcolor\":\"white\",\"linecolor\":\"white\",\"minorgridcolor\":\"white\",\"startlinecolor\":\"#2a3f5f\"},\"type\":\"carpet\"}],\"choropleth\":[{\"colorbar\":{\"outlinewidth\":0,\"ticks\":\"\"},\"type\":\"choropleth\"}],\"contourcarpet\":[{\"colorbar\":{\"outlinewidth\":0,\"ticks\":\"\"},\"type\":\"contourcarpet\"}],\"contour\":[{\"colorbar\":{\"outlinewidth\":0,\"ticks\":\"\"},\"colorscale\":[[0.0,\"#0d0887\"],[0.1111111111111111,\"#46039f\"],[0.2222222222222222,\"#7201a8\"],[0.3333333333333333,\"#9c179e\"],[0.4444444444444444,\"#bd3786\"],[0.5555555555555556,\"#d8576b\"],[0.6666666666666666,\"#ed7953\"],[0.7777777777777778,\"#fb9f3a\"],[0.8888888888888888,\"#fdca26\"],[1.0,\"#f0f921\"]],\"type\":\"contour\"}],\"heatmapgl\":[{\"colorbar\":{\"outlinewidth\":0,\"ticks\":\"\"},\"colorscale\":[[0.0,\"#0d0887\"],[0.1111111111111111,\"#46039f\"],[0.2222222222222222,\"#7201a8\"],[0.3333333333333333,\"#9c179e\"],[0.4444444444444444,\"#bd3786\"],[0.5555555555555556,\"#d8576b\"],[0.6666666666666666,\"#ed7953\"],[0.7777777777777778,\"#fb9f3a\"],[0.8888888888888888,\"#fdca26\"],[1.0,\"#f0f921\"]],\"type\":\"heatmapgl\"}],\"heatmap\":[{\"colorbar\":{\"outlinewidth\":0,\"ticks\":\"\"},\"colorscale\":[[0.0,\"#0d0887\"],[0.1111111111111111,\"#46039f\"],[0.2222222222222222,\"#7201a8\"],[0.3333333333333333,\"#9c179e\"],[0.4444444444444444,\"#bd3786\"],[0.5555555555555556,\"#d8576b\"],[0.6666666666666666,\"#ed7953\"],[0.7777777777777778,\"#fb9f3a\"],[0.8888888888888888,\"#fdca26\"],[1.0,\"#f0f921\"]],\"type\":\"heatmap\"}],\"histogram2dcontour\":[{\"colorbar\":{\"outlinewidth\":0,\"ticks\":\"\"},\"colorscale\":[[0.0,\"#0d0887\"],[0.1111111111111111,\"#46039f\"],[0.2222222222222222,\"#7201a8\"],[0.3333333333333333,\"#9c179e\"],[0.4444444444444444,\"#bd3786\"],[0.5555555555555556,\"#d8576b\"],[0.6666666666666666,\"#ed7953\"],[0.7777777777777778,\"#fb9f3a\"],[0.8888888888888888,\"#fdca26\"],[1.0,\"#f0f921\"]],\"type\":\"histogram2dcontour\"}],\"histogram2d\":[{\"colorbar\":{\"outlinewidth\":0,\"ticks\":\"\"},\"colorscale\":[[0.0,\"#0d0887\"],[0.1111111111111111,\"#46039f\"],[0.2222222222222222,\"#7201a8\"],[0.3333333333333333,\"#9c179e\"],[0.4444444444444444,\"#bd3786\"],[0.5555555555555556,\"#d8576b\"],[0.6666666666666666,\"#ed7953\"],[0.7777777777777778,\"#fb9f3a\"],[0.8888888888888888,\"#fdca26\"],[1.0,\"#f0f921\"]],\"type\":\"histogram2d\"}],\"histogram\":[{\"marker\":{\"pattern\":{\"fillmode\":\"overlay\",\"size\":10,\"solidity\":0.2}},\"type\":\"histogram\"}],\"mesh3d\":[{\"colorbar\":{\"outlinewidth\":0,\"ticks\":\"\"},\"type\":\"mesh3d\"}],\"parcoords\":[{\"line\":{\"colorbar\":{\"outlinewidth\":0,\"ticks\":\"\"}},\"type\":\"parcoords\"}],\"pie\":[{\"automargin\":true,\"type\":\"pie\"}],\"scatter3d\":[{\"line\":{\"colorbar\":{\"outlinewidth\":0,\"ticks\":\"\"}},\"marker\":{\"colorbar\":{\"outlinewidth\":0,\"ticks\":\"\"}},\"type\":\"scatter3d\"}],\"scattercarpet\":[{\"marker\":{\"colorbar\":{\"outlinewidth\":0,\"ticks\":\"\"}},\"type\":\"scattercarpet\"}],\"scattergeo\":[{\"marker\":{\"colorbar\":{\"outlinewidth\":0,\"ticks\":\"\"}},\"type\":\"scattergeo\"}],\"scattergl\":[{\"marker\":{\"colorbar\":{\"outlinewidth\":0,\"ticks\":\"\"}},\"type\":\"scattergl\"}],\"scattermapbox\":[{\"marker\":{\"colorbar\":{\"outlinewidth\":0,\"ticks\":\"\"}},\"type\":\"scattermapbox\"}],\"scatterpolargl\":[{\"marker\":{\"colorbar\":{\"outlinewidth\":0,\"ticks\":\"\"}},\"type\":\"scatterpolargl\"}],\"scatterpolar\":[{\"marker\":{\"colorbar\":{\"outlinewidth\":0,\"ticks\":\"\"}},\"type\":\"scatterpolar\"}],\"scatter\":[{\"marker\":{\"colorbar\":{\"outlinewidth\":0,\"ticks\":\"\"}},\"type\":\"scatter\"}],\"scatterternary\":[{\"marker\":{\"colorbar\":{\"outlinewidth\":0,\"ticks\":\"\"}},\"type\":\"scatterternary\"}],\"surface\":[{\"colorbar\":{\"outlinewidth\":0,\"ticks\":\"\"},\"colorscale\":[[0.0,\"#0d0887\"],[0.1111111111111111,\"#46039f\"],[0.2222222222222222,\"#7201a8\"],[0.3333333333333333,\"#9c179e\"],[0.4444444444444444,\"#bd3786\"],[0.5555555555555556,\"#d8576b\"],[0.6666666666666666,\"#ed7953\"],[0.7777777777777778,\"#fb9f3a\"],[0.8888888888888888,\"#fdca26\"],[1.0,\"#f0f921\"]],\"type\":\"surface\"}],\"table\":[{\"cells\":{\"fill\":{\"color\":\"#EBF0F8\"},\"line\":{\"color\":\"white\"}},\"header\":{\"fill\":{\"color\":\"#C8D4E3\"},\"line\":{\"color\":\"white\"}},\"type\":\"table\"}]},\"layout\":{\"annotationdefaults\":{\"arrowcolor\":\"#2a3f5f\",\"arrowhead\":0,\"arrowwidth\":1},\"autotypenumbers\":\"strict\",\"coloraxis\":{\"colorbar\":{\"outlinewidth\":0,\"ticks\":\"\"}},\"colorscale\":{\"diverging\":[[0,\"#8e0152\"],[0.1,\"#c51b7d\"],[0.2,\"#de77ae\"],[0.3,\"#f1b6da\"],[0.4,\"#fde0ef\"],[0.5,\"#f7f7f7\"],[0.6,\"#e6f5d0\"],[0.7,\"#b8e186\"],[0.8,\"#7fbc41\"],[0.9,\"#4d9221\"],[1,\"#276419\"]],\"sequential\":[[0.0,\"#0d0887\"],[0.1111111111111111,\"#46039f\"],[0.2222222222222222,\"#7201a8\"],[0.3333333333333333,\"#9c179e\"],[0.4444444444444444,\"#bd3786\"],[0.5555555555555556,\"#d8576b\"],[0.6666666666666666,\"#ed7953\"],[0.7777777777777778,\"#fb9f3a\"],[0.8888888888888888,\"#fdca26\"],[1.0,\"#f0f921\"]],\"sequentialminus\":[[0.0,\"#0d0887\"],[0.1111111111111111,\"#46039f\"],[0.2222222222222222,\"#7201a8\"],[0.3333333333333333,\"#9c179e\"],[0.4444444444444444,\"#bd3786\"],[0.5555555555555556,\"#d8576b\"],[0.6666666666666666,\"#ed7953\"],[0.7777777777777778,\"#fb9f3a\"],[0.8888888888888888,\"#fdca26\"],[1.0,\"#f0f921\"]]},\"colorway\":[\"#636efa\",\"#EF553B\",\"#00cc96\",\"#ab63fa\",\"#FFA15A\",\"#19d3f3\",\"#FF6692\",\"#B6E880\",\"#FF97FF\",\"#FECB52\"],\"font\":{\"color\":\"#2a3f5f\"},\"geo\":{\"bgcolor\":\"white\",\"lakecolor\":\"white\",\"landcolor\":\"#E5ECF6\",\"showlakes\":true,\"showland\":true,\"subunitcolor\":\"white\"},\"hoverlabel\":{\"align\":\"left\"},\"hovermode\":\"closest\",\"mapbox\":{\"style\":\"light\"},\"paper_bgcolor\":\"white\",\"plot_bgcolor\":\"#E5ECF6\",\"polar\":{\"angularaxis\":{\"gridcolor\":\"white\",\"linecolor\":\"white\",\"ticks\":\"\"},\"bgcolor\":\"#E5ECF6\",\"radialaxis\":{\"gridcolor\":\"white\",\"linecolor\":\"white\",\"ticks\":\"\"}},\"scene\":{\"xaxis\":{\"backgroundcolor\":\"#E5ECF6\",\"gridcolor\":\"white\",\"gridwidth\":2,\"linecolor\":\"white\",\"showbackground\":true,\"ticks\":\"\",\"zerolinecolor\":\"white\"},\"yaxis\":{\"backgroundcolor\":\"#E5ECF6\",\"gridcolor\":\"white\",\"gridwidth\":2,\"linecolor\":\"white\",\"showbackground\":true,\"ticks\":\"\",\"zerolinecolor\":\"white\"},\"zaxis\":{\"backgroundcolor\":\"#E5ECF6\",\"gridcolor\":\"white\",\"gridwidth\":2,\"linecolor\":\"white\",\"showbackground\":true,\"ticks\":\"\",\"zerolinecolor\":\"white\"}},\"shapedefaults\":{\"line\":{\"color\":\"#2a3f5f\"}},\"ternary\":{\"aaxis\":{\"gridcolor\":\"white\",\"linecolor\":\"white\",\"ticks\":\"\"},\"baxis\":{\"gridcolor\":\"white\",\"linecolor\":\"white\",\"ticks\":\"\"},\"bgcolor\":\"#E5ECF6\",\"caxis\":{\"gridcolor\":\"white\",\"linecolor\":\"white\",\"ticks\":\"\"}},\"title\":{\"x\":0.05},\"xaxis\":{\"automargin\":true,\"gridcolor\":\"white\",\"linecolor\":\"white\",\"ticks\":\"\",\"title\":{\"standoff\":15},\"zerolinecolor\":\"white\",\"zerolinewidth\":2},\"yaxis\":{\"automargin\":true,\"gridcolor\":\"white\",\"linecolor\":\"white\",\"ticks\":\"\",\"title\":{\"standoff\":15},\"zerolinecolor\":\"white\",\"zerolinewidth\":2}}},\"title\":{\"font\":{\"color\":\"#4D5663\"}},\"xaxis\":{\"gridcolor\":\"#E1E5ED\",\"showgrid\":true,\"tickfont\":{\"color\":\"#4D5663\"},\"title\":{\"font\":{\"color\":\"#4D5663\"},\"text\":\"\"},\"zerolinecolor\":\"#E1E5ED\"},\"yaxis\":{\"gridcolor\":\"#E1E5ED\",\"showgrid\":true,\"tickfont\":{\"color\":\"#4D5663\"},\"title\":{\"font\":{\"color\":\"#4D5663\"},\"text\":\"\"},\"zerolinecolor\":\"#E1E5ED\"}},                        {\"showLink\": true, \"linkText\": \"Export to plot.ly\", \"plotlyServerURL\": \"https://plot.ly\", \"responsive\": true}                    ).then(function(){\n",
       "                            \n",
       "var gd = document.getElementById('1e3b234c-5176-4da5-ac98-0d0a72147951');\n",
       "var x = new MutationObserver(function (mutations, observer) {{\n",
       "        var display = window.getComputedStyle(gd).display;\n",
       "        if (!display || display === 'none') {{\n",
       "            console.log([gd, 'removed!']);\n",
       "            Plotly.purge(gd);\n",
       "            observer.disconnect();\n",
       "        }}\n",
       "}});\n",
       "\n",
       "// Listen for the removal of the full notebook cells\n",
       "var notebookContainer = gd.closest('#notebook-container');\n",
       "if (notebookContainer) {{\n",
       "    x.observe(notebookContainer, {childList: true});\n",
       "}}\n",
       "\n",
       "// Listen for the clearing of the current output cell\n",
       "var outputEl = gd.closest('.output');\n",
       "if (outputEl) {{\n",
       "    x.observe(outputEl, {childList: true});\n",
       "}}\n",
       "\n",
       "                        })                };                });            </script>        </div>"
      ]
     },
     "metadata": {},
     "output_type": "display_data"
    }
   ],
   "source": [
    "df['A'].iplot(kind='hist',bins=25)"
   ]
  },
  {
   "cell_type": "code",
   "execution_count": 17,
   "id": "1e68bf84",
   "metadata": {},
   "outputs": [
    {
     "data": {
      "application/vnd.plotly.v1+json": {
       "config": {
        "linkText": "Export to plot.ly",
        "plotlyServerURL": "https://plot.ly",
        "showLink": true
       },
       "data": [
        {
         "marker": {
          "color": [
           "rgb(255, 153, 51)",
           "rgb(55, 128, 191)",
           "rgb(50, 171, 96)",
           "rgb(128, 0, 128)",
           "rgb(219, 64, 82)",
           "rgb(0, 128, 128)",
           "rgb(255, 255, 51)",
           "rgb(128, 128, 0)",
           "rgb(251, 128, 114)",
           "rgb(128, 177, 211)"
          ],
          "line": {
           "width": 1.3
          },
          "size": [
           47,
           17,
           67,
           21,
           53,
           38,
           12,
           40,
           55,
           52,
           54,
           59,
           65,
           41,
           68,
           14,
           48,
           53,
           41,
           53,
           71,
           42,
           27,
           38,
           26,
           73,
           69,
           53,
           63,
           67,
           38,
           59,
           75,
           94,
           34,
           69,
           76,
           65,
           84,
           70,
           72,
           77,
           33,
           65,
           20,
           44,
           59,
           86,
           39,
           68,
           82,
           62,
           67,
           52,
           33,
           38,
           33,
           59,
           83,
           81,
           36,
           40,
           66,
           81,
           42,
           76,
           40,
           37,
           17,
           37,
           80,
           52,
           18,
           75,
           13,
           74,
           73,
           66,
           66,
           75,
           25,
           112,
           45,
           37,
           86,
           51,
           30,
           49,
           49,
           42,
           70,
           58,
           28,
           57,
           57,
           40,
           62,
           60,
           26,
           50
          ],
          "symbol": "circle"
         },
         "mode": "markers",
         "text": "",
         "type": "scatter",
         "x": [
          0.18949412131357618,
          -0.4394056773665876,
          1.5235003132506255,
          0.03645250031559109,
          -0.48017680332678986,
          -0.32940801574654444,
          -0.8336585198060829,
          2.1104829932351987,
          -2.1774759403114543,
          -1.4552810678704107,
          -0.3946340137520746,
          -0.7958997396105878,
          -2.1941249569910184,
          -0.3186755756858305,
          -1.0762861726059367,
          0.5160715236107142,
          0.5354240028958203,
          0.24474634754970445,
          2.1593382645363524,
          -2.459688200120283,
          2.2033163680127856,
          0.12741013120035052,
          -0.7426413044529445,
          -0.708915270693794,
          -1.7366906383070453,
          -0.3278091707347793,
          -0.019161214804460824,
          -0.10350391076144248,
          0.443003384937299,
          -0.3021624753184853,
          -0.26540709330297957,
          1.1177682728198786,
          -0.6555808314273678,
          -2.0513962145269367,
          -0.007283680343075513,
          -1.7345390153967326,
          0.6526293553788296,
          0.8797043755381333,
          -0.40446628152172,
          0.40015659679998383,
          1.3501402445869597,
          -1.681402939901821,
          0.37687631215522416,
          1.530406066859981,
          0.27376913231487043,
          0.11859151200966923,
          0.18998151104134484,
          1.239771620051365,
          -0.013067258817813692,
          -0.4342760602897146,
          -0.22768423864144938,
          -0.08712007886114415,
          -1.3953429851893069,
          -1.1346627058287775,
          1.717402994668382,
          -0.8202332848774089,
          -0.4210331992705946,
          -0.06266365801889973,
          -0.1076343228449331,
          -0.46753029808332414,
          0.465339121662231,
          0.05686260034364659,
          0.6689353752755711,
          -1.3749096285081572,
          1.0644486040242718,
          1.0029108097495154,
          -0.4756234878591175,
          -0.7573283389084694,
          1.553314742784835,
          0.9327235406491218,
          -0.5432611240893911,
          0.9375595028153989,
          0.6479726183862607,
          -1.6193215495623614,
          0.42468213572515945,
          0.4442854952443643,
          -0.4430216955740655,
          -0.3313723025358653,
          -0.5164036122879947,
          -0.1426294244580413,
          0.34861880298974646,
          2.491239497816553,
          -1.2708676958205198,
          1.2439173121325637,
          -0.2531066585596569,
          0.3986080862101964,
          1.559031756752641,
          -0.8451994271388271,
          0.6244513110895351,
          -0.20836122736152812,
          -1.5593960284306796,
          1.0027652648558283,
          0.6678453706840629,
          0.9019731286521746,
          0.49217666164481805,
          -0.2537409869513799,
          0.7236090940111436,
          0.046759497044002236,
          -0.5975669662202538,
          -0.78915850866316
         ],
         "y": [
          -0.3837044654152856,
          0.795222058544091,
          -1.088639124538044,
          1.2717431343417127,
          -0.425142084846673,
          0.064182302033947,
          1.4362888057989984,
          -0.1500476658943807,
          -1.5718151705858465,
          -1.1951812086435607,
          0.22860843548074822,
          -0.12492214308168757,
          -0.2867367492193972,
          -0.5736239558678975,
          1.389341530883104,
          -0.6861898267335519,
          -1.5311373341612782,
          -0.8512089705281984,
          -1.4559541518556975,
          -1.1001623087846037,
          0.8979100173243162,
          0.12116953775102157,
          0.008534083166311771,
          0.8564629305816837,
          -0.5811640716666194,
          -1.2080292257019134,
          -0.2349761867338796,
          0.5544460777568961,
          -1.0713239222958086,
          -0.5880653881769333,
          1.455833425930843,
          1.798690383630041,
          -0.33646470904540654,
          -0.3672634840646152,
          -1.172864741624129,
          0.5837329271770997,
          -2.2382359822608637,
          0.18016433857511283,
          0.9536368045497337,
          -1.0800463778552765,
          -0.8317221994239206,
          1.282796438795336,
          -0.29336799070174174,
          0.15886220818261743,
          0.38201782187711153,
          1.4359852720915571,
          0.12325985697339818,
          -1.2571112124983932,
          -0.6820456832743963,
          0.6549877845727778,
          1.7480017358816617,
          -0.417778286260563,
          -1.6706045656026176,
          -0.32449160626856594,
          0.04941441532003659,
          1.2301955880270588,
          0.5549576648122474,
          0.5087348321498013,
          -0.5251299669479592,
          -0.7226843478772803,
          2.166721876878339,
          1.1802593126083956,
          -1.538186484092452,
          -0.9373214000293492,
          2.507394228500375,
          1.1453156950783623,
          -0.3900336491592565,
          -1.2294025551628793,
          0.047153263572624386,
          -1.4132468018414466,
          -0.2490684669524338,
          -0.049467689607492635,
          0.32500434009912604,
          2.3848744017153285,
          1.5072496221876714,
          2.3374311490664765,
          0.24765502883674623,
          0.24345434946978872,
          -1.0754295259055462,
          -0.9253517607585953,
          -0.23061561620756169,
          0.9122603763478071,
          0.07761133731595166,
          -1.9670718895477557,
          0.7909040382082345,
          -1.164107142015901,
          -1.3600341936072617,
          1.0761877070356076,
          0.5910801172299857,
          -2.4683912167831474,
          0.9391003487905739,
          0.5833264172434889,
          0.7708157024485347,
          -0.5097944025738771,
          -1.1535830779289729,
          1.7235455685820171,
          2.0515347554626917,
          0.5810028348635923,
          -1.5039588573849996,
          1.1202156895522468
         ]
        }
       ],
       "layout": {
        "legend": {
         "bgcolor": "#F5F6F9",
         "font": {
          "color": "#4D5663"
         }
        },
        "paper_bgcolor": "#F5F6F9",
        "plot_bgcolor": "#F5F6F9",
        "template": {
         "data": {
          "bar": [
           {
            "error_x": {
             "color": "#2a3f5f"
            },
            "error_y": {
             "color": "#2a3f5f"
            },
            "marker": {
             "line": {
              "color": "#E5ECF6",
              "width": 0.5
             },
             "pattern": {
              "fillmode": "overlay",
              "size": 10,
              "solidity": 0.2
             }
            },
            "type": "bar"
           }
          ],
          "barpolar": [
           {
            "marker": {
             "line": {
              "color": "#E5ECF6",
              "width": 0.5
             },
             "pattern": {
              "fillmode": "overlay",
              "size": 10,
              "solidity": 0.2
             }
            },
            "type": "barpolar"
           }
          ],
          "carpet": [
           {
            "aaxis": {
             "endlinecolor": "#2a3f5f",
             "gridcolor": "white",
             "linecolor": "white",
             "minorgridcolor": "white",
             "startlinecolor": "#2a3f5f"
            },
            "baxis": {
             "endlinecolor": "#2a3f5f",
             "gridcolor": "white",
             "linecolor": "white",
             "minorgridcolor": "white",
             "startlinecolor": "#2a3f5f"
            },
            "type": "carpet"
           }
          ],
          "choropleth": [
           {
            "colorbar": {
             "outlinewidth": 0,
             "ticks": ""
            },
            "type": "choropleth"
           }
          ],
          "contour": [
           {
            "colorbar": {
             "outlinewidth": 0,
             "ticks": ""
            },
            "colorscale": [
             [
              0,
              "#0d0887"
             ],
             [
              0.1111111111111111,
              "#46039f"
             ],
             [
              0.2222222222222222,
              "#7201a8"
             ],
             [
              0.3333333333333333,
              "#9c179e"
             ],
             [
              0.4444444444444444,
              "#bd3786"
             ],
             [
              0.5555555555555556,
              "#d8576b"
             ],
             [
              0.6666666666666666,
              "#ed7953"
             ],
             [
              0.7777777777777778,
              "#fb9f3a"
             ],
             [
              0.8888888888888888,
              "#fdca26"
             ],
             [
              1,
              "#f0f921"
             ]
            ],
            "type": "contour"
           }
          ],
          "contourcarpet": [
           {
            "colorbar": {
             "outlinewidth": 0,
             "ticks": ""
            },
            "type": "contourcarpet"
           }
          ],
          "heatmap": [
           {
            "colorbar": {
             "outlinewidth": 0,
             "ticks": ""
            },
            "colorscale": [
             [
              0,
              "#0d0887"
             ],
             [
              0.1111111111111111,
              "#46039f"
             ],
             [
              0.2222222222222222,
              "#7201a8"
             ],
             [
              0.3333333333333333,
              "#9c179e"
             ],
             [
              0.4444444444444444,
              "#bd3786"
             ],
             [
              0.5555555555555556,
              "#d8576b"
             ],
             [
              0.6666666666666666,
              "#ed7953"
             ],
             [
              0.7777777777777778,
              "#fb9f3a"
             ],
             [
              0.8888888888888888,
              "#fdca26"
             ],
             [
              1,
              "#f0f921"
             ]
            ],
            "type": "heatmap"
           }
          ],
          "heatmapgl": [
           {
            "colorbar": {
             "outlinewidth": 0,
             "ticks": ""
            },
            "colorscale": [
             [
              0,
              "#0d0887"
             ],
             [
              0.1111111111111111,
              "#46039f"
             ],
             [
              0.2222222222222222,
              "#7201a8"
             ],
             [
              0.3333333333333333,
              "#9c179e"
             ],
             [
              0.4444444444444444,
              "#bd3786"
             ],
             [
              0.5555555555555556,
              "#d8576b"
             ],
             [
              0.6666666666666666,
              "#ed7953"
             ],
             [
              0.7777777777777778,
              "#fb9f3a"
             ],
             [
              0.8888888888888888,
              "#fdca26"
             ],
             [
              1,
              "#f0f921"
             ]
            ],
            "type": "heatmapgl"
           }
          ],
          "histogram": [
           {
            "marker": {
             "pattern": {
              "fillmode": "overlay",
              "size": 10,
              "solidity": 0.2
             }
            },
            "type": "histogram"
           }
          ],
          "histogram2d": [
           {
            "colorbar": {
             "outlinewidth": 0,
             "ticks": ""
            },
            "colorscale": [
             [
              0,
              "#0d0887"
             ],
             [
              0.1111111111111111,
              "#46039f"
             ],
             [
              0.2222222222222222,
              "#7201a8"
             ],
             [
              0.3333333333333333,
              "#9c179e"
             ],
             [
              0.4444444444444444,
              "#bd3786"
             ],
             [
              0.5555555555555556,
              "#d8576b"
             ],
             [
              0.6666666666666666,
              "#ed7953"
             ],
             [
              0.7777777777777778,
              "#fb9f3a"
             ],
             [
              0.8888888888888888,
              "#fdca26"
             ],
             [
              1,
              "#f0f921"
             ]
            ],
            "type": "histogram2d"
           }
          ],
          "histogram2dcontour": [
           {
            "colorbar": {
             "outlinewidth": 0,
             "ticks": ""
            },
            "colorscale": [
             [
              0,
              "#0d0887"
             ],
             [
              0.1111111111111111,
              "#46039f"
             ],
             [
              0.2222222222222222,
              "#7201a8"
             ],
             [
              0.3333333333333333,
              "#9c179e"
             ],
             [
              0.4444444444444444,
              "#bd3786"
             ],
             [
              0.5555555555555556,
              "#d8576b"
             ],
             [
              0.6666666666666666,
              "#ed7953"
             ],
             [
              0.7777777777777778,
              "#fb9f3a"
             ],
             [
              0.8888888888888888,
              "#fdca26"
             ],
             [
              1,
              "#f0f921"
             ]
            ],
            "type": "histogram2dcontour"
           }
          ],
          "mesh3d": [
           {
            "colorbar": {
             "outlinewidth": 0,
             "ticks": ""
            },
            "type": "mesh3d"
           }
          ],
          "parcoords": [
           {
            "line": {
             "colorbar": {
              "outlinewidth": 0,
              "ticks": ""
             }
            },
            "type": "parcoords"
           }
          ],
          "pie": [
           {
            "automargin": true,
            "type": "pie"
           }
          ],
          "scatter": [
           {
            "marker": {
             "colorbar": {
              "outlinewidth": 0,
              "ticks": ""
             }
            },
            "type": "scatter"
           }
          ],
          "scatter3d": [
           {
            "line": {
             "colorbar": {
              "outlinewidth": 0,
              "ticks": ""
             }
            },
            "marker": {
             "colorbar": {
              "outlinewidth": 0,
              "ticks": ""
             }
            },
            "type": "scatter3d"
           }
          ],
          "scattercarpet": [
           {
            "marker": {
             "colorbar": {
              "outlinewidth": 0,
              "ticks": ""
             }
            },
            "type": "scattercarpet"
           }
          ],
          "scattergeo": [
           {
            "marker": {
             "colorbar": {
              "outlinewidth": 0,
              "ticks": ""
             }
            },
            "type": "scattergeo"
           }
          ],
          "scattergl": [
           {
            "marker": {
             "colorbar": {
              "outlinewidth": 0,
              "ticks": ""
             }
            },
            "type": "scattergl"
           }
          ],
          "scattermapbox": [
           {
            "marker": {
             "colorbar": {
              "outlinewidth": 0,
              "ticks": ""
             }
            },
            "type": "scattermapbox"
           }
          ],
          "scatterpolar": [
           {
            "marker": {
             "colorbar": {
              "outlinewidth": 0,
              "ticks": ""
             }
            },
            "type": "scatterpolar"
           }
          ],
          "scatterpolargl": [
           {
            "marker": {
             "colorbar": {
              "outlinewidth": 0,
              "ticks": ""
             }
            },
            "type": "scatterpolargl"
           }
          ],
          "scatterternary": [
           {
            "marker": {
             "colorbar": {
              "outlinewidth": 0,
              "ticks": ""
             }
            },
            "type": "scatterternary"
           }
          ],
          "surface": [
           {
            "colorbar": {
             "outlinewidth": 0,
             "ticks": ""
            },
            "colorscale": [
             [
              0,
              "#0d0887"
             ],
             [
              0.1111111111111111,
              "#46039f"
             ],
             [
              0.2222222222222222,
              "#7201a8"
             ],
             [
              0.3333333333333333,
              "#9c179e"
             ],
             [
              0.4444444444444444,
              "#bd3786"
             ],
             [
              0.5555555555555556,
              "#d8576b"
             ],
             [
              0.6666666666666666,
              "#ed7953"
             ],
             [
              0.7777777777777778,
              "#fb9f3a"
             ],
             [
              0.8888888888888888,
              "#fdca26"
             ],
             [
              1,
              "#f0f921"
             ]
            ],
            "type": "surface"
           }
          ],
          "table": [
           {
            "cells": {
             "fill": {
              "color": "#EBF0F8"
             },
             "line": {
              "color": "white"
             }
            },
            "header": {
             "fill": {
              "color": "#C8D4E3"
             },
             "line": {
              "color": "white"
             }
            },
            "type": "table"
           }
          ]
         },
         "layout": {
          "annotationdefaults": {
           "arrowcolor": "#2a3f5f",
           "arrowhead": 0,
           "arrowwidth": 1
          },
          "autotypenumbers": "strict",
          "coloraxis": {
           "colorbar": {
            "outlinewidth": 0,
            "ticks": ""
           }
          },
          "colorscale": {
           "diverging": [
            [
             0,
             "#8e0152"
            ],
            [
             0.1,
             "#c51b7d"
            ],
            [
             0.2,
             "#de77ae"
            ],
            [
             0.3,
             "#f1b6da"
            ],
            [
             0.4,
             "#fde0ef"
            ],
            [
             0.5,
             "#f7f7f7"
            ],
            [
             0.6,
             "#e6f5d0"
            ],
            [
             0.7,
             "#b8e186"
            ],
            [
             0.8,
             "#7fbc41"
            ],
            [
             0.9,
             "#4d9221"
            ],
            [
             1,
             "#276419"
            ]
           ],
           "sequential": [
            [
             0,
             "#0d0887"
            ],
            [
             0.1111111111111111,
             "#46039f"
            ],
            [
             0.2222222222222222,
             "#7201a8"
            ],
            [
             0.3333333333333333,
             "#9c179e"
            ],
            [
             0.4444444444444444,
             "#bd3786"
            ],
            [
             0.5555555555555556,
             "#d8576b"
            ],
            [
             0.6666666666666666,
             "#ed7953"
            ],
            [
             0.7777777777777778,
             "#fb9f3a"
            ],
            [
             0.8888888888888888,
             "#fdca26"
            ],
            [
             1,
             "#f0f921"
            ]
           ],
           "sequentialminus": [
            [
             0,
             "#0d0887"
            ],
            [
             0.1111111111111111,
             "#46039f"
            ],
            [
             0.2222222222222222,
             "#7201a8"
            ],
            [
             0.3333333333333333,
             "#9c179e"
            ],
            [
             0.4444444444444444,
             "#bd3786"
            ],
            [
             0.5555555555555556,
             "#d8576b"
            ],
            [
             0.6666666666666666,
             "#ed7953"
            ],
            [
             0.7777777777777778,
             "#fb9f3a"
            ],
            [
             0.8888888888888888,
             "#fdca26"
            ],
            [
             1,
             "#f0f921"
            ]
           ]
          },
          "colorway": [
           "#636efa",
           "#EF553B",
           "#00cc96",
           "#ab63fa",
           "#FFA15A",
           "#19d3f3",
           "#FF6692",
           "#B6E880",
           "#FF97FF",
           "#FECB52"
          ],
          "font": {
           "color": "#2a3f5f"
          },
          "geo": {
           "bgcolor": "white",
           "lakecolor": "white",
           "landcolor": "#E5ECF6",
           "showlakes": true,
           "showland": true,
           "subunitcolor": "white"
          },
          "hoverlabel": {
           "align": "left"
          },
          "hovermode": "closest",
          "mapbox": {
           "style": "light"
          },
          "paper_bgcolor": "white",
          "plot_bgcolor": "#E5ECF6",
          "polar": {
           "angularaxis": {
            "gridcolor": "white",
            "linecolor": "white",
            "ticks": ""
           },
           "bgcolor": "#E5ECF6",
           "radialaxis": {
            "gridcolor": "white",
            "linecolor": "white",
            "ticks": ""
           }
          },
          "scene": {
           "xaxis": {
            "backgroundcolor": "#E5ECF6",
            "gridcolor": "white",
            "gridwidth": 2,
            "linecolor": "white",
            "showbackground": true,
            "ticks": "",
            "zerolinecolor": "white"
           },
           "yaxis": {
            "backgroundcolor": "#E5ECF6",
            "gridcolor": "white",
            "gridwidth": 2,
            "linecolor": "white",
            "showbackground": true,
            "ticks": "",
            "zerolinecolor": "white"
           },
           "zaxis": {
            "backgroundcolor": "#E5ECF6",
            "gridcolor": "white",
            "gridwidth": 2,
            "linecolor": "white",
            "showbackground": true,
            "ticks": "",
            "zerolinecolor": "white"
           }
          },
          "shapedefaults": {
           "line": {
            "color": "#2a3f5f"
           }
          },
          "ternary": {
           "aaxis": {
            "gridcolor": "white",
            "linecolor": "white",
            "ticks": ""
           },
           "baxis": {
            "gridcolor": "white",
            "linecolor": "white",
            "ticks": ""
           },
           "bgcolor": "#E5ECF6",
           "caxis": {
            "gridcolor": "white",
            "linecolor": "white",
            "ticks": ""
           }
          },
          "title": {
           "x": 0.05
          },
          "xaxis": {
           "automargin": true,
           "gridcolor": "white",
           "linecolor": "white",
           "ticks": "",
           "title": {
            "standoff": 15
           },
           "zerolinecolor": "white",
           "zerolinewidth": 2
          },
          "yaxis": {
           "automargin": true,
           "gridcolor": "white",
           "linecolor": "white",
           "ticks": "",
           "title": {
            "standoff": 15
           },
           "zerolinecolor": "white",
           "zerolinewidth": 2
          }
         }
        },
        "title": {
         "font": {
          "color": "#4D5663"
         }
        },
        "xaxis": {
         "gridcolor": "#E1E5ED",
         "showgrid": true,
         "tickfont": {
          "color": "#4D5663"
         },
         "title": {
          "font": {
           "color": "#4D5663"
          },
          "text": ""
         },
         "zerolinecolor": "#E1E5ED"
        },
        "yaxis": {
         "gridcolor": "#E1E5ED",
         "showgrid": true,
         "tickfont": {
          "color": "#4D5663"
         },
         "title": {
          "font": {
           "color": "#4D5663"
          },
          "text": ""
         },
         "zerolinecolor": "#E1E5ED"
        }
       }
      },
      "text/html": [
       "<div>                            <div id=\"457dd2a1-0e73-4e40-bb9b-d332821c1f11\" class=\"plotly-graph-div\" style=\"height:525px; width:100%;\"></div>            <script type=\"text/javascript\">                require([\"plotly\"], function(Plotly) {                    window.PLOTLYENV=window.PLOTLYENV || {};\n",
       "                    window.PLOTLYENV.BASE_URL='https://plot.ly';                                    if (document.getElementById(\"457dd2a1-0e73-4e40-bb9b-d332821c1f11\")) {                    Plotly.newPlot(                        \"457dd2a1-0e73-4e40-bb9b-d332821c1f11\",                        [{\"marker\":{\"color\":[\"rgb(255, 153, 51)\",\"rgb(55, 128, 191)\",\"rgb(50, 171, 96)\",\"rgb(128, 0, 128)\",\"rgb(219, 64, 82)\",\"rgb(0, 128, 128)\",\"rgb(255, 255, 51)\",\"rgb(128, 128, 0)\",\"rgb(251, 128, 114)\",\"rgb(128, 177, 211)\"],\"line\":{\"width\":1.3},\"size\":[47,17,67,21,53,38,12,40,55,52,54,59,65,41,68,14,48,53,41,53,71,42,27,38,26,73,69,53,63,67,38,59,75,94,34,69,76,65,84,70,72,77,33,65,20,44,59,86,39,68,82,62,67,52,33,38,33,59,83,81,36,40,66,81,42,76,40,37,17,37,80,52,18,75,13,74,73,66,66,75,25,112,45,37,86,51,30,49,49,42,70,58,28,57,57,40,62,60,26,50],\"symbol\":\"circle\"},\"mode\":\"markers\",\"text\":\"\",\"x\":[0.18949412131357618,-0.4394056773665876,1.5235003132506255,0.03645250031559109,-0.48017680332678986,-0.32940801574654444,-0.8336585198060829,2.1104829932351987,-2.1774759403114543,-1.4552810678704107,-0.3946340137520746,-0.7958997396105878,-2.1941249569910184,-0.3186755756858305,-1.0762861726059367,0.5160715236107142,0.5354240028958203,0.24474634754970445,2.1593382645363524,-2.459688200120283,2.2033163680127856,0.12741013120035052,-0.7426413044529445,-0.708915270693794,-1.7366906383070453,-0.3278091707347793,-0.019161214804460824,-0.10350391076144248,0.443003384937299,-0.3021624753184853,-0.26540709330297957,1.1177682728198786,-0.6555808314273678,-2.0513962145269367,-0.007283680343075513,-1.7345390153967326,0.6526293553788296,0.8797043755381333,-0.40446628152172,0.40015659679998383,1.3501402445869597,-1.681402939901821,0.37687631215522416,1.530406066859981,0.27376913231487043,0.11859151200966923,0.18998151104134484,1.239771620051365,-0.013067258817813692,-0.4342760602897146,-0.22768423864144938,-0.08712007886114415,-1.3953429851893069,-1.1346627058287775,1.717402994668382,-0.8202332848774089,-0.4210331992705946,-0.06266365801889973,-0.1076343228449331,-0.46753029808332414,0.465339121662231,0.05686260034364659,0.6689353752755711,-1.3749096285081572,1.0644486040242718,1.0029108097495154,-0.4756234878591175,-0.7573283389084694,1.553314742784835,0.9327235406491218,-0.5432611240893911,0.9375595028153989,0.6479726183862607,-1.6193215495623614,0.42468213572515945,0.4442854952443643,-0.4430216955740655,-0.3313723025358653,-0.5164036122879947,-0.1426294244580413,0.34861880298974646,2.491239497816553,-1.2708676958205198,1.2439173121325637,-0.2531066585596569,0.3986080862101964,1.559031756752641,-0.8451994271388271,0.6244513110895351,-0.20836122736152812,-1.5593960284306796,1.0027652648558283,0.6678453706840629,0.9019731286521746,0.49217666164481805,-0.2537409869513799,0.7236090940111436,0.046759497044002236,-0.5975669662202538,-0.78915850866316],\"y\":[-0.3837044654152856,0.795222058544091,-1.088639124538044,1.2717431343417127,-0.425142084846673,0.064182302033947,1.4362888057989984,-0.1500476658943807,-1.5718151705858465,-1.1951812086435607,0.22860843548074822,-0.12492214308168757,-0.2867367492193972,-0.5736239558678975,1.389341530883104,-0.6861898267335519,-1.5311373341612782,-0.8512089705281984,-1.4559541518556975,-1.1001623087846037,0.8979100173243162,0.12116953775102157,0.008534083166311771,0.8564629305816837,-0.5811640716666194,-1.2080292257019134,-0.2349761867338796,0.5544460777568961,-1.0713239222958086,-0.5880653881769333,1.455833425930843,1.798690383630041,-0.33646470904540654,-0.3672634840646152,-1.172864741624129,0.5837329271770997,-2.2382359822608637,0.18016433857511283,0.9536368045497337,-1.0800463778552765,-0.8317221994239206,1.282796438795336,-0.29336799070174174,0.15886220818261743,0.38201782187711153,1.4359852720915571,0.12325985697339818,-1.2571112124983932,-0.6820456832743963,0.6549877845727778,1.7480017358816617,-0.417778286260563,-1.6706045656026176,-0.32449160626856594,0.04941441532003659,1.2301955880270588,0.5549576648122474,0.5087348321498013,-0.5251299669479592,-0.7226843478772803,2.166721876878339,1.1802593126083956,-1.538186484092452,-0.9373214000293492,2.507394228500375,1.1453156950783623,-0.3900336491592565,-1.2294025551628793,0.047153263572624386,-1.4132468018414466,-0.2490684669524338,-0.049467689607492635,0.32500434009912604,2.3848744017153285,1.5072496221876714,2.3374311490664765,0.24765502883674623,0.24345434946978872,-1.0754295259055462,-0.9253517607585953,-0.23061561620756169,0.9122603763478071,0.07761133731595166,-1.9670718895477557,0.7909040382082345,-1.164107142015901,-1.3600341936072617,1.0761877070356076,0.5910801172299857,-2.4683912167831474,0.9391003487905739,0.5833264172434889,0.7708157024485347,-0.5097944025738771,-1.1535830779289729,1.7235455685820171,2.0515347554626917,0.5810028348635923,-1.5039588573849996,1.1202156895522468],\"type\":\"scatter\"}],                        {\"legend\":{\"bgcolor\":\"#F5F6F9\",\"font\":{\"color\":\"#4D5663\"}},\"paper_bgcolor\":\"#F5F6F9\",\"plot_bgcolor\":\"#F5F6F9\",\"template\":{\"data\":{\"barpolar\":[{\"marker\":{\"line\":{\"color\":\"#E5ECF6\",\"width\":0.5},\"pattern\":{\"fillmode\":\"overlay\",\"size\":10,\"solidity\":0.2}},\"type\":\"barpolar\"}],\"bar\":[{\"error_x\":{\"color\":\"#2a3f5f\"},\"error_y\":{\"color\":\"#2a3f5f\"},\"marker\":{\"line\":{\"color\":\"#E5ECF6\",\"width\":0.5},\"pattern\":{\"fillmode\":\"overlay\",\"size\":10,\"solidity\":0.2}},\"type\":\"bar\"}],\"carpet\":[{\"aaxis\":{\"endlinecolor\":\"#2a3f5f\",\"gridcolor\":\"white\",\"linecolor\":\"white\",\"minorgridcolor\":\"white\",\"startlinecolor\":\"#2a3f5f\"},\"baxis\":{\"endlinecolor\":\"#2a3f5f\",\"gridcolor\":\"white\",\"linecolor\":\"white\",\"minorgridcolor\":\"white\",\"startlinecolor\":\"#2a3f5f\"},\"type\":\"carpet\"}],\"choropleth\":[{\"colorbar\":{\"outlinewidth\":0,\"ticks\":\"\"},\"type\":\"choropleth\"}],\"contourcarpet\":[{\"colorbar\":{\"outlinewidth\":0,\"ticks\":\"\"},\"type\":\"contourcarpet\"}],\"contour\":[{\"colorbar\":{\"outlinewidth\":0,\"ticks\":\"\"},\"colorscale\":[[0.0,\"#0d0887\"],[0.1111111111111111,\"#46039f\"],[0.2222222222222222,\"#7201a8\"],[0.3333333333333333,\"#9c179e\"],[0.4444444444444444,\"#bd3786\"],[0.5555555555555556,\"#d8576b\"],[0.6666666666666666,\"#ed7953\"],[0.7777777777777778,\"#fb9f3a\"],[0.8888888888888888,\"#fdca26\"],[1.0,\"#f0f921\"]],\"type\":\"contour\"}],\"heatmapgl\":[{\"colorbar\":{\"outlinewidth\":0,\"ticks\":\"\"},\"colorscale\":[[0.0,\"#0d0887\"],[0.1111111111111111,\"#46039f\"],[0.2222222222222222,\"#7201a8\"],[0.3333333333333333,\"#9c179e\"],[0.4444444444444444,\"#bd3786\"],[0.5555555555555556,\"#d8576b\"],[0.6666666666666666,\"#ed7953\"],[0.7777777777777778,\"#fb9f3a\"],[0.8888888888888888,\"#fdca26\"],[1.0,\"#f0f921\"]],\"type\":\"heatmapgl\"}],\"heatmap\":[{\"colorbar\":{\"outlinewidth\":0,\"ticks\":\"\"},\"colorscale\":[[0.0,\"#0d0887\"],[0.1111111111111111,\"#46039f\"],[0.2222222222222222,\"#7201a8\"],[0.3333333333333333,\"#9c179e\"],[0.4444444444444444,\"#bd3786\"],[0.5555555555555556,\"#d8576b\"],[0.6666666666666666,\"#ed7953\"],[0.7777777777777778,\"#fb9f3a\"],[0.8888888888888888,\"#fdca26\"],[1.0,\"#f0f921\"]],\"type\":\"heatmap\"}],\"histogram2dcontour\":[{\"colorbar\":{\"outlinewidth\":0,\"ticks\":\"\"},\"colorscale\":[[0.0,\"#0d0887\"],[0.1111111111111111,\"#46039f\"],[0.2222222222222222,\"#7201a8\"],[0.3333333333333333,\"#9c179e\"],[0.4444444444444444,\"#bd3786\"],[0.5555555555555556,\"#d8576b\"],[0.6666666666666666,\"#ed7953\"],[0.7777777777777778,\"#fb9f3a\"],[0.8888888888888888,\"#fdca26\"],[1.0,\"#f0f921\"]],\"type\":\"histogram2dcontour\"}],\"histogram2d\":[{\"colorbar\":{\"outlinewidth\":0,\"ticks\":\"\"},\"colorscale\":[[0.0,\"#0d0887\"],[0.1111111111111111,\"#46039f\"],[0.2222222222222222,\"#7201a8\"],[0.3333333333333333,\"#9c179e\"],[0.4444444444444444,\"#bd3786\"],[0.5555555555555556,\"#d8576b\"],[0.6666666666666666,\"#ed7953\"],[0.7777777777777778,\"#fb9f3a\"],[0.8888888888888888,\"#fdca26\"],[1.0,\"#f0f921\"]],\"type\":\"histogram2d\"}],\"histogram\":[{\"marker\":{\"pattern\":{\"fillmode\":\"overlay\",\"size\":10,\"solidity\":0.2}},\"type\":\"histogram\"}],\"mesh3d\":[{\"colorbar\":{\"outlinewidth\":0,\"ticks\":\"\"},\"type\":\"mesh3d\"}],\"parcoords\":[{\"line\":{\"colorbar\":{\"outlinewidth\":0,\"ticks\":\"\"}},\"type\":\"parcoords\"}],\"pie\":[{\"automargin\":true,\"type\":\"pie\"}],\"scatter3d\":[{\"line\":{\"colorbar\":{\"outlinewidth\":0,\"ticks\":\"\"}},\"marker\":{\"colorbar\":{\"outlinewidth\":0,\"ticks\":\"\"}},\"type\":\"scatter3d\"}],\"scattercarpet\":[{\"marker\":{\"colorbar\":{\"outlinewidth\":0,\"ticks\":\"\"}},\"type\":\"scattercarpet\"}],\"scattergeo\":[{\"marker\":{\"colorbar\":{\"outlinewidth\":0,\"ticks\":\"\"}},\"type\":\"scattergeo\"}],\"scattergl\":[{\"marker\":{\"colorbar\":{\"outlinewidth\":0,\"ticks\":\"\"}},\"type\":\"scattergl\"}],\"scattermapbox\":[{\"marker\":{\"colorbar\":{\"outlinewidth\":0,\"ticks\":\"\"}},\"type\":\"scattermapbox\"}],\"scatterpolargl\":[{\"marker\":{\"colorbar\":{\"outlinewidth\":0,\"ticks\":\"\"}},\"type\":\"scatterpolargl\"}],\"scatterpolar\":[{\"marker\":{\"colorbar\":{\"outlinewidth\":0,\"ticks\":\"\"}},\"type\":\"scatterpolar\"}],\"scatter\":[{\"marker\":{\"colorbar\":{\"outlinewidth\":0,\"ticks\":\"\"}},\"type\":\"scatter\"}],\"scatterternary\":[{\"marker\":{\"colorbar\":{\"outlinewidth\":0,\"ticks\":\"\"}},\"type\":\"scatterternary\"}],\"surface\":[{\"colorbar\":{\"outlinewidth\":0,\"ticks\":\"\"},\"colorscale\":[[0.0,\"#0d0887\"],[0.1111111111111111,\"#46039f\"],[0.2222222222222222,\"#7201a8\"],[0.3333333333333333,\"#9c179e\"],[0.4444444444444444,\"#bd3786\"],[0.5555555555555556,\"#d8576b\"],[0.6666666666666666,\"#ed7953\"],[0.7777777777777778,\"#fb9f3a\"],[0.8888888888888888,\"#fdca26\"],[1.0,\"#f0f921\"]],\"type\":\"surface\"}],\"table\":[{\"cells\":{\"fill\":{\"color\":\"#EBF0F8\"},\"line\":{\"color\":\"white\"}},\"header\":{\"fill\":{\"color\":\"#C8D4E3\"},\"line\":{\"color\":\"white\"}},\"type\":\"table\"}]},\"layout\":{\"annotationdefaults\":{\"arrowcolor\":\"#2a3f5f\",\"arrowhead\":0,\"arrowwidth\":1},\"autotypenumbers\":\"strict\",\"coloraxis\":{\"colorbar\":{\"outlinewidth\":0,\"ticks\":\"\"}},\"colorscale\":{\"diverging\":[[0,\"#8e0152\"],[0.1,\"#c51b7d\"],[0.2,\"#de77ae\"],[0.3,\"#f1b6da\"],[0.4,\"#fde0ef\"],[0.5,\"#f7f7f7\"],[0.6,\"#e6f5d0\"],[0.7,\"#b8e186\"],[0.8,\"#7fbc41\"],[0.9,\"#4d9221\"],[1,\"#276419\"]],\"sequential\":[[0.0,\"#0d0887\"],[0.1111111111111111,\"#46039f\"],[0.2222222222222222,\"#7201a8\"],[0.3333333333333333,\"#9c179e\"],[0.4444444444444444,\"#bd3786\"],[0.5555555555555556,\"#d8576b\"],[0.6666666666666666,\"#ed7953\"],[0.7777777777777778,\"#fb9f3a\"],[0.8888888888888888,\"#fdca26\"],[1.0,\"#f0f921\"]],\"sequentialminus\":[[0.0,\"#0d0887\"],[0.1111111111111111,\"#46039f\"],[0.2222222222222222,\"#7201a8\"],[0.3333333333333333,\"#9c179e\"],[0.4444444444444444,\"#bd3786\"],[0.5555555555555556,\"#d8576b\"],[0.6666666666666666,\"#ed7953\"],[0.7777777777777778,\"#fb9f3a\"],[0.8888888888888888,\"#fdca26\"],[1.0,\"#f0f921\"]]},\"colorway\":[\"#636efa\",\"#EF553B\",\"#00cc96\",\"#ab63fa\",\"#FFA15A\",\"#19d3f3\",\"#FF6692\",\"#B6E880\",\"#FF97FF\",\"#FECB52\"],\"font\":{\"color\":\"#2a3f5f\"},\"geo\":{\"bgcolor\":\"white\",\"lakecolor\":\"white\",\"landcolor\":\"#E5ECF6\",\"showlakes\":true,\"showland\":true,\"subunitcolor\":\"white\"},\"hoverlabel\":{\"align\":\"left\"},\"hovermode\":\"closest\",\"mapbox\":{\"style\":\"light\"},\"paper_bgcolor\":\"white\",\"plot_bgcolor\":\"#E5ECF6\",\"polar\":{\"angularaxis\":{\"gridcolor\":\"white\",\"linecolor\":\"white\",\"ticks\":\"\"},\"bgcolor\":\"#E5ECF6\",\"radialaxis\":{\"gridcolor\":\"white\",\"linecolor\":\"white\",\"ticks\":\"\"}},\"scene\":{\"xaxis\":{\"backgroundcolor\":\"#E5ECF6\",\"gridcolor\":\"white\",\"gridwidth\":2,\"linecolor\":\"white\",\"showbackground\":true,\"ticks\":\"\",\"zerolinecolor\":\"white\"},\"yaxis\":{\"backgroundcolor\":\"#E5ECF6\",\"gridcolor\":\"white\",\"gridwidth\":2,\"linecolor\":\"white\",\"showbackground\":true,\"ticks\":\"\",\"zerolinecolor\":\"white\"},\"zaxis\":{\"backgroundcolor\":\"#E5ECF6\",\"gridcolor\":\"white\",\"gridwidth\":2,\"linecolor\":\"white\",\"showbackground\":true,\"ticks\":\"\",\"zerolinecolor\":\"white\"}},\"shapedefaults\":{\"line\":{\"color\":\"#2a3f5f\"}},\"ternary\":{\"aaxis\":{\"gridcolor\":\"white\",\"linecolor\":\"white\",\"ticks\":\"\"},\"baxis\":{\"gridcolor\":\"white\",\"linecolor\":\"white\",\"ticks\":\"\"},\"bgcolor\":\"#E5ECF6\",\"caxis\":{\"gridcolor\":\"white\",\"linecolor\":\"white\",\"ticks\":\"\"}},\"title\":{\"x\":0.05},\"xaxis\":{\"automargin\":true,\"gridcolor\":\"white\",\"linecolor\":\"white\",\"ticks\":\"\",\"title\":{\"standoff\":15},\"zerolinecolor\":\"white\",\"zerolinewidth\":2},\"yaxis\":{\"automargin\":true,\"gridcolor\":\"white\",\"linecolor\":\"white\",\"ticks\":\"\",\"title\":{\"standoff\":15},\"zerolinecolor\":\"white\",\"zerolinewidth\":2}}},\"title\":{\"font\":{\"color\":\"#4D5663\"}},\"xaxis\":{\"gridcolor\":\"#E1E5ED\",\"showgrid\":true,\"tickfont\":{\"color\":\"#4D5663\"},\"title\":{\"font\":{\"color\":\"#4D5663\"},\"text\":\"\"},\"zerolinecolor\":\"#E1E5ED\"},\"yaxis\":{\"gridcolor\":\"#E1E5ED\",\"showgrid\":true,\"tickfont\":{\"color\":\"#4D5663\"},\"title\":{\"font\":{\"color\":\"#4D5663\"},\"text\":\"\"},\"zerolinecolor\":\"#E1E5ED\"}},                        {\"showLink\": true, \"linkText\": \"Export to plot.ly\", \"plotlyServerURL\": \"https://plot.ly\", \"responsive\": true}                    ).then(function(){\n",
       "                            \n",
       "var gd = document.getElementById('457dd2a1-0e73-4e40-bb9b-d332821c1f11');\n",
       "var x = new MutationObserver(function (mutations, observer) {{\n",
       "        var display = window.getComputedStyle(gd).display;\n",
       "        if (!display || display === 'none') {{\n",
       "            console.log([gd, 'removed!']);\n",
       "            Plotly.purge(gd);\n",
       "            observer.disconnect();\n",
       "        }}\n",
       "}});\n",
       "\n",
       "// Listen for the removal of the full notebook cells\n",
       "var notebookContainer = gd.closest('#notebook-container');\n",
       "if (notebookContainer) {{\n",
       "    x.observe(notebookContainer, {childList: true});\n",
       "}}\n",
       "\n",
       "// Listen for the clearing of the current output cell\n",
       "var outputEl = gd.closest('.output');\n",
       "if (outputEl) {{\n",
       "    x.observe(outputEl, {childList: true});\n",
       "}}\n",
       "\n",
       "                        })                };                });            </script>        </div>"
      ]
     },
     "metadata": {},
     "output_type": "display_data"
    }
   ],
   "source": [
    "df.iplot(kind='bubble',x='A',y='B',size='C')"
   ]
  },
  {
   "cell_type": "markdown",
   "id": "6929db79",
   "metadata": {},
   "source": [
    "## scatter_matrix()\n",
    "\n",
    "Similar to sns.pairplot()"
   ]
  },
  {
   "cell_type": "code",
   "execution_count": 18,
   "id": "78ad5cbe",
   "metadata": {},
   "outputs": [
    {
     "data": {
      "application/vnd.plotly.v1+json": {
       "config": {
        "linkText": "Export to plot.ly",
        "plotlyServerURL": "https://plot.ly",
        "showLink": true
       },
       "data": [
        {
         "histfunc": "count",
         "histnorm": "",
         "marker": {
          "color": "rgba(255, 153, 51, 1.0)",
          "line": {
           "color": "#4D5663",
           "width": 1.3
          }
         },
         "name": "A",
         "nbinsx": 10,
         "opacity": 0.8,
         "orientation": "v",
         "type": "histogram",
         "x": [
          0.18949412131357618,
          -0.4394056773665876,
          1.5235003132506255,
          0.03645250031559109,
          -0.48017680332678986,
          -0.32940801574654444,
          -0.8336585198060829,
          2.1104829932351987,
          -2.1774759403114543,
          -1.4552810678704107,
          -0.3946340137520746,
          -0.7958997396105878,
          -2.1941249569910184,
          -0.3186755756858305,
          -1.0762861726059367,
          0.5160715236107142,
          0.5354240028958203,
          0.24474634754970445,
          2.1593382645363524,
          -2.459688200120283,
          2.2033163680127856,
          0.12741013120035052,
          -0.7426413044529445,
          -0.708915270693794,
          -1.7366906383070453,
          -0.3278091707347793,
          -0.019161214804460824,
          -0.10350391076144248,
          0.443003384937299,
          -0.3021624753184853,
          -0.26540709330297957,
          1.1177682728198786,
          -0.6555808314273678,
          -2.0513962145269367,
          -0.007283680343075513,
          -1.7345390153967326,
          0.6526293553788296,
          0.8797043755381333,
          -0.40446628152172,
          0.40015659679998383,
          1.3501402445869597,
          -1.681402939901821,
          0.37687631215522416,
          1.530406066859981,
          0.27376913231487043,
          0.11859151200966923,
          0.18998151104134484,
          1.239771620051365,
          -0.013067258817813692,
          -0.4342760602897146,
          -0.22768423864144938,
          -0.08712007886114415,
          -1.3953429851893069,
          -1.1346627058287775,
          1.717402994668382,
          -0.8202332848774089,
          -0.4210331992705946,
          -0.06266365801889973,
          -0.1076343228449331,
          -0.46753029808332414,
          0.465339121662231,
          0.05686260034364659,
          0.6689353752755711,
          -1.3749096285081572,
          1.0644486040242718,
          1.0029108097495154,
          -0.4756234878591175,
          -0.7573283389084694,
          1.553314742784835,
          0.9327235406491218,
          -0.5432611240893911,
          0.9375595028153989,
          0.6479726183862607,
          -1.6193215495623614,
          0.42468213572515945,
          0.4442854952443643,
          -0.4430216955740655,
          -0.3313723025358653,
          -0.5164036122879947,
          -0.1426294244580413,
          0.34861880298974646,
          2.491239497816553,
          -1.2708676958205198,
          1.2439173121325637,
          -0.2531066585596569,
          0.3986080862101964,
          1.559031756752641,
          -0.8451994271388271,
          0.6244513110895351,
          -0.20836122736152812,
          -1.5593960284306796,
          1.0027652648558283,
          0.6678453706840629,
          0.9019731286521746,
          0.49217666164481805,
          -0.2537409869513799,
          0.7236090940111436,
          0.046759497044002236,
          -0.5975669662202538,
          -0.78915850866316
         ],
         "xaxis": "x",
         "yaxis": "y"
        },
        {
         "line": {
          "color": "rgba(128, 128, 128, 1.0)",
          "dash": "solid",
          "shape": "linear",
          "width": 1.3
         },
         "marker": {
          "size": 2,
          "symbol": "circle"
         },
         "mode": "markers",
         "name": "A",
         "text": "",
         "type": "scatter",
         "x": [
          -0.3837044654152856,
          0.795222058544091,
          -1.088639124538044,
          1.2717431343417127,
          -0.425142084846673,
          0.064182302033947,
          1.4362888057989984,
          -0.1500476658943807,
          -1.5718151705858465,
          -1.1951812086435607,
          0.22860843548074822,
          -0.12492214308168757,
          -0.2867367492193972,
          -0.5736239558678975,
          1.389341530883104,
          -0.6861898267335519,
          -1.5311373341612782,
          -0.8512089705281984,
          -1.4559541518556975,
          -1.1001623087846037,
          0.8979100173243162,
          0.12116953775102157,
          0.008534083166311771,
          0.8564629305816837,
          -0.5811640716666194,
          -1.2080292257019134,
          -0.2349761867338796,
          0.5544460777568961,
          -1.0713239222958086,
          -0.5880653881769333,
          1.455833425930843,
          1.798690383630041,
          -0.33646470904540654,
          -0.3672634840646152,
          -1.172864741624129,
          0.5837329271770997,
          -2.2382359822608637,
          0.18016433857511283,
          0.9536368045497337,
          -1.0800463778552765,
          -0.8317221994239206,
          1.282796438795336,
          -0.29336799070174174,
          0.15886220818261743,
          0.38201782187711153,
          1.4359852720915571,
          0.12325985697339818,
          -1.2571112124983932,
          -0.6820456832743963,
          0.6549877845727778,
          1.7480017358816617,
          -0.417778286260563,
          -1.6706045656026176,
          -0.32449160626856594,
          0.04941441532003659,
          1.2301955880270588,
          0.5549576648122474,
          0.5087348321498013,
          -0.5251299669479592,
          -0.7226843478772803,
          2.166721876878339,
          1.1802593126083956,
          -1.538186484092452,
          -0.9373214000293492,
          2.507394228500375,
          1.1453156950783623,
          -0.3900336491592565,
          -1.2294025551628793,
          0.047153263572624386,
          -1.4132468018414466,
          -0.2490684669524338,
          -0.049467689607492635,
          0.32500434009912604,
          2.3848744017153285,
          1.5072496221876714,
          2.3374311490664765,
          0.24765502883674623,
          0.24345434946978872,
          -1.0754295259055462,
          -0.9253517607585953,
          -0.23061561620756169,
          0.9122603763478071,
          0.07761133731595166,
          -1.9670718895477557,
          0.7909040382082345,
          -1.164107142015901,
          -1.3600341936072617,
          1.0761877070356076,
          0.5910801172299857,
          -2.4683912167831474,
          0.9391003487905739,
          0.5833264172434889,
          0.7708157024485347,
          -0.5097944025738771,
          -1.1535830779289729,
          1.7235455685820171,
          2.0515347554626917,
          0.5810028348635923,
          -1.5039588573849996,
          1.1202156895522468
         ],
         "xaxis": "x2",
         "y": [
          0.18949412131357618,
          -0.4394056773665876,
          1.5235003132506255,
          0.03645250031559109,
          -0.48017680332678986,
          -0.32940801574654444,
          -0.8336585198060829,
          2.1104829932351987,
          -2.1774759403114543,
          -1.4552810678704107,
          -0.3946340137520746,
          -0.7958997396105878,
          -2.1941249569910184,
          -0.3186755756858305,
          -1.0762861726059367,
          0.5160715236107142,
          0.5354240028958203,
          0.24474634754970445,
          2.1593382645363524,
          -2.459688200120283,
          2.2033163680127856,
          0.12741013120035052,
          -0.7426413044529445,
          -0.708915270693794,
          -1.7366906383070453,
          -0.3278091707347793,
          -0.019161214804460824,
          -0.10350391076144248,
          0.443003384937299,
          -0.3021624753184853,
          -0.26540709330297957,
          1.1177682728198786,
          -0.6555808314273678,
          -2.0513962145269367,
          -0.007283680343075513,
          -1.7345390153967326,
          0.6526293553788296,
          0.8797043755381333,
          -0.40446628152172,
          0.40015659679998383,
          1.3501402445869597,
          -1.681402939901821,
          0.37687631215522416,
          1.530406066859981,
          0.27376913231487043,
          0.11859151200966923,
          0.18998151104134484,
          1.239771620051365,
          -0.013067258817813692,
          -0.4342760602897146,
          -0.22768423864144938,
          -0.08712007886114415,
          -1.3953429851893069,
          -1.1346627058287775,
          1.717402994668382,
          -0.8202332848774089,
          -0.4210331992705946,
          -0.06266365801889973,
          -0.1076343228449331,
          -0.46753029808332414,
          0.465339121662231,
          0.05686260034364659,
          0.6689353752755711,
          -1.3749096285081572,
          1.0644486040242718,
          1.0029108097495154,
          -0.4756234878591175,
          -0.7573283389084694,
          1.553314742784835,
          0.9327235406491218,
          -0.5432611240893911,
          0.9375595028153989,
          0.6479726183862607,
          -1.6193215495623614,
          0.42468213572515945,
          0.4442854952443643,
          -0.4430216955740655,
          -0.3313723025358653,
          -0.5164036122879947,
          -0.1426294244580413,
          0.34861880298974646,
          2.491239497816553,
          -1.2708676958205198,
          1.2439173121325637,
          -0.2531066585596569,
          0.3986080862101964,
          1.559031756752641,
          -0.8451994271388271,
          0.6244513110895351,
          -0.20836122736152812,
          -1.5593960284306796,
          1.0027652648558283,
          0.6678453706840629,
          0.9019731286521746,
          0.49217666164481805,
          -0.2537409869513799,
          0.7236090940111436,
          0.046759497044002236,
          -0.5975669662202538,
          -0.78915850866316
         ],
         "yaxis": "y2"
        },
        {
         "line": {
          "color": "rgba(128, 128, 128, 1.0)",
          "dash": "solid",
          "shape": "linear",
          "width": 1.3
         },
         "marker": {
          "size": 2,
          "symbol": "circle"
         },
         "mode": "markers",
         "name": "A",
         "text": "",
         "type": "scatter",
         "x": [
          -0.1743984965453827,
          -1.4541612208234012,
          0.6956792937079929,
          -1.3001320960993383,
          0.08431046689444055,
          -0.5458234646004246,
          -1.703734496705612,
          -0.46667383632587456,
          0.20168534651158843,
          0.05180078694254984,
          0.15009120689135705,
          0.38155320389086794,
          0.6201617773498148,
          -0.4180523651246814,
          0.7465449715988128,
          -1.5936716550582053,
          -0.10284790666830117,
          0.1093592149806783,
          -0.4298179966107576,
          0.09036264294289752,
          0.88687423729422,
          -0.38701666121889466,
          -1.0138165027078039,
          -0.5657807458054585,
          -1.0828115788453545,
          0.9840254154931339,
          0.8093741156203169,
          0.12057650292945947,
          0.5547869447555124,
          0.6922370792655054,
          -0.5648301884075914,
          0.36231458268424105,
          1.0810279703817096,
          1.8783153100153525,
          -0.7214684504748133,
          0.8184542416070196,
          1.096285275446509,
          0.6401790065862915,
          1.4549111285078231,
          0.8458116106046145,
          0.919572265392668,
          1.1301903192078682,
          -0.7698555448986697,
          0.6254893169467595,
          -1.3257760372158236,
          -0.2978156236899048,
          0.37394743471698133,
          1.5331566652250095,
          -0.4979914851761903,
          0.7517118709648927,
          1.3509690362061804,
          0.5011967657164128,
          0.709739359148568,
          0.06810356319394323,
          -0.7831965307456421,
          -0.5340021787086153,
          -0.7865627285734942,
          0.3601143418103425,
          1.4254633444799054,
          1.3194723968147113,
          -0.6219733375028738,
          -0.4706692397260293,
          0.6494971062647076,
          1.333836418289274,
          -0.3925211802671113,
          1.1114167342804335,
          -0.48266044723498785,
          -0.5756884715412415,
          -1.451963627424044,
          -0.5966415531473441,
          1.2736827262182808,
          0.056729781593075346,
          -1.4022876205319186,
          1.0641058394292497,
          -1.632548685431701,
          1.0282791458538627,
          0.9735252234678213,
          0.6731261725235531,
          0.6663790123138237,
          1.0458060866394234,
          -1.1139971857239725,
          2.6482697572989817,
          -0.24221257551688724,
          -0.592224532882951,
          1.555402285699256,
          0.031033396716787728,
          -0.8779461708583994,
          -0.05179952540035406,
          -0.06526260702897788,
          -0.3548763030095997,
          0.8274228665667456,
          0.3096308840511436,
          -0.9984340067990453,
          0.2944126067059136,
          0.27777425546051143,
          -0.480142482489268,
          0.4976614774521355,
          0.4236071706861531,
          -1.064383297804024,
          -0.03328662450382397
         ],
         "xaxis": "x3",
         "y": [
          0.18949412131357618,
          -0.4394056773665876,
          1.5235003132506255,
          0.03645250031559109,
          -0.48017680332678986,
          -0.32940801574654444,
          -0.8336585198060829,
          2.1104829932351987,
          -2.1774759403114543,
          -1.4552810678704107,
          -0.3946340137520746,
          -0.7958997396105878,
          -2.1941249569910184,
          -0.3186755756858305,
          -1.0762861726059367,
          0.5160715236107142,
          0.5354240028958203,
          0.24474634754970445,
          2.1593382645363524,
          -2.459688200120283,
          2.2033163680127856,
          0.12741013120035052,
          -0.7426413044529445,
          -0.708915270693794,
          -1.7366906383070453,
          -0.3278091707347793,
          -0.019161214804460824,
          -0.10350391076144248,
          0.443003384937299,
          -0.3021624753184853,
          -0.26540709330297957,
          1.1177682728198786,
          -0.6555808314273678,
          -2.0513962145269367,
          -0.007283680343075513,
          -1.7345390153967326,
          0.6526293553788296,
          0.8797043755381333,
          -0.40446628152172,
          0.40015659679998383,
          1.3501402445869597,
          -1.681402939901821,
          0.37687631215522416,
          1.530406066859981,
          0.27376913231487043,
          0.11859151200966923,
          0.18998151104134484,
          1.239771620051365,
          -0.013067258817813692,
          -0.4342760602897146,
          -0.22768423864144938,
          -0.08712007886114415,
          -1.3953429851893069,
          -1.1346627058287775,
          1.717402994668382,
          -0.8202332848774089,
          -0.4210331992705946,
          -0.06266365801889973,
          -0.1076343228449331,
          -0.46753029808332414,
          0.465339121662231,
          0.05686260034364659,
          0.6689353752755711,
          -1.3749096285081572,
          1.0644486040242718,
          1.0029108097495154,
          -0.4756234878591175,
          -0.7573283389084694,
          1.553314742784835,
          0.9327235406491218,
          -0.5432611240893911,
          0.9375595028153989,
          0.6479726183862607,
          -1.6193215495623614,
          0.42468213572515945,
          0.4442854952443643,
          -0.4430216955740655,
          -0.3313723025358653,
          -0.5164036122879947,
          -0.1426294244580413,
          0.34861880298974646,
          2.491239497816553,
          -1.2708676958205198,
          1.2439173121325637,
          -0.2531066585596569,
          0.3986080862101964,
          1.559031756752641,
          -0.8451994271388271,
          0.6244513110895351,
          -0.20836122736152812,
          -1.5593960284306796,
          1.0027652648558283,
          0.6678453706840629,
          0.9019731286521746,
          0.49217666164481805,
          -0.2537409869513799,
          0.7236090940111436,
          0.046759497044002236,
          -0.5975669662202538,
          -0.78915850866316
         ],
         "yaxis": "y3"
        },
        {
         "line": {
          "color": "rgba(128, 128, 128, 1.0)",
          "dash": "solid",
          "shape": "linear",
          "width": 1.3
         },
         "marker": {
          "size": 2,
          "symbol": "circle"
         },
         "mode": "markers",
         "name": "A",
         "text": "",
         "type": "scatter",
         "x": [
          -0.20780585649318675,
          -0.14819604288381694,
          1.0885503128334055,
          1.5690761380859866,
          -0.2057701688271447,
          0.528517647224014,
          0.49489867431198065,
          0.3694870943340224,
          0.8504456511047962,
          0.6218097729257264,
          1.183537873615913,
          -1.412343100279427,
          -0.20388098639815003,
          1.3209211160041237,
          -0.8667287175928398,
          -1.6022715397568477,
          -0.22533705662048342,
          -0.41925862395025637,
          -0.7702343824721343,
          1.3335634594021377,
          0.8915349281178668,
          -1.9036354831030342,
          -0.12427220329691722,
          -0.8855772700058713,
          -0.22962601620657463,
          -0.07456838767647804,
          -0.01297547207565747,
          -0.05013017019035424,
          -1.2079982388712291,
          -1.4271558878113708,
          0.4691611383451397,
          -0.28246806140803854,
          -0.7564171061978776,
          0.9458537409105416,
          -0.12157386355688268,
          -1.5771587088527448,
          -0.4771802703564047,
          -0.6920394639249958,
          1.6657363893397388,
          -0.4420391031877735,
          -1.0794640013897456,
          1.8183490354095484,
          0.46595654679141907,
          -0.5011736995656421,
          0.895642453466898,
          0.9178866835622075,
          -1.046408578337546,
          0.1462439640318665,
          0.847776063439936,
          0.5846608026272584,
          0.4352243063077864,
          1.5108645572772388,
          0.6495566241763885,
          -0.5507503599029776,
          1.0043465834358691,
          1.5139187503807083,
          -0.9450550704795724,
          -1.3698838965232643,
          0.6342868982920584,
          -1.7822121192781268,
          0.2139531047420393,
          -0.7081121135552167,
          -0.38465236055835333,
          -2.2460330504270942,
          0.6188661266419923,
          1.8445435923545408,
          0.2883225048009735,
          0.9123788041289154,
          -1.1604115329406108,
          -1.4841011626780298,
          0.5628193476873323,
          -0.7349117807171268,
          0.11920582506622426,
          0.5905073967313906,
          -0.48928493347902163,
          2.774402057543939,
          -0.7273081733755475,
          0.2958714729279786,
          0.4398411171858982,
          -0.13312101574758703,
          0.11749928614535977,
          0.1232784763904203,
          0.4980966126639828,
          0.22382405626046578,
          2.6016338790283853,
          -0.6436340585499764,
          -1.254990990021013,
          0.4543785021609926,
          -1.306189514444256,
          0.34856842350078515,
          -0.6294405154267875,
          -2.5030458807207685,
          0.561475266139338,
          1.7014026293955336,
          0.012306602310616718,
          -0.4696968504587055,
          1.8164578476490285,
          1.0592720945516634,
          -0.9962321498291724,
          0.9668986029652397
         ],
         "xaxis": "x4",
         "y": [
          0.18949412131357618,
          -0.4394056773665876,
          1.5235003132506255,
          0.03645250031559109,
          -0.48017680332678986,
          -0.32940801574654444,
          -0.8336585198060829,
          2.1104829932351987,
          -2.1774759403114543,
          -1.4552810678704107,
          -0.3946340137520746,
          -0.7958997396105878,
          -2.1941249569910184,
          -0.3186755756858305,
          -1.0762861726059367,
          0.5160715236107142,
          0.5354240028958203,
          0.24474634754970445,
          2.1593382645363524,
          -2.459688200120283,
          2.2033163680127856,
          0.12741013120035052,
          -0.7426413044529445,
          -0.708915270693794,
          -1.7366906383070453,
          -0.3278091707347793,
          -0.019161214804460824,
          -0.10350391076144248,
          0.443003384937299,
          -0.3021624753184853,
          -0.26540709330297957,
          1.1177682728198786,
          -0.6555808314273678,
          -2.0513962145269367,
          -0.007283680343075513,
          -1.7345390153967326,
          0.6526293553788296,
          0.8797043755381333,
          -0.40446628152172,
          0.40015659679998383,
          1.3501402445869597,
          -1.681402939901821,
          0.37687631215522416,
          1.530406066859981,
          0.27376913231487043,
          0.11859151200966923,
          0.18998151104134484,
          1.239771620051365,
          -0.013067258817813692,
          -0.4342760602897146,
          -0.22768423864144938,
          -0.08712007886114415,
          -1.3953429851893069,
          -1.1346627058287775,
          1.717402994668382,
          -0.8202332848774089,
          -0.4210331992705946,
          -0.06266365801889973,
          -0.1076343228449331,
          -0.46753029808332414,
          0.465339121662231,
          0.05686260034364659,
          0.6689353752755711,
          -1.3749096285081572,
          1.0644486040242718,
          1.0029108097495154,
          -0.4756234878591175,
          -0.7573283389084694,
          1.553314742784835,
          0.9327235406491218,
          -0.5432611240893911,
          0.9375595028153989,
          0.6479726183862607,
          -1.6193215495623614,
          0.42468213572515945,
          0.4442854952443643,
          -0.4430216955740655,
          -0.3313723025358653,
          -0.5164036122879947,
          -0.1426294244580413,
          0.34861880298974646,
          2.491239497816553,
          -1.2708676958205198,
          1.2439173121325637,
          -0.2531066585596569,
          0.3986080862101964,
          1.559031756752641,
          -0.8451994271388271,
          0.6244513110895351,
          -0.20836122736152812,
          -1.5593960284306796,
          1.0027652648558283,
          0.6678453706840629,
          0.9019731286521746,
          0.49217666164481805,
          -0.2537409869513799,
          0.7236090940111436,
          0.046759497044002236,
          -0.5975669662202538,
          -0.78915850866316
         ],
         "yaxis": "y4"
        },
        {
         "line": {
          "color": "rgba(128, 128, 128, 1.0)",
          "dash": "solid",
          "shape": "linear",
          "width": 1.3
         },
         "marker": {
          "size": 2,
          "symbol": "circle"
         },
         "mode": "markers",
         "name": "B",
         "text": "",
         "type": "scatter",
         "x": [
          0.18949412131357618,
          -0.4394056773665876,
          1.5235003132506255,
          0.03645250031559109,
          -0.48017680332678986,
          -0.32940801574654444,
          -0.8336585198060829,
          2.1104829932351987,
          -2.1774759403114543,
          -1.4552810678704107,
          -0.3946340137520746,
          -0.7958997396105878,
          -2.1941249569910184,
          -0.3186755756858305,
          -1.0762861726059367,
          0.5160715236107142,
          0.5354240028958203,
          0.24474634754970445,
          2.1593382645363524,
          -2.459688200120283,
          2.2033163680127856,
          0.12741013120035052,
          -0.7426413044529445,
          -0.708915270693794,
          -1.7366906383070453,
          -0.3278091707347793,
          -0.019161214804460824,
          -0.10350391076144248,
          0.443003384937299,
          -0.3021624753184853,
          -0.26540709330297957,
          1.1177682728198786,
          -0.6555808314273678,
          -2.0513962145269367,
          -0.007283680343075513,
          -1.7345390153967326,
          0.6526293553788296,
          0.8797043755381333,
          -0.40446628152172,
          0.40015659679998383,
          1.3501402445869597,
          -1.681402939901821,
          0.37687631215522416,
          1.530406066859981,
          0.27376913231487043,
          0.11859151200966923,
          0.18998151104134484,
          1.239771620051365,
          -0.013067258817813692,
          -0.4342760602897146,
          -0.22768423864144938,
          -0.08712007886114415,
          -1.3953429851893069,
          -1.1346627058287775,
          1.717402994668382,
          -0.8202332848774089,
          -0.4210331992705946,
          -0.06266365801889973,
          -0.1076343228449331,
          -0.46753029808332414,
          0.465339121662231,
          0.05686260034364659,
          0.6689353752755711,
          -1.3749096285081572,
          1.0644486040242718,
          1.0029108097495154,
          -0.4756234878591175,
          -0.7573283389084694,
          1.553314742784835,
          0.9327235406491218,
          -0.5432611240893911,
          0.9375595028153989,
          0.6479726183862607,
          -1.6193215495623614,
          0.42468213572515945,
          0.4442854952443643,
          -0.4430216955740655,
          -0.3313723025358653,
          -0.5164036122879947,
          -0.1426294244580413,
          0.34861880298974646,
          2.491239497816553,
          -1.2708676958205198,
          1.2439173121325637,
          -0.2531066585596569,
          0.3986080862101964,
          1.559031756752641,
          -0.8451994271388271,
          0.6244513110895351,
          -0.20836122736152812,
          -1.5593960284306796,
          1.0027652648558283,
          0.6678453706840629,
          0.9019731286521746,
          0.49217666164481805,
          -0.2537409869513799,
          0.7236090940111436,
          0.046759497044002236,
          -0.5975669662202538,
          -0.78915850866316
         ],
         "xaxis": "x5",
         "y": [
          -0.3837044654152856,
          0.795222058544091,
          -1.088639124538044,
          1.2717431343417127,
          -0.425142084846673,
          0.064182302033947,
          1.4362888057989984,
          -0.1500476658943807,
          -1.5718151705858465,
          -1.1951812086435607,
          0.22860843548074822,
          -0.12492214308168757,
          -0.2867367492193972,
          -0.5736239558678975,
          1.389341530883104,
          -0.6861898267335519,
          -1.5311373341612782,
          -0.8512089705281984,
          -1.4559541518556975,
          -1.1001623087846037,
          0.8979100173243162,
          0.12116953775102157,
          0.008534083166311771,
          0.8564629305816837,
          -0.5811640716666194,
          -1.2080292257019134,
          -0.2349761867338796,
          0.5544460777568961,
          -1.0713239222958086,
          -0.5880653881769333,
          1.455833425930843,
          1.798690383630041,
          -0.33646470904540654,
          -0.3672634840646152,
          -1.172864741624129,
          0.5837329271770997,
          -2.2382359822608637,
          0.18016433857511283,
          0.9536368045497337,
          -1.0800463778552765,
          -0.8317221994239206,
          1.282796438795336,
          -0.29336799070174174,
          0.15886220818261743,
          0.38201782187711153,
          1.4359852720915571,
          0.12325985697339818,
          -1.2571112124983932,
          -0.6820456832743963,
          0.6549877845727778,
          1.7480017358816617,
          -0.417778286260563,
          -1.6706045656026176,
          -0.32449160626856594,
          0.04941441532003659,
          1.2301955880270588,
          0.5549576648122474,
          0.5087348321498013,
          -0.5251299669479592,
          -0.7226843478772803,
          2.166721876878339,
          1.1802593126083956,
          -1.538186484092452,
          -0.9373214000293492,
          2.507394228500375,
          1.1453156950783623,
          -0.3900336491592565,
          -1.2294025551628793,
          0.047153263572624386,
          -1.4132468018414466,
          -0.2490684669524338,
          -0.049467689607492635,
          0.32500434009912604,
          2.3848744017153285,
          1.5072496221876714,
          2.3374311490664765,
          0.24765502883674623,
          0.24345434946978872,
          -1.0754295259055462,
          -0.9253517607585953,
          -0.23061561620756169,
          0.9122603763478071,
          0.07761133731595166,
          -1.9670718895477557,
          0.7909040382082345,
          -1.164107142015901,
          -1.3600341936072617,
          1.0761877070356076,
          0.5910801172299857,
          -2.4683912167831474,
          0.9391003487905739,
          0.5833264172434889,
          0.7708157024485347,
          -0.5097944025738771,
          -1.1535830779289729,
          1.7235455685820171,
          2.0515347554626917,
          0.5810028348635923,
          -1.5039588573849996,
          1.1202156895522468
         ],
         "yaxis": "y5"
        },
        {
         "histfunc": "count",
         "histnorm": "",
         "marker": {
          "color": "rgba(55, 128, 191, 1.0)",
          "line": {
           "color": "#4D5663",
           "width": 1.3
          }
         },
         "name": "B",
         "nbinsx": 10,
         "opacity": 0.8,
         "orientation": "v",
         "type": "histogram",
         "x": [
          -0.3837044654152856,
          0.795222058544091,
          -1.088639124538044,
          1.2717431343417127,
          -0.425142084846673,
          0.064182302033947,
          1.4362888057989984,
          -0.1500476658943807,
          -1.5718151705858465,
          -1.1951812086435607,
          0.22860843548074822,
          -0.12492214308168757,
          -0.2867367492193972,
          -0.5736239558678975,
          1.389341530883104,
          -0.6861898267335519,
          -1.5311373341612782,
          -0.8512089705281984,
          -1.4559541518556975,
          -1.1001623087846037,
          0.8979100173243162,
          0.12116953775102157,
          0.008534083166311771,
          0.8564629305816837,
          -0.5811640716666194,
          -1.2080292257019134,
          -0.2349761867338796,
          0.5544460777568961,
          -1.0713239222958086,
          -0.5880653881769333,
          1.455833425930843,
          1.798690383630041,
          -0.33646470904540654,
          -0.3672634840646152,
          -1.172864741624129,
          0.5837329271770997,
          -2.2382359822608637,
          0.18016433857511283,
          0.9536368045497337,
          -1.0800463778552765,
          -0.8317221994239206,
          1.282796438795336,
          -0.29336799070174174,
          0.15886220818261743,
          0.38201782187711153,
          1.4359852720915571,
          0.12325985697339818,
          -1.2571112124983932,
          -0.6820456832743963,
          0.6549877845727778,
          1.7480017358816617,
          -0.417778286260563,
          -1.6706045656026176,
          -0.32449160626856594,
          0.04941441532003659,
          1.2301955880270588,
          0.5549576648122474,
          0.5087348321498013,
          -0.5251299669479592,
          -0.7226843478772803,
          2.166721876878339,
          1.1802593126083956,
          -1.538186484092452,
          -0.9373214000293492,
          2.507394228500375,
          1.1453156950783623,
          -0.3900336491592565,
          -1.2294025551628793,
          0.047153263572624386,
          -1.4132468018414466,
          -0.2490684669524338,
          -0.049467689607492635,
          0.32500434009912604,
          2.3848744017153285,
          1.5072496221876714,
          2.3374311490664765,
          0.24765502883674623,
          0.24345434946978872,
          -1.0754295259055462,
          -0.9253517607585953,
          -0.23061561620756169,
          0.9122603763478071,
          0.07761133731595166,
          -1.9670718895477557,
          0.7909040382082345,
          -1.164107142015901,
          -1.3600341936072617,
          1.0761877070356076,
          0.5910801172299857,
          -2.4683912167831474,
          0.9391003487905739,
          0.5833264172434889,
          0.7708157024485347,
          -0.5097944025738771,
          -1.1535830779289729,
          1.7235455685820171,
          2.0515347554626917,
          0.5810028348635923,
          -1.5039588573849996,
          1.1202156895522468
         ],
         "xaxis": "x6",
         "yaxis": "y6"
        },
        {
         "line": {
          "color": "rgba(128, 128, 128, 1.0)",
          "dash": "solid",
          "shape": "linear",
          "width": 1.3
         },
         "marker": {
          "size": 2,
          "symbol": "circle"
         },
         "mode": "markers",
         "name": "B",
         "text": "",
         "type": "scatter",
         "x": [
          -0.1743984965453827,
          -1.4541612208234012,
          0.6956792937079929,
          -1.3001320960993383,
          0.08431046689444055,
          -0.5458234646004246,
          -1.703734496705612,
          -0.46667383632587456,
          0.20168534651158843,
          0.05180078694254984,
          0.15009120689135705,
          0.38155320389086794,
          0.6201617773498148,
          -0.4180523651246814,
          0.7465449715988128,
          -1.5936716550582053,
          -0.10284790666830117,
          0.1093592149806783,
          -0.4298179966107576,
          0.09036264294289752,
          0.88687423729422,
          -0.38701666121889466,
          -1.0138165027078039,
          -0.5657807458054585,
          -1.0828115788453545,
          0.9840254154931339,
          0.8093741156203169,
          0.12057650292945947,
          0.5547869447555124,
          0.6922370792655054,
          -0.5648301884075914,
          0.36231458268424105,
          1.0810279703817096,
          1.8783153100153525,
          -0.7214684504748133,
          0.8184542416070196,
          1.096285275446509,
          0.6401790065862915,
          1.4549111285078231,
          0.8458116106046145,
          0.919572265392668,
          1.1301903192078682,
          -0.7698555448986697,
          0.6254893169467595,
          -1.3257760372158236,
          -0.2978156236899048,
          0.37394743471698133,
          1.5331566652250095,
          -0.4979914851761903,
          0.7517118709648927,
          1.3509690362061804,
          0.5011967657164128,
          0.709739359148568,
          0.06810356319394323,
          -0.7831965307456421,
          -0.5340021787086153,
          -0.7865627285734942,
          0.3601143418103425,
          1.4254633444799054,
          1.3194723968147113,
          -0.6219733375028738,
          -0.4706692397260293,
          0.6494971062647076,
          1.333836418289274,
          -0.3925211802671113,
          1.1114167342804335,
          -0.48266044723498785,
          -0.5756884715412415,
          -1.451963627424044,
          -0.5966415531473441,
          1.2736827262182808,
          0.056729781593075346,
          -1.4022876205319186,
          1.0641058394292497,
          -1.632548685431701,
          1.0282791458538627,
          0.9735252234678213,
          0.6731261725235531,
          0.6663790123138237,
          1.0458060866394234,
          -1.1139971857239725,
          2.6482697572989817,
          -0.24221257551688724,
          -0.592224532882951,
          1.555402285699256,
          0.031033396716787728,
          -0.8779461708583994,
          -0.05179952540035406,
          -0.06526260702897788,
          -0.3548763030095997,
          0.8274228665667456,
          0.3096308840511436,
          -0.9984340067990453,
          0.2944126067059136,
          0.27777425546051143,
          -0.480142482489268,
          0.4976614774521355,
          0.4236071706861531,
          -1.064383297804024,
          -0.03328662450382397
         ],
         "xaxis": "x7",
         "y": [
          -0.3837044654152856,
          0.795222058544091,
          -1.088639124538044,
          1.2717431343417127,
          -0.425142084846673,
          0.064182302033947,
          1.4362888057989984,
          -0.1500476658943807,
          -1.5718151705858465,
          -1.1951812086435607,
          0.22860843548074822,
          -0.12492214308168757,
          -0.2867367492193972,
          -0.5736239558678975,
          1.389341530883104,
          -0.6861898267335519,
          -1.5311373341612782,
          -0.8512089705281984,
          -1.4559541518556975,
          -1.1001623087846037,
          0.8979100173243162,
          0.12116953775102157,
          0.008534083166311771,
          0.8564629305816837,
          -0.5811640716666194,
          -1.2080292257019134,
          -0.2349761867338796,
          0.5544460777568961,
          -1.0713239222958086,
          -0.5880653881769333,
          1.455833425930843,
          1.798690383630041,
          -0.33646470904540654,
          -0.3672634840646152,
          -1.172864741624129,
          0.5837329271770997,
          -2.2382359822608637,
          0.18016433857511283,
          0.9536368045497337,
          -1.0800463778552765,
          -0.8317221994239206,
          1.282796438795336,
          -0.29336799070174174,
          0.15886220818261743,
          0.38201782187711153,
          1.4359852720915571,
          0.12325985697339818,
          -1.2571112124983932,
          -0.6820456832743963,
          0.6549877845727778,
          1.7480017358816617,
          -0.417778286260563,
          -1.6706045656026176,
          -0.32449160626856594,
          0.04941441532003659,
          1.2301955880270588,
          0.5549576648122474,
          0.5087348321498013,
          -0.5251299669479592,
          -0.7226843478772803,
          2.166721876878339,
          1.1802593126083956,
          -1.538186484092452,
          -0.9373214000293492,
          2.507394228500375,
          1.1453156950783623,
          -0.3900336491592565,
          -1.2294025551628793,
          0.047153263572624386,
          -1.4132468018414466,
          -0.2490684669524338,
          -0.049467689607492635,
          0.32500434009912604,
          2.3848744017153285,
          1.5072496221876714,
          2.3374311490664765,
          0.24765502883674623,
          0.24345434946978872,
          -1.0754295259055462,
          -0.9253517607585953,
          -0.23061561620756169,
          0.9122603763478071,
          0.07761133731595166,
          -1.9670718895477557,
          0.7909040382082345,
          -1.164107142015901,
          -1.3600341936072617,
          1.0761877070356076,
          0.5910801172299857,
          -2.4683912167831474,
          0.9391003487905739,
          0.5833264172434889,
          0.7708157024485347,
          -0.5097944025738771,
          -1.1535830779289729,
          1.7235455685820171,
          2.0515347554626917,
          0.5810028348635923,
          -1.5039588573849996,
          1.1202156895522468
         ],
         "yaxis": "y7"
        },
        {
         "line": {
          "color": "rgba(128, 128, 128, 1.0)",
          "dash": "solid",
          "shape": "linear",
          "width": 1.3
         },
         "marker": {
          "size": 2,
          "symbol": "circle"
         },
         "mode": "markers",
         "name": "B",
         "text": "",
         "type": "scatter",
         "x": [
          -0.20780585649318675,
          -0.14819604288381694,
          1.0885503128334055,
          1.5690761380859866,
          -0.2057701688271447,
          0.528517647224014,
          0.49489867431198065,
          0.3694870943340224,
          0.8504456511047962,
          0.6218097729257264,
          1.183537873615913,
          -1.412343100279427,
          -0.20388098639815003,
          1.3209211160041237,
          -0.8667287175928398,
          -1.6022715397568477,
          -0.22533705662048342,
          -0.41925862395025637,
          -0.7702343824721343,
          1.3335634594021377,
          0.8915349281178668,
          -1.9036354831030342,
          -0.12427220329691722,
          -0.8855772700058713,
          -0.22962601620657463,
          -0.07456838767647804,
          -0.01297547207565747,
          -0.05013017019035424,
          -1.2079982388712291,
          -1.4271558878113708,
          0.4691611383451397,
          -0.28246806140803854,
          -0.7564171061978776,
          0.9458537409105416,
          -0.12157386355688268,
          -1.5771587088527448,
          -0.4771802703564047,
          -0.6920394639249958,
          1.6657363893397388,
          -0.4420391031877735,
          -1.0794640013897456,
          1.8183490354095484,
          0.46595654679141907,
          -0.5011736995656421,
          0.895642453466898,
          0.9178866835622075,
          -1.046408578337546,
          0.1462439640318665,
          0.847776063439936,
          0.5846608026272584,
          0.4352243063077864,
          1.5108645572772388,
          0.6495566241763885,
          -0.5507503599029776,
          1.0043465834358691,
          1.5139187503807083,
          -0.9450550704795724,
          -1.3698838965232643,
          0.6342868982920584,
          -1.7822121192781268,
          0.2139531047420393,
          -0.7081121135552167,
          -0.38465236055835333,
          -2.2460330504270942,
          0.6188661266419923,
          1.8445435923545408,
          0.2883225048009735,
          0.9123788041289154,
          -1.1604115329406108,
          -1.4841011626780298,
          0.5628193476873323,
          -0.7349117807171268,
          0.11920582506622426,
          0.5905073967313906,
          -0.48928493347902163,
          2.774402057543939,
          -0.7273081733755475,
          0.2958714729279786,
          0.4398411171858982,
          -0.13312101574758703,
          0.11749928614535977,
          0.1232784763904203,
          0.4980966126639828,
          0.22382405626046578,
          2.6016338790283853,
          -0.6436340585499764,
          -1.254990990021013,
          0.4543785021609926,
          -1.306189514444256,
          0.34856842350078515,
          -0.6294405154267875,
          -2.5030458807207685,
          0.561475266139338,
          1.7014026293955336,
          0.012306602310616718,
          -0.4696968504587055,
          1.8164578476490285,
          1.0592720945516634,
          -0.9962321498291724,
          0.9668986029652397
         ],
         "xaxis": "x8",
         "y": [
          -0.3837044654152856,
          0.795222058544091,
          -1.088639124538044,
          1.2717431343417127,
          -0.425142084846673,
          0.064182302033947,
          1.4362888057989984,
          -0.1500476658943807,
          -1.5718151705858465,
          -1.1951812086435607,
          0.22860843548074822,
          -0.12492214308168757,
          -0.2867367492193972,
          -0.5736239558678975,
          1.389341530883104,
          -0.6861898267335519,
          -1.5311373341612782,
          -0.8512089705281984,
          -1.4559541518556975,
          -1.1001623087846037,
          0.8979100173243162,
          0.12116953775102157,
          0.008534083166311771,
          0.8564629305816837,
          -0.5811640716666194,
          -1.2080292257019134,
          -0.2349761867338796,
          0.5544460777568961,
          -1.0713239222958086,
          -0.5880653881769333,
          1.455833425930843,
          1.798690383630041,
          -0.33646470904540654,
          -0.3672634840646152,
          -1.172864741624129,
          0.5837329271770997,
          -2.2382359822608637,
          0.18016433857511283,
          0.9536368045497337,
          -1.0800463778552765,
          -0.8317221994239206,
          1.282796438795336,
          -0.29336799070174174,
          0.15886220818261743,
          0.38201782187711153,
          1.4359852720915571,
          0.12325985697339818,
          -1.2571112124983932,
          -0.6820456832743963,
          0.6549877845727778,
          1.7480017358816617,
          -0.417778286260563,
          -1.6706045656026176,
          -0.32449160626856594,
          0.04941441532003659,
          1.2301955880270588,
          0.5549576648122474,
          0.5087348321498013,
          -0.5251299669479592,
          -0.7226843478772803,
          2.166721876878339,
          1.1802593126083956,
          -1.538186484092452,
          -0.9373214000293492,
          2.507394228500375,
          1.1453156950783623,
          -0.3900336491592565,
          -1.2294025551628793,
          0.047153263572624386,
          -1.4132468018414466,
          -0.2490684669524338,
          -0.049467689607492635,
          0.32500434009912604,
          2.3848744017153285,
          1.5072496221876714,
          2.3374311490664765,
          0.24765502883674623,
          0.24345434946978872,
          -1.0754295259055462,
          -0.9253517607585953,
          -0.23061561620756169,
          0.9122603763478071,
          0.07761133731595166,
          -1.9670718895477557,
          0.7909040382082345,
          -1.164107142015901,
          -1.3600341936072617,
          1.0761877070356076,
          0.5910801172299857,
          -2.4683912167831474,
          0.9391003487905739,
          0.5833264172434889,
          0.7708157024485347,
          -0.5097944025738771,
          -1.1535830779289729,
          1.7235455685820171,
          2.0515347554626917,
          0.5810028348635923,
          -1.5039588573849996,
          1.1202156895522468
         ],
         "yaxis": "y8"
        },
        {
         "line": {
          "color": "rgba(128, 128, 128, 1.0)",
          "dash": "solid",
          "shape": "linear",
          "width": 1.3
         },
         "marker": {
          "size": 2,
          "symbol": "circle"
         },
         "mode": "markers",
         "name": "C",
         "text": "",
         "type": "scatter",
         "x": [
          0.18949412131357618,
          -0.4394056773665876,
          1.5235003132506255,
          0.03645250031559109,
          -0.48017680332678986,
          -0.32940801574654444,
          -0.8336585198060829,
          2.1104829932351987,
          -2.1774759403114543,
          -1.4552810678704107,
          -0.3946340137520746,
          -0.7958997396105878,
          -2.1941249569910184,
          -0.3186755756858305,
          -1.0762861726059367,
          0.5160715236107142,
          0.5354240028958203,
          0.24474634754970445,
          2.1593382645363524,
          -2.459688200120283,
          2.2033163680127856,
          0.12741013120035052,
          -0.7426413044529445,
          -0.708915270693794,
          -1.7366906383070453,
          -0.3278091707347793,
          -0.019161214804460824,
          -0.10350391076144248,
          0.443003384937299,
          -0.3021624753184853,
          -0.26540709330297957,
          1.1177682728198786,
          -0.6555808314273678,
          -2.0513962145269367,
          -0.007283680343075513,
          -1.7345390153967326,
          0.6526293553788296,
          0.8797043755381333,
          -0.40446628152172,
          0.40015659679998383,
          1.3501402445869597,
          -1.681402939901821,
          0.37687631215522416,
          1.530406066859981,
          0.27376913231487043,
          0.11859151200966923,
          0.18998151104134484,
          1.239771620051365,
          -0.013067258817813692,
          -0.4342760602897146,
          -0.22768423864144938,
          -0.08712007886114415,
          -1.3953429851893069,
          -1.1346627058287775,
          1.717402994668382,
          -0.8202332848774089,
          -0.4210331992705946,
          -0.06266365801889973,
          -0.1076343228449331,
          -0.46753029808332414,
          0.465339121662231,
          0.05686260034364659,
          0.6689353752755711,
          -1.3749096285081572,
          1.0644486040242718,
          1.0029108097495154,
          -0.4756234878591175,
          -0.7573283389084694,
          1.553314742784835,
          0.9327235406491218,
          -0.5432611240893911,
          0.9375595028153989,
          0.6479726183862607,
          -1.6193215495623614,
          0.42468213572515945,
          0.4442854952443643,
          -0.4430216955740655,
          -0.3313723025358653,
          -0.5164036122879947,
          -0.1426294244580413,
          0.34861880298974646,
          2.491239497816553,
          -1.2708676958205198,
          1.2439173121325637,
          -0.2531066585596569,
          0.3986080862101964,
          1.559031756752641,
          -0.8451994271388271,
          0.6244513110895351,
          -0.20836122736152812,
          -1.5593960284306796,
          1.0027652648558283,
          0.6678453706840629,
          0.9019731286521746,
          0.49217666164481805,
          -0.2537409869513799,
          0.7236090940111436,
          0.046759497044002236,
          -0.5975669662202538,
          -0.78915850866316
         ],
         "xaxis": "x9",
         "y": [
          -0.1743984965453827,
          -1.4541612208234012,
          0.6956792937079929,
          -1.3001320960993383,
          0.08431046689444055,
          -0.5458234646004246,
          -1.703734496705612,
          -0.46667383632587456,
          0.20168534651158843,
          0.05180078694254984,
          0.15009120689135705,
          0.38155320389086794,
          0.6201617773498148,
          -0.4180523651246814,
          0.7465449715988128,
          -1.5936716550582053,
          -0.10284790666830117,
          0.1093592149806783,
          -0.4298179966107576,
          0.09036264294289752,
          0.88687423729422,
          -0.38701666121889466,
          -1.0138165027078039,
          -0.5657807458054585,
          -1.0828115788453545,
          0.9840254154931339,
          0.8093741156203169,
          0.12057650292945947,
          0.5547869447555124,
          0.6922370792655054,
          -0.5648301884075914,
          0.36231458268424105,
          1.0810279703817096,
          1.8783153100153525,
          -0.7214684504748133,
          0.8184542416070196,
          1.096285275446509,
          0.6401790065862915,
          1.4549111285078231,
          0.8458116106046145,
          0.919572265392668,
          1.1301903192078682,
          -0.7698555448986697,
          0.6254893169467595,
          -1.3257760372158236,
          -0.2978156236899048,
          0.37394743471698133,
          1.5331566652250095,
          -0.4979914851761903,
          0.7517118709648927,
          1.3509690362061804,
          0.5011967657164128,
          0.709739359148568,
          0.06810356319394323,
          -0.7831965307456421,
          -0.5340021787086153,
          -0.7865627285734942,
          0.3601143418103425,
          1.4254633444799054,
          1.3194723968147113,
          -0.6219733375028738,
          -0.4706692397260293,
          0.6494971062647076,
          1.333836418289274,
          -0.3925211802671113,
          1.1114167342804335,
          -0.48266044723498785,
          -0.5756884715412415,
          -1.451963627424044,
          -0.5966415531473441,
          1.2736827262182808,
          0.056729781593075346,
          -1.4022876205319186,
          1.0641058394292497,
          -1.632548685431701,
          1.0282791458538627,
          0.9735252234678213,
          0.6731261725235531,
          0.6663790123138237,
          1.0458060866394234,
          -1.1139971857239725,
          2.6482697572989817,
          -0.24221257551688724,
          -0.592224532882951,
          1.555402285699256,
          0.031033396716787728,
          -0.8779461708583994,
          -0.05179952540035406,
          -0.06526260702897788,
          -0.3548763030095997,
          0.8274228665667456,
          0.3096308840511436,
          -0.9984340067990453,
          0.2944126067059136,
          0.27777425546051143,
          -0.480142482489268,
          0.4976614774521355,
          0.4236071706861531,
          -1.064383297804024,
          -0.03328662450382397
         ],
         "yaxis": "y9"
        },
        {
         "line": {
          "color": "rgba(128, 128, 128, 1.0)",
          "dash": "solid",
          "shape": "linear",
          "width": 1.3
         },
         "marker": {
          "size": 2,
          "symbol": "circle"
         },
         "mode": "markers",
         "name": "C",
         "text": "",
         "type": "scatter",
         "x": [
          -0.3837044654152856,
          0.795222058544091,
          -1.088639124538044,
          1.2717431343417127,
          -0.425142084846673,
          0.064182302033947,
          1.4362888057989984,
          -0.1500476658943807,
          -1.5718151705858465,
          -1.1951812086435607,
          0.22860843548074822,
          -0.12492214308168757,
          -0.2867367492193972,
          -0.5736239558678975,
          1.389341530883104,
          -0.6861898267335519,
          -1.5311373341612782,
          -0.8512089705281984,
          -1.4559541518556975,
          -1.1001623087846037,
          0.8979100173243162,
          0.12116953775102157,
          0.008534083166311771,
          0.8564629305816837,
          -0.5811640716666194,
          -1.2080292257019134,
          -0.2349761867338796,
          0.5544460777568961,
          -1.0713239222958086,
          -0.5880653881769333,
          1.455833425930843,
          1.798690383630041,
          -0.33646470904540654,
          -0.3672634840646152,
          -1.172864741624129,
          0.5837329271770997,
          -2.2382359822608637,
          0.18016433857511283,
          0.9536368045497337,
          -1.0800463778552765,
          -0.8317221994239206,
          1.282796438795336,
          -0.29336799070174174,
          0.15886220818261743,
          0.38201782187711153,
          1.4359852720915571,
          0.12325985697339818,
          -1.2571112124983932,
          -0.6820456832743963,
          0.6549877845727778,
          1.7480017358816617,
          -0.417778286260563,
          -1.6706045656026176,
          -0.32449160626856594,
          0.04941441532003659,
          1.2301955880270588,
          0.5549576648122474,
          0.5087348321498013,
          -0.5251299669479592,
          -0.7226843478772803,
          2.166721876878339,
          1.1802593126083956,
          -1.538186484092452,
          -0.9373214000293492,
          2.507394228500375,
          1.1453156950783623,
          -0.3900336491592565,
          -1.2294025551628793,
          0.047153263572624386,
          -1.4132468018414466,
          -0.2490684669524338,
          -0.049467689607492635,
          0.32500434009912604,
          2.3848744017153285,
          1.5072496221876714,
          2.3374311490664765,
          0.24765502883674623,
          0.24345434946978872,
          -1.0754295259055462,
          -0.9253517607585953,
          -0.23061561620756169,
          0.9122603763478071,
          0.07761133731595166,
          -1.9670718895477557,
          0.7909040382082345,
          -1.164107142015901,
          -1.3600341936072617,
          1.0761877070356076,
          0.5910801172299857,
          -2.4683912167831474,
          0.9391003487905739,
          0.5833264172434889,
          0.7708157024485347,
          -0.5097944025738771,
          -1.1535830779289729,
          1.7235455685820171,
          2.0515347554626917,
          0.5810028348635923,
          -1.5039588573849996,
          1.1202156895522468
         ],
         "xaxis": "x10",
         "y": [
          -0.1743984965453827,
          -1.4541612208234012,
          0.6956792937079929,
          -1.3001320960993383,
          0.08431046689444055,
          -0.5458234646004246,
          -1.703734496705612,
          -0.46667383632587456,
          0.20168534651158843,
          0.05180078694254984,
          0.15009120689135705,
          0.38155320389086794,
          0.6201617773498148,
          -0.4180523651246814,
          0.7465449715988128,
          -1.5936716550582053,
          -0.10284790666830117,
          0.1093592149806783,
          -0.4298179966107576,
          0.09036264294289752,
          0.88687423729422,
          -0.38701666121889466,
          -1.0138165027078039,
          -0.5657807458054585,
          -1.0828115788453545,
          0.9840254154931339,
          0.8093741156203169,
          0.12057650292945947,
          0.5547869447555124,
          0.6922370792655054,
          -0.5648301884075914,
          0.36231458268424105,
          1.0810279703817096,
          1.8783153100153525,
          -0.7214684504748133,
          0.8184542416070196,
          1.096285275446509,
          0.6401790065862915,
          1.4549111285078231,
          0.8458116106046145,
          0.919572265392668,
          1.1301903192078682,
          -0.7698555448986697,
          0.6254893169467595,
          -1.3257760372158236,
          -0.2978156236899048,
          0.37394743471698133,
          1.5331566652250095,
          -0.4979914851761903,
          0.7517118709648927,
          1.3509690362061804,
          0.5011967657164128,
          0.709739359148568,
          0.06810356319394323,
          -0.7831965307456421,
          -0.5340021787086153,
          -0.7865627285734942,
          0.3601143418103425,
          1.4254633444799054,
          1.3194723968147113,
          -0.6219733375028738,
          -0.4706692397260293,
          0.6494971062647076,
          1.333836418289274,
          -0.3925211802671113,
          1.1114167342804335,
          -0.48266044723498785,
          -0.5756884715412415,
          -1.451963627424044,
          -0.5966415531473441,
          1.2736827262182808,
          0.056729781593075346,
          -1.4022876205319186,
          1.0641058394292497,
          -1.632548685431701,
          1.0282791458538627,
          0.9735252234678213,
          0.6731261725235531,
          0.6663790123138237,
          1.0458060866394234,
          -1.1139971857239725,
          2.6482697572989817,
          -0.24221257551688724,
          -0.592224532882951,
          1.555402285699256,
          0.031033396716787728,
          -0.8779461708583994,
          -0.05179952540035406,
          -0.06526260702897788,
          -0.3548763030095997,
          0.8274228665667456,
          0.3096308840511436,
          -0.9984340067990453,
          0.2944126067059136,
          0.27777425546051143,
          -0.480142482489268,
          0.4976614774521355,
          0.4236071706861531,
          -1.064383297804024,
          -0.03328662450382397
         ],
         "yaxis": "y10"
        },
        {
         "histfunc": "count",
         "histnorm": "",
         "marker": {
          "color": "rgba(50, 171, 96, 1.0)",
          "line": {
           "color": "#4D5663",
           "width": 1.3
          }
         },
         "name": "C",
         "nbinsx": 10,
         "opacity": 0.8,
         "orientation": "v",
         "type": "histogram",
         "x": [
          -0.1743984965453827,
          -1.4541612208234012,
          0.6956792937079929,
          -1.3001320960993383,
          0.08431046689444055,
          -0.5458234646004246,
          -1.703734496705612,
          -0.46667383632587456,
          0.20168534651158843,
          0.05180078694254984,
          0.15009120689135705,
          0.38155320389086794,
          0.6201617773498148,
          -0.4180523651246814,
          0.7465449715988128,
          -1.5936716550582053,
          -0.10284790666830117,
          0.1093592149806783,
          -0.4298179966107576,
          0.09036264294289752,
          0.88687423729422,
          -0.38701666121889466,
          -1.0138165027078039,
          -0.5657807458054585,
          -1.0828115788453545,
          0.9840254154931339,
          0.8093741156203169,
          0.12057650292945947,
          0.5547869447555124,
          0.6922370792655054,
          -0.5648301884075914,
          0.36231458268424105,
          1.0810279703817096,
          1.8783153100153525,
          -0.7214684504748133,
          0.8184542416070196,
          1.096285275446509,
          0.6401790065862915,
          1.4549111285078231,
          0.8458116106046145,
          0.919572265392668,
          1.1301903192078682,
          -0.7698555448986697,
          0.6254893169467595,
          -1.3257760372158236,
          -0.2978156236899048,
          0.37394743471698133,
          1.5331566652250095,
          -0.4979914851761903,
          0.7517118709648927,
          1.3509690362061804,
          0.5011967657164128,
          0.709739359148568,
          0.06810356319394323,
          -0.7831965307456421,
          -0.5340021787086153,
          -0.7865627285734942,
          0.3601143418103425,
          1.4254633444799054,
          1.3194723968147113,
          -0.6219733375028738,
          -0.4706692397260293,
          0.6494971062647076,
          1.333836418289274,
          -0.3925211802671113,
          1.1114167342804335,
          -0.48266044723498785,
          -0.5756884715412415,
          -1.451963627424044,
          -0.5966415531473441,
          1.2736827262182808,
          0.056729781593075346,
          -1.4022876205319186,
          1.0641058394292497,
          -1.632548685431701,
          1.0282791458538627,
          0.9735252234678213,
          0.6731261725235531,
          0.6663790123138237,
          1.0458060866394234,
          -1.1139971857239725,
          2.6482697572989817,
          -0.24221257551688724,
          -0.592224532882951,
          1.555402285699256,
          0.031033396716787728,
          -0.8779461708583994,
          -0.05179952540035406,
          -0.06526260702897788,
          -0.3548763030095997,
          0.8274228665667456,
          0.3096308840511436,
          -0.9984340067990453,
          0.2944126067059136,
          0.27777425546051143,
          -0.480142482489268,
          0.4976614774521355,
          0.4236071706861531,
          -1.064383297804024,
          -0.03328662450382397
         ],
         "xaxis": "x11",
         "yaxis": "y11"
        },
        {
         "line": {
          "color": "rgba(128, 128, 128, 1.0)",
          "dash": "solid",
          "shape": "linear",
          "width": 1.3
         },
         "marker": {
          "size": 2,
          "symbol": "circle"
         },
         "mode": "markers",
         "name": "C",
         "text": "",
         "type": "scatter",
         "x": [
          -0.20780585649318675,
          -0.14819604288381694,
          1.0885503128334055,
          1.5690761380859866,
          -0.2057701688271447,
          0.528517647224014,
          0.49489867431198065,
          0.3694870943340224,
          0.8504456511047962,
          0.6218097729257264,
          1.183537873615913,
          -1.412343100279427,
          -0.20388098639815003,
          1.3209211160041237,
          -0.8667287175928398,
          -1.6022715397568477,
          -0.22533705662048342,
          -0.41925862395025637,
          -0.7702343824721343,
          1.3335634594021377,
          0.8915349281178668,
          -1.9036354831030342,
          -0.12427220329691722,
          -0.8855772700058713,
          -0.22962601620657463,
          -0.07456838767647804,
          -0.01297547207565747,
          -0.05013017019035424,
          -1.2079982388712291,
          -1.4271558878113708,
          0.4691611383451397,
          -0.28246806140803854,
          -0.7564171061978776,
          0.9458537409105416,
          -0.12157386355688268,
          -1.5771587088527448,
          -0.4771802703564047,
          -0.6920394639249958,
          1.6657363893397388,
          -0.4420391031877735,
          -1.0794640013897456,
          1.8183490354095484,
          0.46595654679141907,
          -0.5011736995656421,
          0.895642453466898,
          0.9178866835622075,
          -1.046408578337546,
          0.1462439640318665,
          0.847776063439936,
          0.5846608026272584,
          0.4352243063077864,
          1.5108645572772388,
          0.6495566241763885,
          -0.5507503599029776,
          1.0043465834358691,
          1.5139187503807083,
          -0.9450550704795724,
          -1.3698838965232643,
          0.6342868982920584,
          -1.7822121192781268,
          0.2139531047420393,
          -0.7081121135552167,
          -0.38465236055835333,
          -2.2460330504270942,
          0.6188661266419923,
          1.8445435923545408,
          0.2883225048009735,
          0.9123788041289154,
          -1.1604115329406108,
          -1.4841011626780298,
          0.5628193476873323,
          -0.7349117807171268,
          0.11920582506622426,
          0.5905073967313906,
          -0.48928493347902163,
          2.774402057543939,
          -0.7273081733755475,
          0.2958714729279786,
          0.4398411171858982,
          -0.13312101574758703,
          0.11749928614535977,
          0.1232784763904203,
          0.4980966126639828,
          0.22382405626046578,
          2.6016338790283853,
          -0.6436340585499764,
          -1.254990990021013,
          0.4543785021609926,
          -1.306189514444256,
          0.34856842350078515,
          -0.6294405154267875,
          -2.5030458807207685,
          0.561475266139338,
          1.7014026293955336,
          0.012306602310616718,
          -0.4696968504587055,
          1.8164578476490285,
          1.0592720945516634,
          -0.9962321498291724,
          0.9668986029652397
         ],
         "xaxis": "x12",
         "y": [
          -0.1743984965453827,
          -1.4541612208234012,
          0.6956792937079929,
          -1.3001320960993383,
          0.08431046689444055,
          -0.5458234646004246,
          -1.703734496705612,
          -0.46667383632587456,
          0.20168534651158843,
          0.05180078694254984,
          0.15009120689135705,
          0.38155320389086794,
          0.6201617773498148,
          -0.4180523651246814,
          0.7465449715988128,
          -1.5936716550582053,
          -0.10284790666830117,
          0.1093592149806783,
          -0.4298179966107576,
          0.09036264294289752,
          0.88687423729422,
          -0.38701666121889466,
          -1.0138165027078039,
          -0.5657807458054585,
          -1.0828115788453545,
          0.9840254154931339,
          0.8093741156203169,
          0.12057650292945947,
          0.5547869447555124,
          0.6922370792655054,
          -0.5648301884075914,
          0.36231458268424105,
          1.0810279703817096,
          1.8783153100153525,
          -0.7214684504748133,
          0.8184542416070196,
          1.096285275446509,
          0.6401790065862915,
          1.4549111285078231,
          0.8458116106046145,
          0.919572265392668,
          1.1301903192078682,
          -0.7698555448986697,
          0.6254893169467595,
          -1.3257760372158236,
          -0.2978156236899048,
          0.37394743471698133,
          1.5331566652250095,
          -0.4979914851761903,
          0.7517118709648927,
          1.3509690362061804,
          0.5011967657164128,
          0.709739359148568,
          0.06810356319394323,
          -0.7831965307456421,
          -0.5340021787086153,
          -0.7865627285734942,
          0.3601143418103425,
          1.4254633444799054,
          1.3194723968147113,
          -0.6219733375028738,
          -0.4706692397260293,
          0.6494971062647076,
          1.333836418289274,
          -0.3925211802671113,
          1.1114167342804335,
          -0.48266044723498785,
          -0.5756884715412415,
          -1.451963627424044,
          -0.5966415531473441,
          1.2736827262182808,
          0.056729781593075346,
          -1.4022876205319186,
          1.0641058394292497,
          -1.632548685431701,
          1.0282791458538627,
          0.9735252234678213,
          0.6731261725235531,
          0.6663790123138237,
          1.0458060866394234,
          -1.1139971857239725,
          2.6482697572989817,
          -0.24221257551688724,
          -0.592224532882951,
          1.555402285699256,
          0.031033396716787728,
          -0.8779461708583994,
          -0.05179952540035406,
          -0.06526260702897788,
          -0.3548763030095997,
          0.8274228665667456,
          0.3096308840511436,
          -0.9984340067990453,
          0.2944126067059136,
          0.27777425546051143,
          -0.480142482489268,
          0.4976614774521355,
          0.4236071706861531,
          -1.064383297804024,
          -0.03328662450382397
         ],
         "yaxis": "y12"
        },
        {
         "line": {
          "color": "rgba(128, 128, 128, 1.0)",
          "dash": "solid",
          "shape": "linear",
          "width": 1.3
         },
         "marker": {
          "size": 2,
          "symbol": "circle"
         },
         "mode": "markers",
         "name": "D",
         "text": "",
         "type": "scatter",
         "x": [
          0.18949412131357618,
          -0.4394056773665876,
          1.5235003132506255,
          0.03645250031559109,
          -0.48017680332678986,
          -0.32940801574654444,
          -0.8336585198060829,
          2.1104829932351987,
          -2.1774759403114543,
          -1.4552810678704107,
          -0.3946340137520746,
          -0.7958997396105878,
          -2.1941249569910184,
          -0.3186755756858305,
          -1.0762861726059367,
          0.5160715236107142,
          0.5354240028958203,
          0.24474634754970445,
          2.1593382645363524,
          -2.459688200120283,
          2.2033163680127856,
          0.12741013120035052,
          -0.7426413044529445,
          -0.708915270693794,
          -1.7366906383070453,
          -0.3278091707347793,
          -0.019161214804460824,
          -0.10350391076144248,
          0.443003384937299,
          -0.3021624753184853,
          -0.26540709330297957,
          1.1177682728198786,
          -0.6555808314273678,
          -2.0513962145269367,
          -0.007283680343075513,
          -1.7345390153967326,
          0.6526293553788296,
          0.8797043755381333,
          -0.40446628152172,
          0.40015659679998383,
          1.3501402445869597,
          -1.681402939901821,
          0.37687631215522416,
          1.530406066859981,
          0.27376913231487043,
          0.11859151200966923,
          0.18998151104134484,
          1.239771620051365,
          -0.013067258817813692,
          -0.4342760602897146,
          -0.22768423864144938,
          -0.08712007886114415,
          -1.3953429851893069,
          -1.1346627058287775,
          1.717402994668382,
          -0.8202332848774089,
          -0.4210331992705946,
          -0.06266365801889973,
          -0.1076343228449331,
          -0.46753029808332414,
          0.465339121662231,
          0.05686260034364659,
          0.6689353752755711,
          -1.3749096285081572,
          1.0644486040242718,
          1.0029108097495154,
          -0.4756234878591175,
          -0.7573283389084694,
          1.553314742784835,
          0.9327235406491218,
          -0.5432611240893911,
          0.9375595028153989,
          0.6479726183862607,
          -1.6193215495623614,
          0.42468213572515945,
          0.4442854952443643,
          -0.4430216955740655,
          -0.3313723025358653,
          -0.5164036122879947,
          -0.1426294244580413,
          0.34861880298974646,
          2.491239497816553,
          -1.2708676958205198,
          1.2439173121325637,
          -0.2531066585596569,
          0.3986080862101964,
          1.559031756752641,
          -0.8451994271388271,
          0.6244513110895351,
          -0.20836122736152812,
          -1.5593960284306796,
          1.0027652648558283,
          0.6678453706840629,
          0.9019731286521746,
          0.49217666164481805,
          -0.2537409869513799,
          0.7236090940111436,
          0.046759497044002236,
          -0.5975669662202538,
          -0.78915850866316
         ],
         "xaxis": "x13",
         "y": [
          -0.20780585649318675,
          -0.14819604288381694,
          1.0885503128334055,
          1.5690761380859866,
          -0.2057701688271447,
          0.528517647224014,
          0.49489867431198065,
          0.3694870943340224,
          0.8504456511047962,
          0.6218097729257264,
          1.183537873615913,
          -1.412343100279427,
          -0.20388098639815003,
          1.3209211160041237,
          -0.8667287175928398,
          -1.6022715397568477,
          -0.22533705662048342,
          -0.41925862395025637,
          -0.7702343824721343,
          1.3335634594021377,
          0.8915349281178668,
          -1.9036354831030342,
          -0.12427220329691722,
          -0.8855772700058713,
          -0.22962601620657463,
          -0.07456838767647804,
          -0.01297547207565747,
          -0.05013017019035424,
          -1.2079982388712291,
          -1.4271558878113708,
          0.4691611383451397,
          -0.28246806140803854,
          -0.7564171061978776,
          0.9458537409105416,
          -0.12157386355688268,
          -1.5771587088527448,
          -0.4771802703564047,
          -0.6920394639249958,
          1.6657363893397388,
          -0.4420391031877735,
          -1.0794640013897456,
          1.8183490354095484,
          0.46595654679141907,
          -0.5011736995656421,
          0.895642453466898,
          0.9178866835622075,
          -1.046408578337546,
          0.1462439640318665,
          0.847776063439936,
          0.5846608026272584,
          0.4352243063077864,
          1.5108645572772388,
          0.6495566241763885,
          -0.5507503599029776,
          1.0043465834358691,
          1.5139187503807083,
          -0.9450550704795724,
          -1.3698838965232643,
          0.6342868982920584,
          -1.7822121192781268,
          0.2139531047420393,
          -0.7081121135552167,
          -0.38465236055835333,
          -2.2460330504270942,
          0.6188661266419923,
          1.8445435923545408,
          0.2883225048009735,
          0.9123788041289154,
          -1.1604115329406108,
          -1.4841011626780298,
          0.5628193476873323,
          -0.7349117807171268,
          0.11920582506622426,
          0.5905073967313906,
          -0.48928493347902163,
          2.774402057543939,
          -0.7273081733755475,
          0.2958714729279786,
          0.4398411171858982,
          -0.13312101574758703,
          0.11749928614535977,
          0.1232784763904203,
          0.4980966126639828,
          0.22382405626046578,
          2.6016338790283853,
          -0.6436340585499764,
          -1.254990990021013,
          0.4543785021609926,
          -1.306189514444256,
          0.34856842350078515,
          -0.6294405154267875,
          -2.5030458807207685,
          0.561475266139338,
          1.7014026293955336,
          0.012306602310616718,
          -0.4696968504587055,
          1.8164578476490285,
          1.0592720945516634,
          -0.9962321498291724,
          0.9668986029652397
         ],
         "yaxis": "y13"
        },
        {
         "line": {
          "color": "rgba(128, 128, 128, 1.0)",
          "dash": "solid",
          "shape": "linear",
          "width": 1.3
         },
         "marker": {
          "size": 2,
          "symbol": "circle"
         },
         "mode": "markers",
         "name": "D",
         "text": "",
         "type": "scatter",
         "x": [
          -0.3837044654152856,
          0.795222058544091,
          -1.088639124538044,
          1.2717431343417127,
          -0.425142084846673,
          0.064182302033947,
          1.4362888057989984,
          -0.1500476658943807,
          -1.5718151705858465,
          -1.1951812086435607,
          0.22860843548074822,
          -0.12492214308168757,
          -0.2867367492193972,
          -0.5736239558678975,
          1.389341530883104,
          -0.6861898267335519,
          -1.5311373341612782,
          -0.8512089705281984,
          -1.4559541518556975,
          -1.1001623087846037,
          0.8979100173243162,
          0.12116953775102157,
          0.008534083166311771,
          0.8564629305816837,
          -0.5811640716666194,
          -1.2080292257019134,
          -0.2349761867338796,
          0.5544460777568961,
          -1.0713239222958086,
          -0.5880653881769333,
          1.455833425930843,
          1.798690383630041,
          -0.33646470904540654,
          -0.3672634840646152,
          -1.172864741624129,
          0.5837329271770997,
          -2.2382359822608637,
          0.18016433857511283,
          0.9536368045497337,
          -1.0800463778552765,
          -0.8317221994239206,
          1.282796438795336,
          -0.29336799070174174,
          0.15886220818261743,
          0.38201782187711153,
          1.4359852720915571,
          0.12325985697339818,
          -1.2571112124983932,
          -0.6820456832743963,
          0.6549877845727778,
          1.7480017358816617,
          -0.417778286260563,
          -1.6706045656026176,
          -0.32449160626856594,
          0.04941441532003659,
          1.2301955880270588,
          0.5549576648122474,
          0.5087348321498013,
          -0.5251299669479592,
          -0.7226843478772803,
          2.166721876878339,
          1.1802593126083956,
          -1.538186484092452,
          -0.9373214000293492,
          2.507394228500375,
          1.1453156950783623,
          -0.3900336491592565,
          -1.2294025551628793,
          0.047153263572624386,
          -1.4132468018414466,
          -0.2490684669524338,
          -0.049467689607492635,
          0.32500434009912604,
          2.3848744017153285,
          1.5072496221876714,
          2.3374311490664765,
          0.24765502883674623,
          0.24345434946978872,
          -1.0754295259055462,
          -0.9253517607585953,
          -0.23061561620756169,
          0.9122603763478071,
          0.07761133731595166,
          -1.9670718895477557,
          0.7909040382082345,
          -1.164107142015901,
          -1.3600341936072617,
          1.0761877070356076,
          0.5910801172299857,
          -2.4683912167831474,
          0.9391003487905739,
          0.5833264172434889,
          0.7708157024485347,
          -0.5097944025738771,
          -1.1535830779289729,
          1.7235455685820171,
          2.0515347554626917,
          0.5810028348635923,
          -1.5039588573849996,
          1.1202156895522468
         ],
         "xaxis": "x14",
         "y": [
          -0.20780585649318675,
          -0.14819604288381694,
          1.0885503128334055,
          1.5690761380859866,
          -0.2057701688271447,
          0.528517647224014,
          0.49489867431198065,
          0.3694870943340224,
          0.8504456511047962,
          0.6218097729257264,
          1.183537873615913,
          -1.412343100279427,
          -0.20388098639815003,
          1.3209211160041237,
          -0.8667287175928398,
          -1.6022715397568477,
          -0.22533705662048342,
          -0.41925862395025637,
          -0.7702343824721343,
          1.3335634594021377,
          0.8915349281178668,
          -1.9036354831030342,
          -0.12427220329691722,
          -0.8855772700058713,
          -0.22962601620657463,
          -0.07456838767647804,
          -0.01297547207565747,
          -0.05013017019035424,
          -1.2079982388712291,
          -1.4271558878113708,
          0.4691611383451397,
          -0.28246806140803854,
          -0.7564171061978776,
          0.9458537409105416,
          -0.12157386355688268,
          -1.5771587088527448,
          -0.4771802703564047,
          -0.6920394639249958,
          1.6657363893397388,
          -0.4420391031877735,
          -1.0794640013897456,
          1.8183490354095484,
          0.46595654679141907,
          -0.5011736995656421,
          0.895642453466898,
          0.9178866835622075,
          -1.046408578337546,
          0.1462439640318665,
          0.847776063439936,
          0.5846608026272584,
          0.4352243063077864,
          1.5108645572772388,
          0.6495566241763885,
          -0.5507503599029776,
          1.0043465834358691,
          1.5139187503807083,
          -0.9450550704795724,
          -1.3698838965232643,
          0.6342868982920584,
          -1.7822121192781268,
          0.2139531047420393,
          -0.7081121135552167,
          -0.38465236055835333,
          -2.2460330504270942,
          0.6188661266419923,
          1.8445435923545408,
          0.2883225048009735,
          0.9123788041289154,
          -1.1604115329406108,
          -1.4841011626780298,
          0.5628193476873323,
          -0.7349117807171268,
          0.11920582506622426,
          0.5905073967313906,
          -0.48928493347902163,
          2.774402057543939,
          -0.7273081733755475,
          0.2958714729279786,
          0.4398411171858982,
          -0.13312101574758703,
          0.11749928614535977,
          0.1232784763904203,
          0.4980966126639828,
          0.22382405626046578,
          2.6016338790283853,
          -0.6436340585499764,
          -1.254990990021013,
          0.4543785021609926,
          -1.306189514444256,
          0.34856842350078515,
          -0.6294405154267875,
          -2.5030458807207685,
          0.561475266139338,
          1.7014026293955336,
          0.012306602310616718,
          -0.4696968504587055,
          1.8164578476490285,
          1.0592720945516634,
          -0.9962321498291724,
          0.9668986029652397
         ],
         "yaxis": "y14"
        },
        {
         "line": {
          "color": "rgba(128, 128, 128, 1.0)",
          "dash": "solid",
          "shape": "linear",
          "width": 1.3
         },
         "marker": {
          "size": 2,
          "symbol": "circle"
         },
         "mode": "markers",
         "name": "D",
         "text": "",
         "type": "scatter",
         "x": [
          -0.1743984965453827,
          -1.4541612208234012,
          0.6956792937079929,
          -1.3001320960993383,
          0.08431046689444055,
          -0.5458234646004246,
          -1.703734496705612,
          -0.46667383632587456,
          0.20168534651158843,
          0.05180078694254984,
          0.15009120689135705,
          0.38155320389086794,
          0.6201617773498148,
          -0.4180523651246814,
          0.7465449715988128,
          -1.5936716550582053,
          -0.10284790666830117,
          0.1093592149806783,
          -0.4298179966107576,
          0.09036264294289752,
          0.88687423729422,
          -0.38701666121889466,
          -1.0138165027078039,
          -0.5657807458054585,
          -1.0828115788453545,
          0.9840254154931339,
          0.8093741156203169,
          0.12057650292945947,
          0.5547869447555124,
          0.6922370792655054,
          -0.5648301884075914,
          0.36231458268424105,
          1.0810279703817096,
          1.8783153100153525,
          -0.7214684504748133,
          0.8184542416070196,
          1.096285275446509,
          0.6401790065862915,
          1.4549111285078231,
          0.8458116106046145,
          0.919572265392668,
          1.1301903192078682,
          -0.7698555448986697,
          0.6254893169467595,
          -1.3257760372158236,
          -0.2978156236899048,
          0.37394743471698133,
          1.5331566652250095,
          -0.4979914851761903,
          0.7517118709648927,
          1.3509690362061804,
          0.5011967657164128,
          0.709739359148568,
          0.06810356319394323,
          -0.7831965307456421,
          -0.5340021787086153,
          -0.7865627285734942,
          0.3601143418103425,
          1.4254633444799054,
          1.3194723968147113,
          -0.6219733375028738,
          -0.4706692397260293,
          0.6494971062647076,
          1.333836418289274,
          -0.3925211802671113,
          1.1114167342804335,
          -0.48266044723498785,
          -0.5756884715412415,
          -1.451963627424044,
          -0.5966415531473441,
          1.2736827262182808,
          0.056729781593075346,
          -1.4022876205319186,
          1.0641058394292497,
          -1.632548685431701,
          1.0282791458538627,
          0.9735252234678213,
          0.6731261725235531,
          0.6663790123138237,
          1.0458060866394234,
          -1.1139971857239725,
          2.6482697572989817,
          -0.24221257551688724,
          -0.592224532882951,
          1.555402285699256,
          0.031033396716787728,
          -0.8779461708583994,
          -0.05179952540035406,
          -0.06526260702897788,
          -0.3548763030095997,
          0.8274228665667456,
          0.3096308840511436,
          -0.9984340067990453,
          0.2944126067059136,
          0.27777425546051143,
          -0.480142482489268,
          0.4976614774521355,
          0.4236071706861531,
          -1.064383297804024,
          -0.03328662450382397
         ],
         "xaxis": "x15",
         "y": [
          -0.20780585649318675,
          -0.14819604288381694,
          1.0885503128334055,
          1.5690761380859866,
          -0.2057701688271447,
          0.528517647224014,
          0.49489867431198065,
          0.3694870943340224,
          0.8504456511047962,
          0.6218097729257264,
          1.183537873615913,
          -1.412343100279427,
          -0.20388098639815003,
          1.3209211160041237,
          -0.8667287175928398,
          -1.6022715397568477,
          -0.22533705662048342,
          -0.41925862395025637,
          -0.7702343824721343,
          1.3335634594021377,
          0.8915349281178668,
          -1.9036354831030342,
          -0.12427220329691722,
          -0.8855772700058713,
          -0.22962601620657463,
          -0.07456838767647804,
          -0.01297547207565747,
          -0.05013017019035424,
          -1.2079982388712291,
          -1.4271558878113708,
          0.4691611383451397,
          -0.28246806140803854,
          -0.7564171061978776,
          0.9458537409105416,
          -0.12157386355688268,
          -1.5771587088527448,
          -0.4771802703564047,
          -0.6920394639249958,
          1.6657363893397388,
          -0.4420391031877735,
          -1.0794640013897456,
          1.8183490354095484,
          0.46595654679141907,
          -0.5011736995656421,
          0.895642453466898,
          0.9178866835622075,
          -1.046408578337546,
          0.1462439640318665,
          0.847776063439936,
          0.5846608026272584,
          0.4352243063077864,
          1.5108645572772388,
          0.6495566241763885,
          -0.5507503599029776,
          1.0043465834358691,
          1.5139187503807083,
          -0.9450550704795724,
          -1.3698838965232643,
          0.6342868982920584,
          -1.7822121192781268,
          0.2139531047420393,
          -0.7081121135552167,
          -0.38465236055835333,
          -2.2460330504270942,
          0.6188661266419923,
          1.8445435923545408,
          0.2883225048009735,
          0.9123788041289154,
          -1.1604115329406108,
          -1.4841011626780298,
          0.5628193476873323,
          -0.7349117807171268,
          0.11920582506622426,
          0.5905073967313906,
          -0.48928493347902163,
          2.774402057543939,
          -0.7273081733755475,
          0.2958714729279786,
          0.4398411171858982,
          -0.13312101574758703,
          0.11749928614535977,
          0.1232784763904203,
          0.4980966126639828,
          0.22382405626046578,
          2.6016338790283853,
          -0.6436340585499764,
          -1.254990990021013,
          0.4543785021609926,
          -1.306189514444256,
          0.34856842350078515,
          -0.6294405154267875,
          -2.5030458807207685,
          0.561475266139338,
          1.7014026293955336,
          0.012306602310616718,
          -0.4696968504587055,
          1.8164578476490285,
          1.0592720945516634,
          -0.9962321498291724,
          0.9668986029652397
         ],
         "yaxis": "y15"
        },
        {
         "histfunc": "count",
         "histnorm": "",
         "marker": {
          "color": "rgba(128, 0, 128, 1.0)",
          "line": {
           "color": "#4D5663",
           "width": 1.3
          }
         },
         "name": "D",
         "nbinsx": 10,
         "opacity": 0.8,
         "orientation": "v",
         "type": "histogram",
         "x": [
          -0.20780585649318675,
          -0.14819604288381694,
          1.0885503128334055,
          1.5690761380859866,
          -0.2057701688271447,
          0.528517647224014,
          0.49489867431198065,
          0.3694870943340224,
          0.8504456511047962,
          0.6218097729257264,
          1.183537873615913,
          -1.412343100279427,
          -0.20388098639815003,
          1.3209211160041237,
          -0.8667287175928398,
          -1.6022715397568477,
          -0.22533705662048342,
          -0.41925862395025637,
          -0.7702343824721343,
          1.3335634594021377,
          0.8915349281178668,
          -1.9036354831030342,
          -0.12427220329691722,
          -0.8855772700058713,
          -0.22962601620657463,
          -0.07456838767647804,
          -0.01297547207565747,
          -0.05013017019035424,
          -1.2079982388712291,
          -1.4271558878113708,
          0.4691611383451397,
          -0.28246806140803854,
          -0.7564171061978776,
          0.9458537409105416,
          -0.12157386355688268,
          -1.5771587088527448,
          -0.4771802703564047,
          -0.6920394639249958,
          1.6657363893397388,
          -0.4420391031877735,
          -1.0794640013897456,
          1.8183490354095484,
          0.46595654679141907,
          -0.5011736995656421,
          0.895642453466898,
          0.9178866835622075,
          -1.046408578337546,
          0.1462439640318665,
          0.847776063439936,
          0.5846608026272584,
          0.4352243063077864,
          1.5108645572772388,
          0.6495566241763885,
          -0.5507503599029776,
          1.0043465834358691,
          1.5139187503807083,
          -0.9450550704795724,
          -1.3698838965232643,
          0.6342868982920584,
          -1.7822121192781268,
          0.2139531047420393,
          -0.7081121135552167,
          -0.38465236055835333,
          -2.2460330504270942,
          0.6188661266419923,
          1.8445435923545408,
          0.2883225048009735,
          0.9123788041289154,
          -1.1604115329406108,
          -1.4841011626780298,
          0.5628193476873323,
          -0.7349117807171268,
          0.11920582506622426,
          0.5905073967313906,
          -0.48928493347902163,
          2.774402057543939,
          -0.7273081733755475,
          0.2958714729279786,
          0.4398411171858982,
          -0.13312101574758703,
          0.11749928614535977,
          0.1232784763904203,
          0.4980966126639828,
          0.22382405626046578,
          2.6016338790283853,
          -0.6436340585499764,
          -1.254990990021013,
          0.4543785021609926,
          -1.306189514444256,
          0.34856842350078515,
          -0.6294405154267875,
          -2.5030458807207685,
          0.561475266139338,
          1.7014026293955336,
          0.012306602310616718,
          -0.4696968504587055,
          1.8164578476490285,
          1.0592720945516634,
          -0.9962321498291724,
          0.9668986029652397
         ],
         "xaxis": "x16",
         "yaxis": "y16"
        }
       ],
       "layout": {
        "bargap": 0.02,
        "legend": {
         "bgcolor": "#F5F6F9",
         "font": {
          "color": "#4D5663"
         }
        },
        "paper_bgcolor": "#F5F6F9",
        "plot_bgcolor": "#F5F6F9",
        "showlegend": false,
        "template": {
         "data": {
          "bar": [
           {
            "error_x": {
             "color": "#2a3f5f"
            },
            "error_y": {
             "color": "#2a3f5f"
            },
            "marker": {
             "line": {
              "color": "#E5ECF6",
              "width": 0.5
             },
             "pattern": {
              "fillmode": "overlay",
              "size": 10,
              "solidity": 0.2
             }
            },
            "type": "bar"
           }
          ],
          "barpolar": [
           {
            "marker": {
             "line": {
              "color": "#E5ECF6",
              "width": 0.5
             },
             "pattern": {
              "fillmode": "overlay",
              "size": 10,
              "solidity": 0.2
             }
            },
            "type": "barpolar"
           }
          ],
          "carpet": [
           {
            "aaxis": {
             "endlinecolor": "#2a3f5f",
             "gridcolor": "white",
             "linecolor": "white",
             "minorgridcolor": "white",
             "startlinecolor": "#2a3f5f"
            },
            "baxis": {
             "endlinecolor": "#2a3f5f",
             "gridcolor": "white",
             "linecolor": "white",
             "minorgridcolor": "white",
             "startlinecolor": "#2a3f5f"
            },
            "type": "carpet"
           }
          ],
          "choropleth": [
           {
            "colorbar": {
             "outlinewidth": 0,
             "ticks": ""
            },
            "type": "choropleth"
           }
          ],
          "contour": [
           {
            "colorbar": {
             "outlinewidth": 0,
             "ticks": ""
            },
            "colorscale": [
             [
              0,
              "#0d0887"
             ],
             [
              0.1111111111111111,
              "#46039f"
             ],
             [
              0.2222222222222222,
              "#7201a8"
             ],
             [
              0.3333333333333333,
              "#9c179e"
             ],
             [
              0.4444444444444444,
              "#bd3786"
             ],
             [
              0.5555555555555556,
              "#d8576b"
             ],
             [
              0.6666666666666666,
              "#ed7953"
             ],
             [
              0.7777777777777778,
              "#fb9f3a"
             ],
             [
              0.8888888888888888,
              "#fdca26"
             ],
             [
              1,
              "#f0f921"
             ]
            ],
            "type": "contour"
           }
          ],
          "contourcarpet": [
           {
            "colorbar": {
             "outlinewidth": 0,
             "ticks": ""
            },
            "type": "contourcarpet"
           }
          ],
          "heatmap": [
           {
            "colorbar": {
             "outlinewidth": 0,
             "ticks": ""
            },
            "colorscale": [
             [
              0,
              "#0d0887"
             ],
             [
              0.1111111111111111,
              "#46039f"
             ],
             [
              0.2222222222222222,
              "#7201a8"
             ],
             [
              0.3333333333333333,
              "#9c179e"
             ],
             [
              0.4444444444444444,
              "#bd3786"
             ],
             [
              0.5555555555555556,
              "#d8576b"
             ],
             [
              0.6666666666666666,
              "#ed7953"
             ],
             [
              0.7777777777777778,
              "#fb9f3a"
             ],
             [
              0.8888888888888888,
              "#fdca26"
             ],
             [
              1,
              "#f0f921"
             ]
            ],
            "type": "heatmap"
           }
          ],
          "heatmapgl": [
           {
            "colorbar": {
             "outlinewidth": 0,
             "ticks": ""
            },
            "colorscale": [
             [
              0,
              "#0d0887"
             ],
             [
              0.1111111111111111,
              "#46039f"
             ],
             [
              0.2222222222222222,
              "#7201a8"
             ],
             [
              0.3333333333333333,
              "#9c179e"
             ],
             [
              0.4444444444444444,
              "#bd3786"
             ],
             [
              0.5555555555555556,
              "#d8576b"
             ],
             [
              0.6666666666666666,
              "#ed7953"
             ],
             [
              0.7777777777777778,
              "#fb9f3a"
             ],
             [
              0.8888888888888888,
              "#fdca26"
             ],
             [
              1,
              "#f0f921"
             ]
            ],
            "type": "heatmapgl"
           }
          ],
          "histogram": [
           {
            "marker": {
             "pattern": {
              "fillmode": "overlay",
              "size": 10,
              "solidity": 0.2
             }
            },
            "type": "histogram"
           }
          ],
          "histogram2d": [
           {
            "colorbar": {
             "outlinewidth": 0,
             "ticks": ""
            },
            "colorscale": [
             [
              0,
              "#0d0887"
             ],
             [
              0.1111111111111111,
              "#46039f"
             ],
             [
              0.2222222222222222,
              "#7201a8"
             ],
             [
              0.3333333333333333,
              "#9c179e"
             ],
             [
              0.4444444444444444,
              "#bd3786"
             ],
             [
              0.5555555555555556,
              "#d8576b"
             ],
             [
              0.6666666666666666,
              "#ed7953"
             ],
             [
              0.7777777777777778,
              "#fb9f3a"
             ],
             [
              0.8888888888888888,
              "#fdca26"
             ],
             [
              1,
              "#f0f921"
             ]
            ],
            "type": "histogram2d"
           }
          ],
          "histogram2dcontour": [
           {
            "colorbar": {
             "outlinewidth": 0,
             "ticks": ""
            },
            "colorscale": [
             [
              0,
              "#0d0887"
             ],
             [
              0.1111111111111111,
              "#46039f"
             ],
             [
              0.2222222222222222,
              "#7201a8"
             ],
             [
              0.3333333333333333,
              "#9c179e"
             ],
             [
              0.4444444444444444,
              "#bd3786"
             ],
             [
              0.5555555555555556,
              "#d8576b"
             ],
             [
              0.6666666666666666,
              "#ed7953"
             ],
             [
              0.7777777777777778,
              "#fb9f3a"
             ],
             [
              0.8888888888888888,
              "#fdca26"
             ],
             [
              1,
              "#f0f921"
             ]
            ],
            "type": "histogram2dcontour"
           }
          ],
          "mesh3d": [
           {
            "colorbar": {
             "outlinewidth": 0,
             "ticks": ""
            },
            "type": "mesh3d"
           }
          ],
          "parcoords": [
           {
            "line": {
             "colorbar": {
              "outlinewidth": 0,
              "ticks": ""
             }
            },
            "type": "parcoords"
           }
          ],
          "pie": [
           {
            "automargin": true,
            "type": "pie"
           }
          ],
          "scatter": [
           {
            "marker": {
             "colorbar": {
              "outlinewidth": 0,
              "ticks": ""
             }
            },
            "type": "scatter"
           }
          ],
          "scatter3d": [
           {
            "line": {
             "colorbar": {
              "outlinewidth": 0,
              "ticks": ""
             }
            },
            "marker": {
             "colorbar": {
              "outlinewidth": 0,
              "ticks": ""
             }
            },
            "type": "scatter3d"
           }
          ],
          "scattercarpet": [
           {
            "marker": {
             "colorbar": {
              "outlinewidth": 0,
              "ticks": ""
             }
            },
            "type": "scattercarpet"
           }
          ],
          "scattergeo": [
           {
            "marker": {
             "colorbar": {
              "outlinewidth": 0,
              "ticks": ""
             }
            },
            "type": "scattergeo"
           }
          ],
          "scattergl": [
           {
            "marker": {
             "colorbar": {
              "outlinewidth": 0,
              "ticks": ""
             }
            },
            "type": "scattergl"
           }
          ],
          "scattermapbox": [
           {
            "marker": {
             "colorbar": {
              "outlinewidth": 0,
              "ticks": ""
             }
            },
            "type": "scattermapbox"
           }
          ],
          "scatterpolar": [
           {
            "marker": {
             "colorbar": {
              "outlinewidth": 0,
              "ticks": ""
             }
            },
            "type": "scatterpolar"
           }
          ],
          "scatterpolargl": [
           {
            "marker": {
             "colorbar": {
              "outlinewidth": 0,
              "ticks": ""
             }
            },
            "type": "scatterpolargl"
           }
          ],
          "scatterternary": [
           {
            "marker": {
             "colorbar": {
              "outlinewidth": 0,
              "ticks": ""
             }
            },
            "type": "scatterternary"
           }
          ],
          "surface": [
           {
            "colorbar": {
             "outlinewidth": 0,
             "ticks": ""
            },
            "colorscale": [
             [
              0,
              "#0d0887"
             ],
             [
              0.1111111111111111,
              "#46039f"
             ],
             [
              0.2222222222222222,
              "#7201a8"
             ],
             [
              0.3333333333333333,
              "#9c179e"
             ],
             [
              0.4444444444444444,
              "#bd3786"
             ],
             [
              0.5555555555555556,
              "#d8576b"
             ],
             [
              0.6666666666666666,
              "#ed7953"
             ],
             [
              0.7777777777777778,
              "#fb9f3a"
             ],
             [
              0.8888888888888888,
              "#fdca26"
             ],
             [
              1,
              "#f0f921"
             ]
            ],
            "type": "surface"
           }
          ],
          "table": [
           {
            "cells": {
             "fill": {
              "color": "#EBF0F8"
             },
             "line": {
              "color": "white"
             }
            },
            "header": {
             "fill": {
              "color": "#C8D4E3"
             },
             "line": {
              "color": "white"
             }
            },
            "type": "table"
           }
          ]
         },
         "layout": {
          "annotationdefaults": {
           "arrowcolor": "#2a3f5f",
           "arrowhead": 0,
           "arrowwidth": 1
          },
          "autotypenumbers": "strict",
          "coloraxis": {
           "colorbar": {
            "outlinewidth": 0,
            "ticks": ""
           }
          },
          "colorscale": {
           "diverging": [
            [
             0,
             "#8e0152"
            ],
            [
             0.1,
             "#c51b7d"
            ],
            [
             0.2,
             "#de77ae"
            ],
            [
             0.3,
             "#f1b6da"
            ],
            [
             0.4,
             "#fde0ef"
            ],
            [
             0.5,
             "#f7f7f7"
            ],
            [
             0.6,
             "#e6f5d0"
            ],
            [
             0.7,
             "#b8e186"
            ],
            [
             0.8,
             "#7fbc41"
            ],
            [
             0.9,
             "#4d9221"
            ],
            [
             1,
             "#276419"
            ]
           ],
           "sequential": [
            [
             0,
             "#0d0887"
            ],
            [
             0.1111111111111111,
             "#46039f"
            ],
            [
             0.2222222222222222,
             "#7201a8"
            ],
            [
             0.3333333333333333,
             "#9c179e"
            ],
            [
             0.4444444444444444,
             "#bd3786"
            ],
            [
             0.5555555555555556,
             "#d8576b"
            ],
            [
             0.6666666666666666,
             "#ed7953"
            ],
            [
             0.7777777777777778,
             "#fb9f3a"
            ],
            [
             0.8888888888888888,
             "#fdca26"
            ],
            [
             1,
             "#f0f921"
            ]
           ],
           "sequentialminus": [
            [
             0,
             "#0d0887"
            ],
            [
             0.1111111111111111,
             "#46039f"
            ],
            [
             0.2222222222222222,
             "#7201a8"
            ],
            [
             0.3333333333333333,
             "#9c179e"
            ],
            [
             0.4444444444444444,
             "#bd3786"
            ],
            [
             0.5555555555555556,
             "#d8576b"
            ],
            [
             0.6666666666666666,
             "#ed7953"
            ],
            [
             0.7777777777777778,
             "#fb9f3a"
            ],
            [
             0.8888888888888888,
             "#fdca26"
            ],
            [
             1,
             "#f0f921"
            ]
           ]
          },
          "colorway": [
           "#636efa",
           "#EF553B",
           "#00cc96",
           "#ab63fa",
           "#FFA15A",
           "#19d3f3",
           "#FF6692",
           "#B6E880",
           "#FF97FF",
           "#FECB52"
          ],
          "font": {
           "color": "#2a3f5f"
          },
          "geo": {
           "bgcolor": "white",
           "lakecolor": "white",
           "landcolor": "#E5ECF6",
           "showlakes": true,
           "showland": true,
           "subunitcolor": "white"
          },
          "hoverlabel": {
           "align": "left"
          },
          "hovermode": "closest",
          "mapbox": {
           "style": "light"
          },
          "paper_bgcolor": "white",
          "plot_bgcolor": "#E5ECF6",
          "polar": {
           "angularaxis": {
            "gridcolor": "white",
            "linecolor": "white",
            "ticks": ""
           },
           "bgcolor": "#E5ECF6",
           "radialaxis": {
            "gridcolor": "white",
            "linecolor": "white",
            "ticks": ""
           }
          },
          "scene": {
           "xaxis": {
            "backgroundcolor": "#E5ECF6",
            "gridcolor": "white",
            "gridwidth": 2,
            "linecolor": "white",
            "showbackground": true,
            "ticks": "",
            "zerolinecolor": "white"
           },
           "yaxis": {
            "backgroundcolor": "#E5ECF6",
            "gridcolor": "white",
            "gridwidth": 2,
            "linecolor": "white",
            "showbackground": true,
            "ticks": "",
            "zerolinecolor": "white"
           },
           "zaxis": {
            "backgroundcolor": "#E5ECF6",
            "gridcolor": "white",
            "gridwidth": 2,
            "linecolor": "white",
            "showbackground": true,
            "ticks": "",
            "zerolinecolor": "white"
           }
          },
          "shapedefaults": {
           "line": {
            "color": "#2a3f5f"
           }
          },
          "ternary": {
           "aaxis": {
            "gridcolor": "white",
            "linecolor": "white",
            "ticks": ""
           },
           "baxis": {
            "gridcolor": "white",
            "linecolor": "white",
            "ticks": ""
           },
           "bgcolor": "#E5ECF6",
           "caxis": {
            "gridcolor": "white",
            "linecolor": "white",
            "ticks": ""
           }
          },
          "title": {
           "x": 0.05
          },
          "xaxis": {
           "automargin": true,
           "gridcolor": "white",
           "linecolor": "white",
           "ticks": "",
           "title": {
            "standoff": 15
           },
           "zerolinecolor": "white",
           "zerolinewidth": 2
          },
          "yaxis": {
           "automargin": true,
           "gridcolor": "white",
           "linecolor": "white",
           "ticks": "",
           "title": {
            "standoff": 15
           },
           "zerolinecolor": "white",
           "zerolinewidth": 2
          }
         }
        },
        "title": {
         "font": {
          "color": "#4D5663"
         }
        },
        "xaxis": {
         "anchor": "y",
         "domain": [
          0,
          0.2125
         ],
         "gridcolor": "#E1E5ED",
         "showgrid": false,
         "tickfont": {
          "color": "#4D5663"
         },
         "title": {
          "font": {
           "color": "#4D5663"
          },
          "text": ""
         },
         "zerolinecolor": "#E1E5ED"
        },
        "xaxis10": {
         "anchor": "y10",
         "domain": [
          0.2625,
          0.475
         ],
         "gridcolor": "#E1E5ED",
         "showgrid": false,
         "tickfont": {
          "color": "#4D5663"
         },
         "title": {
          "font": {
           "color": "#4D5663"
          },
          "text": ""
         },
         "zerolinecolor": "#E1E5ED"
        },
        "xaxis11": {
         "anchor": "y11",
         "domain": [
          0.525,
          0.7375
         ],
         "gridcolor": "#E1E5ED",
         "showgrid": false,
         "tickfont": {
          "color": "#4D5663"
         },
         "title": {
          "font": {
           "color": "#4D5663"
          },
          "text": ""
         },
         "zerolinecolor": "#E1E5ED"
        },
        "xaxis12": {
         "anchor": "y12",
         "domain": [
          0.7875,
          1
         ],
         "gridcolor": "#E1E5ED",
         "showgrid": false,
         "tickfont": {
          "color": "#4D5663"
         },
         "title": {
          "font": {
           "color": "#4D5663"
          },
          "text": ""
         },
         "zerolinecolor": "#E1E5ED"
        },
        "xaxis13": {
         "anchor": "y13",
         "domain": [
          0,
          0.2125
         ],
         "gridcolor": "#E1E5ED",
         "showgrid": false,
         "tickfont": {
          "color": "#4D5663"
         },
         "title": {
          "font": {
           "color": "#4D5663"
          },
          "text": ""
         },
         "zerolinecolor": "#E1E5ED"
        },
        "xaxis14": {
         "anchor": "y14",
         "domain": [
          0.2625,
          0.475
         ],
         "gridcolor": "#E1E5ED",
         "showgrid": false,
         "tickfont": {
          "color": "#4D5663"
         },
         "title": {
          "font": {
           "color": "#4D5663"
          },
          "text": ""
         },
         "zerolinecolor": "#E1E5ED"
        },
        "xaxis15": {
         "anchor": "y15",
         "domain": [
          0.525,
          0.7375
         ],
         "gridcolor": "#E1E5ED",
         "showgrid": false,
         "tickfont": {
          "color": "#4D5663"
         },
         "title": {
          "font": {
           "color": "#4D5663"
          },
          "text": ""
         },
         "zerolinecolor": "#E1E5ED"
        },
        "xaxis16": {
         "anchor": "y16",
         "domain": [
          0.7875,
          1
         ],
         "gridcolor": "#E1E5ED",
         "showgrid": false,
         "tickfont": {
          "color": "#4D5663"
         },
         "title": {
          "font": {
           "color": "#4D5663"
          },
          "text": ""
         },
         "zerolinecolor": "#E1E5ED"
        },
        "xaxis2": {
         "anchor": "y2",
         "domain": [
          0.2625,
          0.475
         ],
         "gridcolor": "#E1E5ED",
         "showgrid": false,
         "tickfont": {
          "color": "#4D5663"
         },
         "title": {
          "font": {
           "color": "#4D5663"
          },
          "text": ""
         },
         "zerolinecolor": "#E1E5ED"
        },
        "xaxis3": {
         "anchor": "y3",
         "domain": [
          0.525,
          0.7375
         ],
         "gridcolor": "#E1E5ED",
         "showgrid": false,
         "tickfont": {
          "color": "#4D5663"
         },
         "title": {
          "font": {
           "color": "#4D5663"
          },
          "text": ""
         },
         "zerolinecolor": "#E1E5ED"
        },
        "xaxis4": {
         "anchor": "y4",
         "domain": [
          0.7875,
          1
         ],
         "gridcolor": "#E1E5ED",
         "showgrid": false,
         "tickfont": {
          "color": "#4D5663"
         },
         "title": {
          "font": {
           "color": "#4D5663"
          },
          "text": ""
         },
         "zerolinecolor": "#E1E5ED"
        },
        "xaxis5": {
         "anchor": "y5",
         "domain": [
          0,
          0.2125
         ],
         "gridcolor": "#E1E5ED",
         "showgrid": false,
         "tickfont": {
          "color": "#4D5663"
         },
         "title": {
          "font": {
           "color": "#4D5663"
          },
          "text": ""
         },
         "zerolinecolor": "#E1E5ED"
        },
        "xaxis6": {
         "anchor": "y6",
         "domain": [
          0.2625,
          0.475
         ],
         "gridcolor": "#E1E5ED",
         "showgrid": false,
         "tickfont": {
          "color": "#4D5663"
         },
         "title": {
          "font": {
           "color": "#4D5663"
          },
          "text": ""
         },
         "zerolinecolor": "#E1E5ED"
        },
        "xaxis7": {
         "anchor": "y7",
         "domain": [
          0.525,
          0.7375
         ],
         "gridcolor": "#E1E5ED",
         "showgrid": false,
         "tickfont": {
          "color": "#4D5663"
         },
         "title": {
          "font": {
           "color": "#4D5663"
          },
          "text": ""
         },
         "zerolinecolor": "#E1E5ED"
        },
        "xaxis8": {
         "anchor": "y8",
         "domain": [
          0.7875,
          1
         ],
         "gridcolor": "#E1E5ED",
         "showgrid": false,
         "tickfont": {
          "color": "#4D5663"
         },
         "title": {
          "font": {
           "color": "#4D5663"
          },
          "text": ""
         },
         "zerolinecolor": "#E1E5ED"
        },
        "xaxis9": {
         "anchor": "y9",
         "domain": [
          0,
          0.2125
         ],
         "gridcolor": "#E1E5ED",
         "showgrid": false,
         "tickfont": {
          "color": "#4D5663"
         },
         "title": {
          "font": {
           "color": "#4D5663"
          },
          "text": ""
         },
         "zerolinecolor": "#E1E5ED"
        },
        "yaxis": {
         "anchor": "x",
         "domain": [
          0.8025,
          1
         ],
         "gridcolor": "#E1E5ED",
         "showgrid": false,
         "tickfont": {
          "color": "#4D5663"
         },
         "title": {
          "font": {
           "color": "#4D5663"
          },
          "text": ""
         },
         "zerolinecolor": "#E1E5ED"
        },
        "yaxis10": {
         "anchor": "x10",
         "domain": [
          0.2675,
          0.465
         ],
         "gridcolor": "#E1E5ED",
         "showgrid": false,
         "tickfont": {
          "color": "#4D5663"
         },
         "title": {
          "font": {
           "color": "#4D5663"
          },
          "text": ""
         },
         "zerolinecolor": "#E1E5ED"
        },
        "yaxis11": {
         "anchor": "x11",
         "domain": [
          0.2675,
          0.465
         ],
         "gridcolor": "#E1E5ED",
         "showgrid": false,
         "tickfont": {
          "color": "#4D5663"
         },
         "title": {
          "font": {
           "color": "#4D5663"
          },
          "text": ""
         },
         "zerolinecolor": "#E1E5ED"
        },
        "yaxis12": {
         "anchor": "x12",
         "domain": [
          0.2675,
          0.465
         ],
         "gridcolor": "#E1E5ED",
         "showgrid": false,
         "tickfont": {
          "color": "#4D5663"
         },
         "title": {
          "font": {
           "color": "#4D5663"
          },
          "text": ""
         },
         "zerolinecolor": "#E1E5ED"
        },
        "yaxis13": {
         "anchor": "x13",
         "domain": [
          0,
          0.1975
         ],
         "gridcolor": "#E1E5ED",
         "showgrid": false,
         "tickfont": {
          "color": "#4D5663"
         },
         "title": {
          "font": {
           "color": "#4D5663"
          },
          "text": ""
         },
         "zerolinecolor": "#E1E5ED"
        },
        "yaxis14": {
         "anchor": "x14",
         "domain": [
          0,
          0.1975
         ],
         "gridcolor": "#E1E5ED",
         "showgrid": false,
         "tickfont": {
          "color": "#4D5663"
         },
         "title": {
          "font": {
           "color": "#4D5663"
          },
          "text": ""
         },
         "zerolinecolor": "#E1E5ED"
        },
        "yaxis15": {
         "anchor": "x15",
         "domain": [
          0,
          0.1975
         ],
         "gridcolor": "#E1E5ED",
         "showgrid": false,
         "tickfont": {
          "color": "#4D5663"
         },
         "title": {
          "font": {
           "color": "#4D5663"
          },
          "text": ""
         },
         "zerolinecolor": "#E1E5ED"
        },
        "yaxis16": {
         "anchor": "x16",
         "domain": [
          0,
          0.1975
         ],
         "gridcolor": "#E1E5ED",
         "showgrid": false,
         "tickfont": {
          "color": "#4D5663"
         },
         "title": {
          "font": {
           "color": "#4D5663"
          },
          "text": ""
         },
         "zerolinecolor": "#E1E5ED"
        },
        "yaxis2": {
         "anchor": "x2",
         "domain": [
          0.8025,
          1
         ],
         "gridcolor": "#E1E5ED",
         "showgrid": false,
         "tickfont": {
          "color": "#4D5663"
         },
         "title": {
          "font": {
           "color": "#4D5663"
          },
          "text": ""
         },
         "zerolinecolor": "#E1E5ED"
        },
        "yaxis3": {
         "anchor": "x3",
         "domain": [
          0.8025,
          1
         ],
         "gridcolor": "#E1E5ED",
         "showgrid": false,
         "tickfont": {
          "color": "#4D5663"
         },
         "title": {
          "font": {
           "color": "#4D5663"
          },
          "text": ""
         },
         "zerolinecolor": "#E1E5ED"
        },
        "yaxis4": {
         "anchor": "x4",
         "domain": [
          0.8025,
          1
         ],
         "gridcolor": "#E1E5ED",
         "showgrid": false,
         "tickfont": {
          "color": "#4D5663"
         },
         "title": {
          "font": {
           "color": "#4D5663"
          },
          "text": ""
         },
         "zerolinecolor": "#E1E5ED"
        },
        "yaxis5": {
         "anchor": "x5",
         "domain": [
          0.535,
          0.7325
         ],
         "gridcolor": "#E1E5ED",
         "showgrid": false,
         "tickfont": {
          "color": "#4D5663"
         },
         "title": {
          "font": {
           "color": "#4D5663"
          },
          "text": ""
         },
         "zerolinecolor": "#E1E5ED"
        },
        "yaxis6": {
         "anchor": "x6",
         "domain": [
          0.535,
          0.7325
         ],
         "gridcolor": "#E1E5ED",
         "showgrid": false,
         "tickfont": {
          "color": "#4D5663"
         },
         "title": {
          "font": {
           "color": "#4D5663"
          },
          "text": ""
         },
         "zerolinecolor": "#E1E5ED"
        },
        "yaxis7": {
         "anchor": "x7",
         "domain": [
          0.535,
          0.7325
         ],
         "gridcolor": "#E1E5ED",
         "showgrid": false,
         "tickfont": {
          "color": "#4D5663"
         },
         "title": {
          "font": {
           "color": "#4D5663"
          },
          "text": ""
         },
         "zerolinecolor": "#E1E5ED"
        },
        "yaxis8": {
         "anchor": "x8",
         "domain": [
          0.535,
          0.7325
         ],
         "gridcolor": "#E1E5ED",
         "showgrid": false,
         "tickfont": {
          "color": "#4D5663"
         },
         "title": {
          "font": {
           "color": "#4D5663"
          },
          "text": ""
         },
         "zerolinecolor": "#E1E5ED"
        },
        "yaxis9": {
         "anchor": "x9",
         "domain": [
          0.2675,
          0.465
         ],
         "gridcolor": "#E1E5ED",
         "showgrid": false,
         "tickfont": {
          "color": "#4D5663"
         },
         "title": {
          "font": {
           "color": "#4D5663"
          },
          "text": ""
         },
         "zerolinecolor": "#E1E5ED"
        }
       }
      },
      "text/html": [
       "<div>                            <div id=\"02be3198-ef63-4c83-a56e-d09f451af5fa\" class=\"plotly-graph-div\" style=\"height:525px; width:100%;\"></div>            <script type=\"text/javascript\">                require([\"plotly\"], function(Plotly) {                    window.PLOTLYENV=window.PLOTLYENV || {};\n",
       "                    window.PLOTLYENV.BASE_URL='https://plot.ly';                                    if (document.getElementById(\"02be3198-ef63-4c83-a56e-d09f451af5fa\")) {                    Plotly.newPlot(                        \"02be3198-ef63-4c83-a56e-d09f451af5fa\",                        [{\"histfunc\":\"count\",\"histnorm\":\"\",\"marker\":{\"color\":\"rgba(255, 153, 51, 1.0)\",\"line\":{\"color\":\"#4D5663\",\"width\":1.3}},\"name\":\"A\",\"nbinsx\":10,\"opacity\":0.8,\"orientation\":\"v\",\"x\":[0.18949412131357618,-0.4394056773665876,1.5235003132506255,0.03645250031559109,-0.48017680332678986,-0.32940801574654444,-0.8336585198060829,2.1104829932351987,-2.1774759403114543,-1.4552810678704107,-0.3946340137520746,-0.7958997396105878,-2.1941249569910184,-0.3186755756858305,-1.0762861726059367,0.5160715236107142,0.5354240028958203,0.24474634754970445,2.1593382645363524,-2.459688200120283,2.2033163680127856,0.12741013120035052,-0.7426413044529445,-0.708915270693794,-1.7366906383070453,-0.3278091707347793,-0.019161214804460824,-0.10350391076144248,0.443003384937299,-0.3021624753184853,-0.26540709330297957,1.1177682728198786,-0.6555808314273678,-2.0513962145269367,-0.007283680343075513,-1.7345390153967326,0.6526293553788296,0.8797043755381333,-0.40446628152172,0.40015659679998383,1.3501402445869597,-1.681402939901821,0.37687631215522416,1.530406066859981,0.27376913231487043,0.11859151200966923,0.18998151104134484,1.239771620051365,-0.013067258817813692,-0.4342760602897146,-0.22768423864144938,-0.08712007886114415,-1.3953429851893069,-1.1346627058287775,1.717402994668382,-0.8202332848774089,-0.4210331992705946,-0.06266365801889973,-0.1076343228449331,-0.46753029808332414,0.465339121662231,0.05686260034364659,0.6689353752755711,-1.3749096285081572,1.0644486040242718,1.0029108097495154,-0.4756234878591175,-0.7573283389084694,1.553314742784835,0.9327235406491218,-0.5432611240893911,0.9375595028153989,0.6479726183862607,-1.6193215495623614,0.42468213572515945,0.4442854952443643,-0.4430216955740655,-0.3313723025358653,-0.5164036122879947,-0.1426294244580413,0.34861880298974646,2.491239497816553,-1.2708676958205198,1.2439173121325637,-0.2531066585596569,0.3986080862101964,1.559031756752641,-0.8451994271388271,0.6244513110895351,-0.20836122736152812,-1.5593960284306796,1.0027652648558283,0.6678453706840629,0.9019731286521746,0.49217666164481805,-0.2537409869513799,0.7236090940111436,0.046759497044002236,-0.5975669662202538,-0.78915850866316],\"xaxis\":\"x\",\"yaxis\":\"y\",\"type\":\"histogram\"},{\"line\":{\"color\":\"rgba(128, 128, 128, 1.0)\",\"dash\":\"solid\",\"shape\":\"linear\",\"width\":1.3},\"marker\":{\"size\":2,\"symbol\":\"circle\"},\"mode\":\"markers\",\"name\":\"A\",\"text\":\"\",\"x\":[-0.3837044654152856,0.795222058544091,-1.088639124538044,1.2717431343417127,-0.425142084846673,0.064182302033947,1.4362888057989984,-0.1500476658943807,-1.5718151705858465,-1.1951812086435607,0.22860843548074822,-0.12492214308168757,-0.2867367492193972,-0.5736239558678975,1.389341530883104,-0.6861898267335519,-1.5311373341612782,-0.8512089705281984,-1.4559541518556975,-1.1001623087846037,0.8979100173243162,0.12116953775102157,0.008534083166311771,0.8564629305816837,-0.5811640716666194,-1.2080292257019134,-0.2349761867338796,0.5544460777568961,-1.0713239222958086,-0.5880653881769333,1.455833425930843,1.798690383630041,-0.33646470904540654,-0.3672634840646152,-1.172864741624129,0.5837329271770997,-2.2382359822608637,0.18016433857511283,0.9536368045497337,-1.0800463778552765,-0.8317221994239206,1.282796438795336,-0.29336799070174174,0.15886220818261743,0.38201782187711153,1.4359852720915571,0.12325985697339818,-1.2571112124983932,-0.6820456832743963,0.6549877845727778,1.7480017358816617,-0.417778286260563,-1.6706045656026176,-0.32449160626856594,0.04941441532003659,1.2301955880270588,0.5549576648122474,0.5087348321498013,-0.5251299669479592,-0.7226843478772803,2.166721876878339,1.1802593126083956,-1.538186484092452,-0.9373214000293492,2.507394228500375,1.1453156950783623,-0.3900336491592565,-1.2294025551628793,0.047153263572624386,-1.4132468018414466,-0.2490684669524338,-0.049467689607492635,0.32500434009912604,2.3848744017153285,1.5072496221876714,2.3374311490664765,0.24765502883674623,0.24345434946978872,-1.0754295259055462,-0.9253517607585953,-0.23061561620756169,0.9122603763478071,0.07761133731595166,-1.9670718895477557,0.7909040382082345,-1.164107142015901,-1.3600341936072617,1.0761877070356076,0.5910801172299857,-2.4683912167831474,0.9391003487905739,0.5833264172434889,0.7708157024485347,-0.5097944025738771,-1.1535830779289729,1.7235455685820171,2.0515347554626917,0.5810028348635923,-1.5039588573849996,1.1202156895522468],\"xaxis\":\"x2\",\"y\":[0.18949412131357618,-0.4394056773665876,1.5235003132506255,0.03645250031559109,-0.48017680332678986,-0.32940801574654444,-0.8336585198060829,2.1104829932351987,-2.1774759403114543,-1.4552810678704107,-0.3946340137520746,-0.7958997396105878,-2.1941249569910184,-0.3186755756858305,-1.0762861726059367,0.5160715236107142,0.5354240028958203,0.24474634754970445,2.1593382645363524,-2.459688200120283,2.2033163680127856,0.12741013120035052,-0.7426413044529445,-0.708915270693794,-1.7366906383070453,-0.3278091707347793,-0.019161214804460824,-0.10350391076144248,0.443003384937299,-0.3021624753184853,-0.26540709330297957,1.1177682728198786,-0.6555808314273678,-2.0513962145269367,-0.007283680343075513,-1.7345390153967326,0.6526293553788296,0.8797043755381333,-0.40446628152172,0.40015659679998383,1.3501402445869597,-1.681402939901821,0.37687631215522416,1.530406066859981,0.27376913231487043,0.11859151200966923,0.18998151104134484,1.239771620051365,-0.013067258817813692,-0.4342760602897146,-0.22768423864144938,-0.08712007886114415,-1.3953429851893069,-1.1346627058287775,1.717402994668382,-0.8202332848774089,-0.4210331992705946,-0.06266365801889973,-0.1076343228449331,-0.46753029808332414,0.465339121662231,0.05686260034364659,0.6689353752755711,-1.3749096285081572,1.0644486040242718,1.0029108097495154,-0.4756234878591175,-0.7573283389084694,1.553314742784835,0.9327235406491218,-0.5432611240893911,0.9375595028153989,0.6479726183862607,-1.6193215495623614,0.42468213572515945,0.4442854952443643,-0.4430216955740655,-0.3313723025358653,-0.5164036122879947,-0.1426294244580413,0.34861880298974646,2.491239497816553,-1.2708676958205198,1.2439173121325637,-0.2531066585596569,0.3986080862101964,1.559031756752641,-0.8451994271388271,0.6244513110895351,-0.20836122736152812,-1.5593960284306796,1.0027652648558283,0.6678453706840629,0.9019731286521746,0.49217666164481805,-0.2537409869513799,0.7236090940111436,0.046759497044002236,-0.5975669662202538,-0.78915850866316],\"yaxis\":\"y2\",\"type\":\"scatter\"},{\"line\":{\"color\":\"rgba(128, 128, 128, 1.0)\",\"dash\":\"solid\",\"shape\":\"linear\",\"width\":1.3},\"marker\":{\"size\":2,\"symbol\":\"circle\"},\"mode\":\"markers\",\"name\":\"A\",\"text\":\"\",\"x\":[-0.1743984965453827,-1.4541612208234012,0.6956792937079929,-1.3001320960993383,0.08431046689444055,-0.5458234646004246,-1.703734496705612,-0.46667383632587456,0.20168534651158843,0.05180078694254984,0.15009120689135705,0.38155320389086794,0.6201617773498148,-0.4180523651246814,0.7465449715988128,-1.5936716550582053,-0.10284790666830117,0.1093592149806783,-0.4298179966107576,0.09036264294289752,0.88687423729422,-0.38701666121889466,-1.0138165027078039,-0.5657807458054585,-1.0828115788453545,0.9840254154931339,0.8093741156203169,0.12057650292945947,0.5547869447555124,0.6922370792655054,-0.5648301884075914,0.36231458268424105,1.0810279703817096,1.8783153100153525,-0.7214684504748133,0.8184542416070196,1.096285275446509,0.6401790065862915,1.4549111285078231,0.8458116106046145,0.919572265392668,1.1301903192078682,-0.7698555448986697,0.6254893169467595,-1.3257760372158236,-0.2978156236899048,0.37394743471698133,1.5331566652250095,-0.4979914851761903,0.7517118709648927,1.3509690362061804,0.5011967657164128,0.709739359148568,0.06810356319394323,-0.7831965307456421,-0.5340021787086153,-0.7865627285734942,0.3601143418103425,1.4254633444799054,1.3194723968147113,-0.6219733375028738,-0.4706692397260293,0.6494971062647076,1.333836418289274,-0.3925211802671113,1.1114167342804335,-0.48266044723498785,-0.5756884715412415,-1.451963627424044,-0.5966415531473441,1.2736827262182808,0.056729781593075346,-1.4022876205319186,1.0641058394292497,-1.632548685431701,1.0282791458538627,0.9735252234678213,0.6731261725235531,0.6663790123138237,1.0458060866394234,-1.1139971857239725,2.6482697572989817,-0.24221257551688724,-0.592224532882951,1.555402285699256,0.031033396716787728,-0.8779461708583994,-0.05179952540035406,-0.06526260702897788,-0.3548763030095997,0.8274228665667456,0.3096308840511436,-0.9984340067990453,0.2944126067059136,0.27777425546051143,-0.480142482489268,0.4976614774521355,0.4236071706861531,-1.064383297804024,-0.03328662450382397],\"xaxis\":\"x3\",\"y\":[0.18949412131357618,-0.4394056773665876,1.5235003132506255,0.03645250031559109,-0.48017680332678986,-0.32940801574654444,-0.8336585198060829,2.1104829932351987,-2.1774759403114543,-1.4552810678704107,-0.3946340137520746,-0.7958997396105878,-2.1941249569910184,-0.3186755756858305,-1.0762861726059367,0.5160715236107142,0.5354240028958203,0.24474634754970445,2.1593382645363524,-2.459688200120283,2.2033163680127856,0.12741013120035052,-0.7426413044529445,-0.708915270693794,-1.7366906383070453,-0.3278091707347793,-0.019161214804460824,-0.10350391076144248,0.443003384937299,-0.3021624753184853,-0.26540709330297957,1.1177682728198786,-0.6555808314273678,-2.0513962145269367,-0.007283680343075513,-1.7345390153967326,0.6526293553788296,0.8797043755381333,-0.40446628152172,0.40015659679998383,1.3501402445869597,-1.681402939901821,0.37687631215522416,1.530406066859981,0.27376913231487043,0.11859151200966923,0.18998151104134484,1.239771620051365,-0.013067258817813692,-0.4342760602897146,-0.22768423864144938,-0.08712007886114415,-1.3953429851893069,-1.1346627058287775,1.717402994668382,-0.8202332848774089,-0.4210331992705946,-0.06266365801889973,-0.1076343228449331,-0.46753029808332414,0.465339121662231,0.05686260034364659,0.6689353752755711,-1.3749096285081572,1.0644486040242718,1.0029108097495154,-0.4756234878591175,-0.7573283389084694,1.553314742784835,0.9327235406491218,-0.5432611240893911,0.9375595028153989,0.6479726183862607,-1.6193215495623614,0.42468213572515945,0.4442854952443643,-0.4430216955740655,-0.3313723025358653,-0.5164036122879947,-0.1426294244580413,0.34861880298974646,2.491239497816553,-1.2708676958205198,1.2439173121325637,-0.2531066585596569,0.3986080862101964,1.559031756752641,-0.8451994271388271,0.6244513110895351,-0.20836122736152812,-1.5593960284306796,1.0027652648558283,0.6678453706840629,0.9019731286521746,0.49217666164481805,-0.2537409869513799,0.7236090940111436,0.046759497044002236,-0.5975669662202538,-0.78915850866316],\"yaxis\":\"y3\",\"type\":\"scatter\"},{\"line\":{\"color\":\"rgba(128, 128, 128, 1.0)\",\"dash\":\"solid\",\"shape\":\"linear\",\"width\":1.3},\"marker\":{\"size\":2,\"symbol\":\"circle\"},\"mode\":\"markers\",\"name\":\"A\",\"text\":\"\",\"x\":[-0.20780585649318675,-0.14819604288381694,1.0885503128334055,1.5690761380859866,-0.2057701688271447,0.528517647224014,0.49489867431198065,0.3694870943340224,0.8504456511047962,0.6218097729257264,1.183537873615913,-1.412343100279427,-0.20388098639815003,1.3209211160041237,-0.8667287175928398,-1.6022715397568477,-0.22533705662048342,-0.41925862395025637,-0.7702343824721343,1.3335634594021377,0.8915349281178668,-1.9036354831030342,-0.12427220329691722,-0.8855772700058713,-0.22962601620657463,-0.07456838767647804,-0.01297547207565747,-0.05013017019035424,-1.2079982388712291,-1.4271558878113708,0.4691611383451397,-0.28246806140803854,-0.7564171061978776,0.9458537409105416,-0.12157386355688268,-1.5771587088527448,-0.4771802703564047,-0.6920394639249958,1.6657363893397388,-0.4420391031877735,-1.0794640013897456,1.8183490354095484,0.46595654679141907,-0.5011736995656421,0.895642453466898,0.9178866835622075,-1.046408578337546,0.1462439640318665,0.847776063439936,0.5846608026272584,0.4352243063077864,1.5108645572772388,0.6495566241763885,-0.5507503599029776,1.0043465834358691,1.5139187503807083,-0.9450550704795724,-1.3698838965232643,0.6342868982920584,-1.7822121192781268,0.2139531047420393,-0.7081121135552167,-0.38465236055835333,-2.2460330504270942,0.6188661266419923,1.8445435923545408,0.2883225048009735,0.9123788041289154,-1.1604115329406108,-1.4841011626780298,0.5628193476873323,-0.7349117807171268,0.11920582506622426,0.5905073967313906,-0.48928493347902163,2.774402057543939,-0.7273081733755475,0.2958714729279786,0.4398411171858982,-0.13312101574758703,0.11749928614535977,0.1232784763904203,0.4980966126639828,0.22382405626046578,2.6016338790283853,-0.6436340585499764,-1.254990990021013,0.4543785021609926,-1.306189514444256,0.34856842350078515,-0.6294405154267875,-2.5030458807207685,0.561475266139338,1.7014026293955336,0.012306602310616718,-0.4696968504587055,1.8164578476490285,1.0592720945516634,-0.9962321498291724,0.9668986029652397],\"xaxis\":\"x4\",\"y\":[0.18949412131357618,-0.4394056773665876,1.5235003132506255,0.03645250031559109,-0.48017680332678986,-0.32940801574654444,-0.8336585198060829,2.1104829932351987,-2.1774759403114543,-1.4552810678704107,-0.3946340137520746,-0.7958997396105878,-2.1941249569910184,-0.3186755756858305,-1.0762861726059367,0.5160715236107142,0.5354240028958203,0.24474634754970445,2.1593382645363524,-2.459688200120283,2.2033163680127856,0.12741013120035052,-0.7426413044529445,-0.708915270693794,-1.7366906383070453,-0.3278091707347793,-0.019161214804460824,-0.10350391076144248,0.443003384937299,-0.3021624753184853,-0.26540709330297957,1.1177682728198786,-0.6555808314273678,-2.0513962145269367,-0.007283680343075513,-1.7345390153967326,0.6526293553788296,0.8797043755381333,-0.40446628152172,0.40015659679998383,1.3501402445869597,-1.681402939901821,0.37687631215522416,1.530406066859981,0.27376913231487043,0.11859151200966923,0.18998151104134484,1.239771620051365,-0.013067258817813692,-0.4342760602897146,-0.22768423864144938,-0.08712007886114415,-1.3953429851893069,-1.1346627058287775,1.717402994668382,-0.8202332848774089,-0.4210331992705946,-0.06266365801889973,-0.1076343228449331,-0.46753029808332414,0.465339121662231,0.05686260034364659,0.6689353752755711,-1.3749096285081572,1.0644486040242718,1.0029108097495154,-0.4756234878591175,-0.7573283389084694,1.553314742784835,0.9327235406491218,-0.5432611240893911,0.9375595028153989,0.6479726183862607,-1.6193215495623614,0.42468213572515945,0.4442854952443643,-0.4430216955740655,-0.3313723025358653,-0.5164036122879947,-0.1426294244580413,0.34861880298974646,2.491239497816553,-1.2708676958205198,1.2439173121325637,-0.2531066585596569,0.3986080862101964,1.559031756752641,-0.8451994271388271,0.6244513110895351,-0.20836122736152812,-1.5593960284306796,1.0027652648558283,0.6678453706840629,0.9019731286521746,0.49217666164481805,-0.2537409869513799,0.7236090940111436,0.046759497044002236,-0.5975669662202538,-0.78915850866316],\"yaxis\":\"y4\",\"type\":\"scatter\"},{\"line\":{\"color\":\"rgba(128, 128, 128, 1.0)\",\"dash\":\"solid\",\"shape\":\"linear\",\"width\":1.3},\"marker\":{\"size\":2,\"symbol\":\"circle\"},\"mode\":\"markers\",\"name\":\"B\",\"text\":\"\",\"x\":[0.18949412131357618,-0.4394056773665876,1.5235003132506255,0.03645250031559109,-0.48017680332678986,-0.32940801574654444,-0.8336585198060829,2.1104829932351987,-2.1774759403114543,-1.4552810678704107,-0.3946340137520746,-0.7958997396105878,-2.1941249569910184,-0.3186755756858305,-1.0762861726059367,0.5160715236107142,0.5354240028958203,0.24474634754970445,2.1593382645363524,-2.459688200120283,2.2033163680127856,0.12741013120035052,-0.7426413044529445,-0.708915270693794,-1.7366906383070453,-0.3278091707347793,-0.019161214804460824,-0.10350391076144248,0.443003384937299,-0.3021624753184853,-0.26540709330297957,1.1177682728198786,-0.6555808314273678,-2.0513962145269367,-0.007283680343075513,-1.7345390153967326,0.6526293553788296,0.8797043755381333,-0.40446628152172,0.40015659679998383,1.3501402445869597,-1.681402939901821,0.37687631215522416,1.530406066859981,0.27376913231487043,0.11859151200966923,0.18998151104134484,1.239771620051365,-0.013067258817813692,-0.4342760602897146,-0.22768423864144938,-0.08712007886114415,-1.3953429851893069,-1.1346627058287775,1.717402994668382,-0.8202332848774089,-0.4210331992705946,-0.06266365801889973,-0.1076343228449331,-0.46753029808332414,0.465339121662231,0.05686260034364659,0.6689353752755711,-1.3749096285081572,1.0644486040242718,1.0029108097495154,-0.4756234878591175,-0.7573283389084694,1.553314742784835,0.9327235406491218,-0.5432611240893911,0.9375595028153989,0.6479726183862607,-1.6193215495623614,0.42468213572515945,0.4442854952443643,-0.4430216955740655,-0.3313723025358653,-0.5164036122879947,-0.1426294244580413,0.34861880298974646,2.491239497816553,-1.2708676958205198,1.2439173121325637,-0.2531066585596569,0.3986080862101964,1.559031756752641,-0.8451994271388271,0.6244513110895351,-0.20836122736152812,-1.5593960284306796,1.0027652648558283,0.6678453706840629,0.9019731286521746,0.49217666164481805,-0.2537409869513799,0.7236090940111436,0.046759497044002236,-0.5975669662202538,-0.78915850866316],\"xaxis\":\"x5\",\"y\":[-0.3837044654152856,0.795222058544091,-1.088639124538044,1.2717431343417127,-0.425142084846673,0.064182302033947,1.4362888057989984,-0.1500476658943807,-1.5718151705858465,-1.1951812086435607,0.22860843548074822,-0.12492214308168757,-0.2867367492193972,-0.5736239558678975,1.389341530883104,-0.6861898267335519,-1.5311373341612782,-0.8512089705281984,-1.4559541518556975,-1.1001623087846037,0.8979100173243162,0.12116953775102157,0.008534083166311771,0.8564629305816837,-0.5811640716666194,-1.2080292257019134,-0.2349761867338796,0.5544460777568961,-1.0713239222958086,-0.5880653881769333,1.455833425930843,1.798690383630041,-0.33646470904540654,-0.3672634840646152,-1.172864741624129,0.5837329271770997,-2.2382359822608637,0.18016433857511283,0.9536368045497337,-1.0800463778552765,-0.8317221994239206,1.282796438795336,-0.29336799070174174,0.15886220818261743,0.38201782187711153,1.4359852720915571,0.12325985697339818,-1.2571112124983932,-0.6820456832743963,0.6549877845727778,1.7480017358816617,-0.417778286260563,-1.6706045656026176,-0.32449160626856594,0.04941441532003659,1.2301955880270588,0.5549576648122474,0.5087348321498013,-0.5251299669479592,-0.7226843478772803,2.166721876878339,1.1802593126083956,-1.538186484092452,-0.9373214000293492,2.507394228500375,1.1453156950783623,-0.3900336491592565,-1.2294025551628793,0.047153263572624386,-1.4132468018414466,-0.2490684669524338,-0.049467689607492635,0.32500434009912604,2.3848744017153285,1.5072496221876714,2.3374311490664765,0.24765502883674623,0.24345434946978872,-1.0754295259055462,-0.9253517607585953,-0.23061561620756169,0.9122603763478071,0.07761133731595166,-1.9670718895477557,0.7909040382082345,-1.164107142015901,-1.3600341936072617,1.0761877070356076,0.5910801172299857,-2.4683912167831474,0.9391003487905739,0.5833264172434889,0.7708157024485347,-0.5097944025738771,-1.1535830779289729,1.7235455685820171,2.0515347554626917,0.5810028348635923,-1.5039588573849996,1.1202156895522468],\"yaxis\":\"y5\",\"type\":\"scatter\"},{\"histfunc\":\"count\",\"histnorm\":\"\",\"marker\":{\"color\":\"rgba(55, 128, 191, 1.0)\",\"line\":{\"color\":\"#4D5663\",\"width\":1.3}},\"name\":\"B\",\"nbinsx\":10,\"opacity\":0.8,\"orientation\":\"v\",\"x\":[-0.3837044654152856,0.795222058544091,-1.088639124538044,1.2717431343417127,-0.425142084846673,0.064182302033947,1.4362888057989984,-0.1500476658943807,-1.5718151705858465,-1.1951812086435607,0.22860843548074822,-0.12492214308168757,-0.2867367492193972,-0.5736239558678975,1.389341530883104,-0.6861898267335519,-1.5311373341612782,-0.8512089705281984,-1.4559541518556975,-1.1001623087846037,0.8979100173243162,0.12116953775102157,0.008534083166311771,0.8564629305816837,-0.5811640716666194,-1.2080292257019134,-0.2349761867338796,0.5544460777568961,-1.0713239222958086,-0.5880653881769333,1.455833425930843,1.798690383630041,-0.33646470904540654,-0.3672634840646152,-1.172864741624129,0.5837329271770997,-2.2382359822608637,0.18016433857511283,0.9536368045497337,-1.0800463778552765,-0.8317221994239206,1.282796438795336,-0.29336799070174174,0.15886220818261743,0.38201782187711153,1.4359852720915571,0.12325985697339818,-1.2571112124983932,-0.6820456832743963,0.6549877845727778,1.7480017358816617,-0.417778286260563,-1.6706045656026176,-0.32449160626856594,0.04941441532003659,1.2301955880270588,0.5549576648122474,0.5087348321498013,-0.5251299669479592,-0.7226843478772803,2.166721876878339,1.1802593126083956,-1.538186484092452,-0.9373214000293492,2.507394228500375,1.1453156950783623,-0.3900336491592565,-1.2294025551628793,0.047153263572624386,-1.4132468018414466,-0.2490684669524338,-0.049467689607492635,0.32500434009912604,2.3848744017153285,1.5072496221876714,2.3374311490664765,0.24765502883674623,0.24345434946978872,-1.0754295259055462,-0.9253517607585953,-0.23061561620756169,0.9122603763478071,0.07761133731595166,-1.9670718895477557,0.7909040382082345,-1.164107142015901,-1.3600341936072617,1.0761877070356076,0.5910801172299857,-2.4683912167831474,0.9391003487905739,0.5833264172434889,0.7708157024485347,-0.5097944025738771,-1.1535830779289729,1.7235455685820171,2.0515347554626917,0.5810028348635923,-1.5039588573849996,1.1202156895522468],\"xaxis\":\"x6\",\"yaxis\":\"y6\",\"type\":\"histogram\"},{\"line\":{\"color\":\"rgba(128, 128, 128, 1.0)\",\"dash\":\"solid\",\"shape\":\"linear\",\"width\":1.3},\"marker\":{\"size\":2,\"symbol\":\"circle\"},\"mode\":\"markers\",\"name\":\"B\",\"text\":\"\",\"x\":[-0.1743984965453827,-1.4541612208234012,0.6956792937079929,-1.3001320960993383,0.08431046689444055,-0.5458234646004246,-1.703734496705612,-0.46667383632587456,0.20168534651158843,0.05180078694254984,0.15009120689135705,0.38155320389086794,0.6201617773498148,-0.4180523651246814,0.7465449715988128,-1.5936716550582053,-0.10284790666830117,0.1093592149806783,-0.4298179966107576,0.09036264294289752,0.88687423729422,-0.38701666121889466,-1.0138165027078039,-0.5657807458054585,-1.0828115788453545,0.9840254154931339,0.8093741156203169,0.12057650292945947,0.5547869447555124,0.6922370792655054,-0.5648301884075914,0.36231458268424105,1.0810279703817096,1.8783153100153525,-0.7214684504748133,0.8184542416070196,1.096285275446509,0.6401790065862915,1.4549111285078231,0.8458116106046145,0.919572265392668,1.1301903192078682,-0.7698555448986697,0.6254893169467595,-1.3257760372158236,-0.2978156236899048,0.37394743471698133,1.5331566652250095,-0.4979914851761903,0.7517118709648927,1.3509690362061804,0.5011967657164128,0.709739359148568,0.06810356319394323,-0.7831965307456421,-0.5340021787086153,-0.7865627285734942,0.3601143418103425,1.4254633444799054,1.3194723968147113,-0.6219733375028738,-0.4706692397260293,0.6494971062647076,1.333836418289274,-0.3925211802671113,1.1114167342804335,-0.48266044723498785,-0.5756884715412415,-1.451963627424044,-0.5966415531473441,1.2736827262182808,0.056729781593075346,-1.4022876205319186,1.0641058394292497,-1.632548685431701,1.0282791458538627,0.9735252234678213,0.6731261725235531,0.6663790123138237,1.0458060866394234,-1.1139971857239725,2.6482697572989817,-0.24221257551688724,-0.592224532882951,1.555402285699256,0.031033396716787728,-0.8779461708583994,-0.05179952540035406,-0.06526260702897788,-0.3548763030095997,0.8274228665667456,0.3096308840511436,-0.9984340067990453,0.2944126067059136,0.27777425546051143,-0.480142482489268,0.4976614774521355,0.4236071706861531,-1.064383297804024,-0.03328662450382397],\"xaxis\":\"x7\",\"y\":[-0.3837044654152856,0.795222058544091,-1.088639124538044,1.2717431343417127,-0.425142084846673,0.064182302033947,1.4362888057989984,-0.1500476658943807,-1.5718151705858465,-1.1951812086435607,0.22860843548074822,-0.12492214308168757,-0.2867367492193972,-0.5736239558678975,1.389341530883104,-0.6861898267335519,-1.5311373341612782,-0.8512089705281984,-1.4559541518556975,-1.1001623087846037,0.8979100173243162,0.12116953775102157,0.008534083166311771,0.8564629305816837,-0.5811640716666194,-1.2080292257019134,-0.2349761867338796,0.5544460777568961,-1.0713239222958086,-0.5880653881769333,1.455833425930843,1.798690383630041,-0.33646470904540654,-0.3672634840646152,-1.172864741624129,0.5837329271770997,-2.2382359822608637,0.18016433857511283,0.9536368045497337,-1.0800463778552765,-0.8317221994239206,1.282796438795336,-0.29336799070174174,0.15886220818261743,0.38201782187711153,1.4359852720915571,0.12325985697339818,-1.2571112124983932,-0.6820456832743963,0.6549877845727778,1.7480017358816617,-0.417778286260563,-1.6706045656026176,-0.32449160626856594,0.04941441532003659,1.2301955880270588,0.5549576648122474,0.5087348321498013,-0.5251299669479592,-0.7226843478772803,2.166721876878339,1.1802593126083956,-1.538186484092452,-0.9373214000293492,2.507394228500375,1.1453156950783623,-0.3900336491592565,-1.2294025551628793,0.047153263572624386,-1.4132468018414466,-0.2490684669524338,-0.049467689607492635,0.32500434009912604,2.3848744017153285,1.5072496221876714,2.3374311490664765,0.24765502883674623,0.24345434946978872,-1.0754295259055462,-0.9253517607585953,-0.23061561620756169,0.9122603763478071,0.07761133731595166,-1.9670718895477557,0.7909040382082345,-1.164107142015901,-1.3600341936072617,1.0761877070356076,0.5910801172299857,-2.4683912167831474,0.9391003487905739,0.5833264172434889,0.7708157024485347,-0.5097944025738771,-1.1535830779289729,1.7235455685820171,2.0515347554626917,0.5810028348635923,-1.5039588573849996,1.1202156895522468],\"yaxis\":\"y7\",\"type\":\"scatter\"},{\"line\":{\"color\":\"rgba(128, 128, 128, 1.0)\",\"dash\":\"solid\",\"shape\":\"linear\",\"width\":1.3},\"marker\":{\"size\":2,\"symbol\":\"circle\"},\"mode\":\"markers\",\"name\":\"B\",\"text\":\"\",\"x\":[-0.20780585649318675,-0.14819604288381694,1.0885503128334055,1.5690761380859866,-0.2057701688271447,0.528517647224014,0.49489867431198065,0.3694870943340224,0.8504456511047962,0.6218097729257264,1.183537873615913,-1.412343100279427,-0.20388098639815003,1.3209211160041237,-0.8667287175928398,-1.6022715397568477,-0.22533705662048342,-0.41925862395025637,-0.7702343824721343,1.3335634594021377,0.8915349281178668,-1.9036354831030342,-0.12427220329691722,-0.8855772700058713,-0.22962601620657463,-0.07456838767647804,-0.01297547207565747,-0.05013017019035424,-1.2079982388712291,-1.4271558878113708,0.4691611383451397,-0.28246806140803854,-0.7564171061978776,0.9458537409105416,-0.12157386355688268,-1.5771587088527448,-0.4771802703564047,-0.6920394639249958,1.6657363893397388,-0.4420391031877735,-1.0794640013897456,1.8183490354095484,0.46595654679141907,-0.5011736995656421,0.895642453466898,0.9178866835622075,-1.046408578337546,0.1462439640318665,0.847776063439936,0.5846608026272584,0.4352243063077864,1.5108645572772388,0.6495566241763885,-0.5507503599029776,1.0043465834358691,1.5139187503807083,-0.9450550704795724,-1.3698838965232643,0.6342868982920584,-1.7822121192781268,0.2139531047420393,-0.7081121135552167,-0.38465236055835333,-2.2460330504270942,0.6188661266419923,1.8445435923545408,0.2883225048009735,0.9123788041289154,-1.1604115329406108,-1.4841011626780298,0.5628193476873323,-0.7349117807171268,0.11920582506622426,0.5905073967313906,-0.48928493347902163,2.774402057543939,-0.7273081733755475,0.2958714729279786,0.4398411171858982,-0.13312101574758703,0.11749928614535977,0.1232784763904203,0.4980966126639828,0.22382405626046578,2.6016338790283853,-0.6436340585499764,-1.254990990021013,0.4543785021609926,-1.306189514444256,0.34856842350078515,-0.6294405154267875,-2.5030458807207685,0.561475266139338,1.7014026293955336,0.012306602310616718,-0.4696968504587055,1.8164578476490285,1.0592720945516634,-0.9962321498291724,0.9668986029652397],\"xaxis\":\"x8\",\"y\":[-0.3837044654152856,0.795222058544091,-1.088639124538044,1.2717431343417127,-0.425142084846673,0.064182302033947,1.4362888057989984,-0.1500476658943807,-1.5718151705858465,-1.1951812086435607,0.22860843548074822,-0.12492214308168757,-0.2867367492193972,-0.5736239558678975,1.389341530883104,-0.6861898267335519,-1.5311373341612782,-0.8512089705281984,-1.4559541518556975,-1.1001623087846037,0.8979100173243162,0.12116953775102157,0.008534083166311771,0.8564629305816837,-0.5811640716666194,-1.2080292257019134,-0.2349761867338796,0.5544460777568961,-1.0713239222958086,-0.5880653881769333,1.455833425930843,1.798690383630041,-0.33646470904540654,-0.3672634840646152,-1.172864741624129,0.5837329271770997,-2.2382359822608637,0.18016433857511283,0.9536368045497337,-1.0800463778552765,-0.8317221994239206,1.282796438795336,-0.29336799070174174,0.15886220818261743,0.38201782187711153,1.4359852720915571,0.12325985697339818,-1.2571112124983932,-0.6820456832743963,0.6549877845727778,1.7480017358816617,-0.417778286260563,-1.6706045656026176,-0.32449160626856594,0.04941441532003659,1.2301955880270588,0.5549576648122474,0.5087348321498013,-0.5251299669479592,-0.7226843478772803,2.166721876878339,1.1802593126083956,-1.538186484092452,-0.9373214000293492,2.507394228500375,1.1453156950783623,-0.3900336491592565,-1.2294025551628793,0.047153263572624386,-1.4132468018414466,-0.2490684669524338,-0.049467689607492635,0.32500434009912604,2.3848744017153285,1.5072496221876714,2.3374311490664765,0.24765502883674623,0.24345434946978872,-1.0754295259055462,-0.9253517607585953,-0.23061561620756169,0.9122603763478071,0.07761133731595166,-1.9670718895477557,0.7909040382082345,-1.164107142015901,-1.3600341936072617,1.0761877070356076,0.5910801172299857,-2.4683912167831474,0.9391003487905739,0.5833264172434889,0.7708157024485347,-0.5097944025738771,-1.1535830779289729,1.7235455685820171,2.0515347554626917,0.5810028348635923,-1.5039588573849996,1.1202156895522468],\"yaxis\":\"y8\",\"type\":\"scatter\"},{\"line\":{\"color\":\"rgba(128, 128, 128, 1.0)\",\"dash\":\"solid\",\"shape\":\"linear\",\"width\":1.3},\"marker\":{\"size\":2,\"symbol\":\"circle\"},\"mode\":\"markers\",\"name\":\"C\",\"text\":\"\",\"x\":[0.18949412131357618,-0.4394056773665876,1.5235003132506255,0.03645250031559109,-0.48017680332678986,-0.32940801574654444,-0.8336585198060829,2.1104829932351987,-2.1774759403114543,-1.4552810678704107,-0.3946340137520746,-0.7958997396105878,-2.1941249569910184,-0.3186755756858305,-1.0762861726059367,0.5160715236107142,0.5354240028958203,0.24474634754970445,2.1593382645363524,-2.459688200120283,2.2033163680127856,0.12741013120035052,-0.7426413044529445,-0.708915270693794,-1.7366906383070453,-0.3278091707347793,-0.019161214804460824,-0.10350391076144248,0.443003384937299,-0.3021624753184853,-0.26540709330297957,1.1177682728198786,-0.6555808314273678,-2.0513962145269367,-0.007283680343075513,-1.7345390153967326,0.6526293553788296,0.8797043755381333,-0.40446628152172,0.40015659679998383,1.3501402445869597,-1.681402939901821,0.37687631215522416,1.530406066859981,0.27376913231487043,0.11859151200966923,0.18998151104134484,1.239771620051365,-0.013067258817813692,-0.4342760602897146,-0.22768423864144938,-0.08712007886114415,-1.3953429851893069,-1.1346627058287775,1.717402994668382,-0.8202332848774089,-0.4210331992705946,-0.06266365801889973,-0.1076343228449331,-0.46753029808332414,0.465339121662231,0.05686260034364659,0.6689353752755711,-1.3749096285081572,1.0644486040242718,1.0029108097495154,-0.4756234878591175,-0.7573283389084694,1.553314742784835,0.9327235406491218,-0.5432611240893911,0.9375595028153989,0.6479726183862607,-1.6193215495623614,0.42468213572515945,0.4442854952443643,-0.4430216955740655,-0.3313723025358653,-0.5164036122879947,-0.1426294244580413,0.34861880298974646,2.491239497816553,-1.2708676958205198,1.2439173121325637,-0.2531066585596569,0.3986080862101964,1.559031756752641,-0.8451994271388271,0.6244513110895351,-0.20836122736152812,-1.5593960284306796,1.0027652648558283,0.6678453706840629,0.9019731286521746,0.49217666164481805,-0.2537409869513799,0.7236090940111436,0.046759497044002236,-0.5975669662202538,-0.78915850866316],\"xaxis\":\"x9\",\"y\":[-0.1743984965453827,-1.4541612208234012,0.6956792937079929,-1.3001320960993383,0.08431046689444055,-0.5458234646004246,-1.703734496705612,-0.46667383632587456,0.20168534651158843,0.05180078694254984,0.15009120689135705,0.38155320389086794,0.6201617773498148,-0.4180523651246814,0.7465449715988128,-1.5936716550582053,-0.10284790666830117,0.1093592149806783,-0.4298179966107576,0.09036264294289752,0.88687423729422,-0.38701666121889466,-1.0138165027078039,-0.5657807458054585,-1.0828115788453545,0.9840254154931339,0.8093741156203169,0.12057650292945947,0.5547869447555124,0.6922370792655054,-0.5648301884075914,0.36231458268424105,1.0810279703817096,1.8783153100153525,-0.7214684504748133,0.8184542416070196,1.096285275446509,0.6401790065862915,1.4549111285078231,0.8458116106046145,0.919572265392668,1.1301903192078682,-0.7698555448986697,0.6254893169467595,-1.3257760372158236,-0.2978156236899048,0.37394743471698133,1.5331566652250095,-0.4979914851761903,0.7517118709648927,1.3509690362061804,0.5011967657164128,0.709739359148568,0.06810356319394323,-0.7831965307456421,-0.5340021787086153,-0.7865627285734942,0.3601143418103425,1.4254633444799054,1.3194723968147113,-0.6219733375028738,-0.4706692397260293,0.6494971062647076,1.333836418289274,-0.3925211802671113,1.1114167342804335,-0.48266044723498785,-0.5756884715412415,-1.451963627424044,-0.5966415531473441,1.2736827262182808,0.056729781593075346,-1.4022876205319186,1.0641058394292497,-1.632548685431701,1.0282791458538627,0.9735252234678213,0.6731261725235531,0.6663790123138237,1.0458060866394234,-1.1139971857239725,2.6482697572989817,-0.24221257551688724,-0.592224532882951,1.555402285699256,0.031033396716787728,-0.8779461708583994,-0.05179952540035406,-0.06526260702897788,-0.3548763030095997,0.8274228665667456,0.3096308840511436,-0.9984340067990453,0.2944126067059136,0.27777425546051143,-0.480142482489268,0.4976614774521355,0.4236071706861531,-1.064383297804024,-0.03328662450382397],\"yaxis\":\"y9\",\"type\":\"scatter\"},{\"line\":{\"color\":\"rgba(128, 128, 128, 1.0)\",\"dash\":\"solid\",\"shape\":\"linear\",\"width\":1.3},\"marker\":{\"size\":2,\"symbol\":\"circle\"},\"mode\":\"markers\",\"name\":\"C\",\"text\":\"\",\"x\":[-0.3837044654152856,0.795222058544091,-1.088639124538044,1.2717431343417127,-0.425142084846673,0.064182302033947,1.4362888057989984,-0.1500476658943807,-1.5718151705858465,-1.1951812086435607,0.22860843548074822,-0.12492214308168757,-0.2867367492193972,-0.5736239558678975,1.389341530883104,-0.6861898267335519,-1.5311373341612782,-0.8512089705281984,-1.4559541518556975,-1.1001623087846037,0.8979100173243162,0.12116953775102157,0.008534083166311771,0.8564629305816837,-0.5811640716666194,-1.2080292257019134,-0.2349761867338796,0.5544460777568961,-1.0713239222958086,-0.5880653881769333,1.455833425930843,1.798690383630041,-0.33646470904540654,-0.3672634840646152,-1.172864741624129,0.5837329271770997,-2.2382359822608637,0.18016433857511283,0.9536368045497337,-1.0800463778552765,-0.8317221994239206,1.282796438795336,-0.29336799070174174,0.15886220818261743,0.38201782187711153,1.4359852720915571,0.12325985697339818,-1.2571112124983932,-0.6820456832743963,0.6549877845727778,1.7480017358816617,-0.417778286260563,-1.6706045656026176,-0.32449160626856594,0.04941441532003659,1.2301955880270588,0.5549576648122474,0.5087348321498013,-0.5251299669479592,-0.7226843478772803,2.166721876878339,1.1802593126083956,-1.538186484092452,-0.9373214000293492,2.507394228500375,1.1453156950783623,-0.3900336491592565,-1.2294025551628793,0.047153263572624386,-1.4132468018414466,-0.2490684669524338,-0.049467689607492635,0.32500434009912604,2.3848744017153285,1.5072496221876714,2.3374311490664765,0.24765502883674623,0.24345434946978872,-1.0754295259055462,-0.9253517607585953,-0.23061561620756169,0.9122603763478071,0.07761133731595166,-1.9670718895477557,0.7909040382082345,-1.164107142015901,-1.3600341936072617,1.0761877070356076,0.5910801172299857,-2.4683912167831474,0.9391003487905739,0.5833264172434889,0.7708157024485347,-0.5097944025738771,-1.1535830779289729,1.7235455685820171,2.0515347554626917,0.5810028348635923,-1.5039588573849996,1.1202156895522468],\"xaxis\":\"x10\",\"y\":[-0.1743984965453827,-1.4541612208234012,0.6956792937079929,-1.3001320960993383,0.08431046689444055,-0.5458234646004246,-1.703734496705612,-0.46667383632587456,0.20168534651158843,0.05180078694254984,0.15009120689135705,0.38155320389086794,0.6201617773498148,-0.4180523651246814,0.7465449715988128,-1.5936716550582053,-0.10284790666830117,0.1093592149806783,-0.4298179966107576,0.09036264294289752,0.88687423729422,-0.38701666121889466,-1.0138165027078039,-0.5657807458054585,-1.0828115788453545,0.9840254154931339,0.8093741156203169,0.12057650292945947,0.5547869447555124,0.6922370792655054,-0.5648301884075914,0.36231458268424105,1.0810279703817096,1.8783153100153525,-0.7214684504748133,0.8184542416070196,1.096285275446509,0.6401790065862915,1.4549111285078231,0.8458116106046145,0.919572265392668,1.1301903192078682,-0.7698555448986697,0.6254893169467595,-1.3257760372158236,-0.2978156236899048,0.37394743471698133,1.5331566652250095,-0.4979914851761903,0.7517118709648927,1.3509690362061804,0.5011967657164128,0.709739359148568,0.06810356319394323,-0.7831965307456421,-0.5340021787086153,-0.7865627285734942,0.3601143418103425,1.4254633444799054,1.3194723968147113,-0.6219733375028738,-0.4706692397260293,0.6494971062647076,1.333836418289274,-0.3925211802671113,1.1114167342804335,-0.48266044723498785,-0.5756884715412415,-1.451963627424044,-0.5966415531473441,1.2736827262182808,0.056729781593075346,-1.4022876205319186,1.0641058394292497,-1.632548685431701,1.0282791458538627,0.9735252234678213,0.6731261725235531,0.6663790123138237,1.0458060866394234,-1.1139971857239725,2.6482697572989817,-0.24221257551688724,-0.592224532882951,1.555402285699256,0.031033396716787728,-0.8779461708583994,-0.05179952540035406,-0.06526260702897788,-0.3548763030095997,0.8274228665667456,0.3096308840511436,-0.9984340067990453,0.2944126067059136,0.27777425546051143,-0.480142482489268,0.4976614774521355,0.4236071706861531,-1.064383297804024,-0.03328662450382397],\"yaxis\":\"y10\",\"type\":\"scatter\"},{\"histfunc\":\"count\",\"histnorm\":\"\",\"marker\":{\"color\":\"rgba(50, 171, 96, 1.0)\",\"line\":{\"color\":\"#4D5663\",\"width\":1.3}},\"name\":\"C\",\"nbinsx\":10,\"opacity\":0.8,\"orientation\":\"v\",\"x\":[-0.1743984965453827,-1.4541612208234012,0.6956792937079929,-1.3001320960993383,0.08431046689444055,-0.5458234646004246,-1.703734496705612,-0.46667383632587456,0.20168534651158843,0.05180078694254984,0.15009120689135705,0.38155320389086794,0.6201617773498148,-0.4180523651246814,0.7465449715988128,-1.5936716550582053,-0.10284790666830117,0.1093592149806783,-0.4298179966107576,0.09036264294289752,0.88687423729422,-0.38701666121889466,-1.0138165027078039,-0.5657807458054585,-1.0828115788453545,0.9840254154931339,0.8093741156203169,0.12057650292945947,0.5547869447555124,0.6922370792655054,-0.5648301884075914,0.36231458268424105,1.0810279703817096,1.8783153100153525,-0.7214684504748133,0.8184542416070196,1.096285275446509,0.6401790065862915,1.4549111285078231,0.8458116106046145,0.919572265392668,1.1301903192078682,-0.7698555448986697,0.6254893169467595,-1.3257760372158236,-0.2978156236899048,0.37394743471698133,1.5331566652250095,-0.4979914851761903,0.7517118709648927,1.3509690362061804,0.5011967657164128,0.709739359148568,0.06810356319394323,-0.7831965307456421,-0.5340021787086153,-0.7865627285734942,0.3601143418103425,1.4254633444799054,1.3194723968147113,-0.6219733375028738,-0.4706692397260293,0.6494971062647076,1.333836418289274,-0.3925211802671113,1.1114167342804335,-0.48266044723498785,-0.5756884715412415,-1.451963627424044,-0.5966415531473441,1.2736827262182808,0.056729781593075346,-1.4022876205319186,1.0641058394292497,-1.632548685431701,1.0282791458538627,0.9735252234678213,0.6731261725235531,0.6663790123138237,1.0458060866394234,-1.1139971857239725,2.6482697572989817,-0.24221257551688724,-0.592224532882951,1.555402285699256,0.031033396716787728,-0.8779461708583994,-0.05179952540035406,-0.06526260702897788,-0.3548763030095997,0.8274228665667456,0.3096308840511436,-0.9984340067990453,0.2944126067059136,0.27777425546051143,-0.480142482489268,0.4976614774521355,0.4236071706861531,-1.064383297804024,-0.03328662450382397],\"xaxis\":\"x11\",\"yaxis\":\"y11\",\"type\":\"histogram\"},{\"line\":{\"color\":\"rgba(128, 128, 128, 1.0)\",\"dash\":\"solid\",\"shape\":\"linear\",\"width\":1.3},\"marker\":{\"size\":2,\"symbol\":\"circle\"},\"mode\":\"markers\",\"name\":\"C\",\"text\":\"\",\"x\":[-0.20780585649318675,-0.14819604288381694,1.0885503128334055,1.5690761380859866,-0.2057701688271447,0.528517647224014,0.49489867431198065,0.3694870943340224,0.8504456511047962,0.6218097729257264,1.183537873615913,-1.412343100279427,-0.20388098639815003,1.3209211160041237,-0.8667287175928398,-1.6022715397568477,-0.22533705662048342,-0.41925862395025637,-0.7702343824721343,1.3335634594021377,0.8915349281178668,-1.9036354831030342,-0.12427220329691722,-0.8855772700058713,-0.22962601620657463,-0.07456838767647804,-0.01297547207565747,-0.05013017019035424,-1.2079982388712291,-1.4271558878113708,0.4691611383451397,-0.28246806140803854,-0.7564171061978776,0.9458537409105416,-0.12157386355688268,-1.5771587088527448,-0.4771802703564047,-0.6920394639249958,1.6657363893397388,-0.4420391031877735,-1.0794640013897456,1.8183490354095484,0.46595654679141907,-0.5011736995656421,0.895642453466898,0.9178866835622075,-1.046408578337546,0.1462439640318665,0.847776063439936,0.5846608026272584,0.4352243063077864,1.5108645572772388,0.6495566241763885,-0.5507503599029776,1.0043465834358691,1.5139187503807083,-0.9450550704795724,-1.3698838965232643,0.6342868982920584,-1.7822121192781268,0.2139531047420393,-0.7081121135552167,-0.38465236055835333,-2.2460330504270942,0.6188661266419923,1.8445435923545408,0.2883225048009735,0.9123788041289154,-1.1604115329406108,-1.4841011626780298,0.5628193476873323,-0.7349117807171268,0.11920582506622426,0.5905073967313906,-0.48928493347902163,2.774402057543939,-0.7273081733755475,0.2958714729279786,0.4398411171858982,-0.13312101574758703,0.11749928614535977,0.1232784763904203,0.4980966126639828,0.22382405626046578,2.6016338790283853,-0.6436340585499764,-1.254990990021013,0.4543785021609926,-1.306189514444256,0.34856842350078515,-0.6294405154267875,-2.5030458807207685,0.561475266139338,1.7014026293955336,0.012306602310616718,-0.4696968504587055,1.8164578476490285,1.0592720945516634,-0.9962321498291724,0.9668986029652397],\"xaxis\":\"x12\",\"y\":[-0.1743984965453827,-1.4541612208234012,0.6956792937079929,-1.3001320960993383,0.08431046689444055,-0.5458234646004246,-1.703734496705612,-0.46667383632587456,0.20168534651158843,0.05180078694254984,0.15009120689135705,0.38155320389086794,0.6201617773498148,-0.4180523651246814,0.7465449715988128,-1.5936716550582053,-0.10284790666830117,0.1093592149806783,-0.4298179966107576,0.09036264294289752,0.88687423729422,-0.38701666121889466,-1.0138165027078039,-0.5657807458054585,-1.0828115788453545,0.9840254154931339,0.8093741156203169,0.12057650292945947,0.5547869447555124,0.6922370792655054,-0.5648301884075914,0.36231458268424105,1.0810279703817096,1.8783153100153525,-0.7214684504748133,0.8184542416070196,1.096285275446509,0.6401790065862915,1.4549111285078231,0.8458116106046145,0.919572265392668,1.1301903192078682,-0.7698555448986697,0.6254893169467595,-1.3257760372158236,-0.2978156236899048,0.37394743471698133,1.5331566652250095,-0.4979914851761903,0.7517118709648927,1.3509690362061804,0.5011967657164128,0.709739359148568,0.06810356319394323,-0.7831965307456421,-0.5340021787086153,-0.7865627285734942,0.3601143418103425,1.4254633444799054,1.3194723968147113,-0.6219733375028738,-0.4706692397260293,0.6494971062647076,1.333836418289274,-0.3925211802671113,1.1114167342804335,-0.48266044723498785,-0.5756884715412415,-1.451963627424044,-0.5966415531473441,1.2736827262182808,0.056729781593075346,-1.4022876205319186,1.0641058394292497,-1.632548685431701,1.0282791458538627,0.9735252234678213,0.6731261725235531,0.6663790123138237,1.0458060866394234,-1.1139971857239725,2.6482697572989817,-0.24221257551688724,-0.592224532882951,1.555402285699256,0.031033396716787728,-0.8779461708583994,-0.05179952540035406,-0.06526260702897788,-0.3548763030095997,0.8274228665667456,0.3096308840511436,-0.9984340067990453,0.2944126067059136,0.27777425546051143,-0.480142482489268,0.4976614774521355,0.4236071706861531,-1.064383297804024,-0.03328662450382397],\"yaxis\":\"y12\",\"type\":\"scatter\"},{\"line\":{\"color\":\"rgba(128, 128, 128, 1.0)\",\"dash\":\"solid\",\"shape\":\"linear\",\"width\":1.3},\"marker\":{\"size\":2,\"symbol\":\"circle\"},\"mode\":\"markers\",\"name\":\"D\",\"text\":\"\",\"x\":[0.18949412131357618,-0.4394056773665876,1.5235003132506255,0.03645250031559109,-0.48017680332678986,-0.32940801574654444,-0.8336585198060829,2.1104829932351987,-2.1774759403114543,-1.4552810678704107,-0.3946340137520746,-0.7958997396105878,-2.1941249569910184,-0.3186755756858305,-1.0762861726059367,0.5160715236107142,0.5354240028958203,0.24474634754970445,2.1593382645363524,-2.459688200120283,2.2033163680127856,0.12741013120035052,-0.7426413044529445,-0.708915270693794,-1.7366906383070453,-0.3278091707347793,-0.019161214804460824,-0.10350391076144248,0.443003384937299,-0.3021624753184853,-0.26540709330297957,1.1177682728198786,-0.6555808314273678,-2.0513962145269367,-0.007283680343075513,-1.7345390153967326,0.6526293553788296,0.8797043755381333,-0.40446628152172,0.40015659679998383,1.3501402445869597,-1.681402939901821,0.37687631215522416,1.530406066859981,0.27376913231487043,0.11859151200966923,0.18998151104134484,1.239771620051365,-0.013067258817813692,-0.4342760602897146,-0.22768423864144938,-0.08712007886114415,-1.3953429851893069,-1.1346627058287775,1.717402994668382,-0.8202332848774089,-0.4210331992705946,-0.06266365801889973,-0.1076343228449331,-0.46753029808332414,0.465339121662231,0.05686260034364659,0.6689353752755711,-1.3749096285081572,1.0644486040242718,1.0029108097495154,-0.4756234878591175,-0.7573283389084694,1.553314742784835,0.9327235406491218,-0.5432611240893911,0.9375595028153989,0.6479726183862607,-1.6193215495623614,0.42468213572515945,0.4442854952443643,-0.4430216955740655,-0.3313723025358653,-0.5164036122879947,-0.1426294244580413,0.34861880298974646,2.491239497816553,-1.2708676958205198,1.2439173121325637,-0.2531066585596569,0.3986080862101964,1.559031756752641,-0.8451994271388271,0.6244513110895351,-0.20836122736152812,-1.5593960284306796,1.0027652648558283,0.6678453706840629,0.9019731286521746,0.49217666164481805,-0.2537409869513799,0.7236090940111436,0.046759497044002236,-0.5975669662202538,-0.78915850866316],\"xaxis\":\"x13\",\"y\":[-0.20780585649318675,-0.14819604288381694,1.0885503128334055,1.5690761380859866,-0.2057701688271447,0.528517647224014,0.49489867431198065,0.3694870943340224,0.8504456511047962,0.6218097729257264,1.183537873615913,-1.412343100279427,-0.20388098639815003,1.3209211160041237,-0.8667287175928398,-1.6022715397568477,-0.22533705662048342,-0.41925862395025637,-0.7702343824721343,1.3335634594021377,0.8915349281178668,-1.9036354831030342,-0.12427220329691722,-0.8855772700058713,-0.22962601620657463,-0.07456838767647804,-0.01297547207565747,-0.05013017019035424,-1.2079982388712291,-1.4271558878113708,0.4691611383451397,-0.28246806140803854,-0.7564171061978776,0.9458537409105416,-0.12157386355688268,-1.5771587088527448,-0.4771802703564047,-0.6920394639249958,1.6657363893397388,-0.4420391031877735,-1.0794640013897456,1.8183490354095484,0.46595654679141907,-0.5011736995656421,0.895642453466898,0.9178866835622075,-1.046408578337546,0.1462439640318665,0.847776063439936,0.5846608026272584,0.4352243063077864,1.5108645572772388,0.6495566241763885,-0.5507503599029776,1.0043465834358691,1.5139187503807083,-0.9450550704795724,-1.3698838965232643,0.6342868982920584,-1.7822121192781268,0.2139531047420393,-0.7081121135552167,-0.38465236055835333,-2.2460330504270942,0.6188661266419923,1.8445435923545408,0.2883225048009735,0.9123788041289154,-1.1604115329406108,-1.4841011626780298,0.5628193476873323,-0.7349117807171268,0.11920582506622426,0.5905073967313906,-0.48928493347902163,2.774402057543939,-0.7273081733755475,0.2958714729279786,0.4398411171858982,-0.13312101574758703,0.11749928614535977,0.1232784763904203,0.4980966126639828,0.22382405626046578,2.6016338790283853,-0.6436340585499764,-1.254990990021013,0.4543785021609926,-1.306189514444256,0.34856842350078515,-0.6294405154267875,-2.5030458807207685,0.561475266139338,1.7014026293955336,0.012306602310616718,-0.4696968504587055,1.8164578476490285,1.0592720945516634,-0.9962321498291724,0.9668986029652397],\"yaxis\":\"y13\",\"type\":\"scatter\"},{\"line\":{\"color\":\"rgba(128, 128, 128, 1.0)\",\"dash\":\"solid\",\"shape\":\"linear\",\"width\":1.3},\"marker\":{\"size\":2,\"symbol\":\"circle\"},\"mode\":\"markers\",\"name\":\"D\",\"text\":\"\",\"x\":[-0.3837044654152856,0.795222058544091,-1.088639124538044,1.2717431343417127,-0.425142084846673,0.064182302033947,1.4362888057989984,-0.1500476658943807,-1.5718151705858465,-1.1951812086435607,0.22860843548074822,-0.12492214308168757,-0.2867367492193972,-0.5736239558678975,1.389341530883104,-0.6861898267335519,-1.5311373341612782,-0.8512089705281984,-1.4559541518556975,-1.1001623087846037,0.8979100173243162,0.12116953775102157,0.008534083166311771,0.8564629305816837,-0.5811640716666194,-1.2080292257019134,-0.2349761867338796,0.5544460777568961,-1.0713239222958086,-0.5880653881769333,1.455833425930843,1.798690383630041,-0.33646470904540654,-0.3672634840646152,-1.172864741624129,0.5837329271770997,-2.2382359822608637,0.18016433857511283,0.9536368045497337,-1.0800463778552765,-0.8317221994239206,1.282796438795336,-0.29336799070174174,0.15886220818261743,0.38201782187711153,1.4359852720915571,0.12325985697339818,-1.2571112124983932,-0.6820456832743963,0.6549877845727778,1.7480017358816617,-0.417778286260563,-1.6706045656026176,-0.32449160626856594,0.04941441532003659,1.2301955880270588,0.5549576648122474,0.5087348321498013,-0.5251299669479592,-0.7226843478772803,2.166721876878339,1.1802593126083956,-1.538186484092452,-0.9373214000293492,2.507394228500375,1.1453156950783623,-0.3900336491592565,-1.2294025551628793,0.047153263572624386,-1.4132468018414466,-0.2490684669524338,-0.049467689607492635,0.32500434009912604,2.3848744017153285,1.5072496221876714,2.3374311490664765,0.24765502883674623,0.24345434946978872,-1.0754295259055462,-0.9253517607585953,-0.23061561620756169,0.9122603763478071,0.07761133731595166,-1.9670718895477557,0.7909040382082345,-1.164107142015901,-1.3600341936072617,1.0761877070356076,0.5910801172299857,-2.4683912167831474,0.9391003487905739,0.5833264172434889,0.7708157024485347,-0.5097944025738771,-1.1535830779289729,1.7235455685820171,2.0515347554626917,0.5810028348635923,-1.5039588573849996,1.1202156895522468],\"xaxis\":\"x14\",\"y\":[-0.20780585649318675,-0.14819604288381694,1.0885503128334055,1.5690761380859866,-0.2057701688271447,0.528517647224014,0.49489867431198065,0.3694870943340224,0.8504456511047962,0.6218097729257264,1.183537873615913,-1.412343100279427,-0.20388098639815003,1.3209211160041237,-0.8667287175928398,-1.6022715397568477,-0.22533705662048342,-0.41925862395025637,-0.7702343824721343,1.3335634594021377,0.8915349281178668,-1.9036354831030342,-0.12427220329691722,-0.8855772700058713,-0.22962601620657463,-0.07456838767647804,-0.01297547207565747,-0.05013017019035424,-1.2079982388712291,-1.4271558878113708,0.4691611383451397,-0.28246806140803854,-0.7564171061978776,0.9458537409105416,-0.12157386355688268,-1.5771587088527448,-0.4771802703564047,-0.6920394639249958,1.6657363893397388,-0.4420391031877735,-1.0794640013897456,1.8183490354095484,0.46595654679141907,-0.5011736995656421,0.895642453466898,0.9178866835622075,-1.046408578337546,0.1462439640318665,0.847776063439936,0.5846608026272584,0.4352243063077864,1.5108645572772388,0.6495566241763885,-0.5507503599029776,1.0043465834358691,1.5139187503807083,-0.9450550704795724,-1.3698838965232643,0.6342868982920584,-1.7822121192781268,0.2139531047420393,-0.7081121135552167,-0.38465236055835333,-2.2460330504270942,0.6188661266419923,1.8445435923545408,0.2883225048009735,0.9123788041289154,-1.1604115329406108,-1.4841011626780298,0.5628193476873323,-0.7349117807171268,0.11920582506622426,0.5905073967313906,-0.48928493347902163,2.774402057543939,-0.7273081733755475,0.2958714729279786,0.4398411171858982,-0.13312101574758703,0.11749928614535977,0.1232784763904203,0.4980966126639828,0.22382405626046578,2.6016338790283853,-0.6436340585499764,-1.254990990021013,0.4543785021609926,-1.306189514444256,0.34856842350078515,-0.6294405154267875,-2.5030458807207685,0.561475266139338,1.7014026293955336,0.012306602310616718,-0.4696968504587055,1.8164578476490285,1.0592720945516634,-0.9962321498291724,0.9668986029652397],\"yaxis\":\"y14\",\"type\":\"scatter\"},{\"line\":{\"color\":\"rgba(128, 128, 128, 1.0)\",\"dash\":\"solid\",\"shape\":\"linear\",\"width\":1.3},\"marker\":{\"size\":2,\"symbol\":\"circle\"},\"mode\":\"markers\",\"name\":\"D\",\"text\":\"\",\"x\":[-0.1743984965453827,-1.4541612208234012,0.6956792937079929,-1.3001320960993383,0.08431046689444055,-0.5458234646004246,-1.703734496705612,-0.46667383632587456,0.20168534651158843,0.05180078694254984,0.15009120689135705,0.38155320389086794,0.6201617773498148,-0.4180523651246814,0.7465449715988128,-1.5936716550582053,-0.10284790666830117,0.1093592149806783,-0.4298179966107576,0.09036264294289752,0.88687423729422,-0.38701666121889466,-1.0138165027078039,-0.5657807458054585,-1.0828115788453545,0.9840254154931339,0.8093741156203169,0.12057650292945947,0.5547869447555124,0.6922370792655054,-0.5648301884075914,0.36231458268424105,1.0810279703817096,1.8783153100153525,-0.7214684504748133,0.8184542416070196,1.096285275446509,0.6401790065862915,1.4549111285078231,0.8458116106046145,0.919572265392668,1.1301903192078682,-0.7698555448986697,0.6254893169467595,-1.3257760372158236,-0.2978156236899048,0.37394743471698133,1.5331566652250095,-0.4979914851761903,0.7517118709648927,1.3509690362061804,0.5011967657164128,0.709739359148568,0.06810356319394323,-0.7831965307456421,-0.5340021787086153,-0.7865627285734942,0.3601143418103425,1.4254633444799054,1.3194723968147113,-0.6219733375028738,-0.4706692397260293,0.6494971062647076,1.333836418289274,-0.3925211802671113,1.1114167342804335,-0.48266044723498785,-0.5756884715412415,-1.451963627424044,-0.5966415531473441,1.2736827262182808,0.056729781593075346,-1.4022876205319186,1.0641058394292497,-1.632548685431701,1.0282791458538627,0.9735252234678213,0.6731261725235531,0.6663790123138237,1.0458060866394234,-1.1139971857239725,2.6482697572989817,-0.24221257551688724,-0.592224532882951,1.555402285699256,0.031033396716787728,-0.8779461708583994,-0.05179952540035406,-0.06526260702897788,-0.3548763030095997,0.8274228665667456,0.3096308840511436,-0.9984340067990453,0.2944126067059136,0.27777425546051143,-0.480142482489268,0.4976614774521355,0.4236071706861531,-1.064383297804024,-0.03328662450382397],\"xaxis\":\"x15\",\"y\":[-0.20780585649318675,-0.14819604288381694,1.0885503128334055,1.5690761380859866,-0.2057701688271447,0.528517647224014,0.49489867431198065,0.3694870943340224,0.8504456511047962,0.6218097729257264,1.183537873615913,-1.412343100279427,-0.20388098639815003,1.3209211160041237,-0.8667287175928398,-1.6022715397568477,-0.22533705662048342,-0.41925862395025637,-0.7702343824721343,1.3335634594021377,0.8915349281178668,-1.9036354831030342,-0.12427220329691722,-0.8855772700058713,-0.22962601620657463,-0.07456838767647804,-0.01297547207565747,-0.05013017019035424,-1.2079982388712291,-1.4271558878113708,0.4691611383451397,-0.28246806140803854,-0.7564171061978776,0.9458537409105416,-0.12157386355688268,-1.5771587088527448,-0.4771802703564047,-0.6920394639249958,1.6657363893397388,-0.4420391031877735,-1.0794640013897456,1.8183490354095484,0.46595654679141907,-0.5011736995656421,0.895642453466898,0.9178866835622075,-1.046408578337546,0.1462439640318665,0.847776063439936,0.5846608026272584,0.4352243063077864,1.5108645572772388,0.6495566241763885,-0.5507503599029776,1.0043465834358691,1.5139187503807083,-0.9450550704795724,-1.3698838965232643,0.6342868982920584,-1.7822121192781268,0.2139531047420393,-0.7081121135552167,-0.38465236055835333,-2.2460330504270942,0.6188661266419923,1.8445435923545408,0.2883225048009735,0.9123788041289154,-1.1604115329406108,-1.4841011626780298,0.5628193476873323,-0.7349117807171268,0.11920582506622426,0.5905073967313906,-0.48928493347902163,2.774402057543939,-0.7273081733755475,0.2958714729279786,0.4398411171858982,-0.13312101574758703,0.11749928614535977,0.1232784763904203,0.4980966126639828,0.22382405626046578,2.6016338790283853,-0.6436340585499764,-1.254990990021013,0.4543785021609926,-1.306189514444256,0.34856842350078515,-0.6294405154267875,-2.5030458807207685,0.561475266139338,1.7014026293955336,0.012306602310616718,-0.4696968504587055,1.8164578476490285,1.0592720945516634,-0.9962321498291724,0.9668986029652397],\"yaxis\":\"y15\",\"type\":\"scatter\"},{\"histfunc\":\"count\",\"histnorm\":\"\",\"marker\":{\"color\":\"rgba(128, 0, 128, 1.0)\",\"line\":{\"color\":\"#4D5663\",\"width\":1.3}},\"name\":\"D\",\"nbinsx\":10,\"opacity\":0.8,\"orientation\":\"v\",\"x\":[-0.20780585649318675,-0.14819604288381694,1.0885503128334055,1.5690761380859866,-0.2057701688271447,0.528517647224014,0.49489867431198065,0.3694870943340224,0.8504456511047962,0.6218097729257264,1.183537873615913,-1.412343100279427,-0.20388098639815003,1.3209211160041237,-0.8667287175928398,-1.6022715397568477,-0.22533705662048342,-0.41925862395025637,-0.7702343824721343,1.3335634594021377,0.8915349281178668,-1.9036354831030342,-0.12427220329691722,-0.8855772700058713,-0.22962601620657463,-0.07456838767647804,-0.01297547207565747,-0.05013017019035424,-1.2079982388712291,-1.4271558878113708,0.4691611383451397,-0.28246806140803854,-0.7564171061978776,0.9458537409105416,-0.12157386355688268,-1.5771587088527448,-0.4771802703564047,-0.6920394639249958,1.6657363893397388,-0.4420391031877735,-1.0794640013897456,1.8183490354095484,0.46595654679141907,-0.5011736995656421,0.895642453466898,0.9178866835622075,-1.046408578337546,0.1462439640318665,0.847776063439936,0.5846608026272584,0.4352243063077864,1.5108645572772388,0.6495566241763885,-0.5507503599029776,1.0043465834358691,1.5139187503807083,-0.9450550704795724,-1.3698838965232643,0.6342868982920584,-1.7822121192781268,0.2139531047420393,-0.7081121135552167,-0.38465236055835333,-2.2460330504270942,0.6188661266419923,1.8445435923545408,0.2883225048009735,0.9123788041289154,-1.1604115329406108,-1.4841011626780298,0.5628193476873323,-0.7349117807171268,0.11920582506622426,0.5905073967313906,-0.48928493347902163,2.774402057543939,-0.7273081733755475,0.2958714729279786,0.4398411171858982,-0.13312101574758703,0.11749928614535977,0.1232784763904203,0.4980966126639828,0.22382405626046578,2.6016338790283853,-0.6436340585499764,-1.254990990021013,0.4543785021609926,-1.306189514444256,0.34856842350078515,-0.6294405154267875,-2.5030458807207685,0.561475266139338,1.7014026293955336,0.012306602310616718,-0.4696968504587055,1.8164578476490285,1.0592720945516634,-0.9962321498291724,0.9668986029652397],\"xaxis\":\"x16\",\"yaxis\":\"y16\",\"type\":\"histogram\"}],                        {\"bargap\":0.02,\"legend\":{\"bgcolor\":\"#F5F6F9\",\"font\":{\"color\":\"#4D5663\"}},\"paper_bgcolor\":\"#F5F6F9\",\"plot_bgcolor\":\"#F5F6F9\",\"showlegend\":false,\"template\":{\"data\":{\"barpolar\":[{\"marker\":{\"line\":{\"color\":\"#E5ECF6\",\"width\":0.5},\"pattern\":{\"fillmode\":\"overlay\",\"size\":10,\"solidity\":0.2}},\"type\":\"barpolar\"}],\"bar\":[{\"error_x\":{\"color\":\"#2a3f5f\"},\"error_y\":{\"color\":\"#2a3f5f\"},\"marker\":{\"line\":{\"color\":\"#E5ECF6\",\"width\":0.5},\"pattern\":{\"fillmode\":\"overlay\",\"size\":10,\"solidity\":0.2}},\"type\":\"bar\"}],\"carpet\":[{\"aaxis\":{\"endlinecolor\":\"#2a3f5f\",\"gridcolor\":\"white\",\"linecolor\":\"white\",\"minorgridcolor\":\"white\",\"startlinecolor\":\"#2a3f5f\"},\"baxis\":{\"endlinecolor\":\"#2a3f5f\",\"gridcolor\":\"white\",\"linecolor\":\"white\",\"minorgridcolor\":\"white\",\"startlinecolor\":\"#2a3f5f\"},\"type\":\"carpet\"}],\"choropleth\":[{\"colorbar\":{\"outlinewidth\":0,\"ticks\":\"\"},\"type\":\"choropleth\"}],\"contourcarpet\":[{\"colorbar\":{\"outlinewidth\":0,\"ticks\":\"\"},\"type\":\"contourcarpet\"}],\"contour\":[{\"colorbar\":{\"outlinewidth\":0,\"ticks\":\"\"},\"colorscale\":[[0.0,\"#0d0887\"],[0.1111111111111111,\"#46039f\"],[0.2222222222222222,\"#7201a8\"],[0.3333333333333333,\"#9c179e\"],[0.4444444444444444,\"#bd3786\"],[0.5555555555555556,\"#d8576b\"],[0.6666666666666666,\"#ed7953\"],[0.7777777777777778,\"#fb9f3a\"],[0.8888888888888888,\"#fdca26\"],[1.0,\"#f0f921\"]],\"type\":\"contour\"}],\"heatmapgl\":[{\"colorbar\":{\"outlinewidth\":0,\"ticks\":\"\"},\"colorscale\":[[0.0,\"#0d0887\"],[0.1111111111111111,\"#46039f\"],[0.2222222222222222,\"#7201a8\"],[0.3333333333333333,\"#9c179e\"],[0.4444444444444444,\"#bd3786\"],[0.5555555555555556,\"#d8576b\"],[0.6666666666666666,\"#ed7953\"],[0.7777777777777778,\"#fb9f3a\"],[0.8888888888888888,\"#fdca26\"],[1.0,\"#f0f921\"]],\"type\":\"heatmapgl\"}],\"heatmap\":[{\"colorbar\":{\"outlinewidth\":0,\"ticks\":\"\"},\"colorscale\":[[0.0,\"#0d0887\"],[0.1111111111111111,\"#46039f\"],[0.2222222222222222,\"#7201a8\"],[0.3333333333333333,\"#9c179e\"],[0.4444444444444444,\"#bd3786\"],[0.5555555555555556,\"#d8576b\"],[0.6666666666666666,\"#ed7953\"],[0.7777777777777778,\"#fb9f3a\"],[0.8888888888888888,\"#fdca26\"],[1.0,\"#f0f921\"]],\"type\":\"heatmap\"}],\"histogram2dcontour\":[{\"colorbar\":{\"outlinewidth\":0,\"ticks\":\"\"},\"colorscale\":[[0.0,\"#0d0887\"],[0.1111111111111111,\"#46039f\"],[0.2222222222222222,\"#7201a8\"],[0.3333333333333333,\"#9c179e\"],[0.4444444444444444,\"#bd3786\"],[0.5555555555555556,\"#d8576b\"],[0.6666666666666666,\"#ed7953\"],[0.7777777777777778,\"#fb9f3a\"],[0.8888888888888888,\"#fdca26\"],[1.0,\"#f0f921\"]],\"type\":\"histogram2dcontour\"}],\"histogram2d\":[{\"colorbar\":{\"outlinewidth\":0,\"ticks\":\"\"},\"colorscale\":[[0.0,\"#0d0887\"],[0.1111111111111111,\"#46039f\"],[0.2222222222222222,\"#7201a8\"],[0.3333333333333333,\"#9c179e\"],[0.4444444444444444,\"#bd3786\"],[0.5555555555555556,\"#d8576b\"],[0.6666666666666666,\"#ed7953\"],[0.7777777777777778,\"#fb9f3a\"],[0.8888888888888888,\"#fdca26\"],[1.0,\"#f0f921\"]],\"type\":\"histogram2d\"}],\"histogram\":[{\"marker\":{\"pattern\":{\"fillmode\":\"overlay\",\"size\":10,\"solidity\":0.2}},\"type\":\"histogram\"}],\"mesh3d\":[{\"colorbar\":{\"outlinewidth\":0,\"ticks\":\"\"},\"type\":\"mesh3d\"}],\"parcoords\":[{\"line\":{\"colorbar\":{\"outlinewidth\":0,\"ticks\":\"\"}},\"type\":\"parcoords\"}],\"pie\":[{\"automargin\":true,\"type\":\"pie\"}],\"scatter3d\":[{\"line\":{\"colorbar\":{\"outlinewidth\":0,\"ticks\":\"\"}},\"marker\":{\"colorbar\":{\"outlinewidth\":0,\"ticks\":\"\"}},\"type\":\"scatter3d\"}],\"scattercarpet\":[{\"marker\":{\"colorbar\":{\"outlinewidth\":0,\"ticks\":\"\"}},\"type\":\"scattercarpet\"}],\"scattergeo\":[{\"marker\":{\"colorbar\":{\"outlinewidth\":0,\"ticks\":\"\"}},\"type\":\"scattergeo\"}],\"scattergl\":[{\"marker\":{\"colorbar\":{\"outlinewidth\":0,\"ticks\":\"\"}},\"type\":\"scattergl\"}],\"scattermapbox\":[{\"marker\":{\"colorbar\":{\"outlinewidth\":0,\"ticks\":\"\"}},\"type\":\"scattermapbox\"}],\"scatterpolargl\":[{\"marker\":{\"colorbar\":{\"outlinewidth\":0,\"ticks\":\"\"}},\"type\":\"scatterpolargl\"}],\"scatterpolar\":[{\"marker\":{\"colorbar\":{\"outlinewidth\":0,\"ticks\":\"\"}},\"type\":\"scatterpolar\"}],\"scatter\":[{\"marker\":{\"colorbar\":{\"outlinewidth\":0,\"ticks\":\"\"}},\"type\":\"scatter\"}],\"scatterternary\":[{\"marker\":{\"colorbar\":{\"outlinewidth\":0,\"ticks\":\"\"}},\"type\":\"scatterternary\"}],\"surface\":[{\"colorbar\":{\"outlinewidth\":0,\"ticks\":\"\"},\"colorscale\":[[0.0,\"#0d0887\"],[0.1111111111111111,\"#46039f\"],[0.2222222222222222,\"#7201a8\"],[0.3333333333333333,\"#9c179e\"],[0.4444444444444444,\"#bd3786\"],[0.5555555555555556,\"#d8576b\"],[0.6666666666666666,\"#ed7953\"],[0.7777777777777778,\"#fb9f3a\"],[0.8888888888888888,\"#fdca26\"],[1.0,\"#f0f921\"]],\"type\":\"surface\"}],\"table\":[{\"cells\":{\"fill\":{\"color\":\"#EBF0F8\"},\"line\":{\"color\":\"white\"}},\"header\":{\"fill\":{\"color\":\"#C8D4E3\"},\"line\":{\"color\":\"white\"}},\"type\":\"table\"}]},\"layout\":{\"annotationdefaults\":{\"arrowcolor\":\"#2a3f5f\",\"arrowhead\":0,\"arrowwidth\":1},\"autotypenumbers\":\"strict\",\"coloraxis\":{\"colorbar\":{\"outlinewidth\":0,\"ticks\":\"\"}},\"colorscale\":{\"diverging\":[[0,\"#8e0152\"],[0.1,\"#c51b7d\"],[0.2,\"#de77ae\"],[0.3,\"#f1b6da\"],[0.4,\"#fde0ef\"],[0.5,\"#f7f7f7\"],[0.6,\"#e6f5d0\"],[0.7,\"#b8e186\"],[0.8,\"#7fbc41\"],[0.9,\"#4d9221\"],[1,\"#276419\"]],\"sequential\":[[0.0,\"#0d0887\"],[0.1111111111111111,\"#46039f\"],[0.2222222222222222,\"#7201a8\"],[0.3333333333333333,\"#9c179e\"],[0.4444444444444444,\"#bd3786\"],[0.5555555555555556,\"#d8576b\"],[0.6666666666666666,\"#ed7953\"],[0.7777777777777778,\"#fb9f3a\"],[0.8888888888888888,\"#fdca26\"],[1.0,\"#f0f921\"]],\"sequentialminus\":[[0.0,\"#0d0887\"],[0.1111111111111111,\"#46039f\"],[0.2222222222222222,\"#7201a8\"],[0.3333333333333333,\"#9c179e\"],[0.4444444444444444,\"#bd3786\"],[0.5555555555555556,\"#d8576b\"],[0.6666666666666666,\"#ed7953\"],[0.7777777777777778,\"#fb9f3a\"],[0.8888888888888888,\"#fdca26\"],[1.0,\"#f0f921\"]]},\"colorway\":[\"#636efa\",\"#EF553B\",\"#00cc96\",\"#ab63fa\",\"#FFA15A\",\"#19d3f3\",\"#FF6692\",\"#B6E880\",\"#FF97FF\",\"#FECB52\"],\"font\":{\"color\":\"#2a3f5f\"},\"geo\":{\"bgcolor\":\"white\",\"lakecolor\":\"white\",\"landcolor\":\"#E5ECF6\",\"showlakes\":true,\"showland\":true,\"subunitcolor\":\"white\"},\"hoverlabel\":{\"align\":\"left\"},\"hovermode\":\"closest\",\"mapbox\":{\"style\":\"light\"},\"paper_bgcolor\":\"white\",\"plot_bgcolor\":\"#E5ECF6\",\"polar\":{\"angularaxis\":{\"gridcolor\":\"white\",\"linecolor\":\"white\",\"ticks\":\"\"},\"bgcolor\":\"#E5ECF6\",\"radialaxis\":{\"gridcolor\":\"white\",\"linecolor\":\"white\",\"ticks\":\"\"}},\"scene\":{\"xaxis\":{\"backgroundcolor\":\"#E5ECF6\",\"gridcolor\":\"white\",\"gridwidth\":2,\"linecolor\":\"white\",\"showbackground\":true,\"ticks\":\"\",\"zerolinecolor\":\"white\"},\"yaxis\":{\"backgroundcolor\":\"#E5ECF6\",\"gridcolor\":\"white\",\"gridwidth\":2,\"linecolor\":\"white\",\"showbackground\":true,\"ticks\":\"\",\"zerolinecolor\":\"white\"},\"zaxis\":{\"backgroundcolor\":\"#E5ECF6\",\"gridcolor\":\"white\",\"gridwidth\":2,\"linecolor\":\"white\",\"showbackground\":true,\"ticks\":\"\",\"zerolinecolor\":\"white\"}},\"shapedefaults\":{\"line\":{\"color\":\"#2a3f5f\"}},\"ternary\":{\"aaxis\":{\"gridcolor\":\"white\",\"linecolor\":\"white\",\"ticks\":\"\"},\"baxis\":{\"gridcolor\":\"white\",\"linecolor\":\"white\",\"ticks\":\"\"},\"bgcolor\":\"#E5ECF6\",\"caxis\":{\"gridcolor\":\"white\",\"linecolor\":\"white\",\"ticks\":\"\"}},\"title\":{\"x\":0.05},\"xaxis\":{\"automargin\":true,\"gridcolor\":\"white\",\"linecolor\":\"white\",\"ticks\":\"\",\"title\":{\"standoff\":15},\"zerolinecolor\":\"white\",\"zerolinewidth\":2},\"yaxis\":{\"automargin\":true,\"gridcolor\":\"white\",\"linecolor\":\"white\",\"ticks\":\"\",\"title\":{\"standoff\":15},\"zerolinecolor\":\"white\",\"zerolinewidth\":2}}},\"title\":{\"font\":{\"color\":\"#4D5663\"}},\"xaxis\":{\"anchor\":\"y\",\"domain\":[0.0,0.2125],\"gridcolor\":\"#E1E5ED\",\"showgrid\":false,\"tickfont\":{\"color\":\"#4D5663\"},\"title\":{\"font\":{\"color\":\"#4D5663\"},\"text\":\"\"},\"zerolinecolor\":\"#E1E5ED\"},\"yaxis\":{\"anchor\":\"x\",\"domain\":[0.8025,1.0],\"gridcolor\":\"#E1E5ED\",\"showgrid\":false,\"tickfont\":{\"color\":\"#4D5663\"},\"title\":{\"font\":{\"color\":\"#4D5663\"},\"text\":\"\"},\"zerolinecolor\":\"#E1E5ED\"},\"xaxis2\":{\"anchor\":\"y2\",\"domain\":[0.2625,0.475],\"gridcolor\":\"#E1E5ED\",\"showgrid\":false,\"tickfont\":{\"color\":\"#4D5663\"},\"title\":{\"font\":{\"color\":\"#4D5663\"},\"text\":\"\"},\"zerolinecolor\":\"#E1E5ED\"},\"yaxis2\":{\"anchor\":\"x2\",\"domain\":[0.8025,1.0],\"gridcolor\":\"#E1E5ED\",\"showgrid\":false,\"tickfont\":{\"color\":\"#4D5663\"},\"title\":{\"font\":{\"color\":\"#4D5663\"},\"text\":\"\"},\"zerolinecolor\":\"#E1E5ED\"},\"xaxis3\":{\"anchor\":\"y3\",\"domain\":[0.525,0.7375],\"gridcolor\":\"#E1E5ED\",\"showgrid\":false,\"tickfont\":{\"color\":\"#4D5663\"},\"title\":{\"font\":{\"color\":\"#4D5663\"},\"text\":\"\"},\"zerolinecolor\":\"#E1E5ED\"},\"yaxis3\":{\"anchor\":\"x3\",\"domain\":[0.8025,1.0],\"gridcolor\":\"#E1E5ED\",\"showgrid\":false,\"tickfont\":{\"color\":\"#4D5663\"},\"title\":{\"font\":{\"color\":\"#4D5663\"},\"text\":\"\"},\"zerolinecolor\":\"#E1E5ED\"},\"xaxis4\":{\"anchor\":\"y4\",\"domain\":[0.7875,1.0],\"gridcolor\":\"#E1E5ED\",\"showgrid\":false,\"tickfont\":{\"color\":\"#4D5663\"},\"title\":{\"font\":{\"color\":\"#4D5663\"},\"text\":\"\"},\"zerolinecolor\":\"#E1E5ED\"},\"yaxis4\":{\"anchor\":\"x4\",\"domain\":[0.8025,1.0],\"gridcolor\":\"#E1E5ED\",\"showgrid\":false,\"tickfont\":{\"color\":\"#4D5663\"},\"title\":{\"font\":{\"color\":\"#4D5663\"},\"text\":\"\"},\"zerolinecolor\":\"#E1E5ED\"},\"xaxis5\":{\"anchor\":\"y5\",\"domain\":[0.0,0.2125],\"gridcolor\":\"#E1E5ED\",\"showgrid\":false,\"tickfont\":{\"color\":\"#4D5663\"},\"title\":{\"font\":{\"color\":\"#4D5663\"},\"text\":\"\"},\"zerolinecolor\":\"#E1E5ED\"},\"yaxis5\":{\"anchor\":\"x5\",\"domain\":[0.535,0.7325],\"gridcolor\":\"#E1E5ED\",\"showgrid\":false,\"tickfont\":{\"color\":\"#4D5663\"},\"title\":{\"font\":{\"color\":\"#4D5663\"},\"text\":\"\"},\"zerolinecolor\":\"#E1E5ED\"},\"xaxis6\":{\"anchor\":\"y6\",\"domain\":[0.2625,0.475],\"gridcolor\":\"#E1E5ED\",\"showgrid\":false,\"tickfont\":{\"color\":\"#4D5663\"},\"title\":{\"font\":{\"color\":\"#4D5663\"},\"text\":\"\"},\"zerolinecolor\":\"#E1E5ED\"},\"yaxis6\":{\"anchor\":\"x6\",\"domain\":[0.535,0.7325],\"gridcolor\":\"#E1E5ED\",\"showgrid\":false,\"tickfont\":{\"color\":\"#4D5663\"},\"title\":{\"font\":{\"color\":\"#4D5663\"},\"text\":\"\"},\"zerolinecolor\":\"#E1E5ED\"},\"xaxis7\":{\"anchor\":\"y7\",\"domain\":[0.525,0.7375],\"gridcolor\":\"#E1E5ED\",\"showgrid\":false,\"tickfont\":{\"color\":\"#4D5663\"},\"title\":{\"font\":{\"color\":\"#4D5663\"},\"text\":\"\"},\"zerolinecolor\":\"#E1E5ED\"},\"yaxis7\":{\"anchor\":\"x7\",\"domain\":[0.535,0.7325],\"gridcolor\":\"#E1E5ED\",\"showgrid\":false,\"tickfont\":{\"color\":\"#4D5663\"},\"title\":{\"font\":{\"color\":\"#4D5663\"},\"text\":\"\"},\"zerolinecolor\":\"#E1E5ED\"},\"xaxis8\":{\"anchor\":\"y8\",\"domain\":[0.7875,1.0],\"gridcolor\":\"#E1E5ED\",\"showgrid\":false,\"tickfont\":{\"color\":\"#4D5663\"},\"title\":{\"font\":{\"color\":\"#4D5663\"},\"text\":\"\"},\"zerolinecolor\":\"#E1E5ED\"},\"yaxis8\":{\"anchor\":\"x8\",\"domain\":[0.535,0.7325],\"gridcolor\":\"#E1E5ED\",\"showgrid\":false,\"tickfont\":{\"color\":\"#4D5663\"},\"title\":{\"font\":{\"color\":\"#4D5663\"},\"text\":\"\"},\"zerolinecolor\":\"#E1E5ED\"},\"xaxis9\":{\"anchor\":\"y9\",\"domain\":[0.0,0.2125],\"gridcolor\":\"#E1E5ED\",\"showgrid\":false,\"tickfont\":{\"color\":\"#4D5663\"},\"title\":{\"font\":{\"color\":\"#4D5663\"},\"text\":\"\"},\"zerolinecolor\":\"#E1E5ED\"},\"yaxis9\":{\"anchor\":\"x9\",\"domain\":[0.2675,0.465],\"gridcolor\":\"#E1E5ED\",\"showgrid\":false,\"tickfont\":{\"color\":\"#4D5663\"},\"title\":{\"font\":{\"color\":\"#4D5663\"},\"text\":\"\"},\"zerolinecolor\":\"#E1E5ED\"},\"xaxis10\":{\"anchor\":\"y10\",\"domain\":[0.2625,0.475],\"gridcolor\":\"#E1E5ED\",\"showgrid\":false,\"tickfont\":{\"color\":\"#4D5663\"},\"title\":{\"font\":{\"color\":\"#4D5663\"},\"text\":\"\"},\"zerolinecolor\":\"#E1E5ED\"},\"yaxis10\":{\"anchor\":\"x10\",\"domain\":[0.2675,0.465],\"gridcolor\":\"#E1E5ED\",\"showgrid\":false,\"tickfont\":{\"color\":\"#4D5663\"},\"title\":{\"font\":{\"color\":\"#4D5663\"},\"text\":\"\"},\"zerolinecolor\":\"#E1E5ED\"},\"xaxis11\":{\"anchor\":\"y11\",\"domain\":[0.525,0.7375],\"gridcolor\":\"#E1E5ED\",\"showgrid\":false,\"tickfont\":{\"color\":\"#4D5663\"},\"title\":{\"font\":{\"color\":\"#4D5663\"},\"text\":\"\"},\"zerolinecolor\":\"#E1E5ED\"},\"yaxis11\":{\"anchor\":\"x11\",\"domain\":[0.2675,0.465],\"gridcolor\":\"#E1E5ED\",\"showgrid\":false,\"tickfont\":{\"color\":\"#4D5663\"},\"title\":{\"font\":{\"color\":\"#4D5663\"},\"text\":\"\"},\"zerolinecolor\":\"#E1E5ED\"},\"xaxis12\":{\"anchor\":\"y12\",\"domain\":[0.7875,1.0],\"gridcolor\":\"#E1E5ED\",\"showgrid\":false,\"tickfont\":{\"color\":\"#4D5663\"},\"title\":{\"font\":{\"color\":\"#4D5663\"},\"text\":\"\"},\"zerolinecolor\":\"#E1E5ED\"},\"yaxis12\":{\"anchor\":\"x12\",\"domain\":[0.2675,0.465],\"gridcolor\":\"#E1E5ED\",\"showgrid\":false,\"tickfont\":{\"color\":\"#4D5663\"},\"title\":{\"font\":{\"color\":\"#4D5663\"},\"text\":\"\"},\"zerolinecolor\":\"#E1E5ED\"},\"xaxis13\":{\"anchor\":\"y13\",\"domain\":[0.0,0.2125],\"gridcolor\":\"#E1E5ED\",\"showgrid\":false,\"tickfont\":{\"color\":\"#4D5663\"},\"title\":{\"font\":{\"color\":\"#4D5663\"},\"text\":\"\"},\"zerolinecolor\":\"#E1E5ED\"},\"yaxis13\":{\"anchor\":\"x13\",\"domain\":[0.0,0.1975],\"gridcolor\":\"#E1E5ED\",\"showgrid\":false,\"tickfont\":{\"color\":\"#4D5663\"},\"title\":{\"font\":{\"color\":\"#4D5663\"},\"text\":\"\"},\"zerolinecolor\":\"#E1E5ED\"},\"xaxis14\":{\"anchor\":\"y14\",\"domain\":[0.2625,0.475],\"gridcolor\":\"#E1E5ED\",\"showgrid\":false,\"tickfont\":{\"color\":\"#4D5663\"},\"title\":{\"font\":{\"color\":\"#4D5663\"},\"text\":\"\"},\"zerolinecolor\":\"#E1E5ED\"},\"yaxis14\":{\"anchor\":\"x14\",\"domain\":[0.0,0.1975],\"gridcolor\":\"#E1E5ED\",\"showgrid\":false,\"tickfont\":{\"color\":\"#4D5663\"},\"title\":{\"font\":{\"color\":\"#4D5663\"},\"text\":\"\"},\"zerolinecolor\":\"#E1E5ED\"},\"xaxis15\":{\"anchor\":\"y15\",\"domain\":[0.525,0.7375],\"gridcolor\":\"#E1E5ED\",\"showgrid\":false,\"tickfont\":{\"color\":\"#4D5663\"},\"title\":{\"font\":{\"color\":\"#4D5663\"},\"text\":\"\"},\"zerolinecolor\":\"#E1E5ED\"},\"yaxis15\":{\"anchor\":\"x15\",\"domain\":[0.0,0.1975],\"gridcolor\":\"#E1E5ED\",\"showgrid\":false,\"tickfont\":{\"color\":\"#4D5663\"},\"title\":{\"font\":{\"color\":\"#4D5663\"},\"text\":\"\"},\"zerolinecolor\":\"#E1E5ED\"},\"xaxis16\":{\"anchor\":\"y16\",\"domain\":[0.7875,1.0],\"gridcolor\":\"#E1E5ED\",\"showgrid\":false,\"tickfont\":{\"color\":\"#4D5663\"},\"title\":{\"font\":{\"color\":\"#4D5663\"},\"text\":\"\"},\"zerolinecolor\":\"#E1E5ED\"},\"yaxis16\":{\"anchor\":\"x16\",\"domain\":[0.0,0.1975],\"gridcolor\":\"#E1E5ED\",\"showgrid\":false,\"tickfont\":{\"color\":\"#4D5663\"},\"title\":{\"font\":{\"color\":\"#4D5663\"},\"text\":\"\"},\"zerolinecolor\":\"#E1E5ED\"}},                        {\"showLink\": true, \"linkText\": \"Export to plot.ly\", \"plotlyServerURL\": \"https://plot.ly\", \"responsive\": true}                    ).then(function(){\n",
       "                            \n",
       "var gd = document.getElementById('02be3198-ef63-4c83-a56e-d09f451af5fa');\n",
       "var x = new MutationObserver(function (mutations, observer) {{\n",
       "        var display = window.getComputedStyle(gd).display;\n",
       "        if (!display || display === 'none') {{\n",
       "            console.log([gd, 'removed!']);\n",
       "            Plotly.purge(gd);\n",
       "            observer.disconnect();\n",
       "        }}\n",
       "}});\n",
       "\n",
       "// Listen for the removal of the full notebook cells\n",
       "var notebookContainer = gd.closest('#notebook-container');\n",
       "if (notebookContainer) {{\n",
       "    x.observe(notebookContainer, {childList: true});\n",
       "}}\n",
       "\n",
       "// Listen for the clearing of the current output cell\n",
       "var outputEl = gd.closest('.output');\n",
       "if (outputEl) {{\n",
       "    x.observe(outputEl, {childList: true});\n",
       "}}\n",
       "\n",
       "                        })                };                });            </script>        </div>"
      ]
     },
     "metadata": {},
     "output_type": "display_data"
    }
   ],
   "source": [
    "df.scatter_matrix()"
   ]
  },
  {
   "cell_type": "code",
   "execution_count": null,
   "id": "39cd243f",
   "metadata": {},
   "outputs": [],
   "source": []
  }
 ],
 "metadata": {
  "kernelspec": {
   "display_name": "Python 3 (ipykernel)",
   "language": "python",
   "name": "python3"
  },
  "language_info": {
   "codemirror_mode": {
    "name": "ipython",
    "version": 3
   },
   "file_extension": ".py",
   "mimetype": "text/x-python",
   "name": "python",
   "nbconvert_exporter": "python",
   "pygments_lexer": "ipython3",
   "version": "3.8.11"
  }
 },
 "nbformat": 4,
 "nbformat_minor": 5
}
